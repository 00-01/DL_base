{
 "cells": [
  {
   "cell_type": "markdown",
   "source": [
    "[code is from this link](https://www.analyticsvidhya.com/blog/2022/01/complete-guide-to-anomaly-detection-with-autoencoders-using-tensorflow/)"
   ],
   "metadata": {
    "collapsed": false
   }
  },
  {
   "cell_type": "code",
   "execution_count": null,
   "metadata": {
    "collapsed": true
   },
   "outputs": [],
   "source": [
    "import pandas as pd\n",
    "import numpy as np\n",
    "import matplotlib.pyplot as plt\n",
    "import matplotlib as mpl\n",
    "import tensorflow as tf\n",
    "from tensorflow.keras.models import Model\n",
    "from sklearn.model_selection import train_test_split\n",
    "from sklearn.preprocessing import MinMaxScaler, StandardScaler\n",
    "\n",
    "\n",
    "mpl.rcParams['figure.figsize'] = (10, 5)\n",
    "mpl.rcParams['axes.grid'] = False"
   ]
  },
  {
   "cell_type": "markdown",
   "source": [
    "## DATA"
   ],
   "metadata": {
    "collapsed": false
   }
  },
  {
   "cell_type": "code",
   "execution_count": null,
   "outputs": [],
   "source": [
    "!cat \"/ECG5000_TRAIN.txt\" \"/ECG5000_TEST.txt\" > ecg_final.txt\n",
    "df = pd.read_csv(\"ecg_final.txt\", sep='  ', header=None)\n",
    "df.shape"
   ],
   "metadata": {
    "collapsed": false
   }
  },
  {
   "cell_type": "code",
   "execution_count": null,
   "outputs": [],
   "source": [
    "df = df.add_prefix('c')\n",
    "df['c0'].value_counts()"
   ],
   "metadata": {
    "collapsed": false
   }
  },
  {
   "cell_type": "code",
   "execution_count": null,
   "outputs": [],
   "source": [
    "x_train, x_test, y_train, y_test = train_test_split(df.values, df.values[:, 0:1], test_size=0.2, random_state=111)\n"
   ],
   "metadata": {
    "collapsed": false
   }
  },
  {
   "cell_type": "code",
   "execution_count": null,
   "outputs": [],
   "source": [
    "scaler = MinMaxScaler()\n",
    "data_scaled = scaler.fit(x_train)\n",
    "train_data_scaled = data_scaled.transform(x_train)\n",
    "test_data_scaled = data_scaled.transform(x_test)"
   ],
   "metadata": {
    "collapsed": false
   }
  },
  {
   "cell_type": "code",
   "execution_count": null,
   "outputs": [],
   "source": [
    "normal_train_data = pd.DataFrame(train_data_scaled).add_prefix('c').query('c0 == 0').values[:, 1:]\n",
    "anomaly_train_data = pd.DataFrame(train_data_scaled).add_prefix('c').query('c0 > 0').values[:, 1:]\n",
    "normal_test_data = pd.DataFrame(test_data_scaled).add_prefix('c').query('c0 == 0').values[:, 1:]\n",
    "anomaly_test_data = pd.DataFrame(test_data_scaled).add_prefix('c').query('c0 > 0').values[:, 1:]"
   ],
   "metadata": {
    "collapsed": false
   }
  },
  {
   "cell_type": "code",
   "execution_count": null,
   "outputs": [],
   "source": [
    "plt.plot(normal_train_data[0])\n",
    "plt.plot(normal_train_data[1])\n",
    "plt.plot(normal_train_data[2])\n",
    "plt.title(\"Normal Data\")\n",
    "plt.show()"
   ],
   "metadata": {
    "collapsed": false
   }
  },
  {
   "cell_type": "code",
   "execution_count": null,
   "outputs": [],
   "source": [
    "plt.plot(anomaly_train_data[0])\n",
    "plt.plot(anomaly_train_data[1])\n",
    "plt.plot(anomaly_train_data[2])\n",
    "plt.title(\"Anomaly Data\")\n",
    "plt.show()"
   ],
   "metadata": {
    "collapsed": false
   }
  },
  {
   "cell_type": "markdown",
   "source": [
    "## MODEL"
   ],
   "metadata": {
    "collapsed": false
   }
  },
  {
   "cell_type": "code",
   "execution_count": null,
   "outputs": [],
   "source": [
    "# model = tf.keras.Sequential()\n",
    "# model.add(tf.keras.layers.Dense(64, activation=\"relu\"))\n",
    "# model.add(tf.keras.layers.Dense(32, activation=\"relu\"))\n",
    "# model.add(tf.keras.layers.Dense(16, activation=\"relu\"))\n",
    "# model.add(tf.keras.layers.Dense(8, activation=\"relu\"))\n",
    "# model.add(tf.keras.layers.Dense(16, activation=\"relu\"))\n",
    "# model.add(tf.keras.layers.Dense(32, activation=\"relu\"))\n",
    "# model.add(tf.keras.layers.Dense(64, activation=\"relu\"))\n",
    "# model.add(tf.keras.layers.Dense(140, activation=\"sigmoid\"))\n",
    "\n",
    "class AutoEncoder(Model):\n",
    "    def __init__(self):\n",
    "        super(AutoEncoder, self).__init__()\n",
    "        f0, f1, f2, f3, f4, f5, f6 = 8, 16, 32, 64, 128, 256, 512\n",
    "        self.encoder = tf.keras.Sequential([tf.keras.layers.Dense(f3, activation=\"relu\"),\n",
    "                                            tf.keras.layers.Dense(f2, activation=\"relu\"),\n",
    "                                            tf.keras.layers.Dense(f1, activation=\"relu\"),\n",
    "                                            tf.keras.layers.Dense(f0, activation=\"relu\")\n",
    "                                            ])\n",
    "        self.decoder = tf.keras.Sequential([tf.keras.layers.Dense(f1, activation=\"relu\"),\n",
    "                                            tf.keras.layers.Dense(f2, activation=\"relu\"),\n",
    "                                            tf.keras.layers.Dense(f3, activation=\"relu\"),\n",
    "                                            tf.keras.layers.Dense(140, activation=\"sigmoid\")\n",
    "                                            ])\n",
    "\n",
    "    def call(self, x):\n",
    "        encoded = self.encoder(x)\n",
    "        decoded = self.decoder(encoded)\n",
    "        return decoded"
   ],
   "metadata": {
    "collapsed": false
   }
  },
  {
   "cell_type": "code",
   "execution_count": null,
   "outputs": [],
   "source": [
    "model = AutoEncoder()\n",
    "model.compile(optimizer='adam', loss=\"mae\")\n",
    "\n",
    "early_stopping = tf.keras.callbacks.EarlyStopping(monitor=\"val_loss\", patience=2, mode=\"min\")\n",
    "history = model.fit(normal_train_data, normal_train_data, epochs=50, batch_size=120,\n",
    "                    validation_data=(train_data_scaled[:, 1:], train_data_scaled[:, 1:]),\n",
    "                    shuffle=True,\n",
    "                    callbacks=[early_stopping,\n",
    "                               ]\n",
    "                    )\n"
   ],
   "metadata": {
    "collapsed": false
   }
  },
  {
   "cell_type": "markdown",
   "source": [
    "## EVAL"
   ],
   "metadata": {
    "collapsed": false
   }
  },
  {
   "cell_type": "code",
   "execution_count": null,
   "outputs": [],
   "source": [
    "encoder_out = model.encoder(normal_test_data).numpy()  #8 unit representation of data\n",
    "decoder_out = model.decoder(encoder_out).numpy()\n",
    "\n",
    "plt.plot(normal_test_data[0], 'b')\n",
    "plt.plot(decoder_out[0], 'r')\n",
    "plt.title(\"Model performance on Normal data\")\n",
    "plt.show()"
   ],
   "metadata": {
    "collapsed": false
   }
  },
  {
   "cell_type": "code",
   "execution_count": null,
   "outputs": [],
   "source": [
    "encoder_out_a = model.encoder(anomaly_test_data).numpy()  #8 unit representation of data\n",
    "decoder_out_a = model.decoder(encoder_out_a).numpy()\n",
    "\n",
    "plt.plot(anomaly_test_data[0], 'b')\n",
    "plt.plot(decoder_out_a[0], 'r')\n",
    "plt.title(\"Model performance on Anomaly Data\")\n",
    "plt.show()"
   ],
   "metadata": {
    "collapsed": false
   }
  },
  {
   "cell_type": "code",
   "execution_count": null,
   "outputs": [],
   "source": [
    "reconstruction = model.predict(normal_test_data)\n",
    "train_loss = tf.keras.losses.mae(reconstruction, normal_test_data)\n",
    "plt.hist(train_loss, bins=50)"
   ],
   "metadata": {
    "collapsed": false
   }
  },
  {
   "cell_type": "code",
   "execution_count": null,
   "outputs": [],
   "source": [
    "threshold = np.mean(train_loss)+2*np.std(train_loss)\n",
    "reconstruction_a = model.predict(anomaly_test_data)\n",
    "train_loss_a = tf.keras.losses.mae(reconstruction_a, anomaly_test_data)\n",
    "\n",
    "plt.hist(train_loss_a, bins=50)\n",
    "plt.title(\"loss on anomaly test data\")\n",
    "plt.show()"
   ],
   "metadata": {
    "collapsed": false
   }
  },
  {
   "cell_type": "code",
   "execution_count": null,
   "outputs": [],
   "source": [
    "plt.hist(train_loss, bins=50, label='normal')\n",
    "plt.hist(train_loss_a, bins=50, label='anomaly')\n",
    "plt.axvline(threshold, color='r', linewidth=3, linestyle='dashed', label='{:0.3f}'.format(threshold))\n",
    "plt.legend(loc='upper right')\n",
    "plt.title(\"Normal and Anomaly Loss\")\n",
    "plt.show()"
   ],
   "metadata": {
    "collapsed": false
   }
  },
  {
   "cell_type": "code",
   "execution_count": null,
   "outputs": [],
   "source": [
    "preds = tf.math.less(train_loss, threshold)\n",
    "tf.math.count_nonzero(preds)"
   ],
   "metadata": {
    "collapsed": false
   }
  },
  {
   "cell_type": "code",
   "execution_count": null,
   "outputs": [],
   "source": [
    "preds_a = tf.math.greater(train_loss_a, threshold)\n",
    "tf.math.count_nonzero(preds_a)"
   ],
   "metadata": {
    "collapsed": false
   }
  },
  {
   "cell_type": "code",
   "execution_count": null,
   "outputs": [],
   "source": [],
   "metadata": {
    "collapsed": false
   }
  }
 ],
 "metadata": {
  "kernelspec": {
   "display_name": "Python 3",
   "language": "python",
   "name": "python3"
  },
  "language_info": {
   "codemirror_mode": {
    "name": "ipython",
    "version": 2
   },
   "file_extension": ".py",
   "mimetype": "text/x-python",
   "name": "python",
   "nbconvert_exporter": "python",
   "pygments_lexer": "ipython2",
   "version": "2.7.6"
  }
 },
 "nbformat": 4,
 "nbformat_minor": 0
}
