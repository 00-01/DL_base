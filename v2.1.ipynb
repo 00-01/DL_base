{
 "cells": [
  {
   "cell_type": "code",
   "execution_count": 1,
   "outputs": [
    {
     "name": "stderr",
     "output_type": "stream",
     "text": [
      "2022-11-17 22:15:39.810999: I tensorflow/core/platform/cpu_feature_guard.cc:193] This TensorFlow binary is optimized with oneAPI Deep Neural Network Library (oneDNN) to use the following CPU instructions in performance-critical operations:  AVX2 FMA\n",
      "To enable them in other operations, rebuild TensorFlow with the appropriate compiler flags.\n",
      "2022-11-17 22:15:39.935675: E tensorflow/stream_executor/cuda/cuda_blas.cc:2981] Unable to register cuBLAS factory: Attempting to register factory for plugin cuBLAS when one has already been registered\n",
      "2022-11-17 22:15:40.504728: W tensorflow/stream_executor/platform/default/dso_loader.cc:64] Could not load dynamic library 'libnvinfer.so.7'; dlerror: libnvinfer.so.7: cannot open shared object file: No such file or directory; LD_LIBRARY_PATH: /home/z/.local/lib/python3.8/site-packages/cv2/../../lib64:\n",
      "2022-11-17 22:15:40.504782: W tensorflow/stream_executor/platform/default/dso_loader.cc:64] Could not load dynamic library 'libnvinfer_plugin.so.7'; dlerror: libnvinfer_plugin.so.7: cannot open shared object file: No such file or directory; LD_LIBRARY_PATH: /home/z/.local/lib/python3.8/site-packages/cv2/../../lib64:\n",
      "2022-11-17 22:15:40.504789: W tensorflow/compiler/tf2tensorrt/utils/py_utils.cc:38] TF-TRT Warning: Cannot dlopen some TensorRT libraries. If you would like to use Nvidia GPU with TensorRT, please make sure the missing libraries mentioned above are installed properly.\n"
     ]
    }
   ],
   "source": [
    "from datetime import datetime\n",
    "from glob import glob\n",
    "import json\n",
    "import os\n",
    "\n",
    "import cv2\n",
    "from keras import losses, Model, optimizers, metrics\n",
    "from keras.callbacks import ModelCheckpoint\n",
    "from keras.layers import Activation, Add, BatchNormalization, Concatenate, Conv2D, Dense, DepthwiseConv2D, Dropout, Flatten, Input, Reshape\n",
    "from keras.losses import SparseCategoricalCrossentropy\n",
    "# from keras.metrics import MeanSquaredError, SparseCategoricalAccuracy\n",
    "from keras.utils import plot_model\n",
    "from livelossplot import PlotLossesKeras, PlotLossesKerasTF\n",
    "from matplotlib import pyplot as plt\n",
    "from numpy import interp\n",
    "import numpy as np\n",
    "import pandas as pd\n",
    "from PIL import Image\n",
    "from sklearn.preprocessing import label_binarize\n",
    "import tensorflow as tf\n",
    "import tensorflow.keras as k\n",
    "from tensorflow.python.keras.callbacks import EarlyStopping, TensorBoard\n",
    "from tensorflow.python.ops.image_ops_impl import *\n",
    "\n",
    "from helper.dataset_mkr import *\n",
    "from helper.eval_function import *\n",
    "from helper.evaluate import *\n",
    "from helper.gpu_memory import *\n",
    "from helper.model import *\n",
    "from helper.model_visualizer import *\n",
    "from helper.tflite import *"
   ],
   "metadata": {
    "collapsed": false
   }
  },
  {
   "cell_type": "code",
   "execution_count": 2,
   "outputs": [],
   "source": [
    "# load tensorboard\n",
    "%load_ext tensorboard\n"
   ],
   "metadata": {
    "collapsed": false
   }
  },
  {
   "cell_type": "code",
   "execution_count": 3,
   "outputs": [
    {
     "name": "stdout",
     "output_type": "stream",
     "text": [
      "1 Physical GPUs, 1 Logical GPUs\n"
     ]
    },
    {
     "name": "stderr",
     "output_type": "stream",
     "text": [
      "2022-11-17 22:15:41.622839: I tensorflow/stream_executor/cuda/cuda_gpu_executor.cc:980] successful NUMA node read from SysFS had negative value (-1), but there must be at least one NUMA node, so returning NUMA node zero\n",
      "2022-11-17 22:15:41.627272: I tensorflow/stream_executor/cuda/cuda_gpu_executor.cc:980] successful NUMA node read from SysFS had negative value (-1), but there must be at least one NUMA node, so returning NUMA node zero\n",
      "2022-11-17 22:15:41.627522: I tensorflow/stream_executor/cuda/cuda_gpu_executor.cc:980] successful NUMA node read from SysFS had negative value (-1), but there must be at least one NUMA node, so returning NUMA node zero\n",
      "2022-11-17 22:15:41.628218: I tensorflow/core/platform/cpu_feature_guard.cc:193] This TensorFlow binary is optimized with oneAPI Deep Neural Network Library (oneDNN) to use the following CPU instructions in performance-critical operations:  AVX2 FMA\n",
      "To enable them in other operations, rebuild TensorFlow with the appropriate compiler flags.\n",
      "2022-11-17 22:15:41.628736: I tensorflow/stream_executor/cuda/cuda_gpu_executor.cc:980] successful NUMA node read from SysFS had negative value (-1), but there must be at least one NUMA node, so returning NUMA node zero\n",
      "2022-11-17 22:15:41.628965: I tensorflow/stream_executor/cuda/cuda_gpu_executor.cc:980] successful NUMA node read from SysFS had negative value (-1), but there must be at least one NUMA node, so returning NUMA node zero\n",
      "2022-11-17 22:15:41.629179: I tensorflow/stream_executor/cuda/cuda_gpu_executor.cc:980] successful NUMA node read from SysFS had negative value (-1), but there must be at least one NUMA node, so returning NUMA node zero\n",
      "2022-11-17 22:15:41.995653: I tensorflow/stream_executor/cuda/cuda_gpu_executor.cc:980] successful NUMA node read from SysFS had negative value (-1), but there must be at least one NUMA node, so returning NUMA node zero\n",
      "2022-11-17 22:15:41.995945: I tensorflow/stream_executor/cuda/cuda_gpu_executor.cc:980] successful NUMA node read from SysFS had negative value (-1), but there must be at least one NUMA node, so returning NUMA node zero\n",
      "2022-11-17 22:15:41.996164: I tensorflow/stream_executor/cuda/cuda_gpu_executor.cc:980] successful NUMA node read from SysFS had negative value (-1), but there must be at least one NUMA node, so returning NUMA node zero\n",
      "2022-11-17 22:15:41.996362: I tensorflow/core/common_runtime/gpu/gpu_device.cc:1616] Created device /job:localhost/replica:0/task:0/device:GPU:0 with 4571 MB memory:  -> device: 0, name: NVIDIA GeForce RTX 3070 Ti, pci bus id: 0000:01:00.0, compute capability: 8.6\n"
     ]
    }
   ],
   "source": [
    "\"\"\"\n",
    "0 CPU\n",
    "1 필요한 만큼 메모리를 런타임에 할당\n",
    "2 GPU에 할당되는 전체 메모리 크기를 제한\n",
    "\"\"\"\n",
    "set_gpu_memory(1)"
   ],
   "metadata": {
    "collapsed": false
   }
  },
  {
   "cell_type": "code",
   "execution_count": 4,
   "outputs": [],
   "source": [
    "MODEL_VERSION = f\"v2.1\"\n",
    "SAVE_PATH = f\"OUT/{MODEL_VERSION}\"\n",
    "\n",
    "MIN, MAX = 0, 255\n",
    "\n",
    "CLASS = 23\n",
    "# RAW_CLASS = 23\n",
    "# CLASS = RAW_CLASS+1  ## 1: BACKGROUND\n"
   ],
   "metadata": {
    "collapsed": false
   }
  },
  {
   "cell_type": "markdown",
   "source": [
    "# 1. DATASET"
   ],
   "metadata": {
    "collapsed": false
   }
  },
  {
   "cell_type": "code",
   "execution_count": 5,
   "outputs": [
    {
     "name": "stdout",
     "output_type": "stream",
     "text": [
      "                path                                              label\n",
      "0      1650315736806                                     [[0, 0, 0, 0]]\n",
      "1      1650315796123                                     [[0, 0, 0, 0]]\n",
      "2      1650315856514                                     [[0, 0, 0, 0]]\n",
      "3      1650315917006                                     [[0, 0, 0, 0]]\n",
      "4      1650315976418                                     [[0, 0, 0, 0]]\n",
      "...              ...                                                ...\n",
      "86493  1661954116964  [[25, 41, 40, 67], [38, 32, 50, 60], [54, 43, ...\n",
      "86494  1661954176336                                     [[0, 0, 0, 0]]\n",
      "86495  1661954236769                                     [[0, 0, 0, 0]]\n",
      "86496  1661954296445                [[15, 19, 31, 40], [26, 7, 33, 23]]\n",
      "86497  1661954356730                                 [[13, 18, 31, 37]]\n",
      "\n",
      "[86498 rows x 2 columns]\n"
     ]
    }
   ],
   "source": [
    "data_dir = f\"/media/z/0/MVPC10/DATA/v1.1/RAW/03\"\n",
    "# file = f\"label_1248_cnt.csv\"\n",
    "file = f\"/media/z/0/MVPC10/DATA/LABEL/v2.1_FINAL_REFINED.csv\"\n",
    "df = pd.read_csv(file)\n",
    "# df.sort_values(by=df.keys()[0], inplace=True, ascending=True)\n",
    "print(df)\n"
   ],
   "metadata": {
    "collapsed": false
   }
  },
  {
   "cell_type": "code",
   "execution_count": 6,
   "outputs": [
    {
     "data": {
      "text/plain": "False"
     },
     "execution_count": 6,
     "metadata": {},
     "output_type": "execute_result"
    }
   ],
   "source": [
    "df.empty"
   ],
   "metadata": {
    "collapsed": false
   }
  },
  {
   "cell_type": "code",
   "execution_count": 7,
   "outputs": [
    {
     "data": {
      "text/plain": "dtype('O')"
     },
     "execution_count": 7,
     "metadata": {},
     "output_type": "execute_result"
    }
   ],
   "source": [
    "df.values[:,1].dtype"
   ],
   "metadata": {
    "collapsed": false
   }
  },
  {
   "cell_type": "code",
   "execution_count": 8,
   "outputs": [
    {
     "data": {
      "text/plain": "<bound method NDFrame.head of                 path  label\n0      1650315796123      0\n1      1650315917006      0\n2      1650316036754      0\n3      1650316156301      0\n4      1650316276225      0\n...              ...    ...\n67461  1661954056432      9\n67462  1661954116964      4\n67463  1661954236769      0\n67464  1661954296445      2\n67465  1661954356730      1\n\n[67466 rows x 2 columns]>"
     },
     "execution_count": 8,
     "metadata": {},
     "output_type": "execute_result"
    }
   ],
   "source": [
    "df1 = v2_1_data_mkr(df, z_value=2)\n",
    "df1.head"
   ],
   "metadata": {
    "collapsed": false
   }
  },
  {
   "cell_type": "code",
   "execution_count": 9,
   "outputs": [
    {
     "data": {
      "text/plain": "array([[<AxesSubplot:title={'center':'label'}>]], dtype=object)"
     },
     "execution_count": 9,
     "metadata": {},
     "output_type": "execute_result"
    },
    {
     "data": {
      "text/plain": "<Figure size 864x576 with 1 Axes>",
      "image/png": "[encoded data removed]"
     },
     "metadata": {
      "needs_background": "light"
     },
     "output_type": "display_data"
    }
   ],
   "source": [
    "df1.hist(column=\"label\", bins=CLASS*2, figsize=(12, 8))"
   ],
   "metadata": {
    "collapsed": false
   }
  },
  {
   "cell_type": "code",
   "execution_count": 10,
   "outputs": [
    {
     "data": {
      "text/plain": "count       20.000000\nmean      3373.300000\nstd       5772.821449\nmin          1.000000\n25%         30.250000\n50%        404.500000\n75%       3258.250000\nmax      18938.000000\nName: label, dtype: float64"
     },
     "execution_count": 10,
     "metadata": {},
     "output_type": "execute_result"
    }
   ],
   "source": [
    "df1['label'].value_counts().describe()"
   ],
   "metadata": {
    "collapsed": false
   }
  },
  {
   "cell_type": "code",
   "execution_count": 11,
   "outputs": [],
   "source": [
    "# df1.to_csv(f\"test.csv\", index=False)"
   ],
   "metadata": {
    "collapsed": false
   }
  },
  {
   "cell_type": "markdown",
   "source": [
    "### 1.2 AUGMENT"
   ],
   "metadata": {
    "collapsed": false
   }
  },
  {
   "cell_type": "code",
   "execution_count": 12,
   "outputs": [],
   "source": [
    "# ---------------------------------------------------------------- SHUFFLE DATA\n",
    "SHUFFLE_DATA = 1\n",
    "if SHUFFLE_DATA == 1:\n",
    "    df1 = df1.sample(frac=1).reset_index(drop=True)\n",
    "# df"
   ],
   "metadata": {
    "collapsed": false
   }
  },
  {
   "cell_type": "code",
   "execution_count": 13,
   "outputs": [],
   "source": [
    "## DROP ERROR\n",
    "# df1 = df[df.iloc[:, 1] > 0]\n",
    "# df1.head"
   ],
   "metadata": {
    "collapsed": false
   }
  },
  {
   "cell_type": "markdown",
   "source": [
    "### 1.4 DATA to TENSOR"
   ],
   "metadata": {
    "collapsed": false
   }
  },
  {
   "cell_type": "code",
   "execution_count": 14,
   "outputs": [
    {
     "name": "stdout",
     "output_type": "stream",
     "text": [
      "0\n",
      "10000\n",
      "20000\n",
      "30000\n",
      "40000\n",
      "50000\n",
      "60000\n"
     ]
    }
   ],
   "source": [
    "data_full_path = f\"/media/z/0/MVPC10/DATA/03_PROCESSED\"\n",
    "\n",
    "data, label = df_to_tensor(df1, data_full_path)"
   ],
   "metadata": {
    "collapsed": false
   }
  },
  {
   "cell_type": "code",
   "execution_count": 69,
   "outputs": [
    {
     "name": "stdout",
     "output_type": "stream",
     "text": [
      "(67466, 80, 80, 1)\n",
      "(67466, 1, 1, 1)\n",
      "80 80\n"
     ]
    }
   ],
   "source": [
    "data = np.array(data)\n",
    "data = data.reshape(data.shape[0], 80, 80, 1)\n",
    "print(data.shape)\n",
    "\n",
    "label = np.array(label)\n",
    "label = label.reshape(label.shape[0], 1, 1, 1)\n",
    "# label = label.reshape(label.shape[0], 1)\n",
    "print(label.shape)\n",
    "\n",
    "H, W = data.shape[1], data.shape[2]\n",
    "print(H, W)\n"
   ],
   "metadata": {
    "collapsed": false
   }
  },
  {
   "cell_type": "code",
   "execution_count": 59,
   "outputs": [
    {
     "data": {
      "text/plain": "array([ 0,  1,  2,  3,  4,  5,  6,  7,  8,  9, 10, 11, 12, 13, 14, 15, 16,\n       17, 21, 22])"
     },
     "execution_count": 59,
     "metadata": {},
     "output_type": "execute_result"
    }
   ],
   "source": [
    "np.unique(label)"
   ],
   "metadata": {
    "collapsed": false
   }
  },
  {
   "cell_type": "markdown",
   "source": [
    "### 1.5 PROCESS"
   ],
   "metadata": {
    "collapsed": false
   }
  },
  {
   "cell_type": "code",
   "execution_count": 60,
   "outputs": [],
   "source": [
    "# set(data.reshape(-1))\n"
   ],
   "metadata": {
    "collapsed": false
   }
  },
  {
   "cell_type": "code",
   "execution_count": 61,
   "outputs": [],
   "source": [
    "## ---------------------------------------------------------------- SHUFFLE\n",
    "# seed = 99\n",
    "# np.random.seed(seed)\n",
    "# np.random.shuffle(data)\n",
    "# # np.random.seed(seed)\n",
    "# np.random.shuffle(label)\n",
    "\n",
    "## ---------------------------------------------------------------- LABEL NORMALIZE\n",
    "# norm_label = label/CLASS\n",
    "norm_label = label  ## NO NORMALIZE\n",
    "# norm_label.dtype\n",
    "\n",
    "## ---------------------------------------------------------------- DATA NORMALIZE\n",
    "# print(data[0][0])\n",
    "norm_data = data/MAX\n",
    "# norm_data = data.astype(\"float\")/MAX\n",
    "# print(norm_data[0][0])\n",
    "\n",
    "\n",
    "## ---------------------------------------------------------------- SPLIT\n",
    "split1 = int(len(label)*0.96)\n",
    "X1, X2 = norm_data[:split1], norm_data[split1:]\n",
    "Y1, Y2 = norm_label[:split1], norm_label[split1:]\n",
    "## VAL SPLIT\n",
    "split2 = int(len(label)*0.9)\n",
    "# X1, val_data = X1[:split2], X1[split2:]\n",
    "# X2, val_label = X2[:split2], X2[split2:]\n",
    "\n"
   ],
   "metadata": {
    "collapsed": false
   }
  },
  {
   "cell_type": "code",
   "execution_count": 62,
   "outputs": [
    {
     "name": "stdout",
     "output_type": "stream",
     "text": [
      "(64767, 80, 80, 1)\n",
      "(64767, 1)\n",
      "(2699, 80, 80, 1)\n",
      "(2699, 1)\n"
     ]
    }
   ],
   "source": [
    "print(X1.shape)\n",
    "print(Y1.shape)\n",
    "print(X2.shape)\n",
    "print(Y2.shape)"
   ],
   "metadata": {
    "collapsed": false
   }
  },
  {
   "cell_type": "markdown",
   "source": [
    "# 2. TRAIN"
   ],
   "metadata": {
    "collapsed": false
   }
  },
  {
   "cell_type": "code",
   "execution_count": 72,
   "outputs": [],
   "source": [
    "def bottleneck(name, input, filter=32, size0=3, size1=3, stride=1, padding='same', activation='elu', dropout=0.25):\n",
    "    skip = Conv2D(filter, size0, strides=stride, padding=padding, activation=activation, name=f\"{name}_SKIP\")(input)\n",
    "    if padding == 'valid':\n",
    "        input = Conv2D(filter, size0, strides=stride, padding=padding, activation=activation, name=f\"{name}_C0\")(input)\n",
    "        stride = 1\n",
    "    x = Conv2D(filter*2, 1, strides=stride, padding='same', activation=activation, name=f\"{name}_C\")(input)\n",
    "    x = DepthwiseConv2D(size1, padding='same', activation=activation, name=f\"{name}_DW_C\")(x)\n",
    "    x = Conv2D(filter, 1, 1, padding='same', name=f\"{name}_PW_C\")(x)\n",
    "    x = Dropout(dropout, name=f\"{name}_DO0\")(x)\n",
    "    a = Add(name=f\"{name}_ADD\")([skip, x])\n",
    "    return a\n",
    "\n",
    "\n",
    "def bottleneck1(input, filter=32, size0=3, size1=3, stride=1, padding='same', activation='elu', dropout=0.25):\n",
    "    skip = Conv2D(filter, size0, strides=stride, padding=padding, activation=activation)(input)\n",
    "    if padding == 'valid':\n",
    "        input = Conv2D(filter, size0, strides=stride, padding=padding, activation=activation)(input)\n",
    "        stride = 1\n",
    "    x = Conv2D(filter*2, 1, strides=stride, padding='same', activation=activation)(input)\n",
    "    x = DepthwiseConv2D(size1, padding='same', activation=activation)(x)\n",
    "    x = Conv2D(filter, 1, 1, padding='same')(x)\n",
    "    x = Dropout(dropout)(x)\n",
    "    a = Add()([skip, x])\n",
    "    return a"
   ],
   "metadata": {
    "collapsed": false
   }
  },
  {
   "cell_type": "code",
   "execution_count": 74,
   "outputs": [
    {
     "name": "stdout",
     "output_type": "stream",
     "text": [
      "Model: \"model_16\"\n",
      "__________________________________________________________________________________________________\n",
      " Layer (type)                   Output Shape         Param #     Connected to                     \n",
      "==================================================================================================\n",
      " input_19 (InputLayer)          [(None, 80, 80, 1)]  0           []                               \n",
      "                                                                                                  \n",
      " conv2d_49 (Conv2D)             (None, 39, 39, 64)   640         ['input_19[0][0]']               \n",
      "                                                                                                  \n",
      " conv2d_50 (Conv2D)             (None, 39, 39, 128)  8320        ['conv2d_49[0][0]']              \n",
      "                                                                                                  \n",
      " depthwise_conv2d_11 (Depthwise  (None, 39, 39, 128)  1280       ['conv2d_50[0][0]']              \n",
      " Conv2D)                                                                                          \n",
      "                                                                                                  \n",
      " conv2d_51 (Conv2D)             (None, 39, 39, 64)   8256        ['depthwise_conv2d_11[0][0]']    \n",
      "                                                                                                  \n",
      " conv2d_48 (Conv2D)             (None, 39, 39, 64)   640         ['input_19[0][0]']               \n",
      "                                                                                                  \n",
      " dropout_14 (Dropout)           (None, 39, 39, 64)   0           ['conv2d_51[0][0]']              \n",
      "                                                                                                  \n",
      " add_11 (Add)                   (None, 39, 39, 64)   0           ['conv2d_48[0][0]',              \n",
      "                                                                  'dropout_14[0][0]']             \n",
      "                                                                                                  \n",
      " conv2d_53 (Conv2D)             (None, 37, 37, 64)   36928       ['add_11[0][0]']                 \n",
      "                                                                                                  \n",
      " conv2d_54 (Conv2D)             (None, 37, 37, 128)  8320        ['conv2d_53[0][0]']              \n",
      "                                                                                                  \n",
      " depthwise_conv2d_12 (Depthwise  (None, 37, 37, 128)  1280       ['conv2d_54[0][0]']              \n",
      " Conv2D)                                                                                          \n",
      "                                                                                                  \n",
      " conv2d_55 (Conv2D)             (None, 37, 37, 64)   8256        ['depthwise_conv2d_12[0][0]']    \n",
      "                                                                                                  \n",
      " conv2d_52 (Conv2D)             (None, 37, 37, 64)   36928       ['add_11[0][0]']                 \n",
      "                                                                                                  \n",
      " dropout_15 (Dropout)           (None, 37, 37, 64)   0           ['conv2d_55[0][0]']              \n",
      "                                                                                                  \n",
      " add_12 (Add)                   (None, 37, 37, 64)   0           ['conv2d_52[0][0]',              \n",
      "                                                                  'dropout_15[0][0]']             \n",
      "                                                                                                  \n",
      " conv2d_57 (Conv2D)             (None, 35, 35, 64)   36928       ['add_12[0][0]']                 \n",
      "                                                                                                  \n",
      " conv2d_58 (Conv2D)             (None, 35, 35, 128)  8320        ['conv2d_57[0][0]']              \n",
      "                                                                                                  \n",
      " depthwise_conv2d_13 (Depthwise  (None, 35, 35, 128)  1280       ['conv2d_58[0][0]']              \n",
      " Conv2D)                                                                                          \n",
      "                                                                                                  \n",
      " conv2d_59 (Conv2D)             (None, 35, 35, 64)   8256        ['depthwise_conv2d_13[0][0]']    \n",
      "                                                                                                  \n",
      " conv2d_56 (Conv2D)             (None, 35, 35, 64)   36928       ['add_12[0][0]']                 \n",
      "                                                                                                  \n",
      " dropout_16 (Dropout)           (None, 35, 35, 64)   0           ['conv2d_59[0][0]']              \n",
      "                                                                                                  \n",
      " add_13 (Add)                   (None, 35, 35, 64)   0           ['conv2d_56[0][0]',              \n",
      "                                                                  'dropout_16[0][0]']             \n",
      "                                                                                                  \n",
      " conv2d_61 (Conv2D)             (None, 33, 33, 64)   36928       ['add_13[0][0]']                 \n",
      "                                                                                                  \n",
      " conv2d_62 (Conv2D)             (None, 33, 33, 128)  8320        ['conv2d_61[0][0]']              \n",
      "                                                                                                  \n",
      " depthwise_conv2d_14 (Depthwise  (None, 33, 33, 128)  1280       ['conv2d_62[0][0]']              \n",
      " Conv2D)                                                                                          \n",
      "                                                                                                  \n",
      " conv2d_63 (Conv2D)             (None, 33, 33, 64)   8256        ['depthwise_conv2d_14[0][0]']    \n",
      "                                                                                                  \n",
      " conv2d_60 (Conv2D)             (None, 33, 33, 64)   36928       ['add_13[0][0]']                 \n",
      "                                                                                                  \n",
      " dropout_17 (Dropout)           (None, 33, 33, 64)   0           ['conv2d_63[0][0]']              \n",
      "                                                                                                  \n",
      " add_14 (Add)                   (None, 33, 33, 64)   0           ['conv2d_60[0][0]',              \n",
      "                                                                  'dropout_17[0][0]']             \n",
      "                                                                                                  \n",
      " conv2d_65 (Conv2D)             (None, 31, 31, 64)   36928       ['add_14[0][0]']                 \n",
      "                                                                                                  \n",
      " conv2d_66 (Conv2D)             (None, 31, 31, 128)  8320        ['conv2d_65[0][0]']              \n",
      "                                                                                                  \n",
      " depthwise_conv2d_15 (Depthwise  (None, 31, 31, 128)  1280       ['conv2d_66[0][0]']              \n",
      " Conv2D)                                                                                          \n",
      "                                                                                                  \n",
      " conv2d_67 (Conv2D)             (None, 31, 31, 64)   8256        ['depthwise_conv2d_15[0][0]']    \n",
      "                                                                                                  \n",
      " conv2d_64 (Conv2D)             (None, 31, 31, 64)   36928       ['add_14[0][0]']                 \n",
      "                                                                                                  \n",
      " dropout_18 (Dropout)           (None, 31, 31, 64)   0           ['conv2d_67[0][0]']              \n",
      "                                                                                                  \n",
      " add_15 (Add)                   (None, 31, 31, 64)   0           ['conv2d_64[0][0]',              \n",
      "                                                                  'dropout_18[0][0]']             \n",
      "                                                                                                  \n",
      " conv2d_69 (Conv2D)             (None, 29, 29, 32)   18464       ['add_15[0][0]']                 \n",
      "                                                                                                  \n",
      " conv2d_70 (Conv2D)             (None, 29, 29, 64)   2112        ['conv2d_69[0][0]']              \n",
      "                                                                                                  \n",
      " depthwise_conv2d_16 (Depthwise  (None, 29, 29, 64)  640         ['conv2d_70[0][0]']              \n",
      " Conv2D)                                                                                          \n",
      "                                                                                                  \n",
      " conv2d_71 (Conv2D)             (None, 29, 29, 32)   2080        ['depthwise_conv2d_16[0][0]']    \n",
      "                                                                                                  \n",
      " conv2d_68 (Conv2D)             (None, 29, 29, 32)   18464       ['add_15[0][0]']                 \n",
      "                                                                                                  \n",
      " dropout_19 (Dropout)           (None, 29, 29, 32)   0           ['conv2d_71[0][0]']              \n",
      "                                                                                                  \n",
      " add_16 (Add)                   (None, 29, 29, 32)   0           ['conv2d_68[0][0]',              \n",
      "                                                                  'dropout_19[0][0]']             \n",
      "                                                                                                  \n",
      " conv2d_73 (Conv2D)             (None, 27, 27, 16)   4624        ['add_16[0][0]']                 \n",
      "                                                                                                  \n",
      " conv2d_74 (Conv2D)             (None, 27, 27, 32)   544         ['conv2d_73[0][0]']              \n",
      "                                                                                                  \n",
      " depthwise_conv2d_17 (Depthwise  (None, 27, 27, 32)  320         ['conv2d_74[0][0]']              \n",
      " Conv2D)                                                                                          \n",
      "                                                                                                  \n",
      " conv2d_75 (Conv2D)             (None, 27, 27, 16)   528         ['depthwise_conv2d_17[0][0]']    \n",
      "                                                                                                  \n",
      " conv2d_72 (Conv2D)             (None, 27, 27, 16)   4624        ['add_16[0][0]']                 \n",
      "                                                                                                  \n",
      " dropout_20 (Dropout)           (None, 27, 27, 16)   0           ['conv2d_75[0][0]']              \n",
      "                                                                                                  \n",
      " add_17 (Add)                   (None, 27, 27, 16)   0           ['conv2d_72[0][0]',              \n",
      "                                                                  'dropout_20[0][0]']             \n",
      "                                                                                                  \n",
      " conv2d_77 (Conv2D)             (None, 25, 25, 16)   2320        ['add_17[0][0]']                 \n",
      "                                                                                                  \n",
      " conv2d_78 (Conv2D)             (None, 25, 25, 32)   544         ['conv2d_77[0][0]']              \n",
      "                                                                                                  \n",
      " depthwise_conv2d_18 (Depthwise  (None, 25, 25, 32)  320         ['conv2d_78[0][0]']              \n",
      " Conv2D)                                                                                          \n",
      "                                                                                                  \n",
      " conv2d_79 (Conv2D)             (None, 25, 25, 16)   528         ['depthwise_conv2d_18[0][0]']    \n",
      "                                                                                                  \n",
      " conv2d_76 (Conv2D)             (None, 25, 25, 16)   2320        ['add_17[0][0]']                 \n",
      "                                                                                                  \n",
      " dropout_21 (Dropout)           (None, 25, 25, 16)   0           ['conv2d_79[0][0]']              \n",
      "                                                                                                  \n",
      " add_18 (Add)                   (None, 25, 25, 16)   0           ['conv2d_76[0][0]',              \n",
      "                                                                  'dropout_21[0][0]']             \n",
      "                                                                                                  \n",
      " conv2d_81 (Conv2D)             (None, 23, 23, 8)    1160        ['add_18[0][0]']                 \n",
      "                                                                                                  \n",
      " conv2d_82 (Conv2D)             (None, 23, 23, 16)   144         ['conv2d_81[0][0]']              \n",
      "                                                                                                  \n",
      " depthwise_conv2d_19 (Depthwise  (None, 23, 23, 16)  160         ['conv2d_82[0][0]']              \n",
      " Conv2D)                                                                                          \n",
      "                                                                                                  \n",
      " conv2d_83 (Conv2D)             (None, 23, 23, 8)    136         ['depthwise_conv2d_19[0][0]']    \n",
      "                                                                                                  \n",
      " conv2d_80 (Conv2D)             (None, 23, 23, 8)    1160        ['add_18[0][0]']                 \n",
      "                                                                                                  \n",
      " dropout_22 (Dropout)           (None, 23, 23, 8)    0           ['conv2d_83[0][0]']              \n",
      "                                                                                                  \n",
      " add_19 (Add)                   (None, 23, 23, 8)    0           ['conv2d_80[0][0]',              \n",
      "                                                                  'dropout_22[0][0]']             \n",
      "                                                                                                  \n",
      " conv2d_85 (Conv2D)             (None, 21, 21, 4)    292         ['add_19[0][0]']                 \n",
      "                                                                                                  \n",
      " conv2d_86 (Conv2D)             (None, 21, 21, 8)    40          ['conv2d_85[0][0]']              \n",
      "                                                                                                  \n",
      " depthwise_conv2d_20 (Depthwise  (None, 21, 21, 8)   80          ['conv2d_86[0][0]']              \n",
      " Conv2D)                                                                                          \n",
      "                                                                                                  \n",
      " conv2d_87 (Conv2D)             (None, 21, 21, 4)    36          ['depthwise_conv2d_20[0][0]']    \n",
      "                                                                                                  \n",
      " conv2d_84 (Conv2D)             (None, 21, 21, 4)    292         ['add_19[0][0]']                 \n",
      "                                                                                                  \n",
      " dropout_23 (Dropout)           (None, 21, 21, 4)    0           ['conv2d_87[0][0]']              \n",
      "                                                                                                  \n",
      " add_20 (Add)                   (None, 21, 21, 4)    0           ['conv2d_84[0][0]',              \n",
      "                                                                  'dropout_23[0][0]']             \n",
      "                                                                                                  \n",
      " conv2d_89 (Conv2D)             (None, 19, 19, 2)    74          ['add_20[0][0]']                 \n",
      "                                                                                                  \n",
      " conv2d_90 (Conv2D)             (None, 19, 19, 4)    12          ['conv2d_89[0][0]']              \n",
      "                                                                                                  \n",
      " depthwise_conv2d_21 (Depthwise  (None, 19, 19, 4)   40          ['conv2d_90[0][0]']              \n",
      " Conv2D)                                                                                          \n",
      "                                                                                                  \n",
      " conv2d_91 (Conv2D)             (None, 19, 19, 2)    10          ['depthwise_conv2d_21[0][0]']    \n",
      "                                                                                                  \n",
      " conv2d_88 (Conv2D)             (None, 19, 19, 2)    74          ['add_20[0][0]']                 \n",
      "                                                                                                  \n",
      " dropout_24 (Dropout)           (None, 19, 19, 2)    0           ['conv2d_91[0][0]']              \n",
      "                                                                                                  \n",
      " add_21 (Add)                   (None, 19, 19, 2)    0           ['conv2d_88[0][0]',              \n",
      "                                                                  'dropout_24[0][0]']             \n",
      "                                                                                                  \n",
      " dropout_25 (Dropout)           (None, 19, 19, 2)    0           ['add_21[0][0]']                 \n",
      "                                                                                                  \n",
      " conv2d_92 (Conv2D)             (None, 1, 1, 1)      723         ['dropout_25[0][0]']             \n",
      "                                                                                                  \n",
      "==================================================================================================\n",
      "Total params: 448,849\n",
      "Trainable params: 448,849\n",
      "Non-trainable params: 0\n",
      "__________________________________________________________________________________________________\n"
     ]
    }
   ],
   "source": [
    "TUNER = 0\n",
    "\n",
    "LOAD_MODEL = 0\n",
    "model_num = -1\n",
    "compile = 1\n",
    "\n",
    "MODEL_NAME = f\"mobileNet\"\n",
    "TIME = f\"{datetime.now().strftime('%Y%m%d-%H%M%S')}\"\n",
    "\n",
    "## -------------------------------------------------------------------------------- MODEL\n",
    "if LOAD_MODEL == 0:\n",
    "    # if TUNER == 1:\n",
    "    #     def build_model(hp):\n",
    "    #         filter = hp.Choice('filter', values=[16, 32, 64, 128, 256])\n",
    "    #         size = hp.Choice('size', values=[3, 5, 7, 9, 11])\n",
    "    #         stride = hp.Choice('stride', values=[1, 2])\n",
    "    ## ---------------------------------------------------------------- SETUP\n",
    "    \"\"\"\n",
    "    size = input_shape - layer_shape + 1\n",
    "    con(filter, (size), stride, padding, activation, name, input)\n",
    "    bottleneck(name, input, filter=32, size0=3, size1=3, stride=2, activation='elu', dropout=0.25)\n",
    "    \"\"\"\n",
    "    inc = make_inc()\n",
    "\n",
    "    ## ---------------------------------------------------------------- HEAD\n",
    "    input = Input(shape=(H, W, 1))\n",
    "    x = bottleneck(f'{inc()}', input, 64, 3, 3, 2, 'valid', 'swish', 0.25)\n",
    "\n",
    "    ## ---------------------------------------------------------------- BODY\n",
    "    x = bottleneck(f'{inc()}', x, 64, 3, 3, 1, 'valid', 'swish', 0.25)\n",
    "    x = bottleneck(f'{inc()}', x, 64, 3, 3, 1, 'valid', 'swish', 0.25)\n",
    "    x = bottleneck(f'{inc()}', x, 64, 3, 3, 1, 'valid', 'swish', 0.25)\n",
    "    x = bottleneck(f'{inc()}', x, 64, 3, 3, 1, 'valid', 'swish', 0.25)\n",
    "    x = bottleneck(f'{inc()}', x, 32, 3, 3, 1, 'valid', 'swish', 0.25)\n",
    "    x = bottleneck(f'{inc()}', x, 16, 3, 3, 1, 'valid', 'swish', 0.25)\n",
    "    x = bottleneck(f'{inc()}', x, 16, 3, 3, 1, 'valid', 'swish', 0.25)\n",
    "    x = bottleneck(f'{inc()}', x, 8, 3, 3, 1, 'valid', 'swish', 0.25)\n",
    "    x = bottleneck(f'{inc()}', x, 4, 3, 3, 1, 'valid', 'swish', 0.25)\n",
    "    x = bottleneck(f'{inc()}', x, 2, 3, 3, 2, 'valid', 'swish', 0.25)\n",
    "\n",
    "    # x = res_block(64, 3, 1, 'valid', 'elu', 0.25, f'{inc()}', x)\n",
    "    # x = res_block(64, 3, 1, 'valid', 'elu', 0.25, f'{inc()}', x)\n",
    "    # x = res_block(32, 3, 1, 'valid', 'elu', 0.25, f'{inc()}', x)\n",
    "    # x = res_block(32, 3, 1, 'valid', 'elu', 0.25, f'{inc()}', x)\n",
    "    # x = res_block(16, 11, 1, 'valid', 'elu', 0.25, f'{inc()}', x)\n",
    "    # x = res_block(8, 13, 1, 'valid', 'elu', 0.25, f'{inc()}', x)\n",
    "\n",
    "    ## ---------------------------------------------------------------- TAIL\n",
    "    # x = tf.reduce_mean(x, (1, 2))  #, axis=None, keepdims=False, name=None)\n",
    "    # x = Conv2D(1, x.shape[1]//2, strides=2, name=f'{inc()}')(x)\n",
    "    x = Dropout(.5)(x)\n",
    "    output = Conv2D(1, x.shape[1], strides=2)(x)\n",
    "\n",
    "    model = Model(input, output)\n",
    "    # return model\n",
    "\n",
    "elif LOAD_MODEL == 1:\n",
    "    model_name = sorted(glob(f\"{SAVE_PATH}/model/*.h5\"))[model_num]\n",
    "    print(f\"model_path_last: {model_name}\")\n",
    "    model = tf.keras.models.load_model(model_name, compile=compile)\n",
    "\n",
    "## -------------------------------------------------------------------------------- COMPILE\n",
    "## ---------------------------------------------------------------- OPTIMIZER\n",
    "lr_schedule = tf.keras.optimizers.schedules.ExponentialDecay(initial_learning_rate=0.0001,\n",
    "                                                             decay_steps=100000,\n",
    "                                                             decay_rate=0.96,\n",
    "                                                             staircase=True)\n",
    "# lr_schedule = k.optimizers.schedules.CosineDecay(initial_learning_rate=1e-4,\n",
    "#                                                  decay_steps=EPOCH,)\n",
    "optimizer = optimizers.Adam(learning_rate=lr_schedule)\n",
    "\n",
    "# optimizer = optimizers.Adam(learning_rate=0.0001)\n",
    "\n",
    "## ---------------------------------------------------------------- LOSS\n",
    "# def adaptive_loss():\n",
    "#     pass\n",
    "# loss = losses.MeanAbsoluteError()\n",
    "# loss = losses.BinaryCrossentropy()\n",
    "loss = losses.MeanSquaredError()\n",
    "# loss = losses.SparseCategoricalCrossentropy()\n",
    "# loss = losses.BinaryFocalCrossentropy(  #apply_class_balancing=False,\n",
    "# alpha=0.25,\n",
    "# gamma=2.0,\n",
    "# from_logits=False,\n",
    "# label_smoothing=0.0,\n",
    "# axis=-1,\n",
    "# reduction=losses_utils.ReductionV2.AUTO,\n",
    "# name='binary_focal_crossentropy'\n",
    "# )\n",
    "\n",
    "## ---------------------------------------------------------------- METRICS\n",
    "metrics = ['accuracy']\n",
    "# metrics = [SparseCategoricalAccuracy]\n",
    "# metrics = [metrics.MeanSquaredError()]\n",
    "\n",
    "## ---------------------------------------------------------------- COMPILE\n",
    "model.compile(optimizer=optimizer, loss=loss, metrics=metrics)\n",
    "\n",
    "model.summary()"
   ],
   "metadata": {
    "collapsed": false
   }
  },
  {
   "cell_type": "code",
   "execution_count": 75,
   "outputs": [
    {
     "data": {
      "text/plain": "<Figure size 864x576 with 2 Axes>",
      "image/png": "[encoded data removed]"
     },
     "metadata": {
      "needs_background": "light"
     },
     "output_type": "display_data"
    },
    {
     "name": "stdout",
     "output_type": "stream",
     "text": [
      "accuracy\n",
      "\ttraining         \t (min:    0.279, max:    0.279, cur:    0.279)\n",
      "\tvalidation       \t (min:    0.286, max:    0.286, cur:    0.286)\n",
      "Loss\n",
      "\ttraining         \t (min:    4.601, max:    4.601, cur:    4.601)\n",
      "\tvalidation       \t (min:    4.531, max:    4.531, cur:    4.531)\n",
      "911/911 [==============================] - 74s 79ms/step - loss: 4.6007 - accuracy: 0.2794 - val_loss: 4.5306 - val_accuracy: 0.2864\n"
     ]
    }
   ],
   "source": [
    "## ---------------------------------------------------------------- INIT\n",
    "EPOCH = 1\n",
    "BATCH = 64\n",
    "# ES = 4\n",
    "ES = EPOCH//2\n",
    "\n",
    "## ---------------------------------------------------------------- CALLBACK\n",
    "earlyStop = EarlyStopping(patience=ES, monitor='val_loss', mode='auto', verbose=1)\n",
    "tensorBoard = TensorBoard(log_dir=f\"{SAVE_PATH}/log/{TIME}\", histogram_freq=1)\n",
    "checkPoint = ModelCheckpoint(f\"{SAVE_PATH}/model/{TIME}_{MODEL_NAME}_ckpt.h5\",  ## _{epoch:02d}-{val_loss:.2f},\n",
    "                             save_best_only=True, verbose=1, save_freq='epoch',\n",
    "                             monitor='val_accuracy',  ## 'loss', 'val_accuracy', 'val_loss'\n",
    "                             mode='max')\n",
    "## ---------------------------------------------------------------- FIT\n",
    "if TUNER == 0:\n",
    "    history = model.fit(X1, Y1,\n",
    "                        validation_split=0.1,\n",
    "                        # validation_data=(val_data, val_label),\n",
    "                        batch_size=BATCH,\n",
    "                        epochs=EPOCH,\n",
    "                        use_multiprocessing=True,\n",
    "                        verbose=1,\n",
    "                        callbacks=[earlyStop,\n",
    "                                   tensorBoard,\n",
    "                                   checkPoint,\n",
    "                                   PlotLossesKeras(),\n",
    "                                   # PlotLossesKerasTF(),\n",
    "                                   ],\n",
    "                        )"
   ],
   "metadata": {
    "collapsed": false
   }
  },
  {
   "cell_type": "code",
   "execution_count": null,
   "outputs": [],
   "source": [
    "## ---------------------------------------------------------------- TUNER\n",
    "if TUNER == 1:\n",
    "    import keras_tuner as kt\n",
    "\n",
    "    # tuner = kt.RandomSearch(build_model,\n",
    "    #                         objective='val_loss',\n",
    "    #                         max_trials=5)\n",
    "    tuner = kt.Hyperband(build_model,\n",
    "                         objective='val_accuracy',\n",
    "                         max_epochs=EPOCH,\n",
    "                         factor=3,\n",
    "                         directory=f'{SAVE_PATH}/tuner',\n",
    "                         )\n",
    "    tuner.search(X1, Y1,\n",
    "                 validation_split=0.1,\n",
    "                 # validation_data=(x_val, y_val),\n",
    "                 batch_size=BATCH,\n",
    "                 epochs=EPOCH,\n",
    "                 use_multiprocessing=True,\n",
    "                 verbose=1,\n",
    "                 callbacks=[earlyStop,\n",
    "                            checkPoint,\n",
    "                            tensorBoard,\n",
    "                            PlotLossesKeras(),\n",
    "                            # PlotLossesKerasTF(),\n",
    "                            ],\n",
    "                 )\n",
    "    # best_model = tuner.get_best_models()[0]\n",
    "    best_hps = tuner.get_best_hyperparameters(num_trials=2)[0]\n",
    "    model = tuner.hypermodel.build(best_hps)"
   ],
   "metadata": {
    "collapsed": false
   }
  },
  {
   "cell_type": "code",
   "execution_count": null,
   "outputs": [],
   "source": [
    "# weight_visualizer(model, 0, -1)\n",
    "\n",
    "# filter_visualizer(model, X2[2])"
   ],
   "metadata": {
    "collapsed": false
   }
  },
  {
   "cell_type": "markdown",
   "source": [
    "### 2.3 VISUALIZE LAYER"
   ],
   "metadata": {
    "collapsed": false
   }
  },
  {
   "cell_type": "code",
   "execution_count": null,
   "outputs": [],
   "source": [
    "conv_layers1 = []\n",
    "for i in model.layers:\n",
    "    if 'C2' in i.output:\n",
    "        print()\n",
    "        # conv_layers1.append(i.output)\n",
    "conv_layers1\n"
   ],
   "metadata": {
    "collapsed": false
   }
  },
  {
   "cell_type": "code",
   "execution_count": null,
   "outputs": [],
   "source": [
    "a = model.get_layer('8_C2').output\n",
    "a"
   ],
   "metadata": {
    "collapsed": false
   }
  },
  {
   "cell_type": "code",
   "execution_count": null,
   "outputs": [],
   "source": [
    "conv_layer_index = [1, 5, 9, 13]\n",
    "conv_layers = [model.layers[i].output for i in conv_layer_index]\n",
    "# conv_layers = [i.output for i in model.layers if \"C2\" in i.name][:1]\n",
    "print(conv_layers)"
   ],
   "metadata": {
    "collapsed": false
   }
  },
  {
   "cell_type": "code",
   "execution_count": null,
   "outputs": [],
   "source": [
    "visualize_model = Model(model.inputs, conv_layers)\n",
    "print(visualize_model.summary())"
   ],
   "metadata": {
    "collapsed": false
   }
  },
  {
   "cell_type": "code",
   "execution_count": null,
   "outputs": [],
   "source": [
    "for i in range(20, 100, 10):\n",
    "    img = X2[i]\n",
    "    re_img = img.reshape(1, img.shape[0], img.shape[1], img.shape[2])\n",
    "    conv_img = visualize_model.predict(re_img)\n",
    "    # columns = int(round(np.sqrt(model.shape[1])))\n",
    "    # rows = int(round(np.sqrt(model.shape[2])))\n",
    "    columns = 8\n",
    "    rows = 8\n",
    "    for c_img in conv_img:\n",
    "        # pos = 1\n",
    "        fig = plt.figure(figsize=(12, 12))\n",
    "        for i in range(1, columns*rows+1):\n",
    "            fig = plt.subplot(rows, columns, i)\n",
    "            fig.axis('off')\n",
    "            plt.imshow(c_img[:, :, i-1], cmap='gray')\n",
    "            # pos += 1\n",
    "        # plt.show()"
   ],
   "metadata": {
    "collapsed": false
   }
  },
  {
   "cell_type": "code",
   "execution_count": null,
   "outputs": [],
   "source": [
    "filter_visualizer(model, data[0])"
   ],
   "metadata": {
    "collapsed": false
   }
  },
  {
   "cell_type": "code",
   "execution_count": null,
   "outputs": [],
   "source": [
    "# visual_keras(model, MODEL_VERSION)\n",
    "model_visualizer(model, data[0])"
   ],
   "metadata": {
    "collapsed": false
   }
  },
  {
   "cell_type": "code",
   "execution_count": null,
   "outputs": [],
   "source": [
    "# TENSORBOARD == 1\n",
    "# if TENSORBOARD == 1:\n",
    "#     launch tensorboard @ localhost:6006\n",
    "#     %tensorboard --logdir logs/--host localhost --port 6006\n",
    "# %tensorboard --logdir={log_path}"
   ],
   "metadata": {
    "collapsed": false
   }
  },
  {
   "cell_type": "code",
   "execution_count": null,
   "outputs": [],
   "source": [
    "## history to DF\n",
    "hdf = pd.DataFrame(history.history)\n",
    "hdf.keys()\n",
    "\n",
    "## plot history\n",
    "hdf.plot(figsize=(9, 6), grid=1, xlabel=\"epoch\", label=\"accuracy\")\n",
    "plt.ylim([0, 2])\n",
    "plt.show()\n"
   ],
   "metadata": {
    "collapsed": false
   }
  },
  {
   "cell_type": "code",
   "execution_count": null,
   "outputs": [],
   "source": [
    "SAVE_MODEL_PLOT = 0\n",
    "if SAVE_MODEL_PLOT == 1:\n",
    "    plot_model(model, to_file=f\"{SAVE_PATH}/plot/{TIME}.png\", show_shapes=True, show_layer_names=False, show_layer_activations=True)\n"
   ],
   "metadata": {
    "collapsed": false
   }
  },
  {
   "cell_type": "markdown",
   "source": [
    "# 3. EVALUATE"
   ],
   "metadata": {
    "collapsed": false
   }
  },
  {
   "cell_type": "code",
   "execution_count": 25,
   "outputs": [
    {
     "name": "stdout",
     "output_type": "stream",
     "text": [
      "85/85 [==============================] - 1s 13ms/step - loss: 0.4599 - accuracy: 0.4809\n",
      "85/85 [==============================] - 2s 12ms/step\n"
     ]
    }
   ],
   "source": [
    "loss, acc = model.evaluate(X2, Y2, verbose=1)\n",
    "\n",
    "predict = model.predict(X2)\n"
   ],
   "metadata": {
    "collapsed": false
   }
  },
  {
   "cell_type": "code",
   "execution_count": 26,
   "outputs": [
    {
     "name": "stdout",
     "output_type": "stream",
     "text": [
      "(2699,)\n",
      "(2699,)\n"
     ]
    }
   ],
   "source": [
    "## ---------------------------------------------------------------- OUPUT CONVERT\n",
    "predict_0 = np.reshape(predict, predict.shape[0])\n",
    "Y2_0 = np.reshape(Y2, Y2.shape[0])\n",
    "print(predict_0.shape)\n",
    "print(Y2_0.shape)"
   ],
   "metadata": {
    "collapsed": false
   }
  },
  {
   "cell_type": "code",
   "execution_count": 27,
   "outputs": [
    {
     "name": "stdout",
     "output_type": "stream",
     "text": [
      "(-0.1, 882)\n",
      "(-0.09, 884)\n",
      "(-0.08, 882)\n",
      "(-0.07, 883)\n",
      "(-0.06, 883)\n",
      "(-0.05, 880)\n",
      "(-0.04, 879)\n",
      "(-0.03, 878)\n",
      "(-0.02, 879)\n",
      "(-0.01, 879)\n",
      "(-0.0, 876)\n",
      "(0.01, 876)\n",
      "(0.02, 878)\n",
      "(0.03, 874)\n",
      "(0.04, 875)\n",
      "(0.05, 877)\n",
      "(0.06, 878)\n",
      "(0.07, 884)\n",
      "(0.08, 892)\n",
      "(0.09, 894)\n",
      "\n",
      "BIAS: 0.03\n",
      "error: 874\n",
      "total: 5412\n",
      "acc:   84.0%\n"
     ]
    }
   ],
   "source": [
    "BIAS = v2_1_bias_finder(Y2_0, predict_0, -0.10, 0.10, 0.01)\n",
    "\n",
    "v2_1_accuracy_calculator(Y2_0, predict_0, BIAS)\n"
   ],
   "metadata": {
    "collapsed": false
   }
  },
  {
   "cell_type": "code",
   "execution_count": null,
   "outputs": [],
   "source": [
    "# df2 = df1.iloc[:, 0][split1:]\n",
    "df2.iloc[-1]"
   ],
   "metadata": {
    "collapsed": false
   }
  },
  {
   "cell_type": "code",
   "execution_count": null,
   "outputs": [],
   "source": [
    "def save_result_to_csv(X, Y, P):\n",
    "    result_list = []\n",
    "    df2 = df1.iloc[:, 0][split1:]\n",
    "    n = len(X)\n",
    "    for i in range(0, n, 1):\n",
    "        predict = round(P[i])\n",
    "        diff = abs(predict-Y[i])\n",
    "        result_list.append([df2.iloc[i], Y[i], predict, diff])\n",
    "\n",
    "    return result_list\n",
    "\n",
    "result_list = save_result_to_csv(X2, Y2_0, predict_0)\n",
    "result_list\n"
   ],
   "metadata": {
    "collapsed": false
   }
  },
  {
   "cell_type": "code",
   "execution_count": null,
   "outputs": [],
   "source": [
    "import csv\n",
    "\n",
    "with open('v2.1_result.csv', 'w') as f:\n",
    "    write = csv.writer(f)\n",
    "    write.writerow(['data', 'label', 'predict', 'difference'])\n",
    "    write.writerows(result_list)"
   ],
   "metadata": {
    "collapsed": false
   }
  },
  {
   "cell_type": "code",
   "execution_count": null,
   "outputs": [],
   "source": [
    "v2_1_view_samples1(X2, Y2_0, predict_0, thresh=10)\n"
   ],
   "metadata": {
    "collapsed": false
   }
  },
  {
   "cell_type": "markdown",
   "source": [
    "## 4. TFLITE"
   ],
   "metadata": {
    "collapsed": false
   }
  },
  {
   "cell_type": "code",
   "execution_count": 76,
   "outputs": [
    {
     "name": "stderr",
     "output_type": "stream",
     "text": [
      "WARNING:absl:Found untraced functions such as _jit_compiled_convolution_op, _jit_compiled_convolution_op, _jit_compiled_convolution_op, _jit_compiled_convolution_op, _jit_compiled_convolution_op while saving (showing 5 of 56). These functions will not be directly callable after loading.\n"
     ]
    },
    {
     "name": "stdout",
     "output_type": "stream",
     "text": [
      "INFO:tensorflow:Assets written to: /tmp/tmpyc1h6vx5/assets\n"
     ]
    },
    {
     "name": "stderr",
     "output_type": "stream",
     "text": [
      "INFO:tensorflow:Assets written to: /tmp/tmpyc1h6vx5/assets\n",
      "2022-11-18 12:05:20.010078: W tensorflow/compiler/mlir/lite/python/tf_tfl_flatbuffer_helpers.cc:362] Ignored output_format.\n",
      "2022-11-18 12:05:20.010103: W tensorflow/compiler/mlir/lite/python/tf_tfl_flatbuffer_helpers.cc:365] Ignored drop_control_dependency.\n",
      "2022-11-18 12:05:20.010216: I tensorflow/cc/saved_model/reader.cc:45] Reading SavedModel from: /tmp/tmpyc1h6vx5\n",
      "2022-11-18 12:05:20.027413: I tensorflow/cc/saved_model/reader.cc:89] Reading meta graph with tags { serve }\n",
      "2022-11-18 12:05:20.027442: I tensorflow/cc/saved_model/reader.cc:130] Reading SavedModel debug info (if present) from: /tmp/tmpyc1h6vx5\n",
      "2022-11-18 12:05:20.088718: I tensorflow/cc/saved_model/loader.cc:229] Restoring SavedModel bundle.\n",
      "2022-11-18 12:05:20.420810: I tensorflow/cc/saved_model/loader.cc:213] Running initialization op on SavedModel bundle at path: /tmp/tmpyc1h6vx5\n",
      "2022-11-18 12:05:20.509318: I tensorflow/cc/saved_model/loader.cc:305] SavedModel load for tags { serve }; Status: success: OK. Took 499102 microseconds.\n"
     ]
    }
   ],
   "source": [
    "def representative_dataset():\n",
    "    for i in range(100):\n",
    "        a = np.reshape(X2[i], (1, X2.shape[1], X2.shape[2], 1))\n",
    "        yield [a.astype(np.float32)]\n",
    "\n",
    "\n",
    "def save_to_tflite1(model, model_save_name, quantize=0, dataset=None):\n",
    "    # converter = tf.lite.TFLiteConverter.from_saved_model(model_path_last)\n",
    "    converter = tf.lite.TFLiteConverter.from_keras_model(model)\n",
    "    if quantize == 8:\n",
    "        converter.optimizations = [tf.lite.Optimize.DEFAULT]\n",
    "        converter.representative_dataset = representative_dataset\n",
    "        converter.target_spec.supported_ops = [tf.lite.OpsSet.TFLITE_BUILTINS_INT8]\n",
    "        converter.inference_input_type = tf.uint8  # or tf.int8\n",
    "        converter.inference_output_type = tf.uint8  # or tf.int8\n",
    "    elif quantize == 16:\n",
    "        converter.optimizations = [tf.lite.Optimize.DEFAULT]\n",
    "    tflite_model = converter.convert()\n",
    "    with open(f'{model_save_name}.tflite', 'wb') as f:\n",
    "        f.write(tflite_model)\n",
    "\n",
    "\n",
    "model_save_name = f\"{SAVE_PATH}/model/{TIME}_{MODEL_NAME}\"\n",
    "\n",
    "TFLITE = 1\n",
    "if TFLITE == 1:\n",
    "    # SAVE_PATH = f\"../OUT/v2.1/model\"\n",
    "    # model_num = -1\n",
    "    # model_path_last = sorted(glob(f\"{SAVE_PATH}/model/*.h5\"))[model_num]\n",
    "    # model = tf.keras.models.l oad_model(model_path_last)\n",
    "    # model_save_name = f\"{SAVE_PATH}/model/new_model.tflite\"\n",
    "    save_to_tflite1(model, model_save_name)"
   ],
   "metadata": {
    "collapsed": false
   }
  },
  {
   "cell_type": "code",
   "execution_count": null,
   "outputs": [],
   "source": [
    "output_li = [round(int(inference_v2_1(tflite_name, i, 'uint8'))/CLASS) for i in X2]"
   ],
   "metadata": {
    "collapsed": false
   }
  },
  {
   "cell_type": "code",
   "execution_count": null,
   "outputs": [],
   "source": [
    "BIAS = v2_1_bias_finder(Y2_0, output_li, -0.10, 0.10, 0.01)\n",
    "\n",
    "v2_1_accuracy_calculator(Y2_0, output_li, BIAS)\n"
   ],
   "metadata": {
    "collapsed": false
   }
  },
  {
   "cell_type": "code",
   "execution_count": null,
   "outputs": [],
   "source": [
    "v2_1_view_samples1(X2, Y2_0, output_li, thresh=10)"
   ],
   "metadata": {
    "collapsed": false
   }
  },
  {
   "cell_type": "code",
   "execution_count": null,
   "outputs": [],
   "source": [],
   "metadata": {
    "collapsed": false
   }
  },
  {
   "cell_type": "code",
   "execution_count": null,
   "outputs": [],
   "source": [
    "# BATCH = 32\n",
    "# EPOCH = 30\n",
    "#\n",
    "# lb = Y2.reshape(-1)\n",
    "# has = {}\n",
    "#\n",
    "# # np.array(list(set(Y2.reshape(-1)))).astype(np.int64)\n",
    "# ls_num = list(map(int, list(set(lb))))\n",
    "# for n in ls_num:\n",
    "#     has[n] = []\n",
    "# for ind in range(len(lb)):\n",
    "#     # ind는 label 인덱스\n",
    "#     if len(has[lb[ind]]) < 30:\n",
    "#         has[lb[ind]].append(ind)\n",
    "#\n",
    "# x_data = []\n",
    "# y_data = []\n",
    "# for key in has.keys():\n",
    "#     for ind in has[key]:\n",
    "#         x_data.append(Y1[ind])\n",
    "#         y_data.append(Y2[ind])\n",
    "#\n",
    "# x_data = np.array(x_data).astype(np.float32)\n",
    "# y_data = np.array(y_data).astype(np.float32)\n",
    "# X1 = X1.astype(np.float32)\n",
    "# X2 = X2.astype(np.float32)\n",
    "#\n",
    "# for i in range(30):\n",
    "#     print(i)\n",
    "#     history = model.fit(X1, X2,\n",
    "#                         # validation_split=0.2,\n",
    "#                         validation_data=(x_data, y_data),\n",
    "#                         batch_size=BATCH,\n",
    "#                         epochs=EPOCH,\n",
    "#                         verbose=1,\n",
    "#                         # callbacks=[es],)\n",
    "#                         # callbacks=[es, tensorboard_callback], )\n",
    "#                         )\n",
    "#     model.save('asdf/' + str(i) + '.h5')"
   ],
   "metadata": {
    "collapsed": false
   }
  },
  {
   "cell_type": "code",
   "execution_count": null,
   "outputs": [],
   "source": [
    "# epo = 10\n",
    "# model = tf.keras.models.load_model('asdf/' + str(epo) + '.h5')\n",
    "# Y2.shape\n",
    "#\n",
    "# lb = Y2.reshape(-1)\n",
    "# has = {}\n",
    "#\n",
    "# # np.array(list(set(Y2.reshape(-1)))).astype(np.int64)\n",
    "#\n",
    "#\n",
    "# ls_num = list(map(int, list(set(lb))))\n",
    "# for n in ls_num:\n",
    "#     has[n] = []\n",
    "#\n",
    "# for ind in range(len(lb)):\n",
    "#\n",
    "#     # ind는 label 인덱스\n",
    "#\n",
    "#     if len(has[lb[ind]]) < 30:\n",
    "#         has[lb[ind]].append(ind)\n",
    "#\n",
    "# ls_num\n",
    "#\n",
    "# x_data = []\n",
    "# y_data = []\n",
    "#\n",
    "#\n",
    "# for key in has.keys():\n",
    "#     for ind in has[key]:\n",
    "#         x_data.append(Y1[ind])\n",
    "#         y_data.append(Y2[ind])\n",
    "#\n",
    "# x_data = np.array(x_data)\n",
    "# y_data = np.array(y_data)\n",
    "# x_data.shape\n",
    "# y_data.shape\n",
    "#\n",
    "#\n",
    "# result = np.argmax(model.predict(x_data), -1)\n",
    "# cont = 0\n",
    "# for ind in range(len(result)):\n",
    "#     if result[ind] == y_data.reshape(-1)[ind]:\n",
    "#         cont +=1\n",
    "#\n",
    "#\n",
    "# cont\n",
    "# print(len(ls_num))\n",
    "# print(cont/len(result))\n"
   ],
   "metadata": {
    "collapsed": false
   }
  },
  {
   "cell_type": "code",
   "execution_count": null,
   "outputs": [],
   "source": [],
   "metadata": {
    "collapsed": false
   }
  },
  {
   "cell_type": "code",
   "execution_count": null,
   "outputs": [],
   "source": [],
   "metadata": {
    "collapsed": false
   }
  }
 ],
 "metadata": {
  "accelerator": "GPU",
  "colab": {
   "collapsed_sections": [],
   "name": "advanced.ipynb",
   "toc_visible": true
  },
  "kernelspec": {
   "display_name": "Python 3",
   "name": "python3"
  },
  "language_info": {
   "codemirror_mode": {
    "name": "ipython",
    "version": 3
   },
   "file_extension": ".py",
   "mimetype": "text/x-python",
   "name": "python",
   "nbconvert_exporter": "python",
   "pygments_lexer": "ipython3",
   "version": "3.7.5"
  }
 },
 "nbformat": 4,
 "nbformat_minor": 0
}
