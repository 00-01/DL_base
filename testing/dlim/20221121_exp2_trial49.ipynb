{
  "nbformat": 4,
  "nbformat_minor": 0,
  "metadata": {
    "colab": {
      "provenance": []
    },
    "kernelspec": {
      "name": "python3",
      "display_name": "Python 3"
    },
    "language_info": {
      "name": "python"
    },
    "accelerator": "GPU",
    "gpuClass": "premium"
  },
  "cells": [
    {
      "cell_type": "code",
      "source": [
        "!pip install ipython-autotime\n",
        "%load_ext autotime"
      ],
      "metadata": {
        "colab": {
          "base_uri": "https://localhost:8080/"
        },
        "id": "CHK6eLS1Wfcv",
        "outputId": "6fbdac70-4495-4b7a-a2a7-d4ce7303030a"
      },
      "execution_count": 665,
      "outputs": [
        {
          "output_type": "stream",
          "name": "stdout",
          "text": [
            "Looking in indexes: https://pypi.org/simple, https://us-python.pkg.dev/colab-wheels/public/simple/\n",
            "Requirement already satisfied: ipython-autotime in /usr/local/lib/python3.7/dist-packages (0.3.1)\n",
            "Requirement already satisfied: ipython in /usr/local/lib/python3.7/dist-packages (from ipython-autotime) (7.9.0)\n",
            "Requirement already satisfied: pexpect in /usr/local/lib/python3.7/dist-packages (from ipython->ipython-autotime) (4.8.0)\n",
            "Requirement already satisfied: jedi>=0.10 in /usr/local/lib/python3.7/dist-packages (from ipython->ipython-autotime) (0.18.1)\n",
            "Requirement already satisfied: pickleshare in /usr/local/lib/python3.7/dist-packages (from ipython->ipython-autotime) (0.7.5)\n",
            "Requirement already satisfied: backcall in /usr/local/lib/python3.7/dist-packages (from ipython->ipython-autotime) (0.2.0)\n",
            "Requirement already satisfied: prompt-toolkit<2.1.0,>=2.0.0 in /usr/local/lib/python3.7/dist-packages (from ipython->ipython-autotime) (2.0.10)\n",
            "Requirement already satisfied: setuptools>=18.5 in /usr/local/lib/python3.7/dist-packages (from ipython->ipython-autotime) (57.4.0)\n",
            "Requirement already satisfied: decorator in /usr/local/lib/python3.7/dist-packages (from ipython->ipython-autotime) (4.4.2)\n",
            "Requirement already satisfied: traitlets>=4.2 in /usr/local/lib/python3.7/dist-packages (from ipython->ipython-autotime) (5.1.1)\n",
            "Requirement already satisfied: pygments in /usr/local/lib/python3.7/dist-packages (from ipython->ipython-autotime) (2.6.1)\n",
            "Requirement already satisfied: parso<0.9.0,>=0.8.0 in /usr/local/lib/python3.7/dist-packages (from jedi>=0.10->ipython->ipython-autotime) (0.8.3)\n",
            "Requirement already satisfied: six>=1.9.0 in /usr/local/lib/python3.7/dist-packages (from prompt-toolkit<2.1.0,>=2.0.0->ipython->ipython-autotime) (1.15.0)\n",
            "Requirement already satisfied: wcwidth in /usr/local/lib/python3.7/dist-packages (from prompt-toolkit<2.1.0,>=2.0.0->ipython->ipython-autotime) (0.2.5)\n",
            "Requirement already satisfied: ptyprocess>=0.5 in /usr/local/lib/python3.7/dist-packages (from pexpect->ipython->ipython-autotime) (0.7.0)\n",
            "The autotime extension is already loaded. To reload it, use:\n",
            "  %reload_ext autotime\n",
            "time: 3 s (started: 2022-11-21 08:13:22 +00:00)\n"
          ]
        }
      ]
    },
    {
      "cell_type": "markdown",
      "source": [
        "# 기반 라이브러리 임포트\n"
      ],
      "metadata": {
        "id": "LHLgo4dj0_tu"
      }
    },
    {
      "cell_type": "code",
      "execution_count": 666,
      "metadata": {
        "id": "lpJ7HXJgLgVk",
        "colab": {
          "base_uri": "https://localhost:8080/"
        },
        "outputId": "167e986e-2d6d-4dc3-b613-57199445a96e"
      },
      "outputs": [
        {
          "output_type": "stream",
          "name": "stdout",
          "text": [
            "time: 1.01 ms (started: 2022-11-21 08:13:35 +00:00)\n"
          ]
        }
      ],
      "source": [
        "import numpy as np\n",
        "import pandas as pd\n",
        "import matplotlib.pyplot as plt"
      ]
    },
    {
      "cell_type": "code",
      "source": [
        "from sklearn.metrics import mean_squared_error"
      ],
      "metadata": {
        "id": "6XCyqisZe8Nh",
        "colab": {
          "base_uri": "https://localhost:8080/"
        },
        "outputId": "59ac1a84-d990-4b46-eaf2-9886b0481b46"
      },
      "execution_count": 667,
      "outputs": [
        {
          "output_type": "stream",
          "name": "stdout",
          "text": [
            "time: 701 µs (started: 2022-11-21 08:13:35 +00:00)\n"
          ]
        }
      ]
    },
    {
      "cell_type": "code",
      "source": [
        "np.random.seed(32)"
      ],
      "metadata": {
        "id": "EqADCyEyjohf",
        "colab": {
          "base_uri": "https://localhost:8080/"
        },
        "outputId": "3cdde47f-ffe7-4d3a-d006-d14218fd0887"
      },
      "execution_count": 668,
      "outputs": [
        {
          "output_type": "stream",
          "name": "stdout",
          "text": [
            "time: 584 µs (started: 2022-11-21 08:13:35 +00:00)\n"
          ]
        }
      ]
    },
    {
      "cell_type": "markdown",
      "source": [
        "# 데이터 준비"
      ],
      "metadata": {
        "id": "hfVyp3h43iHk"
      }
    },
    {
      "cell_type": "code",
      "source": [
        "# !wget https://files.grouplens.org/datasets/movielens/ml-1m.zip"
      ],
      "metadata": {
        "id": "GzoGcPt4U9wr",
        "colab": {
          "base_uri": "https://localhost:8080/"
        },
        "outputId": "9253b3aa-ff08-4667-c16c-453623aac3d1"
      },
      "execution_count": 669,
      "outputs": [
        {
          "output_type": "stream",
          "name": "stdout",
          "text": [
            "time: 307 µs (started: 2022-11-21 08:13:35 +00:00)\n"
          ]
        }
      ]
    },
    {
      "cell_type": "code",
      "source": [
        "!wget https://files.grouplens.org/datasets/movielens/ml-100k.zip"
      ],
      "metadata": {
        "colab": {
          "base_uri": "https://localhost:8080/"
        },
        "id": "EORFZ6JQU9rS",
        "outputId": "cbcc4f0e-b75c-4c03-fd70-d1205663b116"
      },
      "execution_count": 670,
      "outputs": [
        {
          "output_type": "stream",
          "name": "stdout",
          "text": [
            "--2022-11-21 08:13:35--  https://files.grouplens.org/datasets/movielens/ml-100k.zip\n",
            "Resolving files.grouplens.org (files.grouplens.org)... 128.101.65.152\n",
            "Connecting to files.grouplens.org (files.grouplens.org)|128.101.65.152|:443... connected.\n",
            "HTTP request sent, awaiting response... 200 OK\n",
            "Length: 4924029 (4.7M) [application/zip]\n",
            "Saving to: ‘ml-100k.zip.6’\n",
            "\n",
            "ml-100k.zip.6       100%[===================>]   4.70M  8.99MB/s    in 0.5s    \n",
            "\n",
            "2022-11-21 08:13:36 (8.99 MB/s) - ‘ml-100k.zip.6’ saved [4924029/4924029]\n",
            "\n",
            "time: 993 ms (started: 2022-11-21 08:13:35 +00:00)\n"
          ]
        }
      ]
    },
    {
      "cell_type": "code",
      "source": [
        "!unzip -o ml-100k.zip"
      ],
      "metadata": {
        "colab": {
          "base_uri": "https://localhost:8080/"
        },
        "id": "JQylGTmeU9nT",
        "outputId": "a3345d73-781f-45fc-d161-243bef1dcccd"
      },
      "execution_count": 671,
      "outputs": [
        {
          "output_type": "stream",
          "name": "stdout",
          "text": [
            "Archive:  ml-100k.zip\n",
            "  inflating: ml-100k/allbut.pl       \n",
            "  inflating: ml-100k/mku.sh          \n",
            "  inflating: ml-100k/README          \n",
            "  inflating: ml-100k/u.data          \n",
            "  inflating: ml-100k/u.genre         \n",
            "  inflating: ml-100k/u.info          \n",
            "  inflating: ml-100k/u.item          \n",
            "  inflating: ml-100k/u.occupation    \n",
            "  inflating: ml-100k/u.user          \n",
            "  inflating: ml-100k/u1.base         \n",
            "  inflating: ml-100k/u1.test         \n",
            "  inflating: ml-100k/u2.base         \n",
            "  inflating: ml-100k/u2.test         \n",
            "  inflating: ml-100k/u3.base         \n",
            "  inflating: ml-100k/u3.test         \n",
            "  inflating: ml-100k/u4.base         \n",
            "  inflating: ml-100k/u4.test         \n",
            "  inflating: ml-100k/u5.base         \n",
            "  inflating: ml-100k/u5.test         \n",
            "  inflating: ml-100k/ua.base         \n",
            "  inflating: ml-100k/ua.test         \n",
            "  inflating: ml-100k/ub.base         \n",
            "  inflating: ml-100k/ub.test         \n",
            "time: 283 ms (started: 2022-11-21 08:13:36 +00:00)\n"
          ]
        }
      ]
    },
    {
      "cell_type": "markdown",
      "source": [
        "or download from https://www.kaggle.com/datasets/prajitdatta/movielens-100k-dataset"
      ],
      "metadata": {
        "id": "k3H--q-jVuT1"
      }
    },
    {
      "cell_type": "markdown",
      "source": [
        "## user"
      ],
      "metadata": {
        "id": "g8G-8EROiZV6"
      }
    },
    {
      "cell_type": "code",
      "source": [
        "user_column_names =  ['user_id', 'age', 'sex', 'occupation', 'zip_code']\n",
        "user_df = pd.read_csv(\"ml-100k/u.user\", sep='|', names=user_column_names)"
      ],
      "metadata": {
        "id": "p8sV2-J-VX-l",
        "colab": {
          "base_uri": "https://localhost:8080/"
        },
        "outputId": "7e4b5d9e-3f07-4179-e573-b5ed5ae234f7"
      },
      "execution_count": 672,
      "outputs": [
        {
          "output_type": "stream",
          "name": "stdout",
          "text": [
            "time: 14 ms (started: 2022-11-21 08:13:36 +00:00)\n"
          ]
        }
      ]
    },
    {
      "cell_type": "code",
      "source": [
        "user_df.head()"
      ],
      "metadata": {
        "colab": {
          "base_uri": "https://localhost:8080/",
          "height": 224
        },
        "id": "qo4rrvu8VX7m",
        "outputId": "c6d3ede9-264f-43d1-a266-e358826ddddb"
      },
      "execution_count": 673,
      "outputs": [
        {
          "output_type": "execute_result",
          "data": {
            "text/plain": [
              "   user_id  age sex  occupation zip_code\n",
              "0        1   24   M  technician    85711\n",
              "1        2   53   F       other    94043\n",
              "2        3   23   M      writer    32067\n",
              "3        4   24   M  technician    43537\n",
              "4        5   33   F       other    15213"
            ],
            "text/html": [
              "\n",
              "  <div id=\"df-e33b7cd4-8816-4a7c-9d74-a1e9c0760c0a\">\n",
              "    <div class=\"colab-df-container\">\n",
              "      <div>\n",
              "<style scoped>\n",
              "    .dataframe tbody tr th:only-of-type {\n",
              "        vertical-align: middle;\n",
              "    }\n",
              "\n",
              "    .dataframe tbody tr th {\n",
              "        vertical-align: top;\n",
              "    }\n",
              "\n",
              "    .dataframe thead th {\n",
              "        text-align: right;\n",
              "    }\n",
              "</style>\n",
              "<table border=\"1\" class=\"dataframe\">\n",
              "  <thead>\n",
              "    <tr style=\"text-align: right;\">\n",
              "      <th></th>\n",
              "      <th>user_id</th>\n",
              "      <th>age</th>\n",
              "      <th>sex</th>\n",
              "      <th>occupation</th>\n",
              "      <th>zip_code</th>\n",
              "    </tr>\n",
              "  </thead>\n",
              "  <tbody>\n",
              "    <tr>\n",
              "      <th>0</th>\n",
              "      <td>1</td>\n",
              "      <td>24</td>\n",
              "      <td>M</td>\n",
              "      <td>technician</td>\n",
              "      <td>85711</td>\n",
              "    </tr>\n",
              "    <tr>\n",
              "      <th>1</th>\n",
              "      <td>2</td>\n",
              "      <td>53</td>\n",
              "      <td>F</td>\n",
              "      <td>other</td>\n",
              "      <td>94043</td>\n",
              "    </tr>\n",
              "    <tr>\n",
              "      <th>2</th>\n",
              "      <td>3</td>\n",
              "      <td>23</td>\n",
              "      <td>M</td>\n",
              "      <td>writer</td>\n",
              "      <td>32067</td>\n",
              "    </tr>\n",
              "    <tr>\n",
              "      <th>3</th>\n",
              "      <td>4</td>\n",
              "      <td>24</td>\n",
              "      <td>M</td>\n",
              "      <td>technician</td>\n",
              "      <td>43537</td>\n",
              "    </tr>\n",
              "    <tr>\n",
              "      <th>4</th>\n",
              "      <td>5</td>\n",
              "      <td>33</td>\n",
              "      <td>F</td>\n",
              "      <td>other</td>\n",
              "      <td>15213</td>\n",
              "    </tr>\n",
              "  </tbody>\n",
              "</table>\n",
              "</div>\n",
              "      <button class=\"colab-df-convert\" onclick=\"convertToInteractive('df-e33b7cd4-8816-4a7c-9d74-a1e9c0760c0a')\"\n",
              "              title=\"Convert this dataframe to an interactive table.\"\n",
              "              style=\"display:none;\">\n",
              "        \n",
              "  <svg xmlns=\"http://www.w3.org/2000/svg\" height=\"24px\"viewBox=\"0 0 24 24\"\n",
              "       width=\"24px\">\n",
              "    <path d=\"M0 0h24v24H0V0z\" fill=\"none\"/>\n",
              "    <path d=\"M18.56 5.44l.94 2.06.94-2.06 2.06-.94-2.06-.94-.94-2.06-.94 2.06-2.06.94zm-11 1L8.5 8.5l.94-2.06 2.06-.94-2.06-.94L8.5 2.5l-.94 2.06-2.06.94zm10 10l.94 2.06.94-2.06 2.06-.94-2.06-.94-.94-2.06-.94 2.06-2.06.94z\"/><path d=\"M17.41 7.96l-1.37-1.37c-.4-.4-.92-.59-1.43-.59-.52 0-1.04.2-1.43.59L10.3 9.45l-7.72 7.72c-.78.78-.78 2.05 0 2.83L4 21.41c.39.39.9.59 1.41.59.51 0 1.02-.2 1.41-.59l7.78-7.78 2.81-2.81c.8-.78.8-2.07 0-2.86zM5.41 20L4 18.59l7.72-7.72 1.47 1.35L5.41 20z\"/>\n",
              "  </svg>\n",
              "      </button>\n",
              "      \n",
              "  <style>\n",
              "    .colab-df-container {\n",
              "      display:flex;\n",
              "      flex-wrap:wrap;\n",
              "      gap: 12px;\n",
              "    }\n",
              "\n",
              "    .colab-df-convert {\n",
              "      background-color: #E8F0FE;\n",
              "      border: none;\n",
              "      border-radius: 50%;\n",
              "      cursor: pointer;\n",
              "      display: none;\n",
              "      fill: #1967D2;\n",
              "      height: 32px;\n",
              "      padding: 0 0 0 0;\n",
              "      width: 32px;\n",
              "    }\n",
              "\n",
              "    .colab-df-convert:hover {\n",
              "      background-color: #E2EBFA;\n",
              "      box-shadow: 0px 1px 2px rgba(60, 64, 67, 0.3), 0px 1px 3px 1px rgba(60, 64, 67, 0.15);\n",
              "      fill: #174EA6;\n",
              "    }\n",
              "\n",
              "    [theme=dark] .colab-df-convert {\n",
              "      background-color: #3B4455;\n",
              "      fill: #D2E3FC;\n",
              "    }\n",
              "\n",
              "    [theme=dark] .colab-df-convert:hover {\n",
              "      background-color: #434B5C;\n",
              "      box-shadow: 0px 1px 3px 1px rgba(0, 0, 0, 0.15);\n",
              "      filter: drop-shadow(0px 1px 2px rgba(0, 0, 0, 0.3));\n",
              "      fill: #FFFFFF;\n",
              "    }\n",
              "  </style>\n",
              "\n",
              "      <script>\n",
              "        const buttonEl =\n",
              "          document.querySelector('#df-e33b7cd4-8816-4a7c-9d74-a1e9c0760c0a button.colab-df-convert');\n",
              "        buttonEl.style.display =\n",
              "          google.colab.kernel.accessAllowed ? 'block' : 'none';\n",
              "\n",
              "        async function convertToInteractive(key) {\n",
              "          const element = document.querySelector('#df-e33b7cd4-8816-4a7c-9d74-a1e9c0760c0a');\n",
              "          const dataTable =\n",
              "            await google.colab.kernel.invokeFunction('convertToInteractive',\n",
              "                                                     [key], {});\n",
              "          if (!dataTable) return;\n",
              "\n",
              "          const docLinkHtml = 'Like what you see? Visit the ' +\n",
              "            '<a target=\"_blank\" href=https://colab.research.google.com/notebooks/data_table.ipynb>data table notebook</a>'\n",
              "            + ' to learn more about interactive tables.';\n",
              "          element.innerHTML = '';\n",
              "          dataTable['output_type'] = 'display_data';\n",
              "          await google.colab.output.renderOutput(dataTable, element);\n",
              "          const docLink = document.createElement('div');\n",
              "          docLink.innerHTML = docLinkHtml;\n",
              "          element.appendChild(docLink);\n",
              "        }\n",
              "      </script>\n",
              "    </div>\n",
              "  </div>\n",
              "  "
            ]
          },
          "metadata": {},
          "execution_count": 673
        },
        {
          "output_type": "stream",
          "name": "stdout",
          "text": [
            "time: 7.76 ms (started: 2022-11-21 08:13:36 +00:00)\n"
          ]
        }
      ]
    },
    {
      "cell_type": "code",
      "source": [
        "user_df.info()"
      ],
      "metadata": {
        "colab": {
          "base_uri": "https://localhost:8080/"
        },
        "id": "_3eXuuy7VX54",
        "outputId": "2d5e349c-5648-4f38-ac6e-79e76f29960e"
      },
      "execution_count": 674,
      "outputs": [
        {
          "output_type": "stream",
          "name": "stdout",
          "text": [
            "<class 'pandas.core.frame.DataFrame'>\n",
            "RangeIndex: 943 entries, 0 to 942\n",
            "Data columns (total 5 columns):\n",
            " #   Column      Non-Null Count  Dtype \n",
            "---  ------      --------------  ----- \n",
            " 0   user_id     943 non-null    int64 \n",
            " 1   age         943 non-null    int64 \n",
            " 2   sex         943 non-null    object\n",
            " 3   occupation  943 non-null    object\n",
            " 4   zip_code    943 non-null    object\n",
            "dtypes: int64(2), object(3)\n",
            "memory usage: 37.0+ KB\n",
            "time: 7.65 ms (started: 2022-11-21 08:13:36 +00:00)\n"
          ]
        }
      ]
    },
    {
      "cell_type": "code",
      "source": [
        "user_df.drop(columns=\"zip_code\", inplace=True)"
      ],
      "metadata": {
        "id": "wbUl1zZFXxcg",
        "colab": {
          "base_uri": "https://localhost:8080/"
        },
        "outputId": "00dd4cbb-00fd-4eb8-9a1f-b4c40e851cde"
      },
      "execution_count": 675,
      "outputs": [
        {
          "output_type": "stream",
          "name": "stdout",
          "text": [
            "time: 1.21 ms (started: 2022-11-21 08:13:36 +00:00)\n"
          ]
        }
      ]
    },
    {
      "cell_type": "code",
      "source": [
        "user_df['age'] = pd.cut(user_df['age'], [0, 10, 20, 30, 40, 50, 100], labels=['1', '2', '3', '4', '5', '6'])"
      ],
      "metadata": {
        "id": "8sIQ04BoWI5h",
        "colab": {
          "base_uri": "https://localhost:8080/"
        },
        "outputId": "6cbfd9e8-b499-4b3a-e4ef-2b1e156c409c"
      },
      "execution_count": 676,
      "outputs": [
        {
          "output_type": "stream",
          "name": "stdout",
          "text": [
            "time: 3.66 ms (started: 2022-11-21 08:13:36 +00:00)\n"
          ]
        }
      ]
    },
    {
      "cell_type": "code",
      "source": [
        "user_df = pd.get_dummies(user_df)"
      ],
      "metadata": {
        "id": "LO0tJf6wXcwA",
        "colab": {
          "base_uri": "https://localhost:8080/"
        },
        "outputId": "eefc98b9-47b0-4c83-ddc0-bb277a017df3"
      },
      "execution_count": 677,
      "outputs": [
        {
          "output_type": "stream",
          "name": "stdout",
          "text": [
            "time: 6.74 ms (started: 2022-11-21 08:13:36 +00:00)\n"
          ]
        }
      ]
    },
    {
      "cell_type": "code",
      "source": [
        "user_df.info()"
      ],
      "metadata": {
        "colab": {
          "base_uri": "https://localhost:8080/"
        },
        "id": "tglVACLWXk2e",
        "outputId": "fc5aa1a1-2ad4-49dd-c449-930226709a96"
      },
      "execution_count": 678,
      "outputs": [
        {
          "output_type": "stream",
          "name": "stdout",
          "text": [
            "<class 'pandas.core.frame.DataFrame'>\n",
            "RangeIndex: 943 entries, 0 to 942\n",
            "Data columns (total 30 columns):\n",
            " #   Column                    Non-Null Count  Dtype\n",
            "---  ------                    --------------  -----\n",
            " 0   user_id                   943 non-null    int64\n",
            " 1   age_1                     943 non-null    uint8\n",
            " 2   age_2                     943 non-null    uint8\n",
            " 3   age_3                     943 non-null    uint8\n",
            " 4   age_4                     943 non-null    uint8\n",
            " 5   age_5                     943 non-null    uint8\n",
            " 6   age_6                     943 non-null    uint8\n",
            " 7   sex_F                     943 non-null    uint8\n",
            " 8   sex_M                     943 non-null    uint8\n",
            " 9   occupation_administrator  943 non-null    uint8\n",
            " 10  occupation_artist         943 non-null    uint8\n",
            " 11  occupation_doctor         943 non-null    uint8\n",
            " 12  occupation_educator       943 non-null    uint8\n",
            " 13  occupation_engineer       943 non-null    uint8\n",
            " 14  occupation_entertainment  943 non-null    uint8\n",
            " 15  occupation_executive      943 non-null    uint8\n",
            " 16  occupation_healthcare     943 non-null    uint8\n",
            " 17  occupation_homemaker      943 non-null    uint8\n",
            " 18  occupation_lawyer         943 non-null    uint8\n",
            " 19  occupation_librarian      943 non-null    uint8\n",
            " 20  occupation_marketing      943 non-null    uint8\n",
            " 21  occupation_none           943 non-null    uint8\n",
            " 22  occupation_other          943 non-null    uint8\n",
            " 23  occupation_programmer     943 non-null    uint8\n",
            " 24  occupation_retired        943 non-null    uint8\n",
            " 25  occupation_salesman       943 non-null    uint8\n",
            " 26  occupation_scientist      943 non-null    uint8\n",
            " 27  occupation_student        943 non-null    uint8\n",
            " 28  occupation_technician     943 non-null    uint8\n",
            " 29  occupation_writer         943 non-null    uint8\n",
            "dtypes: int64(1), uint8(29)\n",
            "memory usage: 34.2 KB\n",
            "time: 8.82 ms (started: 2022-11-21 08:13:36 +00:00)\n"
          ]
        }
      ]
    },
    {
      "cell_type": "code",
      "source": [
        "user_df.head()"
      ],
      "metadata": {
        "colab": {
          "base_uri": "https://localhost:8080/",
          "height": 317
        },
        "id": "IqIpLrq8Xkxj",
        "outputId": "325a5c93-31b3-4c98-979d-c1eb926b55ad"
      },
      "execution_count": 679,
      "outputs": [
        {
          "output_type": "execute_result",
          "data": {
            "text/plain": [
              "   user_id  age_1  age_2  age_3  age_4  age_5  age_6  sex_F  sex_M  \\\n",
              "0        1      0      0      1      0      0      0      0      1   \n",
              "1        2      0      0      0      0      0      1      1      0   \n",
              "2        3      0      0      1      0      0      0      0      1   \n",
              "3        4      0      0      1      0      0      0      0      1   \n",
              "4        5      0      0      0      1      0      0      1      0   \n",
              "\n",
              "   occupation_administrator  ...  occupation_marketing  occupation_none  \\\n",
              "0                         0  ...                     0                0   \n",
              "1                         0  ...                     0                0   \n",
              "2                         0  ...                     0                0   \n",
              "3                         0  ...                     0                0   \n",
              "4                         0  ...                     0                0   \n",
              "\n",
              "   occupation_other  occupation_programmer  occupation_retired  \\\n",
              "0                 0                      0                   0   \n",
              "1                 1                      0                   0   \n",
              "2                 0                      0                   0   \n",
              "3                 0                      0                   0   \n",
              "4                 1                      0                   0   \n",
              "\n",
              "   occupation_salesman  occupation_scientist  occupation_student  \\\n",
              "0                    0                     0                   0   \n",
              "1                    0                     0                   0   \n",
              "2                    0                     0                   0   \n",
              "3                    0                     0                   0   \n",
              "4                    0                     0                   0   \n",
              "\n",
              "   occupation_technician  occupation_writer  \n",
              "0                      1                  0  \n",
              "1                      0                  0  \n",
              "2                      0                  1  \n",
              "3                      1                  0  \n",
              "4                      0                  0  \n",
              "\n",
              "[5 rows x 30 columns]"
            ],
            "text/html": [
              "\n",
              "  <div id=\"df-ad9eb171-108b-45b3-9979-b1444649af07\">\n",
              "    <div class=\"colab-df-container\">\n",
              "      <div>\n",
              "<style scoped>\n",
              "    .dataframe tbody tr th:only-of-type {\n",
              "        vertical-align: middle;\n",
              "    }\n",
              "\n",
              "    .dataframe tbody tr th {\n",
              "        vertical-align: top;\n",
              "    }\n",
              "\n",
              "    .dataframe thead th {\n",
              "        text-align: right;\n",
              "    }\n",
              "</style>\n",
              "<table border=\"1\" class=\"dataframe\">\n",
              "  <thead>\n",
              "    <tr style=\"text-align: right;\">\n",
              "      <th></th>\n",
              "      <th>user_id</th>\n",
              "      <th>age_1</th>\n",
              "      <th>age_2</th>\n",
              "      <th>age_3</th>\n",
              "      <th>age_4</th>\n",
              "      <th>age_5</th>\n",
              "      <th>age_6</th>\n",
              "      <th>sex_F</th>\n",
              "      <th>sex_M</th>\n",
              "      <th>occupation_administrator</th>\n",
              "      <th>...</th>\n",
              "      <th>occupation_marketing</th>\n",
              "      <th>occupation_none</th>\n",
              "      <th>occupation_other</th>\n",
              "      <th>occupation_programmer</th>\n",
              "      <th>occupation_retired</th>\n",
              "      <th>occupation_salesman</th>\n",
              "      <th>occupation_scientist</th>\n",
              "      <th>occupation_student</th>\n",
              "      <th>occupation_technician</th>\n",
              "      <th>occupation_writer</th>\n",
              "    </tr>\n",
              "  </thead>\n",
              "  <tbody>\n",
              "    <tr>\n",
              "      <th>0</th>\n",
              "      <td>1</td>\n",
              "      <td>0</td>\n",
              "      <td>0</td>\n",
              "      <td>1</td>\n",
              "      <td>0</td>\n",
              "      <td>0</td>\n",
              "      <td>0</td>\n",
              "      <td>0</td>\n",
              "      <td>1</td>\n",
              "      <td>0</td>\n",
              "      <td>...</td>\n",
              "      <td>0</td>\n",
              "      <td>0</td>\n",
              "      <td>0</td>\n",
              "      <td>0</td>\n",
              "      <td>0</td>\n",
              "      <td>0</td>\n",
              "      <td>0</td>\n",
              "      <td>0</td>\n",
              "      <td>1</td>\n",
              "      <td>0</td>\n",
              "    </tr>\n",
              "    <tr>\n",
              "      <th>1</th>\n",
              "      <td>2</td>\n",
              "      <td>0</td>\n",
              "      <td>0</td>\n",
              "      <td>0</td>\n",
              "      <td>0</td>\n",
              "      <td>0</td>\n",
              "      <td>1</td>\n",
              "      <td>1</td>\n",
              "      <td>0</td>\n",
              "      <td>0</td>\n",
              "      <td>...</td>\n",
              "      <td>0</td>\n",
              "      <td>0</td>\n",
              "      <td>1</td>\n",
              "      <td>0</td>\n",
              "      <td>0</td>\n",
              "      <td>0</td>\n",
              "      <td>0</td>\n",
              "      <td>0</td>\n",
              "      <td>0</td>\n",
              "      <td>0</td>\n",
              "    </tr>\n",
              "    <tr>\n",
              "      <th>2</th>\n",
              "      <td>3</td>\n",
              "      <td>0</td>\n",
              "      <td>0</td>\n",
              "      <td>1</td>\n",
              "      <td>0</td>\n",
              "      <td>0</td>\n",
              "      <td>0</td>\n",
              "      <td>0</td>\n",
              "      <td>1</td>\n",
              "      <td>0</td>\n",
              "      <td>...</td>\n",
              "      <td>0</td>\n",
              "      <td>0</td>\n",
              "      <td>0</td>\n",
              "      <td>0</td>\n",
              "      <td>0</td>\n",
              "      <td>0</td>\n",
              "      <td>0</td>\n",
              "      <td>0</td>\n",
              "      <td>0</td>\n",
              "      <td>1</td>\n",
              "    </tr>\n",
              "    <tr>\n",
              "      <th>3</th>\n",
              "      <td>4</td>\n",
              "      <td>0</td>\n",
              "      <td>0</td>\n",
              "      <td>1</td>\n",
              "      <td>0</td>\n",
              "      <td>0</td>\n",
              "      <td>0</td>\n",
              "      <td>0</td>\n",
              "      <td>1</td>\n",
              "      <td>0</td>\n",
              "      <td>...</td>\n",
              "      <td>0</td>\n",
              "      <td>0</td>\n",
              "      <td>0</td>\n",
              "      <td>0</td>\n",
              "      <td>0</td>\n",
              "      <td>0</td>\n",
              "      <td>0</td>\n",
              "      <td>0</td>\n",
              "      <td>1</td>\n",
              "      <td>0</td>\n",
              "    </tr>\n",
              "    <tr>\n",
              "      <th>4</th>\n",
              "      <td>5</td>\n",
              "      <td>0</td>\n",
              "      <td>0</td>\n",
              "      <td>0</td>\n",
              "      <td>1</td>\n",
              "      <td>0</td>\n",
              "      <td>0</td>\n",
              "      <td>1</td>\n",
              "      <td>0</td>\n",
              "      <td>0</td>\n",
              "      <td>...</td>\n",
              "      <td>0</td>\n",
              "      <td>0</td>\n",
              "      <td>1</td>\n",
              "      <td>0</td>\n",
              "      <td>0</td>\n",
              "      <td>0</td>\n",
              "      <td>0</td>\n",
              "      <td>0</td>\n",
              "      <td>0</td>\n",
              "      <td>0</td>\n",
              "    </tr>\n",
              "  </tbody>\n",
              "</table>\n",
              "<p>5 rows × 30 columns</p>\n",
              "</div>\n",
              "      <button class=\"colab-df-convert\" onclick=\"convertToInteractive('df-ad9eb171-108b-45b3-9979-b1444649af07')\"\n",
              "              title=\"Convert this dataframe to an interactive table.\"\n",
              "              style=\"display:none;\">\n",
              "        \n",
              "  <svg xmlns=\"http://www.w3.org/2000/svg\" height=\"24px\"viewBox=\"0 0 24 24\"\n",
              "       width=\"24px\">\n",
              "    <path d=\"M0 0h24v24H0V0z\" fill=\"none\"/>\n",
              "    <path d=\"M18.56 5.44l.94 2.06.94-2.06 2.06-.94-2.06-.94-.94-2.06-.94 2.06-2.06.94zm-11 1L8.5 8.5l.94-2.06 2.06-.94-2.06-.94L8.5 2.5l-.94 2.06-2.06.94zm10 10l.94 2.06.94-2.06 2.06-.94-2.06-.94-.94-2.06-.94 2.06-2.06.94z\"/><path d=\"M17.41 7.96l-1.37-1.37c-.4-.4-.92-.59-1.43-.59-.52 0-1.04.2-1.43.59L10.3 9.45l-7.72 7.72c-.78.78-.78 2.05 0 2.83L4 21.41c.39.39.9.59 1.41.59.51 0 1.02-.2 1.41-.59l7.78-7.78 2.81-2.81c.8-.78.8-2.07 0-2.86zM5.41 20L4 18.59l7.72-7.72 1.47 1.35L5.41 20z\"/>\n",
              "  </svg>\n",
              "      </button>\n",
              "      \n",
              "  <style>\n",
              "    .colab-df-container {\n",
              "      display:flex;\n",
              "      flex-wrap:wrap;\n",
              "      gap: 12px;\n",
              "    }\n",
              "\n",
              "    .colab-df-convert {\n",
              "      background-color: #E8F0FE;\n",
              "      border: none;\n",
              "      border-radius: 50%;\n",
              "      cursor: pointer;\n",
              "      display: none;\n",
              "      fill: #1967D2;\n",
              "      height: 32px;\n",
              "      padding: 0 0 0 0;\n",
              "      width: 32px;\n",
              "    }\n",
              "\n",
              "    .colab-df-convert:hover {\n",
              "      background-color: #E2EBFA;\n",
              "      box-shadow: 0px 1px 2px rgba(60, 64, 67, 0.3), 0px 1px 3px 1px rgba(60, 64, 67, 0.15);\n",
              "      fill: #174EA6;\n",
              "    }\n",
              "\n",
              "    [theme=dark] .colab-df-convert {\n",
              "      background-color: #3B4455;\n",
              "      fill: #D2E3FC;\n",
              "    }\n",
              "\n",
              "    [theme=dark] .colab-df-convert:hover {\n",
              "      background-color: #434B5C;\n",
              "      box-shadow: 0px 1px 3px 1px rgba(0, 0, 0, 0.15);\n",
              "      filter: drop-shadow(0px 1px 2px rgba(0, 0, 0, 0.3));\n",
              "      fill: #FFFFFF;\n",
              "    }\n",
              "  </style>\n",
              "\n",
              "      <script>\n",
              "        const buttonEl =\n",
              "          document.querySelector('#df-ad9eb171-108b-45b3-9979-b1444649af07 button.colab-df-convert');\n",
              "        buttonEl.style.display =\n",
              "          google.colab.kernel.accessAllowed ? 'block' : 'none';\n",
              "\n",
              "        async function convertToInteractive(key) {\n",
              "          const element = document.querySelector('#df-ad9eb171-108b-45b3-9979-b1444649af07');\n",
              "          const dataTable =\n",
              "            await google.colab.kernel.invokeFunction('convertToInteractive',\n",
              "                                                     [key], {});\n",
              "          if (!dataTable) return;\n",
              "\n",
              "          const docLinkHtml = 'Like what you see? Visit the ' +\n",
              "            '<a target=\"_blank\" href=https://colab.research.google.com/notebooks/data_table.ipynb>data table notebook</a>'\n",
              "            + ' to learn more about interactive tables.';\n",
              "          element.innerHTML = '';\n",
              "          dataTable['output_type'] = 'display_data';\n",
              "          await google.colab.output.renderOutput(dataTable, element);\n",
              "          const docLink = document.createElement('div');\n",
              "          docLink.innerHTML = docLinkHtml;\n",
              "          element.appendChild(docLink);\n",
              "        }\n",
              "      </script>\n",
              "    </div>\n",
              "  </div>\n",
              "  "
            ]
          },
          "metadata": {},
          "execution_count": 679
        },
        {
          "output_type": "stream",
          "name": "stdout",
          "text": [
            "time: 11.8 ms (started: 2022-11-21 08:13:36 +00:00)\n"
          ]
        }
      ]
    },
    {
      "cell_type": "code",
      "source": [],
      "metadata": {
        "id": "hkb0ZXgJXkAa",
        "colab": {
          "base_uri": "https://localhost:8080/"
        },
        "outputId": "56aafb2a-b9a4-4405-f15e-f6cda70a649d"
      },
      "execution_count": 679,
      "outputs": [
        {
          "output_type": "stream",
          "name": "stdout",
          "text": [
            "time: 17.7 ms (started: 2022-11-21 08:13:36 +00:00)\n"
          ]
        }
      ]
    },
    {
      "cell_type": "markdown",
      "source": [
        "## item"
      ],
      "metadata": {
        "id": "JRf-8m-1idja"
      }
    },
    {
      "cell_type": "code",
      "source": [
        "item_column_names = ['movie id', 'movie title' ,'release date','video release date', 'IMDb URL', 'unknown', 'Action', 'Adventure',\n",
        " 'Animation', 'Children\\'s', 'Comedy', 'Crime', 'Documentary', 'Drama', 'Fantasy',\n",
        " 'Film-Noir', 'Horror', 'Musical', 'Mystery', 'Romance', 'Sci-Fi', 'Thriller', 'War', 'Western']\n",
        "\n",
        "item_df = pd.read_csv('ml-100k/u.item', sep='|', names=item_column_names, encoding='latin-1')\n"
      ],
      "metadata": {
        "id": "_Ijn_c8DWFs_",
        "colab": {
          "base_uri": "https://localhost:8080/"
        },
        "outputId": "1157954c-e679-4c73-e2cf-26e54c327852"
      },
      "execution_count": 680,
      "outputs": [
        {
          "output_type": "stream",
          "name": "stdout",
          "text": [
            "time: 10.5 ms (started: 2022-11-21 08:13:36 +00:00)\n"
          ]
        }
      ]
    },
    {
      "cell_type": "code",
      "source": [
        "item_df.head()"
      ],
      "metadata": {
        "colab": {
          "base_uri": "https://localhost:8080/",
          "height": 474
        },
        "id": "9S_mtPeKWQbn",
        "outputId": "60d79771-ae39-481d-fc37-3dc74002a5ce"
      },
      "execution_count": 681,
      "outputs": [
        {
          "output_type": "execute_result",
          "data": {
            "text/plain": [
              "   movie id        movie title release date  video release date  \\\n",
              "0         1   Toy Story (1995)  01-Jan-1995                 NaN   \n",
              "1         2   GoldenEye (1995)  01-Jan-1995                 NaN   \n",
              "2         3  Four Rooms (1995)  01-Jan-1995                 NaN   \n",
              "3         4  Get Shorty (1995)  01-Jan-1995                 NaN   \n",
              "4         5     Copycat (1995)  01-Jan-1995                 NaN   \n",
              "\n",
              "                                            IMDb URL  unknown  Action  \\\n",
              "0  http://us.imdb.com/M/title-exact?Toy%20Story%2...        0       0   \n",
              "1  http://us.imdb.com/M/title-exact?GoldenEye%20(...        0       1   \n",
              "2  http://us.imdb.com/M/title-exact?Four%20Rooms%...        0       0   \n",
              "3  http://us.imdb.com/M/title-exact?Get%20Shorty%...        0       1   \n",
              "4  http://us.imdb.com/M/title-exact?Copycat%20(1995)        0       0   \n",
              "\n",
              "   Adventure  Animation  Children's  ...  Fantasy  Film-Noir  Horror  Musical  \\\n",
              "0          0          1           1  ...        0          0       0        0   \n",
              "1          1          0           0  ...        0          0       0        0   \n",
              "2          0          0           0  ...        0          0       0        0   \n",
              "3          0          0           0  ...        0          0       0        0   \n",
              "4          0          0           0  ...        0          0       0        0   \n",
              "\n",
              "   Mystery  Romance  Sci-Fi  Thriller  War  Western  \n",
              "0        0        0       0         0    0        0  \n",
              "1        0        0       0         1    0        0  \n",
              "2        0        0       0         1    0        0  \n",
              "3        0        0       0         0    0        0  \n",
              "4        0        0       0         1    0        0  \n",
              "\n",
              "[5 rows x 24 columns]"
            ],
            "text/html": [
              "\n",
              "  <div id=\"df-3fa671d2-fe6e-4dc0-acb2-e94aa831fa62\">\n",
              "    <div class=\"colab-df-container\">\n",
              "      <div>\n",
              "<style scoped>\n",
              "    .dataframe tbody tr th:only-of-type {\n",
              "        vertical-align: middle;\n",
              "    }\n",
              "\n",
              "    .dataframe tbody tr th {\n",
              "        vertical-align: top;\n",
              "    }\n",
              "\n",
              "    .dataframe thead th {\n",
              "        text-align: right;\n",
              "    }\n",
              "</style>\n",
              "<table border=\"1\" class=\"dataframe\">\n",
              "  <thead>\n",
              "    <tr style=\"text-align: right;\">\n",
              "      <th></th>\n",
              "      <th>movie id</th>\n",
              "      <th>movie title</th>\n",
              "      <th>release date</th>\n",
              "      <th>video release date</th>\n",
              "      <th>IMDb URL</th>\n",
              "      <th>unknown</th>\n",
              "      <th>Action</th>\n",
              "      <th>Adventure</th>\n",
              "      <th>Animation</th>\n",
              "      <th>Children's</th>\n",
              "      <th>...</th>\n",
              "      <th>Fantasy</th>\n",
              "      <th>Film-Noir</th>\n",
              "      <th>Horror</th>\n",
              "      <th>Musical</th>\n",
              "      <th>Mystery</th>\n",
              "      <th>Romance</th>\n",
              "      <th>Sci-Fi</th>\n",
              "      <th>Thriller</th>\n",
              "      <th>War</th>\n",
              "      <th>Western</th>\n",
              "    </tr>\n",
              "  </thead>\n",
              "  <tbody>\n",
              "    <tr>\n",
              "      <th>0</th>\n",
              "      <td>1</td>\n",
              "      <td>Toy Story (1995)</td>\n",
              "      <td>01-Jan-1995</td>\n",
              "      <td>NaN</td>\n",
              "      <td>http://us.imdb.com/M/title-exact?Toy%20Story%2...</td>\n",
              "      <td>0</td>\n",
              "      <td>0</td>\n",
              "      <td>0</td>\n",
              "      <td>1</td>\n",
              "      <td>1</td>\n",
              "      <td>...</td>\n",
              "      <td>0</td>\n",
              "      <td>0</td>\n",
              "      <td>0</td>\n",
              "      <td>0</td>\n",
              "      <td>0</td>\n",
              "      <td>0</td>\n",
              "      <td>0</td>\n",
              "      <td>0</td>\n",
              "      <td>0</td>\n",
              "      <td>0</td>\n",
              "    </tr>\n",
              "    <tr>\n",
              "      <th>1</th>\n",
              "      <td>2</td>\n",
              "      <td>GoldenEye (1995)</td>\n",
              "      <td>01-Jan-1995</td>\n",
              "      <td>NaN</td>\n",
              "      <td>http://us.imdb.com/M/title-exact?GoldenEye%20(...</td>\n",
              "      <td>0</td>\n",
              "      <td>1</td>\n",
              "      <td>1</td>\n",
              "      <td>0</td>\n",
              "      <td>0</td>\n",
              "      <td>...</td>\n",
              "      <td>0</td>\n",
              "      <td>0</td>\n",
              "      <td>0</td>\n",
              "      <td>0</td>\n",
              "      <td>0</td>\n",
              "      <td>0</td>\n",
              "      <td>0</td>\n",
              "      <td>1</td>\n",
              "      <td>0</td>\n",
              "      <td>0</td>\n",
              "    </tr>\n",
              "    <tr>\n",
              "      <th>2</th>\n",
              "      <td>3</td>\n",
              "      <td>Four Rooms (1995)</td>\n",
              "      <td>01-Jan-1995</td>\n",
              "      <td>NaN</td>\n",
              "      <td>http://us.imdb.com/M/title-exact?Four%20Rooms%...</td>\n",
              "      <td>0</td>\n",
              "      <td>0</td>\n",
              "      <td>0</td>\n",
              "      <td>0</td>\n",
              "      <td>0</td>\n",
              "      <td>...</td>\n",
              "      <td>0</td>\n",
              "      <td>0</td>\n",
              "      <td>0</td>\n",
              "      <td>0</td>\n",
              "      <td>0</td>\n",
              "      <td>0</td>\n",
              "      <td>0</td>\n",
              "      <td>1</td>\n",
              "      <td>0</td>\n",
              "      <td>0</td>\n",
              "    </tr>\n",
              "    <tr>\n",
              "      <th>3</th>\n",
              "      <td>4</td>\n",
              "      <td>Get Shorty (1995)</td>\n",
              "      <td>01-Jan-1995</td>\n",
              "      <td>NaN</td>\n",
              "      <td>http://us.imdb.com/M/title-exact?Get%20Shorty%...</td>\n",
              "      <td>0</td>\n",
              "      <td>1</td>\n",
              "      <td>0</td>\n",
              "      <td>0</td>\n",
              "      <td>0</td>\n",
              "      <td>...</td>\n",
              "      <td>0</td>\n",
              "      <td>0</td>\n",
              "      <td>0</td>\n",
              "      <td>0</td>\n",
              "      <td>0</td>\n",
              "      <td>0</td>\n",
              "      <td>0</td>\n",
              "      <td>0</td>\n",
              "      <td>0</td>\n",
              "      <td>0</td>\n",
              "    </tr>\n",
              "    <tr>\n",
              "      <th>4</th>\n",
              "      <td>5</td>\n",
              "      <td>Copycat (1995)</td>\n",
              "      <td>01-Jan-1995</td>\n",
              "      <td>NaN</td>\n",
              "      <td>http://us.imdb.com/M/title-exact?Copycat%20(1995)</td>\n",
              "      <td>0</td>\n",
              "      <td>0</td>\n",
              "      <td>0</td>\n",
              "      <td>0</td>\n",
              "      <td>0</td>\n",
              "      <td>...</td>\n",
              "      <td>0</td>\n",
              "      <td>0</td>\n",
              "      <td>0</td>\n",
              "      <td>0</td>\n",
              "      <td>0</td>\n",
              "      <td>0</td>\n",
              "      <td>0</td>\n",
              "      <td>1</td>\n",
              "      <td>0</td>\n",
              "      <td>0</td>\n",
              "    </tr>\n",
              "  </tbody>\n",
              "</table>\n",
              "<p>5 rows × 24 columns</p>\n",
              "</div>\n",
              "      <button class=\"colab-df-convert\" onclick=\"convertToInteractive('df-3fa671d2-fe6e-4dc0-acb2-e94aa831fa62')\"\n",
              "              title=\"Convert this dataframe to an interactive table.\"\n",
              "              style=\"display:none;\">\n",
              "        \n",
              "  <svg xmlns=\"http://www.w3.org/2000/svg\" height=\"24px\"viewBox=\"0 0 24 24\"\n",
              "       width=\"24px\">\n",
              "    <path d=\"M0 0h24v24H0V0z\" fill=\"none\"/>\n",
              "    <path d=\"M18.56 5.44l.94 2.06.94-2.06 2.06-.94-2.06-.94-.94-2.06-.94 2.06-2.06.94zm-11 1L8.5 8.5l.94-2.06 2.06-.94-2.06-.94L8.5 2.5l-.94 2.06-2.06.94zm10 10l.94 2.06.94-2.06 2.06-.94-2.06-.94-.94-2.06-.94 2.06-2.06.94z\"/><path d=\"M17.41 7.96l-1.37-1.37c-.4-.4-.92-.59-1.43-.59-.52 0-1.04.2-1.43.59L10.3 9.45l-7.72 7.72c-.78.78-.78 2.05 0 2.83L4 21.41c.39.39.9.59 1.41.59.51 0 1.02-.2 1.41-.59l7.78-7.78 2.81-2.81c.8-.78.8-2.07 0-2.86zM5.41 20L4 18.59l7.72-7.72 1.47 1.35L5.41 20z\"/>\n",
              "  </svg>\n",
              "      </button>\n",
              "      \n",
              "  <style>\n",
              "    .colab-df-container {\n",
              "      display:flex;\n",
              "      flex-wrap:wrap;\n",
              "      gap: 12px;\n",
              "    }\n",
              "\n",
              "    .colab-df-convert {\n",
              "      background-color: #E8F0FE;\n",
              "      border: none;\n",
              "      border-radius: 50%;\n",
              "      cursor: pointer;\n",
              "      display: none;\n",
              "      fill: #1967D2;\n",
              "      height: 32px;\n",
              "      padding: 0 0 0 0;\n",
              "      width: 32px;\n",
              "    }\n",
              "\n",
              "    .colab-df-convert:hover {\n",
              "      background-color: #E2EBFA;\n",
              "      box-shadow: 0px 1px 2px rgba(60, 64, 67, 0.3), 0px 1px 3px 1px rgba(60, 64, 67, 0.15);\n",
              "      fill: #174EA6;\n",
              "    }\n",
              "\n",
              "    [theme=dark] .colab-df-convert {\n",
              "      background-color: #3B4455;\n",
              "      fill: #D2E3FC;\n",
              "    }\n",
              "\n",
              "    [theme=dark] .colab-df-convert:hover {\n",
              "      background-color: #434B5C;\n",
              "      box-shadow: 0px 1px 3px 1px rgba(0, 0, 0, 0.15);\n",
              "      filter: drop-shadow(0px 1px 2px rgba(0, 0, 0, 0.3));\n",
              "      fill: #FFFFFF;\n",
              "    }\n",
              "  </style>\n",
              "\n",
              "      <script>\n",
              "        const buttonEl =\n",
              "          document.querySelector('#df-3fa671d2-fe6e-4dc0-acb2-e94aa831fa62 button.colab-df-convert');\n",
              "        buttonEl.style.display =\n",
              "          google.colab.kernel.accessAllowed ? 'block' : 'none';\n",
              "\n",
              "        async function convertToInteractive(key) {\n",
              "          const element = document.querySelector('#df-3fa671d2-fe6e-4dc0-acb2-e94aa831fa62');\n",
              "          const dataTable =\n",
              "            await google.colab.kernel.invokeFunction('convertToInteractive',\n",
              "                                                     [key], {});\n",
              "          if (!dataTable) return;\n",
              "\n",
              "          const docLinkHtml = 'Like what you see? Visit the ' +\n",
              "            '<a target=\"_blank\" href=https://colab.research.google.com/notebooks/data_table.ipynb>data table notebook</a>'\n",
              "            + ' to learn more about interactive tables.';\n",
              "          element.innerHTML = '';\n",
              "          dataTable['output_type'] = 'display_data';\n",
              "          await google.colab.output.renderOutput(dataTable, element);\n",
              "          const docLink = document.createElement('div');\n",
              "          docLink.innerHTML = docLinkHtml;\n",
              "          element.appendChild(docLink);\n",
              "        }\n",
              "      </script>\n",
              "    </div>\n",
              "  </div>\n",
              "  "
            ]
          },
          "metadata": {},
          "execution_count": 681
        },
        {
          "output_type": "stream",
          "name": "stdout",
          "text": [
            "time: 14.4 ms (started: 2022-11-21 08:13:36 +00:00)\n"
          ]
        }
      ]
    },
    {
      "cell_type": "code",
      "source": [
        "item_df.info()"
      ],
      "metadata": {
        "colab": {
          "base_uri": "https://localhost:8080/"
        },
        "id": "csvN1unuWTMs",
        "outputId": "5b94e43b-f4ae-44a5-d9f4-3a38d7251b39"
      },
      "execution_count": 682,
      "outputs": [
        {
          "output_type": "stream",
          "name": "stdout",
          "text": [
            "<class 'pandas.core.frame.DataFrame'>\n",
            "RangeIndex: 1682 entries, 0 to 1681\n",
            "Data columns (total 24 columns):\n",
            " #   Column              Non-Null Count  Dtype  \n",
            "---  ------              --------------  -----  \n",
            " 0   movie id            1682 non-null   int64  \n",
            " 1   movie title         1682 non-null   object \n",
            " 2   release date        1681 non-null   object \n",
            " 3   video release date  0 non-null      float64\n",
            " 4   IMDb URL            1679 non-null   object \n",
            " 5   unknown             1682 non-null   int64  \n",
            " 6   Action              1682 non-null   int64  \n",
            " 7   Adventure           1682 non-null   int64  \n",
            " 8   Animation           1682 non-null   int64  \n",
            " 9   Children's          1682 non-null   int64  \n",
            " 10  Comedy              1682 non-null   int64  \n",
            " 11  Crime               1682 non-null   int64  \n",
            " 12  Documentary         1682 non-null   int64  \n",
            " 13  Drama               1682 non-null   int64  \n",
            " 14  Fantasy             1682 non-null   int64  \n",
            " 15  Film-Noir           1682 non-null   int64  \n",
            " 16  Horror              1682 non-null   int64  \n",
            " 17  Musical             1682 non-null   int64  \n",
            " 18  Mystery             1682 non-null   int64  \n",
            " 19  Romance             1682 non-null   int64  \n",
            " 20  Sci-Fi              1682 non-null   int64  \n",
            " 21  Thriller            1682 non-null   int64  \n",
            " 22  War                 1682 non-null   int64  \n",
            " 23  Western             1682 non-null   int64  \n",
            "dtypes: float64(1), int64(20), object(3)\n",
            "memory usage: 315.5+ KB\n",
            "time: 8.79 ms (started: 2022-11-21 08:13:36 +00:00)\n"
          ]
        }
      ]
    },
    {
      "cell_type": "code",
      "source": [
        "item_df['year'] = pd.DatetimeIndex(pd.to_datetime(item_df['release date'])).year"
      ],
      "metadata": {
        "id": "3f1JLOhc5NBm",
        "colab": {
          "base_uri": "https://localhost:8080/"
        },
        "outputId": "f1202dc0-a8b3-405b-f2dd-baf3ff70a83b"
      },
      "execution_count": 683,
      "outputs": [
        {
          "output_type": "stream",
          "name": "stdout",
          "text": [
            "time: 21.4 ms (started: 2022-11-21 08:13:36 +00:00)\n"
          ]
        }
      ]
    },
    {
      "cell_type": "code",
      "source": [
        "item_df[item_df['year'].isnull()]"
      ],
      "metadata": {
        "colab": {
          "base_uri": "https://localhost:8080/",
          "height": 227
        },
        "id": "adg1ZlGdP2SG",
        "outputId": "1f2ed11c-a744-43bc-ec2e-8ac10c91c952"
      },
      "execution_count": 684,
      "outputs": [
        {
          "output_type": "execute_result",
          "data": {
            "text/plain": [
              "     movie id movie title release date  video release date IMDb URL  unknown  \\\n",
              "266       267     unknown          NaN                 NaN      NaN        1   \n",
              "\n",
              "     Action  Adventure  Animation  Children's  ...  Film-Noir  Horror  \\\n",
              "266       0          0          0           0  ...          0       0   \n",
              "\n",
              "     Musical  Mystery  Romance  Sci-Fi  Thriller  War  Western  year  \n",
              "266        0        0        0       0         0    0        0   NaN  \n",
              "\n",
              "[1 rows x 25 columns]"
            ],
            "text/html": [
              "\n",
              "  <div id=\"df-b866633e-dd2d-4700-898a-99358ba88fde\">\n",
              "    <div class=\"colab-df-container\">\n",
              "      <div>\n",
              "<style scoped>\n",
              "    .dataframe tbody tr th:only-of-type {\n",
              "        vertical-align: middle;\n",
              "    }\n",
              "\n",
              "    .dataframe tbody tr th {\n",
              "        vertical-align: top;\n",
              "    }\n",
              "\n",
              "    .dataframe thead th {\n",
              "        text-align: right;\n",
              "    }\n",
              "</style>\n",
              "<table border=\"1\" class=\"dataframe\">\n",
              "  <thead>\n",
              "    <tr style=\"text-align: right;\">\n",
              "      <th></th>\n",
              "      <th>movie id</th>\n",
              "      <th>movie title</th>\n",
              "      <th>release date</th>\n",
              "      <th>video release date</th>\n",
              "      <th>IMDb URL</th>\n",
              "      <th>unknown</th>\n",
              "      <th>Action</th>\n",
              "      <th>Adventure</th>\n",
              "      <th>Animation</th>\n",
              "      <th>Children's</th>\n",
              "      <th>...</th>\n",
              "      <th>Film-Noir</th>\n",
              "      <th>Horror</th>\n",
              "      <th>Musical</th>\n",
              "      <th>Mystery</th>\n",
              "      <th>Romance</th>\n",
              "      <th>Sci-Fi</th>\n",
              "      <th>Thriller</th>\n",
              "      <th>War</th>\n",
              "      <th>Western</th>\n",
              "      <th>year</th>\n",
              "    </tr>\n",
              "  </thead>\n",
              "  <tbody>\n",
              "    <tr>\n",
              "      <th>266</th>\n",
              "      <td>267</td>\n",
              "      <td>unknown</td>\n",
              "      <td>NaN</td>\n",
              "      <td>NaN</td>\n",
              "      <td>NaN</td>\n",
              "      <td>1</td>\n",
              "      <td>0</td>\n",
              "      <td>0</td>\n",
              "      <td>0</td>\n",
              "      <td>0</td>\n",
              "      <td>...</td>\n",
              "      <td>0</td>\n",
              "      <td>0</td>\n",
              "      <td>0</td>\n",
              "      <td>0</td>\n",
              "      <td>0</td>\n",
              "      <td>0</td>\n",
              "      <td>0</td>\n",
              "      <td>0</td>\n",
              "      <td>0</td>\n",
              "      <td>NaN</td>\n",
              "    </tr>\n",
              "  </tbody>\n",
              "</table>\n",
              "<p>1 rows × 25 columns</p>\n",
              "</div>\n",
              "      <button class=\"colab-df-convert\" onclick=\"convertToInteractive('df-b866633e-dd2d-4700-898a-99358ba88fde')\"\n",
              "              title=\"Convert this dataframe to an interactive table.\"\n",
              "              style=\"display:none;\">\n",
              "        \n",
              "  <svg xmlns=\"http://www.w3.org/2000/svg\" height=\"24px\"viewBox=\"0 0 24 24\"\n",
              "       width=\"24px\">\n",
              "    <path d=\"M0 0h24v24H0V0z\" fill=\"none\"/>\n",
              "    <path d=\"M18.56 5.44l.94 2.06.94-2.06 2.06-.94-2.06-.94-.94-2.06-.94 2.06-2.06.94zm-11 1L8.5 8.5l.94-2.06 2.06-.94-2.06-.94L8.5 2.5l-.94 2.06-2.06.94zm10 10l.94 2.06.94-2.06 2.06-.94-2.06-.94-.94-2.06-.94 2.06-2.06.94z\"/><path d=\"M17.41 7.96l-1.37-1.37c-.4-.4-.92-.59-1.43-.59-.52 0-1.04.2-1.43.59L10.3 9.45l-7.72 7.72c-.78.78-.78 2.05 0 2.83L4 21.41c.39.39.9.59 1.41.59.51 0 1.02-.2 1.41-.59l7.78-7.78 2.81-2.81c.8-.78.8-2.07 0-2.86zM5.41 20L4 18.59l7.72-7.72 1.47 1.35L5.41 20z\"/>\n",
              "  </svg>\n",
              "      </button>\n",
              "      \n",
              "  <style>\n",
              "    .colab-df-container {\n",
              "      display:flex;\n",
              "      flex-wrap:wrap;\n",
              "      gap: 12px;\n",
              "    }\n",
              "\n",
              "    .colab-df-convert {\n",
              "      background-color: #E8F0FE;\n",
              "      border: none;\n",
              "      border-radius: 50%;\n",
              "      cursor: pointer;\n",
              "      display: none;\n",
              "      fill: #1967D2;\n",
              "      height: 32px;\n",
              "      padding: 0 0 0 0;\n",
              "      width: 32px;\n",
              "    }\n",
              "\n",
              "    .colab-df-convert:hover {\n",
              "      background-color: #E2EBFA;\n",
              "      box-shadow: 0px 1px 2px rgba(60, 64, 67, 0.3), 0px 1px 3px 1px rgba(60, 64, 67, 0.15);\n",
              "      fill: #174EA6;\n",
              "    }\n",
              "\n",
              "    [theme=dark] .colab-df-convert {\n",
              "      background-color: #3B4455;\n",
              "      fill: #D2E3FC;\n",
              "    }\n",
              "\n",
              "    [theme=dark] .colab-df-convert:hover {\n",
              "      background-color: #434B5C;\n",
              "      box-shadow: 0px 1px 3px 1px rgba(0, 0, 0, 0.15);\n",
              "      filter: drop-shadow(0px 1px 2px rgba(0, 0, 0, 0.3));\n",
              "      fill: #FFFFFF;\n",
              "    }\n",
              "  </style>\n",
              "\n",
              "      <script>\n",
              "        const buttonEl =\n",
              "          document.querySelector('#df-b866633e-dd2d-4700-898a-99358ba88fde button.colab-df-convert');\n",
              "        buttonEl.style.display =\n",
              "          google.colab.kernel.accessAllowed ? 'block' : 'none';\n",
              "\n",
              "        async function convertToInteractive(key) {\n",
              "          const element = document.querySelector('#df-b866633e-dd2d-4700-898a-99358ba88fde');\n",
              "          const dataTable =\n",
              "            await google.colab.kernel.invokeFunction('convertToInteractive',\n",
              "                                                     [key], {});\n",
              "          if (!dataTable) return;\n",
              "\n",
              "          const docLinkHtml = 'Like what you see? Visit the ' +\n",
              "            '<a target=\"_blank\" href=https://colab.research.google.com/notebooks/data_table.ipynb>data table notebook</a>'\n",
              "            + ' to learn more about interactive tables.';\n",
              "          element.innerHTML = '';\n",
              "          dataTable['output_type'] = 'display_data';\n",
              "          await google.colab.output.renderOutput(dataTable, element);\n",
              "          const docLink = document.createElement('div');\n",
              "          docLink.innerHTML = docLinkHtml;\n",
              "          element.appendChild(docLink);\n",
              "        }\n",
              "      </script>\n",
              "    </div>\n",
              "  </div>\n",
              "  "
            ]
          },
          "metadata": {},
          "execution_count": 684
        },
        {
          "output_type": "stream",
          "name": "stdout",
          "text": [
            "time: 16.4 ms (started: 2022-11-21 08:13:36 +00:00)\n"
          ]
        }
      ]
    },
    {
      "cell_type": "markdown",
      "source": [
        "rating_df에서 movie_id 267을 찾아보니 10개 정도 있다. 그냥 drop하면 안된다. \n",
        "최소 값으로 채워 넣자."
      ],
      "metadata": {
        "id": "HXjmyYIZQ48N"
      }
    },
    {
      "cell_type": "code",
      "source": [
        "item_df.loc[item_df['year'].isnull(), 'year'] = item_df['year'].min()"
      ],
      "metadata": {
        "id": "s-EzWOy7P2OT",
        "colab": {
          "base_uri": "https://localhost:8080/"
        },
        "outputId": "15449238-7f1c-4501-9e24-4b1958666227"
      },
      "execution_count": 685,
      "outputs": [
        {
          "output_type": "stream",
          "name": "stdout",
          "text": [
            "time: 1.8 ms (started: 2022-11-21 08:13:36 +00:00)\n"
          ]
        }
      ]
    },
    {
      "cell_type": "code",
      "source": [
        "print(item_df.loc[266])"
      ],
      "metadata": {
        "colab": {
          "base_uri": "https://localhost:8080/"
        },
        "id": "aBTneuvNP2LI",
        "outputId": "f8d99a97-d892-4c5b-ec44-f0b31e4885c0"
      },
      "execution_count": 686,
      "outputs": [
        {
          "output_type": "stream",
          "name": "stdout",
          "text": [
            "movie id                  267\n",
            "movie title           unknown\n",
            "release date              NaN\n",
            "video release date        NaN\n",
            "IMDb URL                  NaN\n",
            "unknown                     1\n",
            "Action                      0\n",
            "Adventure                   0\n",
            "Animation                   0\n",
            "Children's                  0\n",
            "Comedy                      0\n",
            "Crime                       0\n",
            "Documentary                 0\n",
            "Drama                       0\n",
            "Fantasy                     0\n",
            "Film-Noir                   0\n",
            "Horror                      0\n",
            "Musical                     0\n",
            "Mystery                     0\n",
            "Romance                     0\n",
            "Sci-Fi                      0\n",
            "Thriller                    0\n",
            "War                         0\n",
            "Western                     0\n",
            "year                   1922.0\n",
            "Name: 266, dtype: object\n",
            "time: 1.93 ms (started: 2022-11-21 08:13:36 +00:00)\n"
          ]
        }
      ]
    },
    {
      "cell_type": "code",
      "source": [
        "item_df.head()"
      ],
      "metadata": {
        "colab": {
          "base_uri": "https://localhost:8080/",
          "height": 474
        },
        "id": "YEpIX1Yo5YrR",
        "outputId": "84c70932-7295-4bb7-e61e-d3566056a3f2"
      },
      "execution_count": 687,
      "outputs": [
        {
          "output_type": "execute_result",
          "data": {
            "text/plain": [
              "   movie id        movie title release date  video release date  \\\n",
              "0         1   Toy Story (1995)  01-Jan-1995                 NaN   \n",
              "1         2   GoldenEye (1995)  01-Jan-1995                 NaN   \n",
              "2         3  Four Rooms (1995)  01-Jan-1995                 NaN   \n",
              "3         4  Get Shorty (1995)  01-Jan-1995                 NaN   \n",
              "4         5     Copycat (1995)  01-Jan-1995                 NaN   \n",
              "\n",
              "                                            IMDb URL  unknown  Action  \\\n",
              "0  http://us.imdb.com/M/title-exact?Toy%20Story%2...        0       0   \n",
              "1  http://us.imdb.com/M/title-exact?GoldenEye%20(...        0       1   \n",
              "2  http://us.imdb.com/M/title-exact?Four%20Rooms%...        0       0   \n",
              "3  http://us.imdb.com/M/title-exact?Get%20Shorty%...        0       1   \n",
              "4  http://us.imdb.com/M/title-exact?Copycat%20(1995)        0       0   \n",
              "\n",
              "   Adventure  Animation  Children's  ...  Film-Noir  Horror  Musical  Mystery  \\\n",
              "0          0          1           1  ...          0       0        0        0   \n",
              "1          1          0           0  ...          0       0        0        0   \n",
              "2          0          0           0  ...          0       0        0        0   \n",
              "3          0          0           0  ...          0       0        0        0   \n",
              "4          0          0           0  ...          0       0        0        0   \n",
              "\n",
              "   Romance  Sci-Fi  Thriller  War  Western    year  \n",
              "0        0       0         0    0        0  1995.0  \n",
              "1        0       0         1    0        0  1995.0  \n",
              "2        0       0         1    0        0  1995.0  \n",
              "3        0       0         0    0        0  1995.0  \n",
              "4        0       0         1    0        0  1995.0  \n",
              "\n",
              "[5 rows x 25 columns]"
            ],
            "text/html": [
              "\n",
              "  <div id=\"df-0da12bec-c9a5-416a-a75a-79dea611ec4f\">\n",
              "    <div class=\"colab-df-container\">\n",
              "      <div>\n",
              "<style scoped>\n",
              "    .dataframe tbody tr th:only-of-type {\n",
              "        vertical-align: middle;\n",
              "    }\n",
              "\n",
              "    .dataframe tbody tr th {\n",
              "        vertical-align: top;\n",
              "    }\n",
              "\n",
              "    .dataframe thead th {\n",
              "        text-align: right;\n",
              "    }\n",
              "</style>\n",
              "<table border=\"1\" class=\"dataframe\">\n",
              "  <thead>\n",
              "    <tr style=\"text-align: right;\">\n",
              "      <th></th>\n",
              "      <th>movie id</th>\n",
              "      <th>movie title</th>\n",
              "      <th>release date</th>\n",
              "      <th>video release date</th>\n",
              "      <th>IMDb URL</th>\n",
              "      <th>unknown</th>\n",
              "      <th>Action</th>\n",
              "      <th>Adventure</th>\n",
              "      <th>Animation</th>\n",
              "      <th>Children's</th>\n",
              "      <th>...</th>\n",
              "      <th>Film-Noir</th>\n",
              "      <th>Horror</th>\n",
              "      <th>Musical</th>\n",
              "      <th>Mystery</th>\n",
              "      <th>Romance</th>\n",
              "      <th>Sci-Fi</th>\n",
              "      <th>Thriller</th>\n",
              "      <th>War</th>\n",
              "      <th>Western</th>\n",
              "      <th>year</th>\n",
              "    </tr>\n",
              "  </thead>\n",
              "  <tbody>\n",
              "    <tr>\n",
              "      <th>0</th>\n",
              "      <td>1</td>\n",
              "      <td>Toy Story (1995)</td>\n",
              "      <td>01-Jan-1995</td>\n",
              "      <td>NaN</td>\n",
              "      <td>http://us.imdb.com/M/title-exact?Toy%20Story%2...</td>\n",
              "      <td>0</td>\n",
              "      <td>0</td>\n",
              "      <td>0</td>\n",
              "      <td>1</td>\n",
              "      <td>1</td>\n",
              "      <td>...</td>\n",
              "      <td>0</td>\n",
              "      <td>0</td>\n",
              "      <td>0</td>\n",
              "      <td>0</td>\n",
              "      <td>0</td>\n",
              "      <td>0</td>\n",
              "      <td>0</td>\n",
              "      <td>0</td>\n",
              "      <td>0</td>\n",
              "      <td>1995.0</td>\n",
              "    </tr>\n",
              "    <tr>\n",
              "      <th>1</th>\n",
              "      <td>2</td>\n",
              "      <td>GoldenEye (1995)</td>\n",
              "      <td>01-Jan-1995</td>\n",
              "      <td>NaN</td>\n",
              "      <td>http://us.imdb.com/M/title-exact?GoldenEye%20(...</td>\n",
              "      <td>0</td>\n",
              "      <td>1</td>\n",
              "      <td>1</td>\n",
              "      <td>0</td>\n",
              "      <td>0</td>\n",
              "      <td>...</td>\n",
              "      <td>0</td>\n",
              "      <td>0</td>\n",
              "      <td>0</td>\n",
              "      <td>0</td>\n",
              "      <td>0</td>\n",
              "      <td>0</td>\n",
              "      <td>1</td>\n",
              "      <td>0</td>\n",
              "      <td>0</td>\n",
              "      <td>1995.0</td>\n",
              "    </tr>\n",
              "    <tr>\n",
              "      <th>2</th>\n",
              "      <td>3</td>\n",
              "      <td>Four Rooms (1995)</td>\n",
              "      <td>01-Jan-1995</td>\n",
              "      <td>NaN</td>\n",
              "      <td>http://us.imdb.com/M/title-exact?Four%20Rooms%...</td>\n",
              "      <td>0</td>\n",
              "      <td>0</td>\n",
              "      <td>0</td>\n",
              "      <td>0</td>\n",
              "      <td>0</td>\n",
              "      <td>...</td>\n",
              "      <td>0</td>\n",
              "      <td>0</td>\n",
              "      <td>0</td>\n",
              "      <td>0</td>\n",
              "      <td>0</td>\n",
              "      <td>0</td>\n",
              "      <td>1</td>\n",
              "      <td>0</td>\n",
              "      <td>0</td>\n",
              "      <td>1995.0</td>\n",
              "    </tr>\n",
              "    <tr>\n",
              "      <th>3</th>\n",
              "      <td>4</td>\n",
              "      <td>Get Shorty (1995)</td>\n",
              "      <td>01-Jan-1995</td>\n",
              "      <td>NaN</td>\n",
              "      <td>http://us.imdb.com/M/title-exact?Get%20Shorty%...</td>\n",
              "      <td>0</td>\n",
              "      <td>1</td>\n",
              "      <td>0</td>\n",
              "      <td>0</td>\n",
              "      <td>0</td>\n",
              "      <td>...</td>\n",
              "      <td>0</td>\n",
              "      <td>0</td>\n",
              "      <td>0</td>\n",
              "      <td>0</td>\n",
              "      <td>0</td>\n",
              "      <td>0</td>\n",
              "      <td>0</td>\n",
              "      <td>0</td>\n",
              "      <td>0</td>\n",
              "      <td>1995.0</td>\n",
              "    </tr>\n",
              "    <tr>\n",
              "      <th>4</th>\n",
              "      <td>5</td>\n",
              "      <td>Copycat (1995)</td>\n",
              "      <td>01-Jan-1995</td>\n",
              "      <td>NaN</td>\n",
              "      <td>http://us.imdb.com/M/title-exact?Copycat%20(1995)</td>\n",
              "      <td>0</td>\n",
              "      <td>0</td>\n",
              "      <td>0</td>\n",
              "      <td>0</td>\n",
              "      <td>0</td>\n",
              "      <td>...</td>\n",
              "      <td>0</td>\n",
              "      <td>0</td>\n",
              "      <td>0</td>\n",
              "      <td>0</td>\n",
              "      <td>0</td>\n",
              "      <td>0</td>\n",
              "      <td>1</td>\n",
              "      <td>0</td>\n",
              "      <td>0</td>\n",
              "      <td>1995.0</td>\n",
              "    </tr>\n",
              "  </tbody>\n",
              "</table>\n",
              "<p>5 rows × 25 columns</p>\n",
              "</div>\n",
              "      <button class=\"colab-df-convert\" onclick=\"convertToInteractive('df-0da12bec-c9a5-416a-a75a-79dea611ec4f')\"\n",
              "              title=\"Convert this dataframe to an interactive table.\"\n",
              "              style=\"display:none;\">\n",
              "        \n",
              "  <svg xmlns=\"http://www.w3.org/2000/svg\" height=\"24px\"viewBox=\"0 0 24 24\"\n",
              "       width=\"24px\">\n",
              "    <path d=\"M0 0h24v24H0V0z\" fill=\"none\"/>\n",
              "    <path d=\"M18.56 5.44l.94 2.06.94-2.06 2.06-.94-2.06-.94-.94-2.06-.94 2.06-2.06.94zm-11 1L8.5 8.5l.94-2.06 2.06-.94-2.06-.94L8.5 2.5l-.94 2.06-2.06.94zm10 10l.94 2.06.94-2.06 2.06-.94-2.06-.94-.94-2.06-.94 2.06-2.06.94z\"/><path d=\"M17.41 7.96l-1.37-1.37c-.4-.4-.92-.59-1.43-.59-.52 0-1.04.2-1.43.59L10.3 9.45l-7.72 7.72c-.78.78-.78 2.05 0 2.83L4 21.41c.39.39.9.59 1.41.59.51 0 1.02-.2 1.41-.59l7.78-7.78 2.81-2.81c.8-.78.8-2.07 0-2.86zM5.41 20L4 18.59l7.72-7.72 1.47 1.35L5.41 20z\"/>\n",
              "  </svg>\n",
              "      </button>\n",
              "      \n",
              "  <style>\n",
              "    .colab-df-container {\n",
              "      display:flex;\n",
              "      flex-wrap:wrap;\n",
              "      gap: 12px;\n",
              "    }\n",
              "\n",
              "    .colab-df-convert {\n",
              "      background-color: #E8F0FE;\n",
              "      border: none;\n",
              "      border-radius: 50%;\n",
              "      cursor: pointer;\n",
              "      display: none;\n",
              "      fill: #1967D2;\n",
              "      height: 32px;\n",
              "      padding: 0 0 0 0;\n",
              "      width: 32px;\n",
              "    }\n",
              "\n",
              "    .colab-df-convert:hover {\n",
              "      background-color: #E2EBFA;\n",
              "      box-shadow: 0px 1px 2px rgba(60, 64, 67, 0.3), 0px 1px 3px 1px rgba(60, 64, 67, 0.15);\n",
              "      fill: #174EA6;\n",
              "    }\n",
              "\n",
              "    [theme=dark] .colab-df-convert {\n",
              "      background-color: #3B4455;\n",
              "      fill: #D2E3FC;\n",
              "    }\n",
              "\n",
              "    [theme=dark] .colab-df-convert:hover {\n",
              "      background-color: #434B5C;\n",
              "      box-shadow: 0px 1px 3px 1px rgba(0, 0, 0, 0.15);\n",
              "      filter: drop-shadow(0px 1px 2px rgba(0, 0, 0, 0.3));\n",
              "      fill: #FFFFFF;\n",
              "    }\n",
              "  </style>\n",
              "\n",
              "      <script>\n",
              "        const buttonEl =\n",
              "          document.querySelector('#df-0da12bec-c9a5-416a-a75a-79dea611ec4f button.colab-df-convert');\n",
              "        buttonEl.style.display =\n",
              "          google.colab.kernel.accessAllowed ? 'block' : 'none';\n",
              "\n",
              "        async function convertToInteractive(key) {\n",
              "          const element = document.querySelector('#df-0da12bec-c9a5-416a-a75a-79dea611ec4f');\n",
              "          const dataTable =\n",
              "            await google.colab.kernel.invokeFunction('convertToInteractive',\n",
              "                                                     [key], {});\n",
              "          if (!dataTable) return;\n",
              "\n",
              "          const docLinkHtml = 'Like what you see? Visit the ' +\n",
              "            '<a target=\"_blank\" href=https://colab.research.google.com/notebooks/data_table.ipynb>data table notebook</a>'\n",
              "            + ' to learn more about interactive tables.';\n",
              "          element.innerHTML = '';\n",
              "          dataTable['output_type'] = 'display_data';\n",
              "          await google.colab.output.renderOutput(dataTable, element);\n",
              "          const docLink = document.createElement('div');\n",
              "          docLink.innerHTML = docLinkHtml;\n",
              "          element.appendChild(docLink);\n",
              "        }\n",
              "      </script>\n",
              "    </div>\n",
              "  </div>\n",
              "  "
            ]
          },
          "metadata": {},
          "execution_count": 687
        },
        {
          "output_type": "stream",
          "name": "stdout",
          "text": [
            "time: 15.8 ms (started: 2022-11-21 08:13:36 +00:00)\n"
          ]
        }
      ]
    },
    {
      "cell_type": "code",
      "source": [
        "plt.hist(item_df['year'], bins=100)\n",
        "plt.show()"
      ],
      "metadata": {
        "colab": {
          "base_uri": "https://localhost:8080/",
          "height": 283
        },
        "id": "2MhtAa6xgjXr",
        "outputId": "e2d0cebd-4f65-4a85-c347-319c30c46a61"
      },
      "execution_count": 688,
      "outputs": [
        {
          "output_type": "display_data",
          "data": {
            "text/plain": [
              "<Figure size 432x288 with 1 Axes>"
            ],
            "image/png": "[encoded data removed]"
          },
          "metadata": {
            "needs_background": "light"
          }
        },
        {
          "output_type": "stream",
          "name": "stdout",
          "text": [
            "time: 296 ms (started: 2022-11-21 08:13:36 +00:00)\n"
          ]
        }
      ]
    },
    {
      "cell_type": "code",
      "source": [
        "MIN_YEAR = 1970"
      ],
      "metadata": {
        "colab": {
          "base_uri": "https://localhost:8080/"
        },
        "id": "EGxrJyKig92h",
        "outputId": "d804017d-13a8-472e-deba-d261ab2f4a08"
      },
      "execution_count": 689,
      "outputs": [
        {
          "output_type": "stream",
          "name": "stdout",
          "text": [
            "time: 485 µs (started: 2022-11-21 08:13:36 +00:00)\n"
          ]
        }
      ]
    },
    {
      "cell_type": "code",
      "source": [
        "item_df.loc[item_df['year']<MIN_YEAR, 'year'] = MIN_YEAR"
      ],
      "metadata": {
        "colab": {
          "base_uri": "https://localhost:8080/"
        },
        "id": "_WDulQ2XhItS",
        "outputId": "5399fc72-1199-430c-89fe-abf3a986a334"
      },
      "execution_count": 690,
      "outputs": [
        {
          "output_type": "stream",
          "name": "stdout",
          "text": [
            "time: 1.65 ms (started: 2022-11-21 08:13:36 +00:00)\n"
          ]
        }
      ]
    },
    {
      "cell_type": "code",
      "source": [
        "item_df['year'].value_counts()"
      ],
      "metadata": {
        "colab": {
          "base_uri": "https://localhost:8080/"
        },
        "id": "zGQyyES6h26Q",
        "outputId": "d9642693-45d1-4223-bf32-6fb8879dd55a"
      },
      "execution_count": 691,
      "outputs": [
        {
          "output_type": "execute_result",
          "data": {
            "text/plain": [
              "1996.0    355\n",
              "1997.0    286\n",
              "1995.0    219\n",
              "1994.0    214\n",
              "1970.0    177\n",
              "1993.0    126\n",
              "1998.0     65\n",
              "1992.0     37\n",
              "1990.0     24\n",
              "1991.0     22\n",
              "1989.0     15\n",
              "1986.0     15\n",
              "1987.0     13\n",
              "1982.0     13\n",
              "1981.0     12\n",
              "1988.0     11\n",
              "1979.0      9\n",
              "1974.0      8\n",
              "1980.0      8\n",
              "1984.0      8\n",
              "1971.0      7\n",
              "1985.0      7\n",
              "1975.0      6\n",
              "1983.0      5\n",
              "1976.0      5\n",
              "1973.0      4\n",
              "1977.0      4\n",
              "1978.0      4\n",
              "1972.0      3\n",
              "Name: year, dtype: int64"
            ]
          },
          "metadata": {},
          "execution_count": 691
        },
        {
          "output_type": "stream",
          "name": "stdout",
          "text": [
            "time: 5.31 ms (started: 2022-11-21 08:13:36 +00:00)\n"
          ]
        }
      ]
    },
    {
      "cell_type": "code",
      "source": [
        "plt.hist(item_df['year'], bins=20)\n",
        "plt.show()"
      ],
      "metadata": {
        "colab": {
          "base_uri": "https://localhost:8080/",
          "height": 283
        },
        "id": "nb4AG6i_hRIJ",
        "outputId": "024d7e1f-f1cb-448d-c727-564bac1cd53b"
      },
      "execution_count": 692,
      "outputs": [
        {
          "output_type": "display_data",
          "data": {
            "text/plain": [
              "<Figure size 432x288 with 1 Axes>"
            ],
            "image/png": "[encoded data removed]"
          },
          "metadata": {
            "needs_background": "light"
          }
        },
        {
          "output_type": "stream",
          "name": "stdout",
          "text": [
            "time: 153 ms (started: 2022-11-21 08:13:36 +00:00)\n"
          ]
        }
      ]
    },
    {
      "cell_type": "code",
      "source": [
        "item_df.drop(columns=['movie title', 'release date', 'video release date', 'IMDb URL'], inplace=True)\n",
        "item_df.head()"
      ],
      "metadata": {
        "colab": {
          "base_uri": "https://localhost:8080/",
          "height": 335
        },
        "id": "TshgkfdhYZ6e",
        "outputId": "865ababd-c994-40eb-9af7-fc69816a2b18"
      },
      "execution_count": 693,
      "outputs": [
        {
          "output_type": "execute_result",
          "data": {
            "text/plain": [
              "   movie id  unknown  Action  Adventure  Animation  Children's  Comedy  Crime  \\\n",
              "0         1        0       0          0          1           1       1      0   \n",
              "1         2        0       1          1          0           0       0      0   \n",
              "2         3        0       0          0          0           0       0      0   \n",
              "3         4        0       1          0          0           0       1      0   \n",
              "4         5        0       0          0          0           0       0      1   \n",
              "\n",
              "   Documentary  Drama  ...  Film-Noir  Horror  Musical  Mystery  Romance  \\\n",
              "0            0      0  ...          0       0        0        0        0   \n",
              "1            0      0  ...          0       0        0        0        0   \n",
              "2            0      0  ...          0       0        0        0        0   \n",
              "3            0      1  ...          0       0        0        0        0   \n",
              "4            0      1  ...          0       0        0        0        0   \n",
              "\n",
              "   Sci-Fi  Thriller  War  Western    year  \n",
              "0       0         0    0        0  1995.0  \n",
              "1       0         1    0        0  1995.0  \n",
              "2       0         1    0        0  1995.0  \n",
              "3       0         0    0        0  1995.0  \n",
              "4       0         1    0        0  1995.0  \n",
              "\n",
              "[5 rows x 21 columns]"
            ],
            "text/html": [
              "\n",
              "  <div id=\"df-efd40348-099a-4f35-90f3-835f3876d7d5\">\n",
              "    <div class=\"colab-df-container\">\n",
              "      <div>\n",
              "<style scoped>\n",
              "    .dataframe tbody tr th:only-of-type {\n",
              "        vertical-align: middle;\n",
              "    }\n",
              "\n",
              "    .dataframe tbody tr th {\n",
              "        vertical-align: top;\n",
              "    }\n",
              "\n",
              "    .dataframe thead th {\n",
              "        text-align: right;\n",
              "    }\n",
              "</style>\n",
              "<table border=\"1\" class=\"dataframe\">\n",
              "  <thead>\n",
              "    <tr style=\"text-align: right;\">\n",
              "      <th></th>\n",
              "      <th>movie id</th>\n",
              "      <th>unknown</th>\n",
              "      <th>Action</th>\n",
              "      <th>Adventure</th>\n",
              "      <th>Animation</th>\n",
              "      <th>Children's</th>\n",
              "      <th>Comedy</th>\n",
              "      <th>Crime</th>\n",
              "      <th>Documentary</th>\n",
              "      <th>Drama</th>\n",
              "      <th>...</th>\n",
              "      <th>Film-Noir</th>\n",
              "      <th>Horror</th>\n",
              "      <th>Musical</th>\n",
              "      <th>Mystery</th>\n",
              "      <th>Romance</th>\n",
              "      <th>Sci-Fi</th>\n",
              "      <th>Thriller</th>\n",
              "      <th>War</th>\n",
              "      <th>Western</th>\n",
              "      <th>year</th>\n",
              "    </tr>\n",
              "  </thead>\n",
              "  <tbody>\n",
              "    <tr>\n",
              "      <th>0</th>\n",
              "      <td>1</td>\n",
              "      <td>0</td>\n",
              "      <td>0</td>\n",
              "      <td>0</td>\n",
              "      <td>1</td>\n",
              "      <td>1</td>\n",
              "      <td>1</td>\n",
              "      <td>0</td>\n",
              "      <td>0</td>\n",
              "      <td>0</td>\n",
              "      <td>...</td>\n",
              "      <td>0</td>\n",
              "      <td>0</td>\n",
              "      <td>0</td>\n",
              "      <td>0</td>\n",
              "      <td>0</td>\n",
              "      <td>0</td>\n",
              "      <td>0</td>\n",
              "      <td>0</td>\n",
              "      <td>0</td>\n",
              "      <td>1995.0</td>\n",
              "    </tr>\n",
              "    <tr>\n",
              "      <th>1</th>\n",
              "      <td>2</td>\n",
              "      <td>0</td>\n",
              "      <td>1</td>\n",
              "      <td>1</td>\n",
              "      <td>0</td>\n",
              "      <td>0</td>\n",
              "      <td>0</td>\n",
              "      <td>0</td>\n",
              "      <td>0</td>\n",
              "      <td>0</td>\n",
              "      <td>...</td>\n",
              "      <td>0</td>\n",
              "      <td>0</td>\n",
              "      <td>0</td>\n",
              "      <td>0</td>\n",
              "      <td>0</td>\n",
              "      <td>0</td>\n",
              "      <td>1</td>\n",
              "      <td>0</td>\n",
              "      <td>0</td>\n",
              "      <td>1995.0</td>\n",
              "    </tr>\n",
              "    <tr>\n",
              "      <th>2</th>\n",
              "      <td>3</td>\n",
              "      <td>0</td>\n",
              "      <td>0</td>\n",
              "      <td>0</td>\n",
              "      <td>0</td>\n",
              "      <td>0</td>\n",
              "      <td>0</td>\n",
              "      <td>0</td>\n",
              "      <td>0</td>\n",
              "      <td>0</td>\n",
              "      <td>...</td>\n",
              "      <td>0</td>\n",
              "      <td>0</td>\n",
              "      <td>0</td>\n",
              "      <td>0</td>\n",
              "      <td>0</td>\n",
              "      <td>0</td>\n",
              "      <td>1</td>\n",
              "      <td>0</td>\n",
              "      <td>0</td>\n",
              "      <td>1995.0</td>\n",
              "    </tr>\n",
              "    <tr>\n",
              "      <th>3</th>\n",
              "      <td>4</td>\n",
              "      <td>0</td>\n",
              "      <td>1</td>\n",
              "      <td>0</td>\n",
              "      <td>0</td>\n",
              "      <td>0</td>\n",
              "      <td>1</td>\n",
              "      <td>0</td>\n",
              "      <td>0</td>\n",
              "      <td>1</td>\n",
              "      <td>...</td>\n",
              "      <td>0</td>\n",
              "      <td>0</td>\n",
              "      <td>0</td>\n",
              "      <td>0</td>\n",
              "      <td>0</td>\n",
              "      <td>0</td>\n",
              "      <td>0</td>\n",
              "      <td>0</td>\n",
              "      <td>0</td>\n",
              "      <td>1995.0</td>\n",
              "    </tr>\n",
              "    <tr>\n",
              "      <th>4</th>\n",
              "      <td>5</td>\n",
              "      <td>0</td>\n",
              "      <td>0</td>\n",
              "      <td>0</td>\n",
              "      <td>0</td>\n",
              "      <td>0</td>\n",
              "      <td>0</td>\n",
              "      <td>1</td>\n",
              "      <td>0</td>\n",
              "      <td>1</td>\n",
              "      <td>...</td>\n",
              "      <td>0</td>\n",
              "      <td>0</td>\n",
              "      <td>0</td>\n",
              "      <td>0</td>\n",
              "      <td>0</td>\n",
              "      <td>0</td>\n",
              "      <td>1</td>\n",
              "      <td>0</td>\n",
              "      <td>0</td>\n",
              "      <td>1995.0</td>\n",
              "    </tr>\n",
              "  </tbody>\n",
              "</table>\n",
              "<p>5 rows × 21 columns</p>\n",
              "</div>\n",
              "      <button class=\"colab-df-convert\" onclick=\"convertToInteractive('df-efd40348-099a-4f35-90f3-835f3876d7d5')\"\n",
              "              title=\"Convert this dataframe to an interactive table.\"\n",
              "              style=\"display:none;\">\n",
              "        \n",
              "  <svg xmlns=\"http://www.w3.org/2000/svg\" height=\"24px\"viewBox=\"0 0 24 24\"\n",
              "       width=\"24px\">\n",
              "    <path d=\"M0 0h24v24H0V0z\" fill=\"none\"/>\n",
              "    <path d=\"M18.56 5.44l.94 2.06.94-2.06 2.06-.94-2.06-.94-.94-2.06-.94 2.06-2.06.94zm-11 1L8.5 8.5l.94-2.06 2.06-.94-2.06-.94L8.5 2.5l-.94 2.06-2.06.94zm10 10l.94 2.06.94-2.06 2.06-.94-2.06-.94-.94-2.06-.94 2.06-2.06.94z\"/><path d=\"M17.41 7.96l-1.37-1.37c-.4-.4-.92-.59-1.43-.59-.52 0-1.04.2-1.43.59L10.3 9.45l-7.72 7.72c-.78.78-.78 2.05 0 2.83L4 21.41c.39.39.9.59 1.41.59.51 0 1.02-.2 1.41-.59l7.78-7.78 2.81-2.81c.8-.78.8-2.07 0-2.86zM5.41 20L4 18.59l7.72-7.72 1.47 1.35L5.41 20z\"/>\n",
              "  </svg>\n",
              "      </button>\n",
              "      \n",
              "  <style>\n",
              "    .colab-df-container {\n",
              "      display:flex;\n",
              "      flex-wrap:wrap;\n",
              "      gap: 12px;\n",
              "    }\n",
              "\n",
              "    .colab-df-convert {\n",
              "      background-color: #E8F0FE;\n",
              "      border: none;\n",
              "      border-radius: 50%;\n",
              "      cursor: pointer;\n",
              "      display: none;\n",
              "      fill: #1967D2;\n",
              "      height: 32px;\n",
              "      padding: 0 0 0 0;\n",
              "      width: 32px;\n",
              "    }\n",
              "\n",
              "    .colab-df-convert:hover {\n",
              "      background-color: #E2EBFA;\n",
              "      box-shadow: 0px 1px 2px rgba(60, 64, 67, 0.3), 0px 1px 3px 1px rgba(60, 64, 67, 0.15);\n",
              "      fill: #174EA6;\n",
              "    }\n",
              "\n",
              "    [theme=dark] .colab-df-convert {\n",
              "      background-color: #3B4455;\n",
              "      fill: #D2E3FC;\n",
              "    }\n",
              "\n",
              "    [theme=dark] .colab-df-convert:hover {\n",
              "      background-color: #434B5C;\n",
              "      box-shadow: 0px 1px 3px 1px rgba(0, 0, 0, 0.15);\n",
              "      filter: drop-shadow(0px 1px 2px rgba(0, 0, 0, 0.3));\n",
              "      fill: #FFFFFF;\n",
              "    }\n",
              "  </style>\n",
              "\n",
              "      <script>\n",
              "        const buttonEl =\n",
              "          document.querySelector('#df-efd40348-099a-4f35-90f3-835f3876d7d5 button.colab-df-convert');\n",
              "        buttonEl.style.display =\n",
              "          google.colab.kernel.accessAllowed ? 'block' : 'none';\n",
              "\n",
              "        async function convertToInteractive(key) {\n",
              "          const element = document.querySelector('#df-efd40348-099a-4f35-90f3-835f3876d7d5');\n",
              "          const dataTable =\n",
              "            await google.colab.kernel.invokeFunction('convertToInteractive',\n",
              "                                                     [key], {});\n",
              "          if (!dataTable) return;\n",
              "\n",
              "          const docLinkHtml = 'Like what you see? Visit the ' +\n",
              "            '<a target=\"_blank\" href=https://colab.research.google.com/notebooks/data_table.ipynb>data table notebook</a>'\n",
              "            + ' to learn more about interactive tables.';\n",
              "          element.innerHTML = '';\n",
              "          dataTable['output_type'] = 'display_data';\n",
              "          await google.colab.output.renderOutput(dataTable, element);\n",
              "          const docLink = document.createElement('div');\n",
              "          docLink.innerHTML = docLinkHtml;\n",
              "          element.appendChild(docLink);\n",
              "        }\n",
              "      </script>\n",
              "    </div>\n",
              "  </div>\n",
              "  "
            ]
          },
          "metadata": {},
          "execution_count": 693
        },
        {
          "output_type": "stream",
          "name": "stdout",
          "text": [
            "time: 14 ms (started: 2022-11-21 08:13:37 +00:00)\n"
          ]
        }
      ]
    },
    {
      "cell_type": "code",
      "source": [
        "for column in [\"year\"]:\n",
        "    MIN = item_df[column].min()\n",
        "    MAX = item_df[column].max()\n",
        "    print(f\"MIN={MIN}, MAX={MAX}\")\n",
        "    item_df[column] = (item_df[column] - MIN) / (MAX - MIN)\n",
        "item_df.head()"
      ],
      "metadata": {
        "colab": {
          "base_uri": "https://localhost:8080/",
          "height": 353
        },
        "id": "q4FB87946tjf",
        "outputId": "73161118-bc2b-4be6-ff09-1e3768d4c9bd"
      },
      "execution_count": 694,
      "outputs": [
        {
          "output_type": "stream",
          "name": "stdout",
          "text": [
            "MIN=1970.0, MAX=1998.0\n"
          ]
        },
        {
          "output_type": "execute_result",
          "data": {
            "text/plain": [
              "   movie id  unknown  Action  Adventure  Animation  Children's  Comedy  Crime  \\\n",
              "0         1        0       0          0          1           1       1      0   \n",
              "1         2        0       1          1          0           0       0      0   \n",
              "2         3        0       0          0          0           0       0      0   \n",
              "3         4        0       1          0          0           0       1      0   \n",
              "4         5        0       0          0          0           0       0      1   \n",
              "\n",
              "   Documentary  Drama  ...  Film-Noir  Horror  Musical  Mystery  Romance  \\\n",
              "0            0      0  ...          0       0        0        0        0   \n",
              "1            0      0  ...          0       0        0        0        0   \n",
              "2            0      0  ...          0       0        0        0        0   \n",
              "3            0      1  ...          0       0        0        0        0   \n",
              "4            0      1  ...          0       0        0        0        0   \n",
              "\n",
              "   Sci-Fi  Thriller  War  Western      year  \n",
              "0       0         0    0        0  0.892857  \n",
              "1       0         1    0        0  0.892857  \n",
              "2       0         1    0        0  0.892857  \n",
              "3       0         0    0        0  0.892857  \n",
              "4       0         1    0        0  0.892857  \n",
              "\n",
              "[5 rows x 21 columns]"
            ],
            "text/html": [
              "\n",
              "  <div id=\"df-61cc6bbc-d8fa-4397-9af0-8f4b50f44df2\">\n",
              "    <div class=\"colab-df-container\">\n",
              "      <div>\n",
              "<style scoped>\n",
              "    .dataframe tbody tr th:only-of-type {\n",
              "        vertical-align: middle;\n",
              "    }\n",
              "\n",
              "    .dataframe tbody tr th {\n",
              "        vertical-align: top;\n",
              "    }\n",
              "\n",
              "    .dataframe thead th {\n",
              "        text-align: right;\n",
              "    }\n",
              "</style>\n",
              "<table border=\"1\" class=\"dataframe\">\n",
              "  <thead>\n",
              "    <tr style=\"text-align: right;\">\n",
              "      <th></th>\n",
              "      <th>movie id</th>\n",
              "      <th>unknown</th>\n",
              "      <th>Action</th>\n",
              "      <th>Adventure</th>\n",
              "      <th>Animation</th>\n",
              "      <th>Children's</th>\n",
              "      <th>Comedy</th>\n",
              "      <th>Crime</th>\n",
              "      <th>Documentary</th>\n",
              "      <th>Drama</th>\n",
              "      <th>...</th>\n",
              "      <th>Film-Noir</th>\n",
              "      <th>Horror</th>\n",
              "      <th>Musical</th>\n",
              "      <th>Mystery</th>\n",
              "      <th>Romance</th>\n",
              "      <th>Sci-Fi</th>\n",
              "      <th>Thriller</th>\n",
              "      <th>War</th>\n",
              "      <th>Western</th>\n",
              "      <th>year</th>\n",
              "    </tr>\n",
              "  </thead>\n",
              "  <tbody>\n",
              "    <tr>\n",
              "      <th>0</th>\n",
              "      <td>1</td>\n",
              "      <td>0</td>\n",
              "      <td>0</td>\n",
              "      <td>0</td>\n",
              "      <td>1</td>\n",
              "      <td>1</td>\n",
              "      <td>1</td>\n",
              "      <td>0</td>\n",
              "      <td>0</td>\n",
              "      <td>0</td>\n",
              "      <td>...</td>\n",
              "      <td>0</td>\n",
              "      <td>0</td>\n",
              "      <td>0</td>\n",
              "      <td>0</td>\n",
              "      <td>0</td>\n",
              "      <td>0</td>\n",
              "      <td>0</td>\n",
              "      <td>0</td>\n",
              "      <td>0</td>\n",
              "      <td>0.892857</td>\n",
              "    </tr>\n",
              "    <tr>\n",
              "      <th>1</th>\n",
              "      <td>2</td>\n",
              "      <td>0</td>\n",
              "      <td>1</td>\n",
              "      <td>1</td>\n",
              "      <td>0</td>\n",
              "      <td>0</td>\n",
              "      <td>0</td>\n",
              "      <td>0</td>\n",
              "      <td>0</td>\n",
              "      <td>0</td>\n",
              "      <td>...</td>\n",
              "      <td>0</td>\n",
              "      <td>0</td>\n",
              "      <td>0</td>\n",
              "      <td>0</td>\n",
              "      <td>0</td>\n",
              "      <td>0</td>\n",
              "      <td>1</td>\n",
              "      <td>0</td>\n",
              "      <td>0</td>\n",
              "      <td>0.892857</td>\n",
              "    </tr>\n",
              "    <tr>\n",
              "      <th>2</th>\n",
              "      <td>3</td>\n",
              "      <td>0</td>\n",
              "      <td>0</td>\n",
              "      <td>0</td>\n",
              "      <td>0</td>\n",
              "      <td>0</td>\n",
              "      <td>0</td>\n",
              "      <td>0</td>\n",
              "      <td>0</td>\n",
              "      <td>0</td>\n",
              "      <td>...</td>\n",
              "      <td>0</td>\n",
              "      <td>0</td>\n",
              "      <td>0</td>\n",
              "      <td>0</td>\n",
              "      <td>0</td>\n",
              "      <td>0</td>\n",
              "      <td>1</td>\n",
              "      <td>0</td>\n",
              "      <td>0</td>\n",
              "      <td>0.892857</td>\n",
              "    </tr>\n",
              "    <tr>\n",
              "      <th>3</th>\n",
              "      <td>4</td>\n",
              "      <td>0</td>\n",
              "      <td>1</td>\n",
              "      <td>0</td>\n",
              "      <td>0</td>\n",
              "      <td>0</td>\n",
              "      <td>1</td>\n",
              "      <td>0</td>\n",
              "      <td>0</td>\n",
              "      <td>1</td>\n",
              "      <td>...</td>\n",
              "      <td>0</td>\n",
              "      <td>0</td>\n",
              "      <td>0</td>\n",
              "      <td>0</td>\n",
              "      <td>0</td>\n",
              "      <td>0</td>\n",
              "      <td>0</td>\n",
              "      <td>0</td>\n",
              "      <td>0</td>\n",
              "      <td>0.892857</td>\n",
              "    </tr>\n",
              "    <tr>\n",
              "      <th>4</th>\n",
              "      <td>5</td>\n",
              "      <td>0</td>\n",
              "      <td>0</td>\n",
              "      <td>0</td>\n",
              "      <td>0</td>\n",
              "      <td>0</td>\n",
              "      <td>0</td>\n",
              "      <td>1</td>\n",
              "      <td>0</td>\n",
              "      <td>1</td>\n",
              "      <td>...</td>\n",
              "      <td>0</td>\n",
              "      <td>0</td>\n",
              "      <td>0</td>\n",
              "      <td>0</td>\n",
              "      <td>0</td>\n",
              "      <td>0</td>\n",
              "      <td>1</td>\n",
              "      <td>0</td>\n",
              "      <td>0</td>\n",
              "      <td>0.892857</td>\n",
              "    </tr>\n",
              "  </tbody>\n",
              "</table>\n",
              "<p>5 rows × 21 columns</p>\n",
              "</div>\n",
              "      <button class=\"colab-df-convert\" onclick=\"convertToInteractive('df-61cc6bbc-d8fa-4397-9af0-8f4b50f44df2')\"\n",
              "              title=\"Convert this dataframe to an interactive table.\"\n",
              "              style=\"display:none;\">\n",
              "        \n",
              "  <svg xmlns=\"http://www.w3.org/2000/svg\" height=\"24px\"viewBox=\"0 0 24 24\"\n",
              "       width=\"24px\">\n",
              "    <path d=\"M0 0h24v24H0V0z\" fill=\"none\"/>\n",
              "    <path d=\"M18.56 5.44l.94 2.06.94-2.06 2.06-.94-2.06-.94-.94-2.06-.94 2.06-2.06.94zm-11 1L8.5 8.5l.94-2.06 2.06-.94-2.06-.94L8.5 2.5l-.94 2.06-2.06.94zm10 10l.94 2.06.94-2.06 2.06-.94-2.06-.94-.94-2.06-.94 2.06-2.06.94z\"/><path d=\"M17.41 7.96l-1.37-1.37c-.4-.4-.92-.59-1.43-.59-.52 0-1.04.2-1.43.59L10.3 9.45l-7.72 7.72c-.78.78-.78 2.05 0 2.83L4 21.41c.39.39.9.59 1.41.59.51 0 1.02-.2 1.41-.59l7.78-7.78 2.81-2.81c.8-.78.8-2.07 0-2.86zM5.41 20L4 18.59l7.72-7.72 1.47 1.35L5.41 20z\"/>\n",
              "  </svg>\n",
              "      </button>\n",
              "      \n",
              "  <style>\n",
              "    .colab-df-container {\n",
              "      display:flex;\n",
              "      flex-wrap:wrap;\n",
              "      gap: 12px;\n",
              "    }\n",
              "\n",
              "    .colab-df-convert {\n",
              "      background-color: #E8F0FE;\n",
              "      border: none;\n",
              "      border-radius: 50%;\n",
              "      cursor: pointer;\n",
              "      display: none;\n",
              "      fill: #1967D2;\n",
              "      height: 32px;\n",
              "      padding: 0 0 0 0;\n",
              "      width: 32px;\n",
              "    }\n",
              "\n",
              "    .colab-df-convert:hover {\n",
              "      background-color: #E2EBFA;\n",
              "      box-shadow: 0px 1px 2px rgba(60, 64, 67, 0.3), 0px 1px 3px 1px rgba(60, 64, 67, 0.15);\n",
              "      fill: #174EA6;\n",
              "    }\n",
              "\n",
              "    [theme=dark] .colab-df-convert {\n",
              "      background-color: #3B4455;\n",
              "      fill: #D2E3FC;\n",
              "    }\n",
              "\n",
              "    [theme=dark] .colab-df-convert:hover {\n",
              "      background-color: #434B5C;\n",
              "      box-shadow: 0px 1px 3px 1px rgba(0, 0, 0, 0.15);\n",
              "      filter: drop-shadow(0px 1px 2px rgba(0, 0, 0, 0.3));\n",
              "      fill: #FFFFFF;\n",
              "    }\n",
              "  </style>\n",
              "\n",
              "      <script>\n",
              "        const buttonEl =\n",
              "          document.querySelector('#df-61cc6bbc-d8fa-4397-9af0-8f4b50f44df2 button.colab-df-convert');\n",
              "        buttonEl.style.display =\n",
              "          google.colab.kernel.accessAllowed ? 'block' : 'none';\n",
              "\n",
              "        async function convertToInteractive(key) {\n",
              "          const element = document.querySelector('#df-61cc6bbc-d8fa-4397-9af0-8f4b50f44df2');\n",
              "          const dataTable =\n",
              "            await google.colab.kernel.invokeFunction('convertToInteractive',\n",
              "                                                     [key], {});\n",
              "          if (!dataTable) return;\n",
              "\n",
              "          const docLinkHtml = 'Like what you see? Visit the ' +\n",
              "            '<a target=\"_blank\" href=https://colab.research.google.com/notebooks/data_table.ipynb>data table notebook</a>'\n",
              "            + ' to learn more about interactive tables.';\n",
              "          element.innerHTML = '';\n",
              "          dataTable['output_type'] = 'display_data';\n",
              "          await google.colab.output.renderOutput(dataTable, element);\n",
              "          const docLink = document.createElement('div');\n",
              "          docLink.innerHTML = docLinkHtml;\n",
              "          element.appendChild(docLink);\n",
              "        }\n",
              "      </script>\n",
              "    </div>\n",
              "  </div>\n",
              "  "
            ]
          },
          "metadata": {},
          "execution_count": 694
        },
        {
          "output_type": "stream",
          "name": "stdout",
          "text": [
            "time: 16.9 ms (started: 2022-11-21 08:13:37 +00:00)\n"
          ]
        }
      ]
    },
    {
      "cell_type": "code",
      "source": [
        "item_df.info()"
      ],
      "metadata": {
        "colab": {
          "base_uri": "https://localhost:8080/"
        },
        "id": "iuQ_1jXsYxU_",
        "outputId": "b1057dc0-658b-49b3-c78e-57e69e82220f"
      },
      "execution_count": 695,
      "outputs": [
        {
          "output_type": "stream",
          "name": "stdout",
          "text": [
            "<class 'pandas.core.frame.DataFrame'>\n",
            "RangeIndex: 1682 entries, 0 to 1681\n",
            "Data columns (total 21 columns):\n",
            " #   Column       Non-Null Count  Dtype  \n",
            "---  ------       --------------  -----  \n",
            " 0   movie id     1682 non-null   int64  \n",
            " 1   unknown      1682 non-null   int64  \n",
            " 2   Action       1682 non-null   int64  \n",
            " 3   Adventure    1682 non-null   int64  \n",
            " 4   Animation    1682 non-null   int64  \n",
            " 5   Children's   1682 non-null   int64  \n",
            " 6   Comedy       1682 non-null   int64  \n",
            " 7   Crime        1682 non-null   int64  \n",
            " 8   Documentary  1682 non-null   int64  \n",
            " 9   Drama        1682 non-null   int64  \n",
            " 10  Fantasy      1682 non-null   int64  \n",
            " 11  Film-Noir    1682 non-null   int64  \n",
            " 12  Horror       1682 non-null   int64  \n",
            " 13  Musical      1682 non-null   int64  \n",
            " 14  Mystery      1682 non-null   int64  \n",
            " 15  Romance      1682 non-null   int64  \n",
            " 16  Sci-Fi       1682 non-null   int64  \n",
            " 17  Thriller     1682 non-null   int64  \n",
            " 18  War          1682 non-null   int64  \n",
            " 19  Western      1682 non-null   int64  \n",
            " 20  year         1682 non-null   float64\n",
            "dtypes: float64(1), int64(20)\n",
            "memory usage: 276.1 KB\n",
            "time: 7.87 ms (started: 2022-11-21 08:13:37 +00:00)\n"
          ]
        }
      ]
    },
    {
      "cell_type": "code",
      "source": [],
      "metadata": {
        "id": "bY8nE1SlYxGk",
        "colab": {
          "base_uri": "https://localhost:8080/"
        },
        "outputId": "207296f2-20c6-49fa-83df-a6f7e125b39e"
      },
      "execution_count": 695,
      "outputs": [
        {
          "output_type": "stream",
          "name": "stdout",
          "text": [
            "time: 14.9 ms (started: 2022-11-21 08:13:37 +00:00)\n"
          ]
        }
      ]
    },
    {
      "cell_type": "markdown",
      "source": [
        "## rating"
      ],
      "metadata": {
        "id": "bhs2QelHigfA"
      }
    },
    {
      "cell_type": "code",
      "source": [
        "rating_column_names = ['user_id', 'movie_id', 'rating', 'unix_timestamp']\n",
        "\n",
        "rating_base_df = pd.read_csv('ml-100k/ua.base', sep='\\t', names=rating_column_names, encoding='latin-1')\n",
        "rating_test_df = pd.read_csv('ml-100k/ua.test', sep='\\t', names=rating_column_names, encoding='latin-1')\n"
      ],
      "metadata": {
        "id": "gHpQbEXPVX4d",
        "colab": {
          "base_uri": "https://localhost:8080/"
        },
        "outputId": "ea31a43d-cc08-4c40-bb5d-73b357f3de59"
      },
      "execution_count": 696,
      "outputs": [
        {
          "output_type": "stream",
          "name": "stdout",
          "text": [
            "time: 33.9 ms (started: 2022-11-21 08:13:37 +00:00)\n"
          ]
        }
      ]
    },
    {
      "cell_type": "code",
      "source": [
        "rating_base_df.head()"
      ],
      "metadata": {
        "colab": {
          "base_uri": "https://localhost:8080/",
          "height": 224
        },
        "id": "4OLM-kOjnXzk",
        "outputId": "8e6c2285-b290-423c-e11c-f6049e84d85f"
      },
      "execution_count": 697,
      "outputs": [
        {
          "output_type": "execute_result",
          "data": {
            "text/plain": [
              "   user_id  movie_id  rating  unix_timestamp\n",
              "0        1         1       5       874965758\n",
              "1        1         2       3       876893171\n",
              "2        1         3       4       878542960\n",
              "3        1         4       3       876893119\n",
              "4        1         5       3       889751712"
            ],
            "text/html": [
              "\n",
              "  <div id=\"df-e8738389-1e1c-44fc-8abe-0fce26c5f66d\">\n",
              "    <div class=\"colab-df-container\">\n",
              "      <div>\n",
              "<style scoped>\n",
              "    .dataframe tbody tr th:only-of-type {\n",
              "        vertical-align: middle;\n",
              "    }\n",
              "\n",
              "    .dataframe tbody tr th {\n",
              "        vertical-align: top;\n",
              "    }\n",
              "\n",
              "    .dataframe thead th {\n",
              "        text-align: right;\n",
              "    }\n",
              "</style>\n",
              "<table border=\"1\" class=\"dataframe\">\n",
              "  <thead>\n",
              "    <tr style=\"text-align: right;\">\n",
              "      <th></th>\n",
              "      <th>user_id</th>\n",
              "      <th>movie_id</th>\n",
              "      <th>rating</th>\n",
              "      <th>unix_timestamp</th>\n",
              "    </tr>\n",
              "  </thead>\n",
              "  <tbody>\n",
              "    <tr>\n",
              "      <th>0</th>\n",
              "      <td>1</td>\n",
              "      <td>1</td>\n",
              "      <td>5</td>\n",
              "      <td>874965758</td>\n",
              "    </tr>\n",
              "    <tr>\n",
              "      <th>1</th>\n",
              "      <td>1</td>\n",
              "      <td>2</td>\n",
              "      <td>3</td>\n",
              "      <td>876893171</td>\n",
              "    </tr>\n",
              "    <tr>\n",
              "      <th>2</th>\n",
              "      <td>1</td>\n",
              "      <td>3</td>\n",
              "      <td>4</td>\n",
              "      <td>878542960</td>\n",
              "    </tr>\n",
              "    <tr>\n",
              "      <th>3</th>\n",
              "      <td>1</td>\n",
              "      <td>4</td>\n",
              "      <td>3</td>\n",
              "      <td>876893119</td>\n",
              "    </tr>\n",
              "    <tr>\n",
              "      <th>4</th>\n",
              "      <td>1</td>\n",
              "      <td>5</td>\n",
              "      <td>3</td>\n",
              "      <td>889751712</td>\n",
              "    </tr>\n",
              "  </tbody>\n",
              "</table>\n",
              "</div>\n",
              "      <button class=\"colab-df-convert\" onclick=\"convertToInteractive('df-e8738389-1e1c-44fc-8abe-0fce26c5f66d')\"\n",
              "              title=\"Convert this dataframe to an interactive table.\"\n",
              "              style=\"display:none;\">\n",
              "        \n",
              "  <svg xmlns=\"http://www.w3.org/2000/svg\" height=\"24px\"viewBox=\"0 0 24 24\"\n",
              "       width=\"24px\">\n",
              "    <path d=\"M0 0h24v24H0V0z\" fill=\"none\"/>\n",
              "    <path d=\"M18.56 5.44l.94 2.06.94-2.06 2.06-.94-2.06-.94-.94-2.06-.94 2.06-2.06.94zm-11 1L8.5 8.5l.94-2.06 2.06-.94-2.06-.94L8.5 2.5l-.94 2.06-2.06.94zm10 10l.94 2.06.94-2.06 2.06-.94-2.06-.94-.94-2.06-.94 2.06-2.06.94z\"/><path d=\"M17.41 7.96l-1.37-1.37c-.4-.4-.92-.59-1.43-.59-.52 0-1.04.2-1.43.59L10.3 9.45l-7.72 7.72c-.78.78-.78 2.05 0 2.83L4 21.41c.39.39.9.59 1.41.59.51 0 1.02-.2 1.41-.59l7.78-7.78 2.81-2.81c.8-.78.8-2.07 0-2.86zM5.41 20L4 18.59l7.72-7.72 1.47 1.35L5.41 20z\"/>\n",
              "  </svg>\n",
              "      </button>\n",
              "      \n",
              "  <style>\n",
              "    .colab-df-container {\n",
              "      display:flex;\n",
              "      flex-wrap:wrap;\n",
              "      gap: 12px;\n",
              "    }\n",
              "\n",
              "    .colab-df-convert {\n",
              "      background-color: #E8F0FE;\n",
              "      border: none;\n",
              "      border-radius: 50%;\n",
              "      cursor: pointer;\n",
              "      display: none;\n",
              "      fill: #1967D2;\n",
              "      height: 32px;\n",
              "      padding: 0 0 0 0;\n",
              "      width: 32px;\n",
              "    }\n",
              "\n",
              "    .colab-df-convert:hover {\n",
              "      background-color: #E2EBFA;\n",
              "      box-shadow: 0px 1px 2px rgba(60, 64, 67, 0.3), 0px 1px 3px 1px rgba(60, 64, 67, 0.15);\n",
              "      fill: #174EA6;\n",
              "    }\n",
              "\n",
              "    [theme=dark] .colab-df-convert {\n",
              "      background-color: #3B4455;\n",
              "      fill: #D2E3FC;\n",
              "    }\n",
              "\n",
              "    [theme=dark] .colab-df-convert:hover {\n",
              "      background-color: #434B5C;\n",
              "      box-shadow: 0px 1px 3px 1px rgba(0, 0, 0, 0.15);\n",
              "      filter: drop-shadow(0px 1px 2px rgba(0, 0, 0, 0.3));\n",
              "      fill: #FFFFFF;\n",
              "    }\n",
              "  </style>\n",
              "\n",
              "      <script>\n",
              "        const buttonEl =\n",
              "          document.querySelector('#df-e8738389-1e1c-44fc-8abe-0fce26c5f66d button.colab-df-convert');\n",
              "        buttonEl.style.display =\n",
              "          google.colab.kernel.accessAllowed ? 'block' : 'none';\n",
              "\n",
              "        async function convertToInteractive(key) {\n",
              "          const element = document.querySelector('#df-e8738389-1e1c-44fc-8abe-0fce26c5f66d');\n",
              "          const dataTable =\n",
              "            await google.colab.kernel.invokeFunction('convertToInteractive',\n",
              "                                                     [key], {});\n",
              "          if (!dataTable) return;\n",
              "\n",
              "          const docLinkHtml = 'Like what you see? Visit the ' +\n",
              "            '<a target=\"_blank\" href=https://colab.research.google.com/notebooks/data_table.ipynb>data table notebook</a>'\n",
              "            + ' to learn more about interactive tables.';\n",
              "          element.innerHTML = '';\n",
              "          dataTable['output_type'] = 'display_data';\n",
              "          await google.colab.output.renderOutput(dataTable, element);\n",
              "          const docLink = document.createElement('div');\n",
              "          docLink.innerHTML = docLinkHtml;\n",
              "          element.appendChild(docLink);\n",
              "        }\n",
              "      </script>\n",
              "    </div>\n",
              "  </div>\n",
              "  "
            ]
          },
          "metadata": {},
          "execution_count": 697
        },
        {
          "output_type": "stream",
          "name": "stdout",
          "text": [
            "time: 6.78 ms (started: 2022-11-21 08:13:37 +00:00)\n"
          ]
        }
      ]
    },
    {
      "cell_type": "code",
      "source": [
        "rating_test_df.head()"
      ],
      "metadata": {
        "colab": {
          "base_uri": "https://localhost:8080/",
          "height": 224
        },
        "id": "qjFJo-LTnZUE",
        "outputId": "291d66fc-1aaf-4111-9bec-da13902e2c1b"
      },
      "execution_count": 698,
      "outputs": [
        {
          "output_type": "execute_result",
          "data": {
            "text/plain": [
              "   user_id  movie_id  rating  unix_timestamp\n",
              "0        1        20       4       887431883\n",
              "1        1        33       4       878542699\n",
              "2        1        61       4       878542420\n",
              "3        1       117       3       874965739\n",
              "4        1       155       2       878542201"
            ],
            "text/html": [
              "\n",
              "  <div id=\"df-2d07384a-2644-4248-acb8-71cc126f59cc\">\n",
              "    <div class=\"colab-df-container\">\n",
              "      <div>\n",
              "<style scoped>\n",
              "    .dataframe tbody tr th:only-of-type {\n",
              "        vertical-align: middle;\n",
              "    }\n",
              "\n",
              "    .dataframe tbody tr th {\n",
              "        vertical-align: top;\n",
              "    }\n",
              "\n",
              "    .dataframe thead th {\n",
              "        text-align: right;\n",
              "    }\n",
              "</style>\n",
              "<table border=\"1\" class=\"dataframe\">\n",
              "  <thead>\n",
              "    <tr style=\"text-align: right;\">\n",
              "      <th></th>\n",
              "      <th>user_id</th>\n",
              "      <th>movie_id</th>\n",
              "      <th>rating</th>\n",
              "      <th>unix_timestamp</th>\n",
              "    </tr>\n",
              "  </thead>\n",
              "  <tbody>\n",
              "    <tr>\n",
              "      <th>0</th>\n",
              "      <td>1</td>\n",
              "      <td>20</td>\n",
              "      <td>4</td>\n",
              "      <td>887431883</td>\n",
              "    </tr>\n",
              "    <tr>\n",
              "      <th>1</th>\n",
              "      <td>1</td>\n",
              "      <td>33</td>\n",
              "      <td>4</td>\n",
              "      <td>878542699</td>\n",
              "    </tr>\n",
              "    <tr>\n",
              "      <th>2</th>\n",
              "      <td>1</td>\n",
              "      <td>61</td>\n",
              "      <td>4</td>\n",
              "      <td>878542420</td>\n",
              "    </tr>\n",
              "    <tr>\n",
              "      <th>3</th>\n",
              "      <td>1</td>\n",
              "      <td>117</td>\n",
              "      <td>3</td>\n",
              "      <td>874965739</td>\n",
              "    </tr>\n",
              "    <tr>\n",
              "      <th>4</th>\n",
              "      <td>1</td>\n",
              "      <td>155</td>\n",
              "      <td>2</td>\n",
              "      <td>878542201</td>\n",
              "    </tr>\n",
              "  </tbody>\n",
              "</table>\n",
              "</div>\n",
              "      <button class=\"colab-df-convert\" onclick=\"convertToInteractive('df-2d07384a-2644-4248-acb8-71cc126f59cc')\"\n",
              "              title=\"Convert this dataframe to an interactive table.\"\n",
              "              style=\"display:none;\">\n",
              "        \n",
              "  <svg xmlns=\"http://www.w3.org/2000/svg\" height=\"24px\"viewBox=\"0 0 24 24\"\n",
              "       width=\"24px\">\n",
              "    <path d=\"M0 0h24v24H0V0z\" fill=\"none\"/>\n",
              "    <path d=\"M18.56 5.44l.94 2.06.94-2.06 2.06-.94-2.06-.94-.94-2.06-.94 2.06-2.06.94zm-11 1L8.5 8.5l.94-2.06 2.06-.94-2.06-.94L8.5 2.5l-.94 2.06-2.06.94zm10 10l.94 2.06.94-2.06 2.06-.94-2.06-.94-.94-2.06-.94 2.06-2.06.94z\"/><path d=\"M17.41 7.96l-1.37-1.37c-.4-.4-.92-.59-1.43-.59-.52 0-1.04.2-1.43.59L10.3 9.45l-7.72 7.72c-.78.78-.78 2.05 0 2.83L4 21.41c.39.39.9.59 1.41.59.51 0 1.02-.2 1.41-.59l7.78-7.78 2.81-2.81c.8-.78.8-2.07 0-2.86zM5.41 20L4 18.59l7.72-7.72 1.47 1.35L5.41 20z\"/>\n",
              "  </svg>\n",
              "      </button>\n",
              "      \n",
              "  <style>\n",
              "    .colab-df-container {\n",
              "      display:flex;\n",
              "      flex-wrap:wrap;\n",
              "      gap: 12px;\n",
              "    }\n",
              "\n",
              "    .colab-df-convert {\n",
              "      background-color: #E8F0FE;\n",
              "      border: none;\n",
              "      border-radius: 50%;\n",
              "      cursor: pointer;\n",
              "      display: none;\n",
              "      fill: #1967D2;\n",
              "      height: 32px;\n",
              "      padding: 0 0 0 0;\n",
              "      width: 32px;\n",
              "    }\n",
              "\n",
              "    .colab-df-convert:hover {\n",
              "      background-color: #E2EBFA;\n",
              "      box-shadow: 0px 1px 2px rgba(60, 64, 67, 0.3), 0px 1px 3px 1px rgba(60, 64, 67, 0.15);\n",
              "      fill: #174EA6;\n",
              "    }\n",
              "\n",
              "    [theme=dark] .colab-df-convert {\n",
              "      background-color: #3B4455;\n",
              "      fill: #D2E3FC;\n",
              "    }\n",
              "\n",
              "    [theme=dark] .colab-df-convert:hover {\n",
              "      background-color: #434B5C;\n",
              "      box-shadow: 0px 1px 3px 1px rgba(0, 0, 0, 0.15);\n",
              "      filter: drop-shadow(0px 1px 2px rgba(0, 0, 0, 0.3));\n",
              "      fill: #FFFFFF;\n",
              "    }\n",
              "  </style>\n",
              "\n",
              "      <script>\n",
              "        const buttonEl =\n",
              "          document.querySelector('#df-2d07384a-2644-4248-acb8-71cc126f59cc button.colab-df-convert');\n",
              "        buttonEl.style.display =\n",
              "          google.colab.kernel.accessAllowed ? 'block' : 'none';\n",
              "\n",
              "        async function convertToInteractive(key) {\n",
              "          const element = document.querySelector('#df-2d07384a-2644-4248-acb8-71cc126f59cc');\n",
              "          const dataTable =\n",
              "            await google.colab.kernel.invokeFunction('convertToInteractive',\n",
              "                                                     [key], {});\n",
              "          if (!dataTable) return;\n",
              "\n",
              "          const docLinkHtml = 'Like what you see? Visit the ' +\n",
              "            '<a target=\"_blank\" href=https://colab.research.google.com/notebooks/data_table.ipynb>data table notebook</a>'\n",
              "            + ' to learn more about interactive tables.';\n",
              "          element.innerHTML = '';\n",
              "          dataTable['output_type'] = 'display_data';\n",
              "          await google.colab.output.renderOutput(dataTable, element);\n",
              "          const docLink = document.createElement('div');\n",
              "          docLink.innerHTML = docLinkHtml;\n",
              "          element.appendChild(docLink);\n",
              "        }\n",
              "      </script>\n",
              "    </div>\n",
              "  </div>\n",
              "  "
            ]
          },
          "metadata": {},
          "execution_count": 698
        },
        {
          "output_type": "stream",
          "name": "stdout",
          "text": [
            "time: 6.15 ms (started: 2022-11-21 08:13:37 +00:00)\n"
          ]
        }
      ]
    },
    {
      "cell_type": "code",
      "source": [
        "rating_df = rating_base_df.append(rating_test_df)"
      ],
      "metadata": {
        "id": "d0CpJhupnN7q",
        "colab": {
          "base_uri": "https://localhost:8080/"
        },
        "outputId": "2b4eb749-5012-493d-d2e1-5f2fe6c66004"
      },
      "execution_count": 699,
      "outputs": [
        {
          "output_type": "stream",
          "name": "stdout",
          "text": [
            "time: 3.63 ms (started: 2022-11-21 08:13:37 +00:00)\n"
          ]
        }
      ]
    },
    {
      "cell_type": "code",
      "source": [
        "rating_df.head()"
      ],
      "metadata": {
        "colab": {
          "base_uri": "https://localhost:8080/",
          "height": 224
        },
        "id": "5PRVLGdwVX0s",
        "outputId": "6db80aed-4fc8-4117-986d-32fea9ec9508"
      },
      "execution_count": 700,
      "outputs": [
        {
          "output_type": "execute_result",
          "data": {
            "text/plain": [
              "   user_id  movie_id  rating  unix_timestamp\n",
              "0        1         1       5       874965758\n",
              "1        1         2       3       876893171\n",
              "2        1         3       4       878542960\n",
              "3        1         4       3       876893119\n",
              "4        1         5       3       889751712"
            ],
            "text/html": [
              "\n",
              "  <div id=\"df-44d3d714-afb7-48aa-b2b8-963845a1bb23\">\n",
              "    <div class=\"colab-df-container\">\n",
              "      <div>\n",
              "<style scoped>\n",
              "    .dataframe tbody tr th:only-of-type {\n",
              "        vertical-align: middle;\n",
              "    }\n",
              "\n",
              "    .dataframe tbody tr th {\n",
              "        vertical-align: top;\n",
              "    }\n",
              "\n",
              "    .dataframe thead th {\n",
              "        text-align: right;\n",
              "    }\n",
              "</style>\n",
              "<table border=\"1\" class=\"dataframe\">\n",
              "  <thead>\n",
              "    <tr style=\"text-align: right;\">\n",
              "      <th></th>\n",
              "      <th>user_id</th>\n",
              "      <th>movie_id</th>\n",
              "      <th>rating</th>\n",
              "      <th>unix_timestamp</th>\n",
              "    </tr>\n",
              "  </thead>\n",
              "  <tbody>\n",
              "    <tr>\n",
              "      <th>0</th>\n",
              "      <td>1</td>\n",
              "      <td>1</td>\n",
              "      <td>5</td>\n",
              "      <td>874965758</td>\n",
              "    </tr>\n",
              "    <tr>\n",
              "      <th>1</th>\n",
              "      <td>1</td>\n",
              "      <td>2</td>\n",
              "      <td>3</td>\n",
              "      <td>876893171</td>\n",
              "    </tr>\n",
              "    <tr>\n",
              "      <th>2</th>\n",
              "      <td>1</td>\n",
              "      <td>3</td>\n",
              "      <td>4</td>\n",
              "      <td>878542960</td>\n",
              "    </tr>\n",
              "    <tr>\n",
              "      <th>3</th>\n",
              "      <td>1</td>\n",
              "      <td>4</td>\n",
              "      <td>3</td>\n",
              "      <td>876893119</td>\n",
              "    </tr>\n",
              "    <tr>\n",
              "      <th>4</th>\n",
              "      <td>1</td>\n",
              "      <td>5</td>\n",
              "      <td>3</td>\n",
              "      <td>889751712</td>\n",
              "    </tr>\n",
              "  </tbody>\n",
              "</table>\n",
              "</div>\n",
              "      <button class=\"colab-df-convert\" onclick=\"convertToInteractive('df-44d3d714-afb7-48aa-b2b8-963845a1bb23')\"\n",
              "              title=\"Convert this dataframe to an interactive table.\"\n",
              "              style=\"display:none;\">\n",
              "        \n",
              "  <svg xmlns=\"http://www.w3.org/2000/svg\" height=\"24px\"viewBox=\"0 0 24 24\"\n",
              "       width=\"24px\">\n",
              "    <path d=\"M0 0h24v24H0V0z\" fill=\"none\"/>\n",
              "    <path d=\"M18.56 5.44l.94 2.06.94-2.06 2.06-.94-2.06-.94-.94-2.06-.94 2.06-2.06.94zm-11 1L8.5 8.5l.94-2.06 2.06-.94-2.06-.94L8.5 2.5l-.94 2.06-2.06.94zm10 10l.94 2.06.94-2.06 2.06-.94-2.06-.94-.94-2.06-.94 2.06-2.06.94z\"/><path d=\"M17.41 7.96l-1.37-1.37c-.4-.4-.92-.59-1.43-.59-.52 0-1.04.2-1.43.59L10.3 9.45l-7.72 7.72c-.78.78-.78 2.05 0 2.83L4 21.41c.39.39.9.59 1.41.59.51 0 1.02-.2 1.41-.59l7.78-7.78 2.81-2.81c.8-.78.8-2.07 0-2.86zM5.41 20L4 18.59l7.72-7.72 1.47 1.35L5.41 20z\"/>\n",
              "  </svg>\n",
              "      </button>\n",
              "      \n",
              "  <style>\n",
              "    .colab-df-container {\n",
              "      display:flex;\n",
              "      flex-wrap:wrap;\n",
              "      gap: 12px;\n",
              "    }\n",
              "\n",
              "    .colab-df-convert {\n",
              "      background-color: #E8F0FE;\n",
              "      border: none;\n",
              "      border-radius: 50%;\n",
              "      cursor: pointer;\n",
              "      display: none;\n",
              "      fill: #1967D2;\n",
              "      height: 32px;\n",
              "      padding: 0 0 0 0;\n",
              "      width: 32px;\n",
              "    }\n",
              "\n",
              "    .colab-df-convert:hover {\n",
              "      background-color: #E2EBFA;\n",
              "      box-shadow: 0px 1px 2px rgba(60, 64, 67, 0.3), 0px 1px 3px 1px rgba(60, 64, 67, 0.15);\n",
              "      fill: #174EA6;\n",
              "    }\n",
              "\n",
              "    [theme=dark] .colab-df-convert {\n",
              "      background-color: #3B4455;\n",
              "      fill: #D2E3FC;\n",
              "    }\n",
              "\n",
              "    [theme=dark] .colab-df-convert:hover {\n",
              "      background-color: #434B5C;\n",
              "      box-shadow: 0px 1px 3px 1px rgba(0, 0, 0, 0.15);\n",
              "      filter: drop-shadow(0px 1px 2px rgba(0, 0, 0, 0.3));\n",
              "      fill: #FFFFFF;\n",
              "    }\n",
              "  </style>\n",
              "\n",
              "      <script>\n",
              "        const buttonEl =\n",
              "          document.querySelector('#df-44d3d714-afb7-48aa-b2b8-963845a1bb23 button.colab-df-convert');\n",
              "        buttonEl.style.display =\n",
              "          google.colab.kernel.accessAllowed ? 'block' : 'none';\n",
              "\n",
              "        async function convertToInteractive(key) {\n",
              "          const element = document.querySelector('#df-44d3d714-afb7-48aa-b2b8-963845a1bb23');\n",
              "          const dataTable =\n",
              "            await google.colab.kernel.invokeFunction('convertToInteractive',\n",
              "                                                     [key], {});\n",
              "          if (!dataTable) return;\n",
              "\n",
              "          const docLinkHtml = 'Like what you see? Visit the ' +\n",
              "            '<a target=\"_blank\" href=https://colab.research.google.com/notebooks/data_table.ipynb>data table notebook</a>'\n",
              "            + ' to learn more about interactive tables.';\n",
              "          element.innerHTML = '';\n",
              "          dataTable['output_type'] = 'display_data';\n",
              "          await google.colab.output.renderOutput(dataTable, element);\n",
              "          const docLink = document.createElement('div');\n",
              "          docLink.innerHTML = docLinkHtml;\n",
              "          element.appendChild(docLink);\n",
              "        }\n",
              "      </script>\n",
              "    </div>\n",
              "  </div>\n",
              "  "
            ]
          },
          "metadata": {},
          "execution_count": 700
        },
        {
          "output_type": "stream",
          "name": "stdout",
          "text": [
            "time: 6.36 ms (started: 2022-11-21 08:13:37 +00:00)\n"
          ]
        }
      ]
    },
    {
      "cell_type": "code",
      "source": [],
      "metadata": {
        "id": "-opo4N47Qk_i",
        "colab": {
          "base_uri": "https://localhost:8080/"
        },
        "outputId": "c2eb404b-ea25-4b05-e780-8f1f83dd9dec"
      },
      "execution_count": 700,
      "outputs": [
        {
          "output_type": "stream",
          "name": "stdout",
          "text": [
            "time: 13.7 ms (started: 2022-11-21 08:13:37 +00:00)\n"
          ]
        }
      ]
    },
    {
      "cell_type": "code",
      "source": [
        "rating_df[rating_df['movie_id']==267]"
      ],
      "metadata": {
        "colab": {
          "base_uri": "https://localhost:8080/",
          "height": 349
        },
        "id": "9musKkWYQk8R",
        "outputId": "98403558-a62b-4229-c070-bc07e3c515d8"
      },
      "execution_count": 701,
      "outputs": [
        {
          "output_type": "execute_result",
          "data": {
            "text/plain": [
              "       user_id  movie_id  rating  unix_timestamp\n",
              "256          1       267       4       875692955\n",
              "445          5       267       4       875635064\n",
              "12227      130       267       5       875801239\n",
              "23647      268       267       3       875742077\n",
              "27988      297       267       3       875409139\n",
              "43231      422       267       4       875655986\n",
              "54139      532       267       3       875441348\n",
              "79838      833       267       1       875655669\n",
              "3180       319       267       4       875707690"
            ],
            "text/html": [
              "\n",
              "  <div id=\"df-2b672aa2-5c9b-4128-8129-ab5b79e127e3\">\n",
              "    <div class=\"colab-df-container\">\n",
              "      <div>\n",
              "<style scoped>\n",
              "    .dataframe tbody tr th:only-of-type {\n",
              "        vertical-align: middle;\n",
              "    }\n",
              "\n",
              "    .dataframe tbody tr th {\n",
              "        vertical-align: top;\n",
              "    }\n",
              "\n",
              "    .dataframe thead th {\n",
              "        text-align: right;\n",
              "    }\n",
              "</style>\n",
              "<table border=\"1\" class=\"dataframe\">\n",
              "  <thead>\n",
              "    <tr style=\"text-align: right;\">\n",
              "      <th></th>\n",
              "      <th>user_id</th>\n",
              "      <th>movie_id</th>\n",
              "      <th>rating</th>\n",
              "      <th>unix_timestamp</th>\n",
              "    </tr>\n",
              "  </thead>\n",
              "  <tbody>\n",
              "    <tr>\n",
              "      <th>256</th>\n",
              "      <td>1</td>\n",
              "      <td>267</td>\n",
              "      <td>4</td>\n",
              "      <td>875692955</td>\n",
              "    </tr>\n",
              "    <tr>\n",
              "      <th>445</th>\n",
              "      <td>5</td>\n",
              "      <td>267</td>\n",
              "      <td>4</td>\n",
              "      <td>875635064</td>\n",
              "    </tr>\n",
              "    <tr>\n",
              "      <th>12227</th>\n",
              "      <td>130</td>\n",
              "      <td>267</td>\n",
              "      <td>5</td>\n",
              "      <td>875801239</td>\n",
              "    </tr>\n",
              "    <tr>\n",
              "      <th>23647</th>\n",
              "      <td>268</td>\n",
              "      <td>267</td>\n",
              "      <td>3</td>\n",
              "      <td>875742077</td>\n",
              "    </tr>\n",
              "    <tr>\n",
              "      <th>27988</th>\n",
              "      <td>297</td>\n",
              "      <td>267</td>\n",
              "      <td>3</td>\n",
              "      <td>875409139</td>\n",
              "    </tr>\n",
              "    <tr>\n",
              "      <th>43231</th>\n",
              "      <td>422</td>\n",
              "      <td>267</td>\n",
              "      <td>4</td>\n",
              "      <td>875655986</td>\n",
              "    </tr>\n",
              "    <tr>\n",
              "      <th>54139</th>\n",
              "      <td>532</td>\n",
              "      <td>267</td>\n",
              "      <td>3</td>\n",
              "      <td>875441348</td>\n",
              "    </tr>\n",
              "    <tr>\n",
              "      <th>79838</th>\n",
              "      <td>833</td>\n",
              "      <td>267</td>\n",
              "      <td>1</td>\n",
              "      <td>875655669</td>\n",
              "    </tr>\n",
              "    <tr>\n",
              "      <th>3180</th>\n",
              "      <td>319</td>\n",
              "      <td>267</td>\n",
              "      <td>4</td>\n",
              "      <td>875707690</td>\n",
              "    </tr>\n",
              "  </tbody>\n",
              "</table>\n",
              "</div>\n",
              "      <button class=\"colab-df-convert\" onclick=\"convertToInteractive('df-2b672aa2-5c9b-4128-8129-ab5b79e127e3')\"\n",
              "              title=\"Convert this dataframe to an interactive table.\"\n",
              "              style=\"display:none;\">\n",
              "        \n",
              "  <svg xmlns=\"http://www.w3.org/2000/svg\" height=\"24px\"viewBox=\"0 0 24 24\"\n",
              "       width=\"24px\">\n",
              "    <path d=\"M0 0h24v24H0V0z\" fill=\"none\"/>\n",
              "    <path d=\"M18.56 5.44l.94 2.06.94-2.06 2.06-.94-2.06-.94-.94-2.06-.94 2.06-2.06.94zm-11 1L8.5 8.5l.94-2.06 2.06-.94-2.06-.94L8.5 2.5l-.94 2.06-2.06.94zm10 10l.94 2.06.94-2.06 2.06-.94-2.06-.94-.94-2.06-.94 2.06-2.06.94z\"/><path d=\"M17.41 7.96l-1.37-1.37c-.4-.4-.92-.59-1.43-.59-.52 0-1.04.2-1.43.59L10.3 9.45l-7.72 7.72c-.78.78-.78 2.05 0 2.83L4 21.41c.39.39.9.59 1.41.59.51 0 1.02-.2 1.41-.59l7.78-7.78 2.81-2.81c.8-.78.8-2.07 0-2.86zM5.41 20L4 18.59l7.72-7.72 1.47 1.35L5.41 20z\"/>\n",
              "  </svg>\n",
              "      </button>\n",
              "      \n",
              "  <style>\n",
              "    .colab-df-container {\n",
              "      display:flex;\n",
              "      flex-wrap:wrap;\n",
              "      gap: 12px;\n",
              "    }\n",
              "\n",
              "    .colab-df-convert {\n",
              "      background-color: #E8F0FE;\n",
              "      border: none;\n",
              "      border-radius: 50%;\n",
              "      cursor: pointer;\n",
              "      display: none;\n",
              "      fill: #1967D2;\n",
              "      height: 32px;\n",
              "      padding: 0 0 0 0;\n",
              "      width: 32px;\n",
              "    }\n",
              "\n",
              "    .colab-df-convert:hover {\n",
              "      background-color: #E2EBFA;\n",
              "      box-shadow: 0px 1px 2px rgba(60, 64, 67, 0.3), 0px 1px 3px 1px rgba(60, 64, 67, 0.15);\n",
              "      fill: #174EA6;\n",
              "    }\n",
              "\n",
              "    [theme=dark] .colab-df-convert {\n",
              "      background-color: #3B4455;\n",
              "      fill: #D2E3FC;\n",
              "    }\n",
              "\n",
              "    [theme=dark] .colab-df-convert:hover {\n",
              "      background-color: #434B5C;\n",
              "      box-shadow: 0px 1px 3px 1px rgba(0, 0, 0, 0.15);\n",
              "      filter: drop-shadow(0px 1px 2px rgba(0, 0, 0, 0.3));\n",
              "      fill: #FFFFFF;\n",
              "    }\n",
              "  </style>\n",
              "\n",
              "      <script>\n",
              "        const buttonEl =\n",
              "          document.querySelector('#df-2b672aa2-5c9b-4128-8129-ab5b79e127e3 button.colab-df-convert');\n",
              "        buttonEl.style.display =\n",
              "          google.colab.kernel.accessAllowed ? 'block' : 'none';\n",
              "\n",
              "        async function convertToInteractive(key) {\n",
              "          const element = document.querySelector('#df-2b672aa2-5c9b-4128-8129-ab5b79e127e3');\n",
              "          const dataTable =\n",
              "            await google.colab.kernel.invokeFunction('convertToInteractive',\n",
              "                                                     [key], {});\n",
              "          if (!dataTable) return;\n",
              "\n",
              "          const docLinkHtml = 'Like what you see? Visit the ' +\n",
              "            '<a target=\"_blank\" href=https://colab.research.google.com/notebooks/data_table.ipynb>data table notebook</a>'\n",
              "            + ' to learn more about interactive tables.';\n",
              "          element.innerHTML = '';\n",
              "          dataTable['output_type'] = 'display_data';\n",
              "          await google.colab.output.renderOutput(dataTable, element);\n",
              "          const docLink = document.createElement('div');\n",
              "          docLink.innerHTML = docLinkHtml;\n",
              "          element.appendChild(docLink);\n",
              "        }\n",
              "      </script>\n",
              "    </div>\n",
              "  </div>\n",
              "  "
            ]
          },
          "metadata": {},
          "execution_count": 701
        },
        {
          "output_type": "stream",
          "name": "stdout",
          "text": [
            "time: 7.74 ms (started: 2022-11-21 08:13:37 +00:00)\n"
          ]
        }
      ]
    },
    {
      "cell_type": "code",
      "source": [],
      "metadata": {
        "id": "l7S4vgAjQk4H",
        "colab": {
          "base_uri": "https://localhost:8080/"
        },
        "outputId": "a38f33ae-36b7-4a2e-9945-479c275c86ad"
      },
      "execution_count": 701,
      "outputs": [
        {
          "output_type": "stream",
          "name": "stdout",
          "text": [
            "time: 14.9 ms (started: 2022-11-21 08:13:37 +00:00)\n"
          ]
        }
      ]
    },
    {
      "cell_type": "code",
      "source": [],
      "metadata": {
        "id": "FNTbZ0FsQk1B",
        "colab": {
          "base_uri": "https://localhost:8080/"
        },
        "outputId": "705ba62a-c492-4257-c7e9-d6cd9494331e"
      },
      "execution_count": 701,
      "outputs": [
        {
          "output_type": "stream",
          "name": "stdout",
          "text": [
            "time: 21.3 ms (started: 2022-11-21 08:13:37 +00:00)\n"
          ]
        }
      ]
    },
    {
      "cell_type": "code",
      "source": [
        "rating_df.info()"
      ],
      "metadata": {
        "colab": {
          "base_uri": "https://localhost:8080/"
        },
        "id": "Ho_lg2jLVXxk",
        "outputId": "835e1d31-d06b-4179-d574-a73d7c19cf2e"
      },
      "execution_count": 702,
      "outputs": [
        {
          "output_type": "stream",
          "name": "stdout",
          "text": [
            "<class 'pandas.core.frame.DataFrame'>\n",
            "Int64Index: 100000 entries, 0 to 9429\n",
            "Data columns (total 4 columns):\n",
            " #   Column          Non-Null Count   Dtype\n",
            "---  ------          --------------   -----\n",
            " 0   user_id         100000 non-null  int64\n",
            " 1   movie_id        100000 non-null  int64\n",
            " 2   rating          100000 non-null  int64\n",
            " 3   unix_timestamp  100000 non-null  int64\n",
            "dtypes: int64(4)\n",
            "memory usage: 3.8 MB\n",
            "time: 6.76 ms (started: 2022-11-21 08:13:37 +00:00)\n"
          ]
        }
      ]
    },
    {
      "cell_type": "code",
      "source": [
        "rating_df.head()"
      ],
      "metadata": {
        "colab": {
          "base_uri": "https://localhost:8080/",
          "height": 224
        },
        "id": "WPzz6waXVXs0",
        "outputId": "1619d7a9-10eb-425a-e31e-007d5e440093"
      },
      "execution_count": 703,
      "outputs": [
        {
          "output_type": "execute_result",
          "data": {
            "text/plain": [
              "   user_id  movie_id  rating  unix_timestamp\n",
              "0        1         1       5       874965758\n",
              "1        1         2       3       876893171\n",
              "2        1         3       4       878542960\n",
              "3        1         4       3       876893119\n",
              "4        1         5       3       889751712"
            ],
            "text/html": [
              "\n",
              "  <div id=\"df-f5fc9282-f583-4178-b9f1-d46e6dd2411c\">\n",
              "    <div class=\"colab-df-container\">\n",
              "      <div>\n",
              "<style scoped>\n",
              "    .dataframe tbody tr th:only-of-type {\n",
              "        vertical-align: middle;\n",
              "    }\n",
              "\n",
              "    .dataframe tbody tr th {\n",
              "        vertical-align: top;\n",
              "    }\n",
              "\n",
              "    .dataframe thead th {\n",
              "        text-align: right;\n",
              "    }\n",
              "</style>\n",
              "<table border=\"1\" class=\"dataframe\">\n",
              "  <thead>\n",
              "    <tr style=\"text-align: right;\">\n",
              "      <th></th>\n",
              "      <th>user_id</th>\n",
              "      <th>movie_id</th>\n",
              "      <th>rating</th>\n",
              "      <th>unix_timestamp</th>\n",
              "    </tr>\n",
              "  </thead>\n",
              "  <tbody>\n",
              "    <tr>\n",
              "      <th>0</th>\n",
              "      <td>1</td>\n",
              "      <td>1</td>\n",
              "      <td>5</td>\n",
              "      <td>874965758</td>\n",
              "    </tr>\n",
              "    <tr>\n",
              "      <th>1</th>\n",
              "      <td>1</td>\n",
              "      <td>2</td>\n",
              "      <td>3</td>\n",
              "      <td>876893171</td>\n",
              "    </tr>\n",
              "    <tr>\n",
              "      <th>2</th>\n",
              "      <td>1</td>\n",
              "      <td>3</td>\n",
              "      <td>4</td>\n",
              "      <td>878542960</td>\n",
              "    </tr>\n",
              "    <tr>\n",
              "      <th>3</th>\n",
              "      <td>1</td>\n",
              "      <td>4</td>\n",
              "      <td>3</td>\n",
              "      <td>876893119</td>\n",
              "    </tr>\n",
              "    <tr>\n",
              "      <th>4</th>\n",
              "      <td>1</td>\n",
              "      <td>5</td>\n",
              "      <td>3</td>\n",
              "      <td>889751712</td>\n",
              "    </tr>\n",
              "  </tbody>\n",
              "</table>\n",
              "</div>\n",
              "      <button class=\"colab-df-convert\" onclick=\"convertToInteractive('df-f5fc9282-f583-4178-b9f1-d46e6dd2411c')\"\n",
              "              title=\"Convert this dataframe to an interactive table.\"\n",
              "              style=\"display:none;\">\n",
              "        \n",
              "  <svg xmlns=\"http://www.w3.org/2000/svg\" height=\"24px\"viewBox=\"0 0 24 24\"\n",
              "       width=\"24px\">\n",
              "    <path d=\"M0 0h24v24H0V0z\" fill=\"none\"/>\n",
              "    <path d=\"M18.56 5.44l.94 2.06.94-2.06 2.06-.94-2.06-.94-.94-2.06-.94 2.06-2.06.94zm-11 1L8.5 8.5l.94-2.06 2.06-.94-2.06-.94L8.5 2.5l-.94 2.06-2.06.94zm10 10l.94 2.06.94-2.06 2.06-.94-2.06-.94-.94-2.06-.94 2.06-2.06.94z\"/><path d=\"M17.41 7.96l-1.37-1.37c-.4-.4-.92-.59-1.43-.59-.52 0-1.04.2-1.43.59L10.3 9.45l-7.72 7.72c-.78.78-.78 2.05 0 2.83L4 21.41c.39.39.9.59 1.41.59.51 0 1.02-.2 1.41-.59l7.78-7.78 2.81-2.81c.8-.78.8-2.07 0-2.86zM5.41 20L4 18.59l7.72-7.72 1.47 1.35L5.41 20z\"/>\n",
              "  </svg>\n",
              "      </button>\n",
              "      \n",
              "  <style>\n",
              "    .colab-df-container {\n",
              "      display:flex;\n",
              "      flex-wrap:wrap;\n",
              "      gap: 12px;\n",
              "    }\n",
              "\n",
              "    .colab-df-convert {\n",
              "      background-color: #E8F0FE;\n",
              "      border: none;\n",
              "      border-radius: 50%;\n",
              "      cursor: pointer;\n",
              "      display: none;\n",
              "      fill: #1967D2;\n",
              "      height: 32px;\n",
              "      padding: 0 0 0 0;\n",
              "      width: 32px;\n",
              "    }\n",
              "\n",
              "    .colab-df-convert:hover {\n",
              "      background-color: #E2EBFA;\n",
              "      box-shadow: 0px 1px 2px rgba(60, 64, 67, 0.3), 0px 1px 3px 1px rgba(60, 64, 67, 0.15);\n",
              "      fill: #174EA6;\n",
              "    }\n",
              "\n",
              "    [theme=dark] .colab-df-convert {\n",
              "      background-color: #3B4455;\n",
              "      fill: #D2E3FC;\n",
              "    }\n",
              "\n",
              "    [theme=dark] .colab-df-convert:hover {\n",
              "      background-color: #434B5C;\n",
              "      box-shadow: 0px 1px 3px 1px rgba(0, 0, 0, 0.15);\n",
              "      filter: drop-shadow(0px 1px 2px rgba(0, 0, 0, 0.3));\n",
              "      fill: #FFFFFF;\n",
              "    }\n",
              "  </style>\n",
              "\n",
              "      <script>\n",
              "        const buttonEl =\n",
              "          document.querySelector('#df-f5fc9282-f583-4178-b9f1-d46e6dd2411c button.colab-df-convert');\n",
              "        buttonEl.style.display =\n",
              "          google.colab.kernel.accessAllowed ? 'block' : 'none';\n",
              "\n",
              "        async function convertToInteractive(key) {\n",
              "          const element = document.querySelector('#df-f5fc9282-f583-4178-b9f1-d46e6dd2411c');\n",
              "          const dataTable =\n",
              "            await google.colab.kernel.invokeFunction('convertToInteractive',\n",
              "                                                     [key], {});\n",
              "          if (!dataTable) return;\n",
              "\n",
              "          const docLinkHtml = 'Like what you see? Visit the ' +\n",
              "            '<a target=\"_blank\" href=https://colab.research.google.com/notebooks/data_table.ipynb>data table notebook</a>'\n",
              "            + ' to learn more about interactive tables.';\n",
              "          element.innerHTML = '';\n",
              "          dataTable['output_type'] = 'display_data';\n",
              "          await google.colab.output.renderOutput(dataTable, element);\n",
              "          const docLink = document.createElement('div');\n",
              "          docLink.innerHTML = docLinkHtml;\n",
              "          element.appendChild(docLink);\n",
              "        }\n",
              "      </script>\n",
              "    </div>\n",
              "  </div>\n",
              "  "
            ]
          },
          "metadata": {},
          "execution_count": 703
        },
        {
          "output_type": "stream",
          "name": "stdout",
          "text": [
            "time: 6.41 ms (started: 2022-11-21 08:13:37 +00:00)\n"
          ]
        }
      ]
    },
    {
      "cell_type": "code",
      "source": [
        "rating_df.drop(columns=\"unix_timestamp\", inplace=True)\n",
        "rating_df.head()"
      ],
      "metadata": {
        "colab": {
          "base_uri": "https://localhost:8080/",
          "height": 224
        },
        "id": "l4-IgG6LWqFE",
        "outputId": "0cce9ebc-8504-4acf-9526-369ce8ed6f47"
      },
      "execution_count": 704,
      "outputs": [
        {
          "output_type": "execute_result",
          "data": {
            "text/plain": [
              "   user_id  movie_id  rating\n",
              "0        1         1       5\n",
              "1        1         2       3\n",
              "2        1         3       4\n",
              "3        1         4       3\n",
              "4        1         5       3"
            ],
            "text/html": [
              "\n",
              "  <div id=\"df-6f5d1f3d-4333-4ac1-9bb0-eacf6c9cbe43\">\n",
              "    <div class=\"colab-df-container\">\n",
              "      <div>\n",
              "<style scoped>\n",
              "    .dataframe tbody tr th:only-of-type {\n",
              "        vertical-align: middle;\n",
              "    }\n",
              "\n",
              "    .dataframe tbody tr th {\n",
              "        vertical-align: top;\n",
              "    }\n",
              "\n",
              "    .dataframe thead th {\n",
              "        text-align: right;\n",
              "    }\n",
              "</style>\n",
              "<table border=\"1\" class=\"dataframe\">\n",
              "  <thead>\n",
              "    <tr style=\"text-align: right;\">\n",
              "      <th></th>\n",
              "      <th>user_id</th>\n",
              "      <th>movie_id</th>\n",
              "      <th>rating</th>\n",
              "    </tr>\n",
              "  </thead>\n",
              "  <tbody>\n",
              "    <tr>\n",
              "      <th>0</th>\n",
              "      <td>1</td>\n",
              "      <td>1</td>\n",
              "      <td>5</td>\n",
              "    </tr>\n",
              "    <tr>\n",
              "      <th>1</th>\n",
              "      <td>1</td>\n",
              "      <td>2</td>\n",
              "      <td>3</td>\n",
              "    </tr>\n",
              "    <tr>\n",
              "      <th>2</th>\n",
              "      <td>1</td>\n",
              "      <td>3</td>\n",
              "      <td>4</td>\n",
              "    </tr>\n",
              "    <tr>\n",
              "      <th>3</th>\n",
              "      <td>1</td>\n",
              "      <td>4</td>\n",
              "      <td>3</td>\n",
              "    </tr>\n",
              "    <tr>\n",
              "      <th>4</th>\n",
              "      <td>1</td>\n",
              "      <td>5</td>\n",
              "      <td>3</td>\n",
              "    </tr>\n",
              "  </tbody>\n",
              "</table>\n",
              "</div>\n",
              "      <button class=\"colab-df-convert\" onclick=\"convertToInteractive('df-6f5d1f3d-4333-4ac1-9bb0-eacf6c9cbe43')\"\n",
              "              title=\"Convert this dataframe to an interactive table.\"\n",
              "              style=\"display:none;\">\n",
              "        \n",
              "  <svg xmlns=\"http://www.w3.org/2000/svg\" height=\"24px\"viewBox=\"0 0 24 24\"\n",
              "       width=\"24px\">\n",
              "    <path d=\"M0 0h24v24H0V0z\" fill=\"none\"/>\n",
              "    <path d=\"M18.56 5.44l.94 2.06.94-2.06 2.06-.94-2.06-.94-.94-2.06-.94 2.06-2.06.94zm-11 1L8.5 8.5l.94-2.06 2.06-.94-2.06-.94L8.5 2.5l-.94 2.06-2.06.94zm10 10l.94 2.06.94-2.06 2.06-.94-2.06-.94-.94-2.06-.94 2.06-2.06.94z\"/><path d=\"M17.41 7.96l-1.37-1.37c-.4-.4-.92-.59-1.43-.59-.52 0-1.04.2-1.43.59L10.3 9.45l-7.72 7.72c-.78.78-.78 2.05 0 2.83L4 21.41c.39.39.9.59 1.41.59.51 0 1.02-.2 1.41-.59l7.78-7.78 2.81-2.81c.8-.78.8-2.07 0-2.86zM5.41 20L4 18.59l7.72-7.72 1.47 1.35L5.41 20z\"/>\n",
              "  </svg>\n",
              "      </button>\n",
              "      \n",
              "  <style>\n",
              "    .colab-df-container {\n",
              "      display:flex;\n",
              "      flex-wrap:wrap;\n",
              "      gap: 12px;\n",
              "    }\n",
              "\n",
              "    .colab-df-convert {\n",
              "      background-color: #E8F0FE;\n",
              "      border: none;\n",
              "      border-radius: 50%;\n",
              "      cursor: pointer;\n",
              "      display: none;\n",
              "      fill: #1967D2;\n",
              "      height: 32px;\n",
              "      padding: 0 0 0 0;\n",
              "      width: 32px;\n",
              "    }\n",
              "\n",
              "    .colab-df-convert:hover {\n",
              "      background-color: #E2EBFA;\n",
              "      box-shadow: 0px 1px 2px rgba(60, 64, 67, 0.3), 0px 1px 3px 1px rgba(60, 64, 67, 0.15);\n",
              "      fill: #174EA6;\n",
              "    }\n",
              "\n",
              "    [theme=dark] .colab-df-convert {\n",
              "      background-color: #3B4455;\n",
              "      fill: #D2E3FC;\n",
              "    }\n",
              "\n",
              "    [theme=dark] .colab-df-convert:hover {\n",
              "      background-color: #434B5C;\n",
              "      box-shadow: 0px 1px 3px 1px rgba(0, 0, 0, 0.15);\n",
              "      filter: drop-shadow(0px 1px 2px rgba(0, 0, 0, 0.3));\n",
              "      fill: #FFFFFF;\n",
              "    }\n",
              "  </style>\n",
              "\n",
              "      <script>\n",
              "        const buttonEl =\n",
              "          document.querySelector('#df-6f5d1f3d-4333-4ac1-9bb0-eacf6c9cbe43 button.colab-df-convert');\n",
              "        buttonEl.style.display =\n",
              "          google.colab.kernel.accessAllowed ? 'block' : 'none';\n",
              "\n",
              "        async function convertToInteractive(key) {\n",
              "          const element = document.querySelector('#df-6f5d1f3d-4333-4ac1-9bb0-eacf6c9cbe43');\n",
              "          const dataTable =\n",
              "            await google.colab.kernel.invokeFunction('convertToInteractive',\n",
              "                                                     [key], {});\n",
              "          if (!dataTable) return;\n",
              "\n",
              "          const docLinkHtml = 'Like what you see? Visit the ' +\n",
              "            '<a target=\"_blank\" href=https://colab.research.google.com/notebooks/data_table.ipynb>data table notebook</a>'\n",
              "            + ' to learn more about interactive tables.';\n",
              "          element.innerHTML = '';\n",
              "          dataTable['output_type'] = 'display_data';\n",
              "          await google.colab.output.renderOutput(dataTable, element);\n",
              "          const docLink = document.createElement('div');\n",
              "          docLink.innerHTML = docLinkHtml;\n",
              "          element.appendChild(docLink);\n",
              "        }\n",
              "      </script>\n",
              "    </div>\n",
              "  </div>\n",
              "  "
            ]
          },
          "metadata": {},
          "execution_count": 704
        },
        {
          "output_type": "stream",
          "name": "stdout",
          "text": [
            "time: 7.35 ms (started: 2022-11-21 08:13:37 +00:00)\n"
          ]
        }
      ]
    },
    {
      "cell_type": "code",
      "source": [
        "for column in [\"rating\"]:\n",
        "    print(column)\n",
        "    rating_df[column].value_counts().sort_index().plot(kind='bar')\n",
        "    plt.show()"
      ],
      "metadata": {
        "colab": {
          "base_uri": "https://localhost:8080/",
          "height": 298
        },
        "id": "noraJShaWp9p",
        "outputId": "3e66d2ab-ba19-4962-8b36-bfdcceb5682f"
      },
      "execution_count": 705,
      "outputs": [
        {
          "output_type": "stream",
          "name": "stdout",
          "text": [
            "rating\n"
          ]
        },
        {
          "output_type": "display_data",
          "data": {
            "text/plain": [
              "<Figure size 432x288 with 1 Axes>"
            ],
            "image/png": "[encoded data removed]"
          },
          "metadata": {
            "needs_background": "light"
          }
        },
        {
          "output_type": "stream",
          "name": "stdout",
          "text": [
            "time: 120 ms (started: 2022-11-21 08:13:37 +00:00)\n"
          ]
        }
      ]
    },
    {
      "cell_type": "code",
      "source": [
        "SCORE_DIFF = rating_df[\"rating\"].max() - rating_df[\"rating\"].min()\n",
        "SCORE_MIN = rating_df[\"rating\"].min()"
      ],
      "metadata": {
        "id": "jH4_2yKUnBek",
        "colab": {
          "base_uri": "https://localhost:8080/"
        },
        "outputId": "a9eb207e-b393-4a41-8706-7a3477de0179"
      },
      "execution_count": 706,
      "outputs": [
        {
          "output_type": "stream",
          "name": "stdout",
          "text": [
            "time: 2.66 ms (started: 2022-11-21 08:13:37 +00:00)\n"
          ]
        }
      ]
    },
    {
      "cell_type": "code",
      "source": [
        "print(f\"SCORE_DIFF = {SCORE_DIFF}\")\n",
        "print(f\"SCORE_MIN = {SCORE_MIN}\")"
      ],
      "metadata": {
        "colab": {
          "base_uri": "https://localhost:8080/"
        },
        "id": "DckPCgjrqq0k",
        "outputId": "4a507e98-e567-458d-f5f9-75716c4b42bc"
      },
      "execution_count": 707,
      "outputs": [
        {
          "output_type": "stream",
          "name": "stdout",
          "text": [
            "SCORE_DIFF = 4\n",
            "SCORE_MIN = 1\n",
            "time: 1.07 ms (started: 2022-11-21 08:13:37 +00:00)\n"
          ]
        }
      ]
    },
    {
      "cell_type": "code",
      "source": [
        "for column in [\"rating\"]:\n",
        "    MIN = rating_df[column].min()\n",
        "    MAX = rating_df[column].max()\n",
        "    rating_df[column] = (rating_df[column] - MIN) / (MAX - MIN)\n",
        "rating_df.head()"
      ],
      "metadata": {
        "colab": {
          "base_uri": "https://localhost:8080/",
          "height": 224
        },
        "id": "I_rnsnT-ZdHl",
        "outputId": "3e77ef84-0d86-44a3-fcf5-72386a3405de"
      },
      "execution_count": 708,
      "outputs": [
        {
          "output_type": "execute_result",
          "data": {
            "text/plain": [
              "   user_id  movie_id  rating\n",
              "0        1         1    1.00\n",
              "1        1         2    0.50\n",
              "2        1         3    0.75\n",
              "3        1         4    0.50\n",
              "4        1         5    0.50"
            ],
            "text/html": [
              "\n",
              "  <div id=\"df-f0b54ce8-3489-4a64-a4da-734c00651a4b\">\n",
              "    <div class=\"colab-df-container\">\n",
              "      <div>\n",
              "<style scoped>\n",
              "    .dataframe tbody tr th:only-of-type {\n",
              "        vertical-align: middle;\n",
              "    }\n",
              "\n",
              "    .dataframe tbody tr th {\n",
              "        vertical-align: top;\n",
              "    }\n",
              "\n",
              "    .dataframe thead th {\n",
              "        text-align: right;\n",
              "    }\n",
              "</style>\n",
              "<table border=\"1\" class=\"dataframe\">\n",
              "  <thead>\n",
              "    <tr style=\"text-align: right;\">\n",
              "      <th></th>\n",
              "      <th>user_id</th>\n",
              "      <th>movie_id</th>\n",
              "      <th>rating</th>\n",
              "    </tr>\n",
              "  </thead>\n",
              "  <tbody>\n",
              "    <tr>\n",
              "      <th>0</th>\n",
              "      <td>1</td>\n",
              "      <td>1</td>\n",
              "      <td>1.00</td>\n",
              "    </tr>\n",
              "    <tr>\n",
              "      <th>1</th>\n",
              "      <td>1</td>\n",
              "      <td>2</td>\n",
              "      <td>0.50</td>\n",
              "    </tr>\n",
              "    <tr>\n",
              "      <th>2</th>\n",
              "      <td>1</td>\n",
              "      <td>3</td>\n",
              "      <td>0.75</td>\n",
              "    </tr>\n",
              "    <tr>\n",
              "      <th>3</th>\n",
              "      <td>1</td>\n",
              "      <td>4</td>\n",
              "      <td>0.50</td>\n",
              "    </tr>\n",
              "    <tr>\n",
              "      <th>4</th>\n",
              "      <td>1</td>\n",
              "      <td>5</td>\n",
              "      <td>0.50</td>\n",
              "    </tr>\n",
              "  </tbody>\n",
              "</table>\n",
              "</div>\n",
              "      <button class=\"colab-df-convert\" onclick=\"convertToInteractive('df-f0b54ce8-3489-4a64-a4da-734c00651a4b')\"\n",
              "              title=\"Convert this dataframe to an interactive table.\"\n",
              "              style=\"display:none;\">\n",
              "        \n",
              "  <svg xmlns=\"http://www.w3.org/2000/svg\" height=\"24px\"viewBox=\"0 0 24 24\"\n",
              "       width=\"24px\">\n",
              "    <path d=\"M0 0h24v24H0V0z\" fill=\"none\"/>\n",
              "    <path d=\"M18.56 5.44l.94 2.06.94-2.06 2.06-.94-2.06-.94-.94-2.06-.94 2.06-2.06.94zm-11 1L8.5 8.5l.94-2.06 2.06-.94-2.06-.94L8.5 2.5l-.94 2.06-2.06.94zm10 10l.94 2.06.94-2.06 2.06-.94-2.06-.94-.94-2.06-.94 2.06-2.06.94z\"/><path d=\"M17.41 7.96l-1.37-1.37c-.4-.4-.92-.59-1.43-.59-.52 0-1.04.2-1.43.59L10.3 9.45l-7.72 7.72c-.78.78-.78 2.05 0 2.83L4 21.41c.39.39.9.59 1.41.59.51 0 1.02-.2 1.41-.59l7.78-7.78 2.81-2.81c.8-.78.8-2.07 0-2.86zM5.41 20L4 18.59l7.72-7.72 1.47 1.35L5.41 20z\"/>\n",
              "  </svg>\n",
              "      </button>\n",
              "      \n",
              "  <style>\n",
              "    .colab-df-container {\n",
              "      display:flex;\n",
              "      flex-wrap:wrap;\n",
              "      gap: 12px;\n",
              "    }\n",
              "\n",
              "    .colab-df-convert {\n",
              "      background-color: #E8F0FE;\n",
              "      border: none;\n",
              "      border-radius: 50%;\n",
              "      cursor: pointer;\n",
              "      display: none;\n",
              "      fill: #1967D2;\n",
              "      height: 32px;\n",
              "      padding: 0 0 0 0;\n",
              "      width: 32px;\n",
              "    }\n",
              "\n",
              "    .colab-df-convert:hover {\n",
              "      background-color: #E2EBFA;\n",
              "      box-shadow: 0px 1px 2px rgba(60, 64, 67, 0.3), 0px 1px 3px 1px rgba(60, 64, 67, 0.15);\n",
              "      fill: #174EA6;\n",
              "    }\n",
              "\n",
              "    [theme=dark] .colab-df-convert {\n",
              "      background-color: #3B4455;\n",
              "      fill: #D2E3FC;\n",
              "    }\n",
              "\n",
              "    [theme=dark] .colab-df-convert:hover {\n",
              "      background-color: #434B5C;\n",
              "      box-shadow: 0px 1px 3px 1px rgba(0, 0, 0, 0.15);\n",
              "      filter: drop-shadow(0px 1px 2px rgba(0, 0, 0, 0.3));\n",
              "      fill: #FFFFFF;\n",
              "    }\n",
              "  </style>\n",
              "\n",
              "      <script>\n",
              "        const buttonEl =\n",
              "          document.querySelector('#df-f0b54ce8-3489-4a64-a4da-734c00651a4b button.colab-df-convert');\n",
              "        buttonEl.style.display =\n",
              "          google.colab.kernel.accessAllowed ? 'block' : 'none';\n",
              "\n",
              "        async function convertToInteractive(key) {\n",
              "          const element = document.querySelector('#df-f0b54ce8-3489-4a64-a4da-734c00651a4b');\n",
              "          const dataTable =\n",
              "            await google.colab.kernel.invokeFunction('convertToInteractive',\n",
              "                                                     [key], {});\n",
              "          if (!dataTable) return;\n",
              "\n",
              "          const docLinkHtml = 'Like what you see? Visit the ' +\n",
              "            '<a target=\"_blank\" href=https://colab.research.google.com/notebooks/data_table.ipynb>data table notebook</a>'\n",
              "            + ' to learn more about interactive tables.';\n",
              "          element.innerHTML = '';\n",
              "          dataTable['output_type'] = 'display_data';\n",
              "          await google.colab.output.renderOutput(dataTable, element);\n",
              "          const docLink = document.createElement('div');\n",
              "          docLink.innerHTML = docLinkHtml;\n",
              "          element.appendChild(docLink);\n",
              "        }\n",
              "      </script>\n",
              "    </div>\n",
              "  </div>\n",
              "  "
            ]
          },
          "metadata": {},
          "execution_count": 708
        },
        {
          "output_type": "stream",
          "name": "stdout",
          "text": [
            "time: 10.1 ms (started: 2022-11-21 08:13:37 +00:00)\n"
          ]
        }
      ]
    },
    {
      "cell_type": "markdown",
      "source": [
        "# 기반 클래스 생성"
      ],
      "metadata": {
        "id": "nHfIqWOiZ6hJ"
      }
    },
    {
      "cell_type": "code",
      "source": [
        "user_np = user_df.to_numpy()\n",
        "print(user_np.shape)\n",
        "print(user_np[:2])"
      ],
      "metadata": {
        "colab": {
          "base_uri": "https://localhost:8080/"
        },
        "id": "R5kumH6NaVDH",
        "outputId": "71a5f278-477e-438d-de17-d1229293dfe1"
      },
      "execution_count": 709,
      "outputs": [
        {
          "output_type": "stream",
          "name": "stdout",
          "text": [
            "(943, 30)\n",
            "[[1 0 0 1 0 0 0 0 1 0 0 0 0 0 0 0 0 0 0 0 0 0 0 0 0 0 0 0 1 0]\n",
            " [2 0 0 0 0 0 1 1 0 0 0 0 0 0 0 0 0 0 0 0 0 0 1 0 0 0 0 0 0 0]]\n",
            "time: 2.53 ms (started: 2022-11-21 08:13:37 +00:00)\n"
          ]
        }
      ]
    },
    {
      "cell_type": "code",
      "source": [
        "content_np = item_df.to_numpy()\n",
        "print(content_np.shape)\n",
        "print(content_np[:2])"
      ],
      "metadata": {
        "colab": {
          "base_uri": "https://localhost:8080/"
        },
        "id": "4RY0PQoabZMv",
        "outputId": "a506943e-d456-4e93-d300-c609c76ded17"
      },
      "execution_count": 710,
      "outputs": [
        {
          "output_type": "stream",
          "name": "stdout",
          "text": [
            "(1682, 21)\n",
            "[[1.         0.         0.         0.         1.         1.\n",
            "  1.         0.         0.         0.         0.         0.\n",
            "  0.         0.         0.         0.         0.         0.\n",
            "  0.         0.         0.89285714]\n",
            " [2.         0.         1.         1.         0.         0.\n",
            "  0.         0.         0.         0.         0.         0.\n",
            "  0.         0.         0.         0.         0.         1.\n",
            "  0.         0.         0.89285714]]\n",
            "time: 2.02 ms (started: 2022-11-21 08:13:37 +00:00)\n"
          ]
        }
      ]
    },
    {
      "cell_type": "code",
      "source": [
        "rating_np = rating_df.to_numpy()\n",
        "print(rating_np.shape)\n",
        "print(rating_np[:5])"
      ],
      "metadata": {
        "colab": {
          "base_uri": "https://localhost:8080/"
        },
        "id": "sLrWf6gobfnA",
        "outputId": "b57c54b0-836b-473f-ead9-eff57a2ed7c4"
      },
      "execution_count": 711,
      "outputs": [
        {
          "output_type": "stream",
          "name": "stdout",
          "text": [
            "(100000, 3)\n",
            "[[1.   1.   1.  ]\n",
            " [1.   2.   0.5 ]\n",
            " [1.   3.   0.75]\n",
            " [1.   4.   0.5 ]\n",
            " [1.   5.   0.5 ]]\n",
            "time: 3.24 ms (started: 2022-11-21 08:13:37 +00:00)\n"
          ]
        }
      ]
    },
    {
      "cell_type": "markdown",
      "source": [
        "# 상수 정의"
      ],
      "metadata": {
        "id": "X8XnrJYIlpSo"
      }
    },
    {
      "cell_type": "code",
      "source": [
        "LATENT_SIZE = 2"
      ],
      "metadata": {
        "id": "r2ktAZmhaQpr",
        "colab": {
          "base_uri": "https://localhost:8080/"
        },
        "outputId": "14e8e6da-1349-466f-f387-bfe0260683d9"
      },
      "execution_count": 712,
      "outputs": [
        {
          "output_type": "stream",
          "name": "stdout",
          "text": [
            "time: 669 µs (started: 2022-11-21 08:13:37 +00:00)\n"
          ]
        }
      ]
    },
    {
      "cell_type": "code",
      "source": [
        "BATCH_SIZE = 256"
      ],
      "metadata": {
        "id": "BXi_EW1gtF8C",
        "colab": {
          "base_uri": "https://localhost:8080/"
        },
        "outputId": "369d6b91-c742-4939-b89e-7c9396883677"
      },
      "execution_count": 713,
      "outputs": [
        {
          "output_type": "stream",
          "name": "stdout",
          "text": [
            "time: 509 µs (started: 2022-11-21 08:13:37 +00:00)\n"
          ]
        }
      ]
    },
    {
      "cell_type": "markdown",
      "source": [
        "# User, Content, Score 클래스 정의"
      ],
      "metadata": {
        "id": "MRTE7f4G1MLJ"
      }
    },
    {
      "cell_type": "code",
      "source": [
        "import copy"
      ],
      "metadata": {
        "id": "rCc7QNFz2XFk",
        "colab": {
          "base_uri": "https://localhost:8080/"
        },
        "outputId": "da5fd10a-f40e-4931-f93a-52d9a44a2080"
      },
      "execution_count": 714,
      "outputs": [
        {
          "output_type": "stream",
          "name": "stdout",
          "text": [
            "time: 510 µs (started: 2022-11-21 08:13:37 +00:00)\n"
          ]
        }
      ]
    },
    {
      "cell_type": "code",
      "source": [
        "class User:\n",
        "\n",
        "    def __init__(self, id, features):\n",
        "        self.id = id\n",
        "        self.features = features\n",
        "        self.latent = np.random.random(LATENT_SIZE)\n",
        "\n",
        "    def __str__(self):\n",
        "        return f\"id:{self.id}, features:{self.features}\"\n",
        "\n",
        "    def copy(self):\n",
        "        return copy.deepcopy(self)  \n",
        "\n",
        "    def is_same(self, other):\n",
        "        return self.id == other.id"
      ],
      "metadata": {
        "id": "QHoKIpRG1L7K",
        "colab": {
          "base_uri": "https://localhost:8080/"
        },
        "outputId": "42feb577-5c37-447d-b78c-3f79e55667b0"
      },
      "execution_count": 715,
      "outputs": [
        {
          "output_type": "stream",
          "name": "stdout",
          "text": [
            "time: 1.29 ms (started: 2022-11-21 08:13:37 +00:00)\n"
          ]
        }
      ]
    },
    {
      "cell_type": "code",
      "source": [
        "class Content:\n",
        "\n",
        "    def __init__(self, id, features):\n",
        "        self.id = id\n",
        "        self.features = features\n",
        "        self.latent = np.random.random(LATENT_SIZE)\n",
        "\n",
        "    def __str__(self):\n",
        "        return f\"id:{self.id}, features:{self.features}\"\n",
        "\n",
        "    def copy(self):\n",
        "        return copy.deepcopy(self)  \n",
        "\n",
        "    def is_same(self, other):\n",
        "        return self.id == other.id"
      ],
      "metadata": {
        "id": "6-p2Z3Nm1L1A",
        "colab": {
          "base_uri": "https://localhost:8080/"
        },
        "outputId": "5380e6fe-4367-4364-d7b5-6d8062f64db2"
      },
      "execution_count": 716,
      "outputs": [
        {
          "output_type": "stream",
          "name": "stdout",
          "text": [
            "time: 1.22 ms (started: 2022-11-21 08:13:37 +00:00)\n"
          ]
        }
      ]
    },
    {
      "cell_type": "code",
      "source": [
        "class Score:\n",
        "\n",
        "    def __init__(self, user, content, values):\n",
        "        self.user = user\n",
        "        self.content = content\n",
        "        self.values = values\n",
        "\n",
        "    def __str__(self):\n",
        "        return f\"user:{self.user.id}, content:{self.content.id}, values:{self.values}\"\n",
        "\n",
        "    def value(self):\n",
        "        return self.values\n",
        "\n",
        "    def copy(self):\n",
        "        return copy.deepcopy(self)  "
      ],
      "metadata": {
        "id": "5jCeX9OO1Lqe",
        "colab": {
          "base_uri": "https://localhost:8080/"
        },
        "outputId": "04cdb060-928e-4a30-c4b7-da52dbc25509"
      },
      "execution_count": 717,
      "outputs": [
        {
          "output_type": "stream",
          "name": "stdout",
          "text": [
            "time: 1.17 ms (started: 2022-11-21 08:13:37 +00:00)\n"
          ]
        }
      ]
    },
    {
      "cell_type": "code",
      "source": [
        "id_2_user = {}\n",
        "for i in range(len(user_np)):\n",
        "    row = user_np[i]\n",
        "    id = int(row[0])\n",
        "    features = row[1:]\n",
        "    user = User(id, features)\n",
        "    id_2_user[id] = user"
      ],
      "metadata": {
        "id": "TPvwzrY242cQ",
        "colab": {
          "base_uri": "https://localhost:8080/"
        },
        "outputId": "9fd65060-ec78-4bc1-ae80-91a7d1501ac4"
      },
      "execution_count": 718,
      "outputs": [
        {
          "output_type": "stream",
          "name": "stdout",
          "text": [
            "time: 8.61 ms (started: 2022-11-21 08:13:37 +00:00)\n"
          ]
        }
      ]
    },
    {
      "cell_type": "code",
      "source": [
        "id_2_content = {}\n",
        "for i in range(len(content_np)):\n",
        "    row = content_np[i]\n",
        "    id = int(row[0])\n",
        "    features = row[1:]\n",
        "    content = Content(id, features)\n",
        "    id_2_content[id] = content"
      ],
      "metadata": {
        "id": "7TpSMKW65ug2",
        "colab": {
          "base_uri": "https://localhost:8080/"
        },
        "outputId": "90525fb9-20d6-4b87-ead4-5cced2948ecc"
      },
      "execution_count": 719,
      "outputs": [
        {
          "output_type": "stream",
          "name": "stdout",
          "text": [
            "time: 9.69 ms (started: 2022-11-21 08:13:37 +00:00)\n"
          ]
        }
      ]
    },
    {
      "cell_type": "code",
      "source": [
        "class Log:\n",
        "    def __init__(self, raw_values):\n",
        "        self.user_id = raw_values[0]\n",
        "        self.content_id = raw_values[1]\n",
        "        self.scores = raw_values[2:]\n",
        "\n",
        "    def __str__(self):\n",
        "        return f\"user_id:{self.user_id}, content_id:{self.content_id}, scores:{self.scores}\""
      ],
      "metadata": {
        "id": "VS2gV2od22Yi",
        "colab": {
          "base_uri": "https://localhost:8080/"
        },
        "outputId": "aa4c7e94-7b66-438c-e64a-464b1efb3567"
      },
      "execution_count": 720,
      "outputs": [
        {
          "output_type": "stream",
          "name": "stdout",
          "text": [
            "time: 1 ms (started: 2022-11-21 08:13:37 +00:00)\n"
          ]
        }
      ]
    },
    {
      "cell_type": "markdown",
      "source": [
        "# User, Content, Score 객체 만들기"
      ],
      "metadata": {
        "id": "2sefW15R7cwi"
      }
    },
    {
      "cell_type": "code",
      "source": [
        "scores = []\n",
        "for i in range(len(rating_np)):\n",
        "    log = Log(rating_np[i])\n",
        "    user = id_2_user[log.user_id]\n",
        "    content = id_2_content[log.content_id]\n",
        "    score = Score(user.copy(), content.copy(), log.scores.copy())\n",
        "    if(i<10): print(score)\n",
        "    scores.append(score)"
      ],
      "metadata": {
        "colab": {
          "base_uri": "https://localhost:8080/"
        },
        "id": "Unm3MXfN2Zub",
        "outputId": "49c5fe2e-8fb6-4462-fed6-f8ef3f293b0a"
      },
      "execution_count": 721,
      "outputs": [
        {
          "output_type": "stream",
          "name": "stdout",
          "text": [
            "user:1, content:1, values:[1.]\n",
            "user:1, content:2, values:[0.5]\n",
            "user:1, content:3, values:[0.75]\n",
            "user:1, content:4, values:[0.5]\n",
            "user:1, content:5, values:[0.5]\n",
            "user:1, content:6, values:[1.]\n",
            "user:1, content:7, values:[0.75]\n",
            "user:1, content:8, values:[0.]\n",
            "user:1, content:9, values:[1.]\n",
            "user:1, content:10, values:[0.5]\n",
            "time: 4.33 s (started: 2022-11-21 08:13:37 +00:00)\n"
          ]
        }
      ]
    },
    {
      "cell_type": "code",
      "source": [
        "print(f\"user : {len(id_2_user)}\")\n",
        "print(f\"content : {len(id_2_content)}\")\n",
        "print(f\"scores : {len(scores)}\")"
      ],
      "metadata": {
        "colab": {
          "base_uri": "https://localhost:8080/"
        },
        "id": "-wMDSCBGoa3_",
        "outputId": "5403b1ac-2b5e-4d9b-9c58-64aa3da97a24"
      },
      "execution_count": 722,
      "outputs": [
        {
          "output_type": "stream",
          "name": "stdout",
          "text": [
            "user : 943\n",
            "content : 1682\n",
            "scores : 100000\n",
            "time: 1.23 ms (started: 2022-11-21 08:13:42 +00:00)\n"
          ]
        }
      ]
    },
    {
      "cell_type": "markdown",
      "source": [
        "# feature size"
      ],
      "metadata": {
        "id": "mHO6mZedBc5Q"
      }
    },
    {
      "cell_type": "code",
      "source": [
        "SCORE_SIZE = len(scores[0].values)\n",
        "USER_FEATURE_SIZE = len(scores[0].user.features)\n",
        "CONTENT_FEATURE_SIZE = len(scores[0].content.features)\n",
        "print(f\"SCORE_SIZE : {SCORE_SIZE}\")\n",
        "print(f\"USER_FEATURE_SIZE : {USER_FEATURE_SIZE}\")\n",
        "print(f\"CONTENT_FEATURE_SIZE : {CONTENT_FEATURE_SIZE}\")\n"
      ],
      "metadata": {
        "id": "3027ciHP5RRy",
        "colab": {
          "base_uri": "https://localhost:8080/"
        },
        "outputId": "d224819b-6e08-416c-cddb-30aeb3efad60"
      },
      "execution_count": 723,
      "outputs": [
        {
          "output_type": "stream",
          "name": "stdout",
          "text": [
            "SCORE_SIZE : 1\n",
            "USER_FEATURE_SIZE : 29\n",
            "CONTENT_FEATURE_SIZE : 20\n",
            "time: 1.36 ms (started: 2022-11-21 08:13:42 +00:00)\n"
          ]
        }
      ]
    },
    {
      "cell_type": "markdown",
      "source": [
        "# train, test 데이터 나누기"
      ],
      "metadata": {
        "id": "WDvc-AMu-1__"
      }
    },
    {
      "cell_type": "markdown",
      "source": [
        "우선 섞고"
      ],
      "metadata": {
        "id": "GLGJtdvzoo1G"
      }
    },
    {
      "cell_type": "code",
      "source": [
        "print(scores[:3])\n",
        "np.random.shuffle(scores)\n",
        "print(scores[:3])"
      ],
      "metadata": {
        "colab": {
          "base_uri": "https://localhost:8080/"
        },
        "id": "orkqGL0uoX_B",
        "outputId": "768e6c7d-6f52-4c20-f177-bb17be9c03ac"
      },
      "execution_count": 724,
      "outputs": [
        {
          "output_type": "stream",
          "name": "stdout",
          "text": [
            "[<__main__.Score object at 0x7fbb54735b50>, <__main__.Score object at 0x7fbb54735350>, <__main__.Score object at 0x7fbb73538b90>]\n",
            "[<__main__.Score object at 0x7fbb4fe12e10>, <__main__.Score object at 0x7fbb28cd43d0>, <__main__.Score object at 0x7fbb28a3b190>]\n",
            "time: 12.2 ms (started: 2022-11-21 08:13:42 +00:00)\n"
          ]
        }
      ]
    },
    {
      "cell_type": "code",
      "source": [
        "test_ratio = 0.8\n",
        "split_index = int(len(scores)*0.8)\n",
        "train_scores, test_scores = scores[:split_index], scores[split_index:]"
      ],
      "metadata": {
        "id": "XSOG1fKG-l6h",
        "colab": {
          "base_uri": "https://localhost:8080/"
        },
        "outputId": "745d626e-9d6f-454b-a918-fb1ee79ec129"
      },
      "execution_count": 725,
      "outputs": [
        {
          "output_type": "stream",
          "name": "stdout",
          "text": [
            "time: 4.91 ms (started: 2022-11-21 08:13:42 +00:00)\n"
          ]
        }
      ]
    },
    {
      "cell_type": "markdown",
      "source": [
        "# 학습 데이터에 잡음 추가"
      ],
      "metadata": {
        "id": "hQhnt6_L-YXj"
      }
    },
    {
      "cell_type": "code",
      "source": [
        "NOISE_RATIO = 0.0\n",
        "for score in train_scores:\n",
        "    if NOISE_RATIO==0.0: continue\n",
        "    score.values += np.random.randn(SCORE_SIZE)*NOISE_RATIO\n",
        "    score.values = score.values.clip(0.0, 1.0)\n"
      ],
      "metadata": {
        "id": "sWBB6EPU-c_F",
        "colab": {
          "base_uri": "https://localhost:8080/"
        },
        "outputId": "622fe3d1-3bef-4c0c-e74e-864f7a08740a"
      },
      "execution_count": 726,
      "outputs": [
        {
          "output_type": "stream",
          "name": "stdout",
          "text": [
            "time: 17.9 ms (started: 2022-11-21 08:13:42 +00:00)\n"
          ]
        }
      ]
    },
    {
      "cell_type": "markdown",
      "source": [
        "# 모델 정의"
      ],
      "metadata": {
        "id": "sstQHRMPXLHu"
      }
    },
    {
      "cell_type": "code",
      "source": [
        "from tensorflow.keras.layers import Input, Dense, concatenate, Dropout, GaussianNoise\n",
        "from tensorflow.keras.layers import Conv1D, Reshape, MaxPooling1D, Flatten\n",
        "from tensorflow.keras.models import Model\n",
        "import tensorflow\n",
        "\n",
        "def build_encoder(name):\n",
        "\n",
        "  latent_input = Input((LATENT_SIZE,))\n",
        "  user_feature_input = Input((USER_FEATURE_SIZE,))\n",
        "  content_feature_input = Input((CONTENT_FEATURE_SIZE,))\n",
        "  score_input = Input((SCORE_SIZE,))\n",
        "#   score_input = GaussianNoise(0.3)(score_input)\n",
        "\n",
        "  latent_x = Dense(6, activation=\"relu\")(latent_input)\n",
        "  user_feature_x = Dense(int(USER_FEATURE_SIZE/2), activation=\"relu\")(user_feature_input)\n",
        "  content_feature_x = Dense(int(CONTENT_FEATURE_SIZE/2), activation=\"relu\")(content_feature_input)\n",
        "  score_x = Dense(6, activation=\"relu\")(score_input)\n",
        "\n",
        "  x = concatenate([latent_x, user_feature_x, content_feature_x, score_x])\n",
        "  x = Dense(12, activation=\"relu\")(x)\n",
        "  x = Dense(6, activation=\"relu\")(x)\n",
        "  latent = Dense(LATENT_SIZE, activation=\"sigmoid\")(x)\n",
        "  return Model((latent_input, user_feature_input, content_feature_input, score_input), latent, name=name)\n",
        "\n",
        "def build_decoder(name):\n",
        "\n",
        "  user_latent_input = Input((LATENT_SIZE,))\n",
        "  user_feature_input = Input((USER_FEATURE_SIZE,))\n",
        "  content_feature_input = Input((CONTENT_FEATURE_SIZE,))\n",
        "  content_latent_input = Input((LATENT_SIZE,))\n",
        "\n",
        "  user_latent_x = Dense(6, activation=\"relu\")(user_latent_input)\n",
        "  user_feature_x = Dense(int(USER_FEATURE_SIZE/2), activation=\"relu\")(user_feature_input)\n",
        "  content_feature_x = Dense(int(CONTENT_FEATURE_SIZE/2), activation=\"relu\")(content_feature_input)\n",
        "  content_lattent_x = Dense(6, activation=\"relu\")(content_latent_input)\n",
        "\n",
        "  x = concatenate([user_latent_x, user_feature_x, content_feature_x, content_lattent_x])\n",
        "  x = Dense(12, activation=\"relu\")(x)\n",
        "  x = Dense(6, activation=\"relu\")(x)\n",
        "  score_output = Dense(SCORE_SIZE, activation=\"sigmoid\")(x)\n",
        "\n",
        "  return Model((user_latent_input, user_feature_input, content_feature_input, content_latent_input), score_output, name=name)\n",
        "\n",
        "decoder = build_decoder(\"D\")\n",
        "\n",
        "def build_user_input_autoencoder(name=\"UIAE\"):\n",
        "\n",
        "  encoder = build_encoder(f\"{name}.E\")\n",
        "\n",
        "  user_latent = Input((LATENT_SIZE,))\n",
        "  user_feature_input = Input((USER_FEATURE_SIZE,))\n",
        "  content_feature_input = Input((CONTENT_FEATURE_SIZE,))\n",
        "  score_input = Input((SCORE_SIZE,))\n",
        "\n",
        "  content_latent = encoder((user_latent, user_feature_input, content_feature_input, score_input))\n",
        "  score_output = decoder((user_latent, user_feature_input, content_feature_input, content_latent))\n",
        "  autoencoder = Model((user_latent, user_feature_input, content_feature_input, score_input), (content_latent, score_output), name=name)\n",
        "  autoencoder.encoder = encoder\n",
        "  autoencoder.decoder = decoder\n",
        "  return autoencoder\n",
        "\n",
        "\n",
        "def build_content_input_autoencoder(name=\"CIAE\"):\n",
        "\n",
        "  encoder = build_encoder(f\"{name}.E\")\n",
        "\n",
        "  content_latent = Input((LATENT_SIZE,))\n",
        "  user_feature_input = Input((USER_FEATURE_SIZE,))\n",
        "  content_feature_input = Input((CONTENT_FEATURE_SIZE,))\n",
        "  score_input = Input((SCORE_SIZE,))\n",
        "\n",
        "  user_latent = encoder((content_latent, user_feature_input, content_feature_input, score_input))\n",
        "  score_output = decoder((user_latent, user_feature_input, content_feature_input, content_latent))\n",
        "\n",
        "  autoencoder = Model((content_latent, user_feature_input, content_feature_input, score_input), (user_latent, score_output), name=name)\n",
        "  autoencoder.encoder = encoder\n",
        "  autoencoder.decoder = decoder\n",
        "\n",
        "  return autoencoder\n",
        "\n",
        "user_input_autoencoder = build_user_input_autoencoder(\"UIAE\")"
      ],
      "metadata": {
        "id": "Y4uD4_ZkB8GJ",
        "colab": {
          "base_uri": "https://localhost:8080/"
        },
        "outputId": "42f0a2ae-0177-43e8-b278-470b0bd0ff1b"
      },
      "execution_count": 727,
      "outputs": [
        {
          "output_type": "stream",
          "name": "stdout",
          "text": [
            "time: 299 ms (started: 2022-11-21 08:13:42 +00:00)\n"
          ]
        }
      ]
    },
    {
      "cell_type": "code",
      "source": [
        "user_input_autoencoder = build_user_input_autoencoder(\"UIAE\")\n",
        "content_input_autoencoder = build_content_input_autoencoder(\"CIAE\")\n",
        "\n",
        "\n",
        "from tensorflow.keras.optimizers import Adam, RMSprop\n",
        "autoencoder_optimizer = RMSprop(learning_rate=0.001*1.0)\n",
        "encoder_optimizer = RMSprop(learning_rate=0.001*1.0)\n",
        "decoder_optimizer = RMSprop(learning_rate=0.001*1.0)\n",
        "\n",
        "\n",
        "user_input_autoencoder.compile(loss=\"mse\", optimizer=autoencoder_optimizer)\n",
        "user_input_autoencoder.encoder.compile(loss=\"mse\", optimizer=encoder_optimizer)\n",
        "user_input_autoencoder.decoder.compile(loss=\"mse\", optimizer=decoder_optimizer)\n",
        "\n",
        "content_input_autoencoder.compile(loss=\"mse\", optimizer=autoencoder_optimizer)\n",
        "content_input_autoencoder.encoder.compile(loss=\"mse\", optimizer=encoder_optimizer)\n",
        "content_input_autoencoder.decoder.compile(loss=\"mse\", optimizer=decoder_optimizer)\n"
      ],
      "metadata": {
        "id": "PVEKQN2u_d-p",
        "colab": {
          "base_uri": "https://localhost:8080/"
        },
        "outputId": "769752aa-f2ec-45aa-e3f2-718f07f3df2b"
      },
      "execution_count": 728,
      "outputs": [
        {
          "output_type": "stream",
          "name": "stdout",
          "text": [
            "time: 322 ms (started: 2022-11-21 08:13:42 +00:00)\n"
          ]
        }
      ]
    },
    {
      "cell_type": "code",
      "source": [
        "user_input_autoencoder.summary()\n",
        "user_input_autoencoder.encoder.summary()\n",
        "user_input_autoencoder.decoder.summary()"
      ],
      "metadata": {
        "colab": {
          "base_uri": "https://localhost:8080/"
        },
        "id": "tW4vo0yn4zTp",
        "outputId": "805d833a-4fe0-4f0f-daef-5d525bd6838c"
      },
      "execution_count": 729,
      "outputs": [
        {
          "output_type": "stream",
          "name": "stdout",
          "text": [
            "Model: \"UIAE\"\n",
            "__________________________________________________________________________________________________\n",
            " Layer (type)                   Output Shape         Param #     Connected to                     \n",
            "==================================================================================================\n",
            " input_185 (InputLayer)         [(None, 2)]          0           []                               \n",
            "                                                                                                  \n",
            " input_186 (InputLayer)         [(None, 29)]         0           []                               \n",
            "                                                                                                  \n",
            " input_187 (InputLayer)         [(None, 20)]         0           []                               \n",
            "                                                                                                  \n",
            " input_188 (InputLayer)         [(None, 1)]          0           []                               \n",
            "                                                                                                  \n",
            " UIAE.E (Functional)            (None, 2)            1196        ['input_185[0][0]',              \n",
            "                                                                  'input_186[0][0]',              \n",
            "                                                                  'input_187[0][0]',              \n",
            "                                                                  'input_188[0][0]']              \n",
            "                                                                                                  \n",
            " D (Functional)                 (None, 1)            1195        ['input_185[0][0]',              \n",
            "                                                                  'input_186[0][0]',              \n",
            "                                                                  'input_187[0][0]',              \n",
            "                                                                  'UIAE.E[0][0]']                 \n",
            "                                                                                                  \n",
            "==================================================================================================\n",
            "Total params: 2,391\n",
            "Trainable params: 2,391\n",
            "Non-trainable params: 0\n",
            "__________________________________________________________________________________________________\n",
            "Model: \"UIAE.E\"\n",
            "__________________________________________________________________________________________________\n",
            " Layer (type)                   Output Shape         Param #     Connected to                     \n",
            "==================================================================================================\n",
            " input_181 (InputLayer)         [(None, 2)]          0           []                               \n",
            "                                                                                                  \n",
            " input_182 (InputLayer)         [(None, 29)]         0           []                               \n",
            "                                                                                                  \n",
            " input_183 (InputLayer)         [(None, 20)]         0           []                               \n",
            "                                                                                                  \n",
            " input_184 (InputLayer)         [(None, 1)]          0           []                               \n",
            "                                                                                                  \n",
            " dense_182 (Dense)              (None, 6)            18          ['input_181[0][0]']              \n",
            "                                                                                                  \n",
            " dense_183 (Dense)              (None, 14)           420         ['input_182[0][0]']              \n",
            "                                                                                                  \n",
            " dense_184 (Dense)              (None, 10)           210         ['input_183[0][0]']              \n",
            "                                                                                                  \n",
            " dense_185 (Dense)              (None, 6)            12          ['input_184[0][0]']              \n",
            "                                                                                                  \n",
            " concatenate_26 (Concatenate)   (None, 36)           0           ['dense_182[0][0]',              \n",
            "                                                                  'dense_183[0][0]',              \n",
            "                                                                  'dense_184[0][0]',              \n",
            "                                                                  'dense_185[0][0]']              \n",
            "                                                                                                  \n",
            " dense_186 (Dense)              (None, 12)           444         ['concatenate_26[0][0]']         \n",
            "                                                                                                  \n",
            " dense_187 (Dense)              (None, 6)            78          ['dense_186[0][0]']              \n",
            "                                                                                                  \n",
            " dense_188 (Dense)              (None, 2)            14          ['dense_187[0][0]']              \n",
            "                                                                                                  \n",
            "==================================================================================================\n",
            "Total params: 1,196\n",
            "Trainable params: 1,196\n",
            "Non-trainable params: 0\n",
            "__________________________________________________________________________________________________\n",
            "Model: \"D\"\n",
            "__________________________________________________________________________________________________\n",
            " Layer (type)                   Output Shape         Param #     Connected to                     \n",
            "==================================================================================================\n",
            " input_169 (InputLayer)         [(None, 2)]          0           []                               \n",
            "                                                                                                  \n",
            " input_170 (InputLayer)         [(None, 29)]         0           []                               \n",
            "                                                                                                  \n",
            " input_171 (InputLayer)         [(None, 20)]         0           []                               \n",
            "                                                                                                  \n",
            " input_172 (InputLayer)         [(None, 2)]          0           []                               \n",
            "                                                                                                  \n",
            " dense_168 (Dense)              (None, 6)            18          ['input_169[0][0]']              \n",
            "                                                                                                  \n",
            " dense_169 (Dense)              (None, 14)           420         ['input_170[0][0]']              \n",
            "                                                                                                  \n",
            " dense_170 (Dense)              (None, 10)           210         ['input_171[0][0]']              \n",
            "                                                                                                  \n",
            " dense_171 (Dense)              (None, 6)            18          ['input_172[0][0]']              \n",
            "                                                                                                  \n",
            " concatenate_24 (Concatenate)   (None, 36)           0           ['dense_168[0][0]',              \n",
            "                                                                  'dense_169[0][0]',              \n",
            "                                                                  'dense_170[0][0]',              \n",
            "                                                                  'dense_171[0][0]']              \n",
            "                                                                                                  \n",
            " dense_172 (Dense)              (None, 12)           444         ['concatenate_24[0][0]']         \n",
            "                                                                                                  \n",
            " dense_173 (Dense)              (None, 6)            78          ['dense_172[0][0]']              \n",
            "                                                                                                  \n",
            " dense_174 (Dense)              (None, 1)            7           ['dense_173[0][0]']              \n",
            "                                                                                                  \n",
            "==================================================================================================\n",
            "Total params: 1,195\n",
            "Trainable params: 1,195\n",
            "Non-trainable params: 0\n",
            "__________________________________________________________________________________________________\n",
            "time: 178 ms (started: 2022-11-21 08:13:42 +00:00)\n"
          ]
        }
      ]
    },
    {
      "cell_type": "markdown",
      "source": [
        "# 학습을 위한 데이터 생성 함수들 정의"
      ],
      "metadata": {
        "id": "Vh90BnBlXOpt"
      }
    },
    {
      "cell_type": "code",
      "source": [
        "def build_user_input_autoencoder_data(scores):\n",
        "    input_latents = np.array([score.user.latent for score in scores])\n",
        "    user_features = np.array([score.user.features for score in scores])\n",
        "    content_features = np.array([score.content.features for score in scores])\n",
        "    input_scores = np.array([score.value() for score in scores])\n",
        "    return input_latents, user_features, content_features, input_scores\n",
        "\n",
        "def build_content_input_autoencoder_data(scores):\n",
        "    input_latents = np.array([score.content.latent for score in scores])\n",
        "    user_features = np.array([score.user.features for score in scores])\n",
        "    content_features = np.array([score.content.features for score in scores])\n",
        "    input_scores = np.array([score.value() for score in scores])\n",
        "    return input_latents, user_features, content_features, input_scores\n"
      ],
      "metadata": {
        "id": "LCFb6lj9SJ9R",
        "colab": {
          "base_uri": "https://localhost:8080/"
        },
        "outputId": "ea2d0255-1563-4957-da81-fdbf72c449eb"
      },
      "execution_count": 730,
      "outputs": [
        {
          "output_type": "stream",
          "name": "stdout",
          "text": [
            "time: 2.61 ms (started: 2022-11-21 08:13:42 +00:00)\n"
          ]
        }
      ]
    },
    {
      "cell_type": "markdown",
      "source": [
        "# train 데이터에는 없는 test 데이터 삭제"
      ],
      "metadata": {
        "id": "5of9xmHI5oFs"
      }
    },
    {
      "cell_type": "code",
      "source": [
        "content_id_2_scores = {}\n",
        "user_id_2_scores = {}\n",
        "\n",
        "for score in train_scores:\n",
        "    content_id_2_scores[score.content.id] = []\n",
        "    user_id_2_scores[score.user.id] = []\n",
        "\n",
        "for score in train_scores:\n",
        "    content_id_2_scores[score.content.id].append(score)\n",
        "    user_id_2_scores[score.user.id].append(score)\n",
        "\n",
        "content_ids = content_id_2_scores.keys()\n",
        "user_ids = user_id_2_scores.keys()\n",
        "\n",
        "to_be_removed_scores = set()\n",
        "for score in test_scores:\n",
        "    if score.content.id not in content_id_2_scores.keys():\n",
        "        to_be_removed_scores.add(score)\n",
        "    if score.user.id not in user_id_2_scores.keys():\n",
        "        to_be_removed_scores.add(score)\n",
        "\n",
        "print(f\"{len(to_be_removed_scores)} scores removed in test_scores.\")\n",
        "for score in to_be_removed_scores:\n",
        "    test_scores.remove(score)"
      ],
      "metadata": {
        "colab": {
          "base_uri": "https://localhost:8080/"
        },
        "id": "qyoJtbpZ6FQR",
        "outputId": "d409d691-513c-40c7-c106-faa5c31fa2ca"
      },
      "execution_count": 731,
      "outputs": [
        {
          "output_type": "stream",
          "name": "stdout",
          "text": [
            "32 scores removed in test_scores.\n",
            "time: 473 ms (started: 2022-11-21 08:13:42 +00:00)\n"
          ]
        }
      ]
    },
    {
      "cell_type": "code",
      "source": [],
      "metadata": {
        "id": "nKLlozbAy8Sz",
        "colab": {
          "base_uri": "https://localhost:8080/"
        },
        "outputId": "b03603eb-f3f9-46e1-9334-5a0e3f5a2404"
      },
      "execution_count": 731,
      "outputs": [
        {
          "output_type": "stream",
          "name": "stdout",
          "text": [
            "time: 483 ms (started: 2022-11-21 08:13:42 +00:00)\n"
          ]
        }
      ]
    },
    {
      "cell_type": "markdown",
      "source": [
        "# 사용자의 rating 수 파악"
      ],
      "metadata": {
        "id": "7256_WUx0SBO"
      }
    },
    {
      "cell_type": "code",
      "source": [
        "user_id_2_scores = {}\n",
        "for score in train_scores:\n",
        "    user_id_2_scores[score.user.id] = []\n",
        "\n",
        "for score in train_scores:\n",
        "    user_id_2_scores[score.user.id].append(score)\n",
        "\n",
        "l = [len(l) for l in user_id_2_scores.values()]\n",
        "print(l)"
      ],
      "metadata": {
        "colab": {
          "base_uri": "https://localhost:8080/"
        },
        "id": "cyA1dwOxy8P9",
        "outputId": "f0e87680-7dac-4ad6-b92b-2e5316a7c0bb"
      },
      "execution_count": 732,
      "outputs": [
        {
          "output_type": "stream",
          "name": "stdout",
          "text": [
            "[204, 227, 166, 122, 229, 81, 51, 171, 98, 292, 28, 33, 241, 320, 397, 218, 302, 325, 141, 272, 392, 255, 212, 182, 303, 106, 196, 253, 183, 571, 108, 22, 71, 153, 134, 91, 186, 251, 105, 164, 90, 90, 134, 42, 90, 25, 62, 73, 393, 131, 287, 23, 17, 65, 149, 223, 102, 337, 306, 157, 208, 191, 96, 321, 179, 238, 138, 95, 87, 289, 71, 177, 26, 25, 114, 16, 200, 29, 49, 123, 146, 115, 180, 78, 540, 183, 41, 108, 163, 204, 103, 158, 115, 26, 44, 63, 317, 91, 187, 133, 38, 181, 156, 89, 73, 46, 113, 103, 190, 41, 186, 417, 118, 252, 124, 245, 53, 22, 53, 40, 187, 135, 145, 188, 20, 217, 18, 41, 138, 86, 115, 27, 46, 226, 105, 246, 46, 144, 53, 275, 119, 82, 64, 101, 134, 230, 124, 33, 39, 17, 263, 72, 90, 116, 55, 20, 16, 165, 309, 79, 219, 149, 80, 41, 141, 70, 50, 157, 37, 116, 332, 204, 60, 215, 42, 29, 310, 247, 84, 190, 113, 123, 93, 107, 23, 234, 22, 213, 123, 32, 35, 266, 71, 129, 259, 53, 116, 134, 377, 233, 94, 20, 237, 29, 122, 180, 139, 109, 367, 97, 179, 41, 102, 26, 90, 26, 26, 54, 144, 162, 130, 244, 51, 48, 107, 155, 126, 33, 227, 177, 76, 48, 35, 105, 120, 94, 159, 426, 48, 126, 168, 16, 17, 105, 26, 115, 222, 138, 323, 181, 191, 87, 21, 88, 78, 23, 169, 47, 36, 163, 18, 222, 65, 107, 38, 22, 191, 18, 262, 173, 53, 269, 147, 103, 128, 245, 51, 17, 130, 116, 141, 77, 66, 17, 81, 20, 50, 42, 120, 223, 222, 32, 15, 36, 55, 84, 17, 127, 21, 19, 107, 105, 92, 23, 117, 59, 179, 36, 23, 163, 44, 47, 44, 101, 69, 102, 29, 104, 307, 142, 41, 110, 189, 76, 174, 18, 218, 55, 183, 192, 17, 44, 160, 17, 91, 43, 520, 44, 26, 34, 153, 48, 151, 49, 82, 95, 142, 171, 166, 89, 76, 88, 162, 36, 34, 121, 173, 58, 125, 188, 31, 81, 24, 155, 54, 27, 124, 197, 173, 141, 213, 246, 195, 42, 192, 63, 190, 265, 50, 76, 99, 22, 20, 60, 83, 174, 43, 128, 182, 20, 253, 214, 18, 18, 208, 102, 112, 43, 148, 179, 24, 117, 314, 79, 32, 41, 59, 86, 20, 80, 16, 69, 101, 285, 87, 62, 17, 51, 77, 61, 147, 18, 61, 73, 20, 17, 85, 40, 54, 75, 50, 116, 80, 36, 292, 15, 162, 111, 177, 25, 44, 139, 97, 108, 228, 20, 17, 53, 114, 257, 40, 57, 23, 156, 37, 170, 78, 87, 26, 241, 38, 18, 109, 44, 117, 35, 66, 166, 78, 55, 22, 287, 216, 76, 65, 85, 162, 44, 90, 98, 212, 29, 29, 100, 47, 60, 112, 101, 16, 88, 157, 45, 133, 54, 83, 32, 135, 31, 41, 28, 85, 158, 59, 219, 16, 136, 30, 41, 255, 108, 91, 132, 157, 40, 62, 142, 20, 62, 21, 148, 351, 78, 63, 100, 18, 42, 43, 62, 103, 153, 121, 20, 46, 110, 16, 80, 41, 108, 109, 42, 67, 35, 30, 19, 68, 29, 34, 49, 20, 25, 38, 96, 115, 115, 26, 276, 27, 17, 20, 213, 44, 34, 24, 150, 44, 63, 124, 28, 22, 75, 51, 62, 36, 42, 23, 50, 15, 27, 71, 18, 18, 27, 16, 75, 119, 77, 81, 332, 47, 104, 20, 67, 47, 89, 33, 58, 28, 47, 111, 17, 117, 21, 31, 22, 38, 99, 56, 16, 23, 51, 41, 27, 20, 65, 62, 15, 14, 139, 78, 39, 28, 69, 28, 30, 58, 131, 36, 23, 57, 21, 57, 89, 83, 31, 23, 44, 28, 90, 60, 39, 144, 53, 35, 43, 34, 47, 98, 107, 28, 77, 48, 28, 49, 27, 25, 28, 54, 24, 21, 72, 14, 15, 54, 22, 126, 62, 189, 23, 39, 149, 26, 37, 18, 21, 97, 17, 21, 146, 47, 24, 20, 24, 19, 83, 41, 44, 13, 16, 18, 51, 65, 40, 21, 22, 58, 23, 73, 32, 15, 54, 60, 51, 52, 18, 24, 32, 74, 29, 26, 18, 25, 53, 39, 18, 23, 54, 18, 22, 18, 21, 26, 48, 25, 30, 25, 20, 109, 21, 41, 69, 59, 40, 126, 48, 53, 36, 223, 20, 111, 19, 161, 19, 35, 19, 21, 25, 32, 38, 52, 84, 19, 16, 17, 20, 37, 14, 86, 71, 27, 71, 18, 63, 63, 107, 36, 42, 16, 17, 40, 37, 41, 29, 26, 53, 30, 45, 27, 22, 26, 54, 32, 103, 30, 50, 19, 29, 54, 62, 17, 88, 33, 18, 22, 51, 33, 40, 89, 19, 23, 40, 19, 16, 18, 39, 28, 67, 47, 45, 40, 45, 18, 33, 17, 26, 28, 61, 18, 38, 24, 19, 55, 32, 51, 34, 29, 17, 26, 21, 35, 21, 26, 44, 20, 26, 53, 28, 35, 17, 33, 23, 26, 30, 29, 15, 31, 71, 18, 31, 16, 19, 19, 22, 17, 38, 47, 15, 31, 25, 19, 23, 29, 28, 34, 39, 18, 19, 35, 31, 43, 16, 18, 31, 60, 26, 23, 18, 22, 37, 14, 18, 27, 36, 21, 34, 23, 20, 20, 40, 16, 19, 37, 18, 22, 22, 23, 20, 46, 22, 26, 27, 23, 16, 24, 20, 17, 19, 17, 18, 26, 24, 16, 18, 18, 17, 25, 44, 33, 20, 27, 20, 25, 30, 25, 16, 18, 15, 15, 13, 13, 25, 25, 16, 17, 20, 18, 16, 17, 17, 27, 15, 18, 17, 21]\n",
            "time: 141 ms (started: 2022-11-21 08:13:43 +00:00)\n"
          ]
        }
      ]
    },
    {
      "cell_type": "code",
      "source": [
        "print(np.mean(l))"
      ],
      "metadata": {
        "colab": {
          "base_uri": "https://localhost:8080/"
        },
        "id": "OwS0GIUb0aIm",
        "outputId": "be798fc0-9213-4207-edea-0a44403eb91c"
      },
      "execution_count": 733,
      "outputs": [
        {
          "output_type": "stream",
          "name": "stdout",
          "text": [
            "84.83563096500531\n",
            "time: 736 µs (started: 2022-11-21 08:13:43 +00:00)\n"
          ]
        }
      ]
    },
    {
      "cell_type": "code",
      "source": [
        "plt.plot(l)\n",
        "plt.show()"
      ],
      "metadata": {
        "colab": {
          "base_uri": "https://localhost:8080/",
          "height": 283
        },
        "id": "hQZ6x3agz9kc",
        "outputId": "1aef0fc6-69dc-4b8d-da4c-1a81253a19e3"
      },
      "execution_count": 734,
      "outputs": [
        {
          "output_type": "display_data",
          "data": {
            "text/plain": [
              "<Figure size 432x288 with 1 Axes>"
            ],
            "image/png": "[encoded data removed]"
          },
          "metadata": {
            "needs_background": "light"
          }
        },
        {
          "output_type": "stream",
          "name": "stdout",
          "text": [
            "time: 144 ms (started: 2022-11-21 08:13:43 +00:00)\n"
          ]
        }
      ]
    },
    {
      "cell_type": "code",
      "source": [
        "plt.hist(l, bins=100)\n",
        "plt.show()"
      ],
      "metadata": {
        "colab": {
          "base_uri": "https://localhost:8080/",
          "height": 283
        },
        "id": "0ABcIJGNy8NR",
        "outputId": "3b1cfa4b-ee00-44f8-820a-fb6541a595b7"
      },
      "execution_count": 735,
      "outputs": [
        {
          "output_type": "display_data",
          "data": {
            "text/plain": [
              "<Figure size 432x288 with 1 Axes>"
            ],
            "image/png": "[encoded data removed]"
          },
          "metadata": {
            "needs_background": "light"
          }
        },
        {
          "output_type": "stream",
          "name": "stdout",
          "text": [
            "time: 262 ms (started: 2022-11-21 08:13:43 +00:00)\n"
          ]
        }
      ]
    },
    {
      "cell_type": "code",
      "source": [],
      "metadata": {
        "id": "Rp5xaz5by8Jh",
        "colab": {
          "base_uri": "https://localhost:8080/"
        },
        "outputId": "ee8c5033-23ac-4603-c4a2-4edf5484f0e0"
      },
      "execution_count": 735,
      "outputs": [
        {
          "output_type": "stream",
          "name": "stdout",
          "text": [
            "time: 270 ms (started: 2022-11-21 08:13:43 +00:00)\n"
          ]
        }
      ]
    },
    {
      "cell_type": "markdown",
      "source": [
        "# 학습 위한 함수"
      ],
      "metadata": {
        "id": "Mltz4VK5Dtq-"
      }
    },
    {
      "cell_type": "code",
      "source": [
        "def build_input_output(train_scores):\n",
        "    size = len(train_scores)\n",
        "    ul = np.empty((size, LATENT_SIZE))\n",
        "    uf = np.empty((size, USER_FEATURE_SIZE))\n",
        "    cf = np.empty((size, CONTENT_FEATURE_SIZE))\n",
        "    cl = np.empty((size, LATENT_SIZE))\n",
        "    s = np.empty((size, SCORE_SIZE))\n",
        "    for i, score in enumerate(train_scores):\n",
        "        ul[i] = score.user.latent\n",
        "        uf[i] = score.user.features\n",
        "        cf[i] = score.content.features\n",
        "        cl[i] = score.content.latent\n",
        "        s[i] = score.values\n",
        "    return ul, uf, cf, cl, s"
      ],
      "metadata": {
        "id": "i16KBv9TACRC",
        "colab": {
          "base_uri": "https://localhost:8080/"
        },
        "outputId": "ac493730-73a2-4e0c-b1cb-6d86dec8d358"
      },
      "execution_count": 736,
      "outputs": [
        {
          "output_type": "stream",
          "name": "stdout",
          "text": [
            "time: 1.66 ms (started: 2022-11-21 08:13:44 +00:00)\n"
          ]
        }
      ]
    },
    {
      "cell_type": "code",
      "source": [
        "LAMDA = 1.0\n",
        "\n",
        "def build_content_id_2_latent(train_scores, content_latents):\n",
        "    id_2_latents = {}\n",
        "    for score in train_scores:\n",
        "        id_2_latents[score.content.id] = []\n",
        "    for score, content_latent in zip(train_scores, content_latents):\n",
        "        id_2_latents[score.content.id].append(content_latent)\n",
        "    id_2_latent = {}\n",
        "    for id, latents in id_2_latents.items():\n",
        "        id_2_latent[id] = np.mean(np.array(latents), axis=0)\n",
        "    return id_2_latent\n",
        "\n",
        "def build_user_id_2_latent(train_scores, user_latents):\n",
        "    id_2_latents = {}\n",
        "    for score in train_scores:\n",
        "        id_2_latents[score.user.id] = []\n",
        "    for score, user_latent in zip(train_scores, user_latents):\n",
        "        id_2_latents[score.user.id].append(user_latent)\n",
        "    id_2_latent = {}\n",
        "    for id, latents in id_2_latents.items():\n",
        "        id_2_latent[id] = np.mean(np.array(latents), axis=0)\n",
        "    return id_2_latent\n",
        "\n",
        "def update_content_latents_by_encoder(encoder, train_scores):\n",
        "    user_latents, user_features, content_features, _, scores = build_input_output(train_scores)\n",
        "    content_latents = encoder.predict((user_latents, user_features, content_features, scores), batch_size=BATCH_SIZE)\n",
        "    id_2_latent = build_content_id_2_latent(train_scores, content_latents)\n",
        "    for score in train_scores:\n",
        "        score.content.latent = (1-LAMDA)*score.content.latent + LAMDA*id_2_latent[score.content.id]\n",
        "\n",
        "def update_user_latents_by_encoder(encoder, train_scores):\n",
        "    _, user_features, content_features, content_latents, scores = build_input_output(train_scores)\n",
        "    user_latents = encoder.predict((content_latents, user_features, content_features, scores), batch_size=BATCH_SIZE)\n",
        "    id_2_latent = build_user_id_2_latent(train_scores, user_latents)\n",
        "    for score in train_scores:\n",
        "        score.user.latent = (1-LAMDA)*score.user.latent + LAMDA*id_2_latent[score.user.id]\n"
      ],
      "metadata": {
        "id": "wBqT4ofy_kBR",
        "colab": {
          "base_uri": "https://localhost:8080/"
        },
        "outputId": "ba0e1772-7276-4ba5-9e16-da7a3327f659"
      },
      "execution_count": 737,
      "outputs": [
        {
          "output_type": "stream",
          "name": "stdout",
          "text": [
            "time: 3.99 ms (started: 2022-11-21 08:13:44 +00:00)\n"
          ]
        }
      ]
    },
    {
      "cell_type": "code",
      "source": [
        "from scipy.stats import gaussian_kde\n",
        "import seaborn as sns\n",
        "\n",
        "\n",
        "def update_test_score_latents_with_train_scores(train_scores, test_scores):\n",
        "\n",
        "    user_id_2_latents = {}\n",
        "    content_id_2_latents = {}\n",
        "    for score in train_scores:\n",
        "        user_id_2_latents[score.user.id] = []\n",
        "        content_id_2_latents[score.content.id] = []\n",
        "\n",
        "    for score in train_scores:\n",
        "        user_id_2_latents[score.user.id].append(score.user.latent)\n",
        "        content_id_2_latents[score.content.id].append(score.content.latent)\n",
        "\n",
        "    user_id_2_latent = {}\n",
        "    content_id_2_latent = {}\n",
        "\n",
        "    def get_mean_latent(latents):\n",
        "        return np.mean(np.array(latents), axis=0)\n",
        "\n",
        "    for id in user_id_2_latents.keys():\n",
        "        user_id_2_latent[id] = get_mean_latent(user_id_2_latents[id])\n",
        "    for id in content_id_2_latents.keys():\n",
        "        content_id_2_latent[id] = get_mean_latent(content_id_2_latents[id])\n",
        "\n",
        "    for score in test_scores:\n",
        "        score.user.latent = user_id_2_latent[score.user.id]\n",
        "        score.content.latent = content_id_2_latent[score.content.id]"
      ],
      "metadata": {
        "id": "x1saCSChHugv",
        "colab": {
          "base_uri": "https://localhost:8080/"
        },
        "outputId": "9f18142d-6c1a-46b7-f28a-ab090b3f0b9e"
      },
      "execution_count": 738,
      "outputs": [
        {
          "output_type": "stream",
          "name": "stdout",
          "text": [
            "time: 2.92 ms (started: 2022-11-21 08:13:44 +00:00)\n"
          ]
        }
      ]
    },
    {
      "cell_type": "code",
      "source": [
        "\n",
        "def evaluate(train_scores, test_scores):\n",
        "\n",
        "    ul, uf, cf, cl, true_scores = build_input_output(train_scores)\n",
        "    predicted_scores = user_input_autoencoder.decoder.predict((ul, uf, cf, cl), batch_size=BATCH_SIZE)\n",
        "    mse = mean_squared_error((true_scores*SCORE_DIFF+SCORE_MIN), (predicted_scores*SCORE_DIFF+SCORE_MIN))\n",
        "    train_rmse = round(mse**0.5, 4)\n",
        "\n",
        "\n",
        "    update_test_score_latents_with_train_scores(train_scores, test_scores)\n",
        "\n",
        "    ul, uf, cf, cl, true_scores = build_input_output(test_scores)\n",
        "    predicted_scores = user_input_autoencoder.decoder.predict((ul, uf, cf, cl), batch_size=BATCH_SIZE)\n",
        "    mse = mean_squared_error((true_scores*SCORE_DIFF+SCORE_MIN), (predicted_scores*SCORE_DIFF+SCORE_MIN))\n",
        "    test_rmse = round(mse**0.5, 4)  \n",
        "\n",
        "    return train_rmse, test_rmse"
      ],
      "metadata": {
        "id": "ijrANY0hG0wL",
        "colab": {
          "base_uri": "https://localhost:8080/"
        },
        "outputId": "dc4f1a9d-177f-4c40-c9bf-7ef01b900165"
      },
      "execution_count": 739,
      "outputs": [
        {
          "output_type": "stream",
          "name": "stdout",
          "text": [
            "time: 1.72 ms (started: 2022-11-21 08:13:44 +00:00)\n"
          ]
        }
      ]
    },
    {
      "cell_type": "code",
      "source": [
        "class Logger():\n",
        "    def __init__(self):\n",
        "        self.key_2_list = {}\n",
        "\n",
        "    def _prepare_list(self, key):\n",
        "        if key not in self.key_2_list.keys():\n",
        "            self.key_2_list[key] = []\n",
        "\n",
        "    def append(self, keras_history):\n",
        "        for key in keras_history.history.keys():\n",
        "            self._prepare_list(key)\n",
        "            self.key_2_list[key].append(keras_history.history[key][-1])\n",
        "\n",
        "    def __getitem__(self, key):\n",
        "        return self.key_2_list[key]\n"
      ],
      "metadata": {
        "id": "bKc-Ysdbs-0z",
        "colab": {
          "base_uri": "https://localhost:8080/"
        },
        "outputId": "eb7a6c86-4c87-4b95-d4f6-b4f5466d5dfa"
      },
      "execution_count": 740,
      "outputs": [
        {
          "output_type": "stream",
          "name": "stdout",
          "text": [
            "time: 1.53 ms (started: 2022-11-21 08:13:44 +00:00)\n"
          ]
        }
      ]
    },
    {
      "cell_type": "code",
      "source": [
        "def update_score_latent_with_encoders(uie, cie, iter_count, train_scores):\n",
        "    for i in range(iter_count):\n",
        "        ul, uf, cf, cl, s = build_input_output(train_scores)\n",
        "        predicted_cl = uie.predict((ul, uf, cf, s), batch_size=BATCH_SIZE)\n",
        "        predicted_ul = cie.predict((cl, uf, cf, s), batch_size=BATCH_SIZE)\n",
        "\n",
        "        for score, ul, cl in zip(train_scores, predicted_ul, predicted_cl):\n",
        "            score.user.latent = ul\n",
        "            score.content.latent = cl\n"
      ],
      "metadata": {
        "colab": {
          "base_uri": "https://localhost:8080/"
        },
        "id": "mLxudmUln5BF",
        "outputId": "b98a3a0e-d456-43d8-98de-d94f6c03a4bc"
      },
      "execution_count": 741,
      "outputs": [
        {
          "output_type": "stream",
          "name": "stdout",
          "text": [
            "time: 1.36 ms (started: 2022-11-21 08:13:44 +00:00)\n"
          ]
        }
      ]
    },
    {
      "cell_type": "code",
      "source": [
        "sample_user_id = 1\n",
        "scores_of_sample_user = [score for score in train_scores if score.user.id==sample_user_id]\n",
        "\n",
        "def draw_user_latent_distribution(scores):\n",
        "    sample_user_latents = np.array([score.user.latent for score in scores])\n",
        "    plt.scatter(sample_user_latents[:,0], sample_user_latents[:,1])\n",
        "    plt.xlim(0,1)\n",
        "    plt.ylim(0,1)\n",
        "    plt.show()\n",
        "draw_user_latent_distribution(scores_of_sample_user)    "
      ],
      "metadata": {
        "colab": {
          "base_uri": "https://localhost:8080/",
          "height": 287
        },
        "id": "7vdp16EXBVut",
        "outputId": "7e3f4821-de31-48d0-90f4-1f2f71d835e2"
      },
      "execution_count": 742,
      "outputs": [
        {
          "output_type": "display_data",
          "data": {
            "text/plain": [
              "<Figure size 432x288 with 1 Axes>"
            ],
            "image/png": "[encoded data removed]"
          },
          "metadata": {
            "needs_background": "light"
          }
        },
        {
          "output_type": "stream",
          "name": "stdout",
          "text": [
            "time: 195 ms (started: 2022-11-21 08:13:44 +00:00)\n"
          ]
        }
      ]
    },
    {
      "cell_type": "markdown",
      "source": [
        "# 학습 실행"
      ],
      "metadata": {
        "id": "z4zh-pFQXR9T"
      }
    },
    {
      "cell_type": "code",
      "source": [],
      "metadata": {
        "colab": {
          "base_uri": "https://localhost:8080/"
        },
        "id": "7uHJi2z8DgWK",
        "outputId": "ab3767dd-8770-4eb1-b62b-983c4dbe6930"
      },
      "execution_count": 742,
      "outputs": [
        {
          "output_type": "stream",
          "name": "stdout",
          "text": [
            "time: 202 ms (started: 2022-11-21 08:13:44 +00:00)\n"
          ]
        }
      ]
    },
    {
      "cell_type": "code",
      "source": [
        "EPOCH = 10\n",
        "\n",
        "\n",
        "user_input_autoencoder.encoder.trainable = True\n",
        "user_input_autoencoder.decoder.trainable = True\n",
        "content_input_autoencoder.encoder.trainable = True\n",
        "content_input_autoencoder.decoder.trainable = True\n",
        "\n",
        "\n",
        "train_rmses = []\n",
        "test_rmses = []\n",
        "logger1 = Logger()\n",
        "logger2 = Logger()\n",
        "\n",
        "draw_user_latent_distribution(scores_of_sample_user)    \n",
        "for epoch in range(EPOCH):\n",
        "    print(f\"{epoch}/{EPOCH}\")\n",
        "    np.random.shuffle(train_scores)\n",
        "\n",
        "    ul, uf, cf, cl, s = build_input_output(train_scores)\n",
        "    autoencoder1_hist = user_input_autoencoder.fit((ul, uf, cf, s), (cl, s),\n",
        "        epochs=1, batch_size=BATCH_SIZE, validation_split=0.1)        \n",
        "    update_content_latents_by_encoder(user_input_autoencoder.encoder, train_scores)\n",
        "\n",
        "    ul, uf, cf, cl, s = build_input_output(train_scores)\n",
        "    autoencoder2_hist = content_input_autoencoder.fit((cl, uf, cf, s), (ul, s),\n",
        "        epochs=1, batch_size=BATCH_SIZE, validation_split=0.1)\n",
        "    update_user_latents_by_encoder(content_input_autoencoder.encoder, train_scores)\n",
        "\n",
        "\n",
        "    train_rmse, test_rmse = evaluate(train_scores, test_scores)\n",
        "    print(f\"train_rmse={train_rmse}, test_rmse={test_rmse}, diff={round(test_rmse-train_rmse,5)}\")\n",
        "    draw_user_latent_distribution(scores_of_sample_user)    \n",
        "\n",
        "    logger1.append(autoencoder1_hist)\n",
        "    logger2.append(autoencoder2_hist)\n",
        "\n",
        "    train_rmses.append(train_rmse)\n",
        "    test_rmses.append(test_rmse)\n"
      ],
      "metadata": {
        "colab": {
          "base_uri": "https://localhost:8080/",
          "height": 1000
        },
        "id": "unw7HhIj6FLx",
        "outputId": "66d6085c-3d99-44c8-ea15-d6c72ada0528"
      },
      "execution_count": 743,
      "outputs": [
        {
          "output_type": "display_data",
          "data": {
            "text/plain": [
              "<Figure size 432x288 with 1 Axes>"
            ],
            "image/png": "[encoded data removed]"
          },
          "metadata": {
            "needs_background": "light"
          }
        },
        {
          "output_type": "stream",
          "name": "stdout",
          "text": [
            "0/10\n",
            "282/282 [==============================] - 5s 8ms/step - loss: 0.1566 - UIAE.E_loss: 0.0790 - D_loss: 0.0776 - val_loss: 0.1524 - val_UIAE.E_loss: 0.0772 - val_D_loss: 0.0751\n",
            "282/282 [==============================] - 4s 7ms/step - loss: 0.1548 - CIAE.E_loss: 0.0830 - D_loss: 0.0718 - val_loss: 0.1430 - val_CIAE.E_loss: 0.0815 - val_D_loss: 0.0614\n",
            "313/313 [==============================] - 1s 2ms/step\n",
            "313/313 [==============================] - 1s 2ms/step\n",
            "313/313 [==============================] - 1s 2ms/step\n",
            "313/313 [==============================] - 1s 2ms/step\n",
            "313/313 [==============================] - 1s 2ms/step\n",
            "313/313 [==============================] - 1s 2ms/step\n",
            "313/313 [==============================] - 1s 2ms/step\n",
            "313/313 [==============================] - 1s 2ms/step\n",
            "313/313 [==============================] - 1s 2ms/step\n",
            "313/313 [==============================] - 1s 2ms/step\n",
            "313/313 [==============================] - 1s 2ms/step\n",
            "313/313 [==============================] - 1s 2ms/step\n",
            "313/313 [==============================] - 1s 2ms/step\n",
            "78/78 [==============================] - 0s 2ms/step\n",
            "train_rmse=1.0646, test_rmse=1.0673, diff=0.0027\n"
          ]
        },
        {
          "output_type": "display_data",
          "data": {
            "text/plain": [
              "<Figure size 432x288 with 1 Axes>"
            ],
            "image/png": "[encoded data removed]"
          },
          "metadata": {
            "needs_background": "light"
          }
        },
        {
          "output_type": "stream",
          "name": "stdout",
          "text": [
            "1/10\n",
            "282/282 [==============================] - 2s 6ms/step - loss: 0.0680 - UIAE.E_loss: 0.0012 - D_loss: 0.0668 - val_loss: 0.0586 - val_UIAE.E_loss: 0.0054 - val_D_loss: 0.0532\n",
            "282/282 [==============================] - 2s 6ms/step - loss: 0.0204 - CIAE.E_loss: 0.0072 - D_loss: 0.0132 - val_loss: 0.0103 - val_CIAE.E_loss: 0.0063 - val_D_loss: 0.0040\n",
            "313/313 [==============================] - 1s 2ms/step\n",
            "313/313 [==============================] - 1s 2ms/step\n",
            "313/313 [==============================] - 1s 2ms/step\n",
            "313/313 [==============================] - 1s 2ms/step\n",
            "313/313 [==============================] - 1s 2ms/step\n",
            "313/313 [==============================] - 1s 2ms/step\n",
            "313/313 [==============================] - 1s 2ms/step\n",
            "313/313 [==============================] - 1s 2ms/step\n",
            "313/313 [==============================] - 1s 2ms/step\n",
            "313/313 [==============================] - 1s 2ms/step\n",
            "313/313 [==============================] - 1s 2ms/step\n",
            "313/313 [==============================] - 1s 2ms/step\n",
            "313/313 [==============================] - 1s 2ms/step\n",
            "78/78 [==============================] - 0s 2ms/step\n",
            "train_rmse=0.9807, test_rmse=0.9959, diff=0.0152\n"
          ]
        },
        {
          "output_type": "display_data",
          "data": {
            "text/plain": [
              "<Figure size 432x288 with 1 Axes>"
            ],
            "image/png": "[encoded data removed]"
          },
          "metadata": {
            "needs_background": "light"
          }
        },
        {
          "output_type": "stream",
          "name": "stdout",
          "text": [
            "2/10\n",
            "282/282 [==============================] - 2s 6ms/step - loss: 0.0264 - UIAE.E_loss: 0.0082 - D_loss: 0.0182 - val_loss: 0.0135 - val_UIAE.E_loss: 0.0072 - val_D_loss: 0.0064\n",
            "282/282 [==============================] - 2s 6ms/step - loss: 0.0103 - CIAE.E_loss: 0.0046 - D_loss: 0.0058 - val_loss: 0.0082 - val_CIAE.E_loss: 0.0041 - val_D_loss: 0.0041\n",
            "313/313 [==============================] - 1s 2ms/step\n",
            "313/313 [==============================] - 1s 2ms/step\n",
            "313/313 [==============================] - 1s 2ms/step\n",
            "313/313 [==============================] - 1s 2ms/step\n",
            "313/313 [==============================] - 1s 2ms/step\n",
            "313/313 [==============================] - 1s 2ms/step\n",
            "313/313 [==============================] - 1s 2ms/step\n",
            "313/313 [==============================] - 1s 2ms/step\n",
            "313/313 [==============================] - 1s 2ms/step\n",
            "313/313 [==============================] - 1s 2ms/step\n",
            "313/313 [==============================] - 1s 2ms/step\n",
            "313/313 [==============================] - 1s 2ms/step\n",
            "313/313 [==============================] - 1s 2ms/step\n",
            "78/78 [==============================] - 0s 2ms/step\n",
            "train_rmse=0.9331, test_rmse=0.9587, diff=0.0256\n"
          ]
        },
        {
          "output_type": "display_data",
          "data": {
            "text/plain": [
              "<Figure size 432x288 with 1 Axes>"
            ],
            "image/png": "[encoded data removed]"
          },
          "metadata": {
            "needs_background": "light"
          }
        },
        {
          "output_type": "stream",
          "name": "stdout",
          "text": [
            "3/10\n",
            "282/282 [==============================] - 2s 6ms/step - loss: 0.0118 - UIAE.E_loss: 0.0058 - D_loss: 0.0060 - val_loss: 0.0098 - val_UIAE.E_loss: 0.0048 - val_D_loss: 0.0050\n",
            "282/282 [==============================] - 2s 6ms/step - loss: 0.0095 - CIAE.E_loss: 0.0037 - D_loss: 0.0058 - val_loss: 0.0074 - val_CIAE.E_loss: 0.0034 - val_D_loss: 0.0041\n",
            "313/313 [==============================] - 1s 2ms/step\n",
            "313/313 [==============================] - 1s 2ms/step\n",
            "313/313 [==============================] - 1s 2ms/step\n",
            "313/313 [==============================] - 1s 2ms/step\n",
            "313/313 [==============================] - 1s 2ms/step\n",
            "313/313 [==============================] - 1s 2ms/step\n",
            "313/313 [==============================] - 1s 2ms/step\n",
            "313/313 [==============================] - 1s 2ms/step\n",
            "313/313 [==============================] - 1s 2ms/step\n",
            "313/313 [==============================] - 1s 2ms/step\n",
            "313/313 [==============================] - 1s 2ms/step\n",
            "313/313 [==============================] - 1s 2ms/step\n",
            "313/313 [==============================] - 1s 2ms/step\n",
            "78/78 [==============================] - 0s 2ms/step\n",
            "train_rmse=0.9346, test_rmse=0.9603, diff=0.0257\n"
          ]
        },
        {
          "output_type": "display_data",
          "data": {
            "text/plain": [
              "<Figure size 432x288 with 1 Axes>"
            ],
            "image/png": "[encoded data removed]"
          },
          "metadata": {
            "needs_background": "light"
          }
        },
        {
          "output_type": "stream",
          "name": "stdout",
          "text": [
            "4/10\n",
            "282/282 [==============================] - 2s 6ms/step - loss: 0.0096 - UIAE.E_loss: 0.0045 - D_loss: 0.0052 - val_loss: 0.0074 - val_UIAE.E_loss: 0.0039 - val_D_loss: 0.0035\n",
            "282/282 [==============================] - 2s 6ms/step - loss: 0.0084 - CIAE.E_loss: 0.0033 - D_loss: 0.0051 - val_loss: 0.0074 - val_CIAE.E_loss: 0.0031 - val_D_loss: 0.0043\n",
            "313/313 [==============================] - 1s 2ms/step\n",
            "313/313 [==============================] - 1s 2ms/step\n",
            "313/313 [==============================] - 1s 2ms/step\n",
            "313/313 [==============================] - 1s 2ms/step\n",
            "313/313 [==============================] - 1s 2ms/step\n",
            "313/313 [==============================] - 1s 2ms/step\n",
            "313/313 [==============================] - 1s 2ms/step\n",
            "313/313 [==============================] - 1s 2ms/step\n",
            "313/313 [==============================] - 1s 2ms/step\n",
            "313/313 [==============================] - 1s 2ms/step\n",
            "313/313 [==============================] - 1s 2ms/step\n",
            "313/313 [==============================] - 1s 2ms/step\n",
            "313/313 [==============================] - 1s 2ms/step\n",
            "78/78 [==============================] - 0s 2ms/step\n",
            "train_rmse=0.9365, test_rmse=0.9612, diff=0.0247\n"
          ]
        },
        {
          "output_type": "display_data",
          "data": {
            "text/plain": [
              "<Figure size 432x288 with 1 Axes>"
            ],
            "image/png": "[encoded data removed]"
          },
          "metadata": {
            "needs_background": "light"
          }
        },
        {
          "output_type": "stream",
          "name": "stdout",
          "text": [
            "5/10\n",
            "282/282 [==============================] - 2s 6ms/step - loss: 0.0084 - UIAE.E_loss: 0.0037 - D_loss: 0.0047 - val_loss: 0.0077 - val_UIAE.E_loss: 0.0034 - val_D_loss: 0.0044\n",
            "282/282 [==============================] - 2s 6ms/step - loss: 0.0079 - CIAE.E_loss: 0.0030 - D_loss: 0.0049 - val_loss: 0.0076 - val_CIAE.E_loss: 0.0029 - val_D_loss: 0.0047\n",
            "313/313 [==============================] - 1s 2ms/step\n",
            "313/313 [==============================] - 1s 2ms/step\n",
            "313/313 [==============================] - 1s 2ms/step\n",
            "313/313 [==============================] - 1s 2ms/step\n",
            "313/313 [==============================] - 1s 2ms/step\n",
            "313/313 [==============================] - 1s 2ms/step\n",
            "313/313 [==============================] - 1s 2ms/step\n",
            "313/313 [==============================] - 1s 2ms/step\n",
            "313/313 [==============================] - 1s 2ms/step\n",
            "313/313 [==============================] - 1s 2ms/step\n",
            "313/313 [==============================] - 1s 2ms/step\n",
            "313/313 [==============================] - 1s 2ms/step\n",
            "313/313 [==============================] - 1s 2ms/step\n",
            "78/78 [==============================] - 0s 2ms/step\n",
            "train_rmse=0.9476, test_rmse=0.9712, diff=0.0236\n"
          ]
        },
        {
          "output_type": "display_data",
          "data": {
            "text/plain": [
              "<Figure size 432x288 with 1 Axes>"
            ],
            "image/png": "[encoded data removed]"
          },
          "metadata": {
            "needs_background": "light"
          }
        },
        {
          "output_type": "stream",
          "name": "stdout",
          "text": [
            "6/10\n",
            "282/282 [==============================] - 2s 6ms/step - loss: 0.0076 - UIAE.E_loss: 0.0032 - D_loss: 0.0044 - val_loss: 0.0080 - val_UIAE.E_loss: 0.0030 - val_D_loss: 0.0051\n",
            "282/282 [==============================] - 2s 6ms/step - loss: 0.0075 - CIAE.E_loss: 0.0028 - D_loss: 0.0047 - val_loss: 0.0069 - val_CIAE.E_loss: 0.0028 - val_D_loss: 0.0041\n",
            "313/313 [==============================] - 1s 2ms/step\n",
            "313/313 [==============================] - 1s 2ms/step\n",
            "313/313 [==============================] - 1s 2ms/step\n",
            "313/313 [==============================] - 1s 2ms/step\n",
            "313/313 [==============================] - 1s 2ms/step\n",
            "313/313 [==============================] - 1s 2ms/step\n",
            "313/313 [==============================] - 1s 2ms/step\n",
            "313/313 [==============================] - 1s 2ms/step\n",
            "313/313 [==============================] - 1s 2ms/step\n",
            "313/313 [==============================] - 1s 2ms/step\n",
            "313/313 [==============================] - 1s 2ms/step\n",
            "313/313 [==============================] - 1s 2ms/step\n",
            "313/313 [==============================] - 1s 2ms/step\n",
            "78/78 [==============================] - 0s 2ms/step\n",
            "train_rmse=0.9506, test_rmse=0.9735, diff=0.0229\n"
          ]
        },
        {
          "output_type": "display_data",
          "data": {
            "text/plain": [
              "<Figure size 432x288 with 1 Axes>"
            ],
            "image/png": "[encoded data removed]"
          },
          "metadata": {
            "needs_background": "light"
          }
        },
        {
          "output_type": "stream",
          "name": "stdout",
          "text": [
            "7/10\n",
            "282/282 [==============================] - 2s 6ms/step - loss: 0.0070 - UIAE.E_loss: 0.0028 - D_loss: 0.0042 - val_loss: 0.0057 - val_UIAE.E_loss: 0.0026 - val_D_loss: 0.0030\n",
            "282/282 [==============================] - 2s 6ms/step - loss: 0.0072 - CIAE.E_loss: 0.0027 - D_loss: 0.0045 - val_loss: 0.0060 - val_CIAE.E_loss: 0.0026 - val_D_loss: 0.0034\n",
            "313/313 [==============================] - 1s 2ms/step\n",
            "313/313 [==============================] - 1s 2ms/step\n",
            "313/313 [==============================] - 1s 2ms/step\n",
            "313/313 [==============================] - 1s 2ms/step\n",
            "313/313 [==============================] - 1s 2ms/step\n",
            "313/313 [==============================] - 1s 2ms/step\n",
            "313/313 [==============================] - 1s 2ms/step\n",
            "313/313 [==============================] - 1s 2ms/step\n",
            "313/313 [==============================] - 1s 2ms/step\n",
            "313/313 [==============================] - 1s 2ms/step\n",
            "313/313 [==============================] - 1s 2ms/step\n",
            "313/313 [==============================] - 1s 2ms/step\n",
            "313/313 [==============================] - 1s 2ms/step\n",
            "78/78 [==============================] - 0s 2ms/step\n",
            "train_rmse=0.9439, test_rmse=0.9669, diff=0.023\n"
          ]
        },
        {
          "output_type": "display_data",
          "data": {
            "text/plain": [
              "<Figure size 432x288 with 1 Axes>"
            ],
            "image/png": "[encoded data removed]"
          },
          "metadata": {
            "needs_background": "light"
          }
        },
        {
          "output_type": "stream",
          "name": "stdout",
          "text": [
            "8/10\n",
            "282/282 [==============================] - 2s 6ms/step - loss: 0.0067 - UIAE.E_loss: 0.0026 - D_loss: 0.0041 - val_loss: 0.0049 - val_UIAE.E_loss: 0.0025 - val_D_loss: 0.0024\n",
            "282/282 [==============================] - 2s 6ms/step - loss: 0.0069 - CIAE.E_loss: 0.0025 - D_loss: 0.0044 - val_loss: 0.0062 - val_CIAE.E_loss: 0.0024 - val_D_loss: 0.0038\n",
            "313/313 [==============================] - 1s 2ms/step\n",
            "313/313 [==============================] - 1s 2ms/step\n",
            "313/313 [==============================] - 1s 2ms/step\n",
            "313/313 [==============================] - 1s 2ms/step\n",
            "313/313 [==============================] - 1s 2ms/step\n",
            "313/313 [==============================] - 1s 2ms/step\n",
            "313/313 [==============================] - 1s 2ms/step\n",
            "313/313 [==============================] - 1s 2ms/step\n",
            "313/313 [==============================] - 1s 2ms/step\n",
            "313/313 [==============================] - 1s 2ms/step\n",
            "313/313 [==============================] - 1s 2ms/step\n",
            "313/313 [==============================] - 1s 2ms/step\n",
            "313/313 [==============================] - 1s 2ms/step\n",
            "78/78 [==============================] - 0s 2ms/step\n",
            "train_rmse=0.9599, test_rmse=0.9822, diff=0.0223\n"
          ]
        },
        {
          "output_type": "display_data",
          "data": {
            "text/plain": [
              "<Figure size 432x288 with 1 Axes>"
            ],
            "image/png": "[encoded data removed]"
          },
          "metadata": {
            "needs_background": "light"
          }
        },
        {
          "output_type": "stream",
          "name": "stdout",
          "text": [
            "9/10\n",
            "282/282 [==============================] - 2s 6ms/step - loss: 0.0063 - UIAE.E_loss: 0.0024 - D_loss: 0.0039 - val_loss: 0.0059 - val_UIAE.E_loss: 0.0024 - val_D_loss: 0.0035\n",
            "282/282 [==============================] - 2s 7ms/step - loss: 0.0067 - CIAE.E_loss: 0.0024 - D_loss: 0.0043 - val_loss: 0.0064 - val_CIAE.E_loss: 0.0024 - val_D_loss: 0.0040\n",
            "313/313 [==============================] - 1s 2ms/step\n",
            "313/313 [==============================] - 1s 2ms/step\n",
            "313/313 [==============================] - 1s 2ms/step\n",
            "313/313 [==============================] - 1s 2ms/step\n",
            "313/313 [==============================] - 1s 2ms/step\n",
            "313/313 [==============================] - 1s 2ms/step\n",
            "313/313 [==============================] - 1s 2ms/step\n",
            "313/313 [==============================] - 1s 2ms/step\n",
            "313/313 [==============================] - 1s 2ms/step\n",
            "313/313 [==============================] - 1s 2ms/step\n",
            "313/313 [==============================] - 1s 2ms/step\n",
            "313/313 [==============================] - 1s 2ms/step\n",
            "313/313 [==============================] - 1s 2ms/step\n",
            "78/78 [==============================] - 0s 2ms/step\n",
            "train_rmse=0.9725, test_rmse=0.9941, diff=0.0216\n"
          ]
        },
        {
          "output_type": "display_data",
          "data": {
            "text/plain": [
              "<Figure size 432x288 with 1 Axes>"
            ],
            "image/png": "[encoded data removed]"
          },
          "metadata": {
            "needs_background": "light"
          }
        },
        {
          "output_type": "stream",
          "name": "stdout",
          "text": [
            "time: 3min 11s (started: 2022-11-21 08:13:44 +00:00)\n"
          ]
        }
      ]
    },
    {
      "cell_type": "code",
      "source": [
        "def show_total_loss(logger1, logger2):\n",
        "\n",
        "    print(\"total loss\")\n",
        "\n",
        "    plt.figure(figsize=(10,4))\n",
        "    plt.subplot(1,2,1)\n",
        "    plt.plot(logger1['loss'])\n",
        "\n",
        "    plt.subplot(1,2,2)\n",
        "    plt.plot(logger2['loss'])\n",
        "\n",
        "    plt.show()\n",
        "\n",
        "    print(round(logger1['loss'][-1],5), round(logger2['loss'][-1],5))\n",
        "    print()\n",
        "\n",
        "def show_latent_loss(logger1, logger2):\n",
        "\n",
        "    print(\"latent loss\")\n",
        "\n",
        "    plt.figure(figsize=(10,4))\n",
        "    plt.subplot(1,2,1)\n",
        "    plt.plot(logger1['UIAE.E_loss'])\n",
        "\n",
        "    plt.subplot(1,2,2)\n",
        "    plt.plot(logger2['CIAE.E_loss'])\n",
        "\n",
        "    plt.show()\n",
        "\n",
        "    print(round(logger1['UIAE.E_loss'][-1],5), round(logger2['CIAE.E_loss'][-1],5))\n",
        "    print()\n",
        "\n",
        "\n",
        "def show_score_loss(logger1, logger2):\n",
        "\n",
        "    print(\"score loss\")\n",
        "\n",
        "    plt.figure(figsize=(10,4))\n",
        "    plt.subplot(1,2,1)\n",
        "    plt.plot(logger1['D_loss'])\n",
        "\n",
        "    plt.subplot(1,2,2)\n",
        "    plt.plot(logger2['D_loss'])\n",
        "\n",
        "    plt.show()\n",
        "\n",
        "    print(round(logger1['D_loss'][-1],5), round(logger2['D_loss'][-1],5))\n",
        "    print()\n",
        "\n",
        "def show_rmse(train_rmses, test_rmses):\n",
        "\n",
        "    print(\"RMSE\")\n",
        "    plt.plot(train_rmses, label=\"train rmse\")\n",
        "    plt.plot(test_rmses, label=\"test rmse\")\n",
        "    plt.legend()\n",
        "    plt.show()\n",
        "\n",
        "    print(f\"train_rmse={round(train_rmses[-1],5)}, test_rmse={round(test_rmses[-1],5)}\")\n",
        "    print()\n",
        "\n",
        "def show_loss(logger1, logger2, train_rmses, test_rmses):\n",
        "\n",
        "    show_total_loss(logger1, logger2)\n",
        "    show_latent_loss(logger1, logger2)\n",
        "    show_score_loss(logger1, logger2)\n",
        "    show_rmse(train_rmses, test_rmses)"
      ],
      "metadata": {
        "colab": {
          "base_uri": "https://localhost:8080/"
        },
        "id": "ZZngYJ_dRR9M",
        "outputId": "615bcd6e-4957-402e-8e5f-cb7431cc4a90"
      },
      "execution_count": 744,
      "outputs": [
        {
          "output_type": "stream",
          "name": "stdout",
          "text": [
            "time: 4.51 ms (started: 2022-11-21 08:16:56 +00:00)\n"
          ]
        }
      ]
    },
    {
      "cell_type": "code",
      "source": [
        "show_loss(logger1, logger2, train_rmses, test_rmses)"
      ],
      "metadata": {
        "colab": {
          "base_uri": "https://localhost:8080/",
          "height": 1000
        },
        "id": "QEIt5xKzR6xw",
        "outputId": "edbd1bb1-d80d-4cfe-ea06-2b438ea06a25"
      },
      "execution_count": 745,
      "outputs": [
        {
          "output_type": "stream",
          "name": "stdout",
          "text": [
            "total loss\n"
          ]
        },
        {
          "output_type": "display_data",
          "data": {
            "text/plain": [
              "<Figure size 720x288 with 2 Axes>"
            ],
            "image/png": "[encoded data removed]"
          },
          "metadata": {
            "needs_background": "light"
          }
        },
        {
          "output_type": "stream",
          "name": "stdout",
          "text": [
            "0.0063 0.00668\n",
            "\n",
            "latent loss\n"
          ]
        },
        {
          "output_type": "display_data",
          "data": {
            "text/plain": [
              "<Figure size 720x288 with 2 Axes>"
            ],
            "image/png": "[encoded data removed]"
          },
          "metadata": {
            "needs_background": "light"
          }
        },
        {
          "output_type": "stream",
          "name": "stdout",
          "text": [
            "0.00241 0.0024\n",
            "\n",
            "score loss\n"
          ]
        },
        {
          "output_type": "display_data",
          "data": {
            "text/plain": [
              "<Figure size 720x288 with 2 Axes>"
            ],
            "image/png": "[encoded data removed]"
          },
          "metadata": {
            "needs_background": "light"
          }
        },
        {
          "output_type": "stream",
          "name": "stdout",
          "text": [
            "0.00389 0.00428\n",
            "\n",
            "RMSE\n"
          ]
        },
        {
          "output_type": "display_data",
          "data": {
            "text/plain": [
              "<Figure size 432x288 with 1 Axes>"
            ],
            "image/png": "[encoded data removed]"
          },
          "metadata": {
            "needs_background": "light"
          }
        },
        {
          "output_type": "stream",
          "name": "stdout",
          "text": [
            "train_rmse=0.9725, test_rmse=0.9941\n",
            "\n",
            "time: 860 ms (started: 2022-11-21 08:16:56 +00:00)\n"
          ]
        }
      ]
    },
    {
      "cell_type": "markdown",
      "source": [
        "# 학습 결과 살펴보기"
      ],
      "metadata": {
        "id": "MIUJWwTSsHG7"
      }
    },
    {
      "cell_type": "markdown",
      "source": [
        "## AE의 입력으로 구한 score"
      ],
      "metadata": {
        "id": "hK2QEBJAj9eI"
      }
    },
    {
      "cell_type": "code",
      "source": [
        "ul, uf, cf, cl, s = build_input_output(train_scores)\n",
        "predicted_latents, predicted_scores = user_input_autoencoder.predict((ul, uf, cf, s), batch_size=BATCH_SIZE)        \n",
        "\n",
        "mse = mean_squared_error(s, predicted_scores)\n",
        "print(mse)"
      ],
      "metadata": {
        "colab": {
          "base_uri": "https://localhost:8080/"
        },
        "id": "qB7K30YaoBs-",
        "outputId": "0f4d226d-32e1-4d9e-9147-e46ba661c340"
      },
      "execution_count": 409,
      "outputs": [
        {
          "output_type": "stream",
          "name": "stdout",
          "text": [
            "313/313 [==============================] - 1s 2ms/step\n",
            "0.0015753455971252014\n",
            "time: 1.34 s (started: 2022-11-21 07:15:39 +00:00)\n"
          ]
        }
      ]
    },
    {
      "cell_type": "markdown",
      "source": [
        "## encoder의 출력을 decoder 입력으로 구한 score"
      ],
      "metadata": {
        "id": "HMGffsMzkAuB"
      }
    },
    {
      "cell_type": "code",
      "source": [
        "predicted_cl = user_input_autoencoder.encoder.predict((ul, uf, cf, s), batch_size=BATCH_SIZE)\n",
        "predicted_scores = user_input_autoencoder.decoder.predict((ul, uf, cf, predicted_cl), batch_size=BATCH_SIZE)\n",
        "\n",
        "mse = mean_squared_error(s, predicted_scores)\n",
        "print(mse)"
      ],
      "metadata": {
        "colab": {
          "base_uri": "https://localhost:8080/"
        },
        "id": "KVBQYnofoBgr",
        "outputId": "9f5d0ca9-5ed0-4f74-c20a-41241d4d46e4"
      },
      "execution_count": 410,
      "outputs": [
        {
          "output_type": "stream",
          "name": "stdout",
          "text": [
            "313/313 [==============================] - 1s 2ms/step\n",
            "313/313 [==============================] - 1s 2ms/step\n",
            "0.0015753455971252014\n",
            "time: 1.3 s (started: 2022-11-21 07:15:40 +00:00)\n"
          ]
        }
      ]
    },
    {
      "cell_type": "markdown",
      "source": [
        "## train data로 직접 decoder로 구한 score"
      ],
      "metadata": {
        "id": "CEABtOSikJOM"
      }
    },
    {
      "cell_type": "code",
      "source": [
        "predicted_scores = user_input_autoencoder.decoder.predict((ul, uf, cf, cl), batch_size=BATCH_SIZE)\n",
        "\n",
        "mse = mean_squared_error(s, predicted_scores)\n",
        "print(mse)"
      ],
      "metadata": {
        "colab": {
          "base_uri": "https://localhost:8080/"
        },
        "id": "kSITV2oRpsmS",
        "outputId": "af58f528-4e6d-4a65-d27e-72c0ce9d9b42"
      },
      "execution_count": 411,
      "outputs": [
        {
          "output_type": "stream",
          "name": "stdout",
          "text": [
            "313/313 [==============================] - 1s 2ms/step\n",
            "0.0015754077034875417\n",
            "time: 682 ms (started: 2022-11-21 07:15:42 +00:00)\n"
          ]
        }
      ]
    },
    {
      "cell_type": "markdown",
      "source": [
        "## train data 담긴 한 유저의 latent"
      ],
      "metadata": {
        "id": "HPtlsLERkQMi"
      }
    },
    {
      "cell_type": "code",
      "source": [
        "scores_of_user_id_1 = user_id_2_scores[1]\n",
        "print(np.array([ score.user.latent for score in scores_of_user_id_1])[:5])"
      ],
      "metadata": {
        "colab": {
          "base_uri": "https://localhost:8080/"
        },
        "id": "dmkIn6Tov6y2",
        "outputId": "e9134131-bf41-4834-9878-7753d5734f56"
      },
      "execution_count": 412,
      "outputs": [
        {
          "output_type": "stream",
          "name": "stdout",
          "text": [
            "[[0.55324227 0.42348176]\n",
            " [0.5058062  0.38551828]\n",
            " [0.5104508  0.3739408 ]\n",
            " [0.54022187 0.379183  ]\n",
            " [0.5205011  0.40730494]]\n",
            "time: 2.43 ms (started: 2022-11-21 07:15:42 +00:00)\n"
          ]
        }
      ]
    },
    {
      "cell_type": "markdown",
      "source": [
        "## encoder로 구한 한 유저의 latent"
      ],
      "metadata": {
        "id": "CKhe1ONHkUcC"
      }
    },
    {
      "cell_type": "code",
      "source": [
        "ul, uf, cf, cl, s = build_input_output(scores_of_user_id_1)\n",
        "predicted_user_latents = content_input_autoencoder.encoder.predict((cl, uf, cf, s), batch_size=BATCH_SIZE)\n",
        "\n",
        "print(predicted_user_latents[:5])"
      ],
      "metadata": {
        "colab": {
          "base_uri": "https://localhost:8080/"
        },
        "id": "6EiyhDdVu0ap",
        "outputId": "62187e93-7fcb-4287-8074-5be9d51df89b"
      },
      "execution_count": 413,
      "outputs": [
        {
          "output_type": "stream",
          "name": "stdout",
          "text": [
            "1/1 [==============================] - 0s 19ms/step\n",
            "[[0.55324227 0.42348176]\n",
            " [0.5058062  0.38551828]\n",
            " [0.5104508  0.3739408 ]\n",
            " [0.54022187 0.379183  ]\n",
            " [0.5205011  0.40730494]]\n",
            "time: 60.2 ms (started: 2022-11-21 07:15:43 +00:00)\n"
          ]
        }
      ]
    },
    {
      "cell_type": "code",
      "source": [
        "print(np.std(predicted_user_latents, axis=0))"
      ],
      "metadata": {
        "colab": {
          "base_uri": "https://localhost:8080/"
        },
        "id": "vtsjF5UGwIQB",
        "outputId": "c810bf66-4bd0-43a2-f408-421f286e8c52"
      },
      "execution_count": 414,
      "outputs": [
        {
          "output_type": "stream",
          "name": "stdout",
          "text": [
            "[0.01813746 0.01522256]\n",
            "time: 1.04 ms (started: 2022-11-21 07:15:43 +00:00)\n"
          ]
        }
      ]
    },
    {
      "cell_type": "code",
      "source": [
        "plt.subplot(1,2,1)\n",
        "plt.hist(predicted_user_latents[:,0])\n",
        "plt.subplot(1,2,2)\n",
        "plt.hist(predicted_user_latents[:,1])\n",
        "plt.show()\n",
        "print(\"latent variation width :\", np.max(predicted_user_latents, axis=0)-np.min(predicted_user_latents, axis=0))"
      ],
      "metadata": {
        "colab": {
          "base_uri": "https://localhost:8080/",
          "height": 301
        },
        "id": "RR2i99MnwRQG",
        "outputId": "18ed7290-d1dc-4611-cd53-8bfd7d487ff5"
      },
      "execution_count": 415,
      "outputs": [
        {
          "output_type": "display_data",
          "data": {
            "text/plain": [
              "<Figure size 432x288 with 2 Axes>"
            ],
            "image/png": "[encoded data removed]"
          },
          "metadata": {
            "needs_background": "light"
          }
        },
        {
          "output_type": "stream",
          "name": "stdout",
          "text": [
            "latent variation width : [0.10750508 0.10597906]\n",
            "time: 240 ms (started: 2022-11-21 07:15:43 +00:00)\n"
          ]
        }
      ]
    },
    {
      "cell_type": "code",
      "source": [],
      "metadata": {
        "id": "cMBG3sFn6FFu",
        "colab": {
          "base_uri": "https://localhost:8080/"
        },
        "outputId": "d5c5341b-9fc3-4941-a32c-6e1543ba4187"
      },
      "execution_count": 415,
      "outputs": [
        {
          "output_type": "stream",
          "name": "stdout",
          "text": [
            "time: 246 ms (started: 2022-11-21 07:15:43 +00:00)\n"
          ]
        }
      ]
    },
    {
      "cell_type": "code",
      "source": [
        "from sklearn.metrics import mean_squared_error\n",
        "\n",
        "SCORE_NAMES = [\"rating\", \"dummy1\", \"dummy2\", \"dummy3\", \"dummy4\"]\n",
        "def show_regression_result(train_or_test, true_scores, predicted_scores):\n",
        "\n",
        "    print(f\"{train_or_test} Data\")\n",
        "    print(\"true_score : predicted_score\")\n",
        "    plt.figure(figsize=(SCORE_SIZE*4, 3))\n",
        "    for i in range(SCORE_SIZE):\n",
        "        plt.subplot(1,SCORE_SIZE,i+1)\n",
        "        plt.scatter(true_scores[:,i], predicted_scores[:,i], marker='.')\n",
        "        plt.xlim((0.0, 1.0))\n",
        "        plt.ylim((0.0, 1.0))\n",
        "        plt.title(f'{SCORE_NAMES[i]}')\n",
        "        plt.xlabel('truth')\n",
        "        plt.ylabel('predicted')\n",
        "    plt.show()\n",
        "\n",
        "    # mse = mean_squared_error(true_scores, predicted_scores)\n",
        "    # print(\"mse :\",mse)\n",
        "    # rmse = mse**0.5\n",
        "    # print(\"rmse :\",rmse)\n",
        "\n",
        "    mse = mean_squared_error((true_scores*SCORE_DIFF+SCORE_MIN), (predicted_scores*SCORE_DIFF+SCORE_MIN))\n",
        "    # print(\"mse :\",mse)\n",
        "    rmse = mse**0.5\n",
        "    print(\"rmse :\",rmse)\n"
      ],
      "metadata": {
        "id": "lrumFZMYQGY8",
        "colab": {
          "base_uri": "https://localhost:8080/"
        },
        "outputId": "929e311b-b0b9-499d-b24f-1a2c8e69b604"
      },
      "execution_count": 416,
      "outputs": [
        {
          "output_type": "stream",
          "name": "stdout",
          "text": [
            "time: 1.99 ms (started: 2022-11-21 07:15:43 +00:00)\n"
          ]
        }
      ]
    },
    {
      "cell_type": "code",
      "source": [
        "ul, uf, cf, cl, s = build_input_output(train_scores)\n",
        "predicted_scores = user_input_autoencoder.decoder.predict((ul, uf, cf, cl), batch_size=BATCH_SIZE)"
      ],
      "metadata": {
        "colab": {
          "base_uri": "https://localhost:8080/"
        },
        "id": "HDvFRbWK6FDg",
        "outputId": "71332a48-642a-411e-92dd-97d3c056e0e3"
      },
      "execution_count": 417,
      "outputs": [
        {
          "output_type": "stream",
          "name": "stdout",
          "text": [
            "313/313 [==============================] - 1s 2ms/step\n",
            "time: 1.03 s (started: 2022-11-21 07:15:43 +00:00)\n"
          ]
        }
      ]
    },
    {
      "cell_type": "code",
      "source": [
        "show_regression_result(\"Train\", s, predicted_scores)"
      ],
      "metadata": {
        "colab": {
          "base_uri": "https://localhost:8080/",
          "height": 313
        },
        "id": "OGcHZHX26E_q",
        "outputId": "c41beba7-9cdd-4bca-f1e1-2ea8d0545da9"
      },
      "execution_count": 418,
      "outputs": [
        {
          "output_type": "stream",
          "name": "stdout",
          "text": [
            "Train Data\n",
            "true_score : predicted_score\n"
          ]
        },
        {
          "output_type": "display_data",
          "data": {
            "text/plain": [
              "<Figure size 288x216 with 1 Axes>"
            ],
            "image/png": "[encoded data removed]"
          },
          "metadata": {
            "needs_background": "light"
          }
        },
        {
          "output_type": "stream",
          "name": "stdout",
          "text": [
            "rmse : 0.15876562797231875\n",
            "time: 192 ms (started: 2022-11-21 07:15:44 +00:00)\n"
          ]
        }
      ]
    },
    {
      "cell_type": "code",
      "source": [],
      "metadata": {
        "id": "qYoBFTOeP7nJ",
        "colab": {
          "base_uri": "https://localhost:8080/"
        },
        "outputId": "8f278808-30cd-4e6e-f510-6c12b9ba3243"
      },
      "execution_count": 419,
      "outputs": [
        {
          "output_type": "stream",
          "name": "stdout",
          "text": [
            "time: 2.66 ms (started: 2022-11-21 07:15:44 +00:00)\n"
          ]
        }
      ]
    },
    {
      "cell_type": "code",
      "source": [
        "update_test_score_latents_with_train_scores(train_scores, test_scores)\n",
        "ul, uf, cf, cl, s = build_input_output(test_scores)\n",
        "predicted_scores = user_input_autoencoder.decoder.predict((ul, uf, cf, cl), batch_size=BATCH_SIZE)\n"
      ],
      "metadata": {
        "colab": {
          "base_uri": "https://localhost:8080/"
        },
        "id": "EfnhNUvp6E7Q",
        "outputId": "b5c912da-ac4f-4ff2-cc43-6ed64e9a2eef"
      },
      "execution_count": 420,
      "outputs": [
        {
          "output_type": "stream",
          "name": "stdout",
          "text": [
            "78/78 [==============================] - 0s 2ms/step\n",
            "time: 644 ms (started: 2022-11-21 07:15:44 +00:00)\n"
          ]
        }
      ]
    },
    {
      "cell_type": "code",
      "source": [
        "show_regression_result(\"Test\", s, predicted_scores)"
      ],
      "metadata": {
        "colab": {
          "base_uri": "https://localhost:8080/",
          "height": 313
        },
        "id": "J3ErK8Dp6E3b",
        "outputId": "7ca6ef92-4711-4cb9-d8e4-ed0383dfbdfd"
      },
      "execution_count": 421,
      "outputs": [
        {
          "output_type": "stream",
          "name": "stdout",
          "text": [
            "Test Data\n",
            "true_score : predicted_score\n"
          ]
        },
        {
          "output_type": "display_data",
          "data": {
            "text/plain": [
              "<Figure size 288x216 with 1 Axes>"
            ],
            "image/png": "[encoded data removed]"
          },
          "metadata": {
            "needs_background": "light"
          }
        },
        {
          "output_type": "stream",
          "name": "stdout",
          "text": [
            "rmse : 1.0241827691471717\n",
            "time: 139 ms (started: 2022-11-21 07:15:45 +00:00)\n"
          ]
        }
      ]
    },
    {
      "cell_type": "code",
      "source": [],
      "metadata": {
        "colab": {
          "base_uri": "https://localhost:8080/"
        },
        "id": "oahR9i-agz2u",
        "outputId": "69846290-2d52-496f-cd0e-617913d12507"
      },
      "execution_count": 421,
      "outputs": [
        {
          "output_type": "stream",
          "name": "stdout",
          "text": [
            "time: 145 ms (started: 2022-11-21 07:15:45 +00:00)\n"
          ]
        }
      ]
    },
    {
      "cell_type": "code",
      "source": [],
      "metadata": {
        "colab": {
          "base_uri": "https://localhost:8080/"
        },
        "id": "PGNP_pcMgzzF",
        "outputId": "5e6b2a05-8dac-4b86-cb5d-724df4343036"
      },
      "execution_count": 421,
      "outputs": [
        {
          "output_type": "stream",
          "name": "stdout",
          "text": [
            "time: 152 ms (started: 2022-11-21 07:15:45 +00:00)\n"
          ]
        }
      ]
    },
    {
      "cell_type": "code",
      "source": [],
      "metadata": {
        "colab": {
          "base_uri": "https://localhost:8080/"
        },
        "id": "y9jUFPaUgzvA",
        "outputId": "7f457d4a-6ad9-4cd2-e9cd-0ab5c65d1695"
      },
      "execution_count": 421,
      "outputs": [
        {
          "output_type": "stream",
          "name": "stdout",
          "text": [
            "time: 158 ms (started: 2022-11-21 07:15:45 +00:00)\n"
          ]
        }
      ]
    },
    {
      "cell_type": "code",
      "source": [],
      "metadata": {
        "colab": {
          "base_uri": "https://localhost:8080/"
        },
        "id": "LVBy-l9Dgzq0",
        "outputId": "eb584abe-8824-44dd-e2b3-e47e53f11c25"
      },
      "execution_count": 421,
      "outputs": [
        {
          "output_type": "stream",
          "name": "stdout",
          "text": [
            "time: 165 ms (started: 2022-11-21 07:15:45 +00:00)\n"
          ]
        }
      ]
    },
    {
      "cell_type": "markdown",
      "source": [
        "# Decoder 추가 학습"
      ],
      "metadata": {
        "id": "uMP1E_r6AIdA"
      }
    },
    {
      "cell_type": "markdown",
      "source": [
        "# 학습 실행"
      ],
      "metadata": {
        "id": "tScOYwJYZch4"
      }
    },
    {
      "cell_type": "code",
      "source": [
        "EPOCH = 10\n",
        "\n",
        "from tensorflow.keras.optimizers import Adam, RMSprop\n",
        "decoder_optimizer = RMSprop(learning_rate=0.001*0.1)\n",
        "user_input_autoencoder.decoder.compile(loss=\"mse\", optimizer=decoder_optimizer)\n",
        "\n",
        "\n",
        "train_rmses = []\n",
        "test_rmses = []\n",
        "logger1 = Logger()\n",
        "logger2 = Logger()\n",
        "\n",
        "ul, uf, cf, cl, s = build_input_output(train_scores)\n",
        "\n",
        "for epoch in range(EPOCH):\n",
        "    print(f\"{epoch}/{EPOCH}\")\n",
        "\n",
        "    autoencoder1_hist = user_input_autoencoder.decoder.fit((ul, uf, cf, cl), s,\n",
        "        epochs=1, batch_size=BATCH_SIZE, validation_split=0.1)        \n",
        "\n",
        "    train_rmse, test_rmse = evaluate(train_scores, test_scores)\n",
        "    print(f\"train_rmse={train_rmse}, test_rmse={test_rmse}, diff={round(test_rmse-train_rmse,5)}\")\n",
        "\n",
        "    train_rmses.append(train_rmse)\n",
        "    test_rmses.append(test_rmse)\n"
      ],
      "metadata": {
        "colab": {
          "base_uri": "https://localhost:8080/",
          "height": 463
        },
        "id": "CWaiLLjxgHL-",
        "outputId": "1d4e63ec-53be-4d5f-d16c-7dc9ad8dcb02"
      },
      "execution_count": 422,
      "outputs": [
        {
          "output_type": "stream",
          "name": "stdout",
          "text": [
            "0/10\n",
            "282/282 [==============================] - 2s 4ms/step - loss: 0.0010 - val_loss: 0.0011\n",
            "287/313 [==========================>...] - ETA: 0s"
          ]
        },
        {
          "output_type": "error",
          "ename": "KeyboardInterrupt",
          "evalue": "ignored",
          "traceback": [
            "\u001b[0;31m---------------------------------------------------------------------------\u001b[0m",
            "\u001b[0;31mKeyboardInterrupt\u001b[0m                         Traceback (most recent call last)",
            "\u001b[0;32m<ipython-input-422-b0fee6e632ce>\u001b[0m in \u001b[0;36m<module>\u001b[0;34m\u001b[0m\n\u001b[1;32m     19\u001b[0m         epochs=1, batch_size=BATCH_SIZE, validation_split=0.1)        \n\u001b[1;32m     20\u001b[0m \u001b[0;34m\u001b[0m\u001b[0m\n\u001b[0;32m---> 21\u001b[0;31m     \u001b[0mtrain_rmse\u001b[0m\u001b[0;34m,\u001b[0m \u001b[0mtest_rmse\u001b[0m \u001b[0;34m=\u001b[0m \u001b[0mevaluate\u001b[0m\u001b[0;34m(\u001b[0m\u001b[0mtrain_scores\u001b[0m\u001b[0;34m,\u001b[0m \u001b[0mtest_scores\u001b[0m\u001b[0;34m)\u001b[0m\u001b[0;34m\u001b[0m\u001b[0;34m\u001b[0m\u001b[0m\n\u001b[0m\u001b[1;32m     22\u001b[0m     \u001b[0mprint\u001b[0m\u001b[0;34m(\u001b[0m\u001b[0;34mf\"train_rmse={train_rmse}, test_rmse={test_rmse}, diff={round(test_rmse-train_rmse,5)}\"\u001b[0m\u001b[0;34m)\u001b[0m\u001b[0;34m\u001b[0m\u001b[0;34m\u001b[0m\u001b[0m\n\u001b[1;32m     23\u001b[0m \u001b[0;34m\u001b[0m\u001b[0m\n",
            "\u001b[0;32m<ipython-input-402-cb44c899454b>\u001b[0m in \u001b[0;36mevaluate\u001b[0;34m(train_scores, test_scores)\u001b[0m\n\u001b[1;32m      2\u001b[0m \u001b[0;34m\u001b[0m\u001b[0m\n\u001b[1;32m      3\u001b[0m     \u001b[0mul\u001b[0m\u001b[0;34m,\u001b[0m \u001b[0muf\u001b[0m\u001b[0;34m,\u001b[0m \u001b[0mcf\u001b[0m\u001b[0;34m,\u001b[0m \u001b[0mcl\u001b[0m\u001b[0;34m,\u001b[0m \u001b[0mtrue_scores\u001b[0m \u001b[0;34m=\u001b[0m \u001b[0mbuild_input_output\u001b[0m\u001b[0;34m(\u001b[0m\u001b[0mtrain_scores\u001b[0m\u001b[0;34m)\u001b[0m\u001b[0;34m\u001b[0m\u001b[0;34m\u001b[0m\u001b[0m\n\u001b[0;32m----> 4\u001b[0;31m     \u001b[0mpredicted_scores\u001b[0m \u001b[0;34m=\u001b[0m \u001b[0muser_input_autoencoder\u001b[0m\u001b[0;34m.\u001b[0m\u001b[0mdecoder\u001b[0m\u001b[0;34m.\u001b[0m\u001b[0mpredict\u001b[0m\u001b[0;34m(\u001b[0m\u001b[0;34m(\u001b[0m\u001b[0mul\u001b[0m\u001b[0;34m,\u001b[0m \u001b[0muf\u001b[0m\u001b[0;34m,\u001b[0m \u001b[0mcf\u001b[0m\u001b[0;34m,\u001b[0m \u001b[0mcl\u001b[0m\u001b[0;34m)\u001b[0m\u001b[0;34m,\u001b[0m \u001b[0mbatch_size\u001b[0m\u001b[0;34m=\u001b[0m\u001b[0mBATCH_SIZE\u001b[0m\u001b[0;34m)\u001b[0m\u001b[0;34m\u001b[0m\u001b[0;34m\u001b[0m\u001b[0m\n\u001b[0m\u001b[1;32m      5\u001b[0m     \u001b[0mmse\u001b[0m \u001b[0;34m=\u001b[0m \u001b[0mmean_squared_error\u001b[0m\u001b[0;34m(\u001b[0m\u001b[0;34m(\u001b[0m\u001b[0mtrue_scores\u001b[0m\u001b[0;34m*\u001b[0m\u001b[0mSCORE_DIFF\u001b[0m\u001b[0;34m+\u001b[0m\u001b[0mSCORE_MIN\u001b[0m\u001b[0;34m)\u001b[0m\u001b[0;34m,\u001b[0m \u001b[0;34m(\u001b[0m\u001b[0mpredicted_scores\u001b[0m\u001b[0;34m*\u001b[0m\u001b[0mSCORE_DIFF\u001b[0m\u001b[0;34m+\u001b[0m\u001b[0mSCORE_MIN\u001b[0m\u001b[0;34m)\u001b[0m\u001b[0;34m)\u001b[0m\u001b[0;34m\u001b[0m\u001b[0;34m\u001b[0m\u001b[0m\n\u001b[1;32m      6\u001b[0m     \u001b[0mtrain_rmse\u001b[0m \u001b[0;34m=\u001b[0m \u001b[0mround\u001b[0m\u001b[0;34m(\u001b[0m\u001b[0mmse\u001b[0m\u001b[0;34m**\u001b[0m\u001b[0;36m0.5\u001b[0m\u001b[0;34m,\u001b[0m \u001b[0;36m4\u001b[0m\u001b[0;34m)\u001b[0m\u001b[0;34m\u001b[0m\u001b[0;34m\u001b[0m\u001b[0m\n",
            "\u001b[0;32m/usr/local/lib/python3.7/dist-packages/keras/utils/traceback_utils.py\u001b[0m in \u001b[0;36merror_handler\u001b[0;34m(*args, **kwargs)\u001b[0m\n\u001b[1;32m     62\u001b[0m     \u001b[0mfiltered_tb\u001b[0m \u001b[0;34m=\u001b[0m \u001b[0;32mNone\u001b[0m\u001b[0;34m\u001b[0m\u001b[0;34m\u001b[0m\u001b[0m\n\u001b[1;32m     63\u001b[0m     \u001b[0;32mtry\u001b[0m\u001b[0;34m:\u001b[0m\u001b[0;34m\u001b[0m\u001b[0;34m\u001b[0m\u001b[0m\n\u001b[0;32m---> 64\u001b[0;31m       \u001b[0;32mreturn\u001b[0m \u001b[0mfn\u001b[0m\u001b[0;34m(\u001b[0m\u001b[0;34m*\u001b[0m\u001b[0margs\u001b[0m\u001b[0;34m,\u001b[0m \u001b[0;34m**\u001b[0m\u001b[0mkwargs\u001b[0m\u001b[0;34m)\u001b[0m\u001b[0;34m\u001b[0m\u001b[0;34m\u001b[0m\u001b[0m\n\u001b[0m\u001b[1;32m     65\u001b[0m     \u001b[0;32mexcept\u001b[0m \u001b[0mException\u001b[0m \u001b[0;32mas\u001b[0m \u001b[0me\u001b[0m\u001b[0;34m:\u001b[0m  \u001b[0;31m# pylint: disable=broad-except\u001b[0m\u001b[0;34m\u001b[0m\u001b[0;34m\u001b[0m\u001b[0m\n\u001b[1;32m     66\u001b[0m       \u001b[0mfiltered_tb\u001b[0m \u001b[0;34m=\u001b[0m \u001b[0m_process_traceback_frames\u001b[0m\u001b[0;34m(\u001b[0m\u001b[0me\u001b[0m\u001b[0;34m.\u001b[0m\u001b[0m__traceback__\u001b[0m\u001b[0;34m)\u001b[0m\u001b[0;34m\u001b[0m\u001b[0;34m\u001b[0m\u001b[0m\n",
            "\u001b[0;32m/usr/local/lib/python3.7/dist-packages/keras/engine/training.py\u001b[0m in \u001b[0;36mpredict\u001b[0;34m(self, x, batch_size, verbose, steps, callbacks, max_queue_size, workers, use_multiprocessing)\u001b[0m\n\u001b[1;32m   2031\u001b[0m           \u001b[0;32mfor\u001b[0m \u001b[0mstep\u001b[0m \u001b[0;32min\u001b[0m \u001b[0mdata_handler\u001b[0m\u001b[0;34m.\u001b[0m\u001b[0msteps\u001b[0m\u001b[0;34m(\u001b[0m\u001b[0;34m)\u001b[0m\u001b[0;34m:\u001b[0m\u001b[0;34m\u001b[0m\u001b[0;34m\u001b[0m\u001b[0m\n\u001b[1;32m   2032\u001b[0m             \u001b[0mcallbacks\u001b[0m\u001b[0;34m.\u001b[0m\u001b[0mon_predict_batch_begin\u001b[0m\u001b[0;34m(\u001b[0m\u001b[0mstep\u001b[0m\u001b[0;34m)\u001b[0m\u001b[0;34m\u001b[0m\u001b[0;34m\u001b[0m\u001b[0m\n\u001b[0;32m-> 2033\u001b[0;31m             \u001b[0mtmp_batch_outputs\u001b[0m \u001b[0;34m=\u001b[0m \u001b[0mself\u001b[0m\u001b[0;34m.\u001b[0m\u001b[0mpredict_function\u001b[0m\u001b[0;34m(\u001b[0m\u001b[0miterator\u001b[0m\u001b[0;34m)\u001b[0m\u001b[0;34m\u001b[0m\u001b[0;34m\u001b[0m\u001b[0m\n\u001b[0m\u001b[1;32m   2034\u001b[0m             \u001b[0;32mif\u001b[0m \u001b[0mdata_handler\u001b[0m\u001b[0;34m.\u001b[0m\u001b[0mshould_sync\u001b[0m\u001b[0;34m:\u001b[0m\u001b[0;34m\u001b[0m\u001b[0;34m\u001b[0m\u001b[0m\n\u001b[1;32m   2035\u001b[0m               \u001b[0mcontext\u001b[0m\u001b[0;34m.\u001b[0m\u001b[0masync_wait\u001b[0m\u001b[0;34m(\u001b[0m\u001b[0;34m)\u001b[0m\u001b[0;34m\u001b[0m\u001b[0;34m\u001b[0m\u001b[0m\n",
            "\u001b[0;32m/usr/local/lib/python3.7/dist-packages/tensorflow/python/util/traceback_utils.py\u001b[0m in \u001b[0;36merror_handler\u001b[0;34m(*args, **kwargs)\u001b[0m\n\u001b[1;32m    148\u001b[0m     \u001b[0mfiltered_tb\u001b[0m \u001b[0;34m=\u001b[0m \u001b[0;32mNone\u001b[0m\u001b[0;34m\u001b[0m\u001b[0;34m\u001b[0m\u001b[0m\n\u001b[1;32m    149\u001b[0m     \u001b[0;32mtry\u001b[0m\u001b[0;34m:\u001b[0m\u001b[0;34m\u001b[0m\u001b[0;34m\u001b[0m\u001b[0m\n\u001b[0;32m--> 150\u001b[0;31m       \u001b[0;32mreturn\u001b[0m \u001b[0mfn\u001b[0m\u001b[0;34m(\u001b[0m\u001b[0;34m*\u001b[0m\u001b[0margs\u001b[0m\u001b[0;34m,\u001b[0m \u001b[0;34m**\u001b[0m\u001b[0mkwargs\u001b[0m\u001b[0;34m)\u001b[0m\u001b[0;34m\u001b[0m\u001b[0;34m\u001b[0m\u001b[0m\n\u001b[0m\u001b[1;32m    151\u001b[0m     \u001b[0;32mexcept\u001b[0m \u001b[0mException\u001b[0m \u001b[0;32mas\u001b[0m \u001b[0me\u001b[0m\u001b[0;34m:\u001b[0m\u001b[0;34m\u001b[0m\u001b[0;34m\u001b[0m\u001b[0m\n\u001b[1;32m    152\u001b[0m       \u001b[0mfiltered_tb\u001b[0m \u001b[0;34m=\u001b[0m \u001b[0m_process_traceback_frames\u001b[0m\u001b[0;34m(\u001b[0m\u001b[0me\u001b[0m\u001b[0;34m.\u001b[0m\u001b[0m__traceback__\u001b[0m\u001b[0;34m)\u001b[0m\u001b[0;34m\u001b[0m\u001b[0;34m\u001b[0m\u001b[0m\n",
            "\u001b[0;32m/usr/local/lib/python3.7/dist-packages/tensorflow/python/eager/def_function.py\u001b[0m in \u001b[0;36m__call__\u001b[0;34m(self, *args, **kwds)\u001b[0m\n\u001b[1;32m    913\u001b[0m \u001b[0;34m\u001b[0m\u001b[0m\n\u001b[1;32m    914\u001b[0m       \u001b[0;32mwith\u001b[0m \u001b[0mOptionalXlaContext\u001b[0m\u001b[0;34m(\u001b[0m\u001b[0mself\u001b[0m\u001b[0;34m.\u001b[0m\u001b[0m_jit_compile\u001b[0m\u001b[0;34m)\u001b[0m\u001b[0;34m:\u001b[0m\u001b[0;34m\u001b[0m\u001b[0;34m\u001b[0m\u001b[0m\n\u001b[0;32m--> 915\u001b[0;31m         \u001b[0mresult\u001b[0m \u001b[0;34m=\u001b[0m \u001b[0mself\u001b[0m\u001b[0;34m.\u001b[0m\u001b[0m_call\u001b[0m\u001b[0;34m(\u001b[0m\u001b[0;34m*\u001b[0m\u001b[0margs\u001b[0m\u001b[0;34m,\u001b[0m \u001b[0;34m**\u001b[0m\u001b[0mkwds\u001b[0m\u001b[0;34m)\u001b[0m\u001b[0;34m\u001b[0m\u001b[0;34m\u001b[0m\u001b[0m\n\u001b[0m\u001b[1;32m    916\u001b[0m \u001b[0;34m\u001b[0m\u001b[0m\n\u001b[1;32m    917\u001b[0m       \u001b[0mnew_tracing_count\u001b[0m \u001b[0;34m=\u001b[0m \u001b[0mself\u001b[0m\u001b[0;34m.\u001b[0m\u001b[0mexperimental_get_tracing_count\u001b[0m\u001b[0;34m(\u001b[0m\u001b[0;34m)\u001b[0m\u001b[0;34m\u001b[0m\u001b[0;34m\u001b[0m\u001b[0m\n",
            "\u001b[0;32m/usr/local/lib/python3.7/dist-packages/tensorflow/python/eager/def_function.py\u001b[0m in \u001b[0;36m_call\u001b[0;34m(self, *args, **kwds)\u001b[0m\n\u001b[1;32m    952\u001b[0m       \u001b[0;31m# In this case we have not created variables on the first call. So we can\u001b[0m\u001b[0;34m\u001b[0m\u001b[0;34m\u001b[0m\u001b[0;34m\u001b[0m\u001b[0m\n\u001b[1;32m    953\u001b[0m       \u001b[0;31m# run the first trace but we should fail if variables are created.\u001b[0m\u001b[0;34m\u001b[0m\u001b[0;34m\u001b[0m\u001b[0;34m\u001b[0m\u001b[0m\n\u001b[0;32m--> 954\u001b[0;31m       \u001b[0mresults\u001b[0m \u001b[0;34m=\u001b[0m \u001b[0mself\u001b[0m\u001b[0;34m.\u001b[0m\u001b[0m_stateful_fn\u001b[0m\u001b[0;34m(\u001b[0m\u001b[0;34m*\u001b[0m\u001b[0margs\u001b[0m\u001b[0;34m,\u001b[0m \u001b[0;34m**\u001b[0m\u001b[0mkwds\u001b[0m\u001b[0;34m)\u001b[0m\u001b[0;34m\u001b[0m\u001b[0;34m\u001b[0m\u001b[0m\n\u001b[0m\u001b[1;32m    955\u001b[0m       \u001b[0;32mif\u001b[0m \u001b[0mself\u001b[0m\u001b[0;34m.\u001b[0m\u001b[0m_created_variables\u001b[0m \u001b[0;32mand\u001b[0m \u001b[0;32mnot\u001b[0m \u001b[0mALLOW_DYNAMIC_VARIABLE_CREATION\u001b[0m\u001b[0;34m:\u001b[0m\u001b[0;34m\u001b[0m\u001b[0;34m\u001b[0m\u001b[0m\n\u001b[1;32m    956\u001b[0m         raise ValueError(\"Creating variables on a non-first call to a function\"\n",
            "\u001b[0;32m/usr/local/lib/python3.7/dist-packages/tensorflow/python/eager/function.py\u001b[0m in \u001b[0;36m__call__\u001b[0;34m(self, *args, **kwargs)\u001b[0m\n\u001b[1;32m   2452\u001b[0m        filtered_flat_args) = self._maybe_define_function(args, kwargs)\n\u001b[1;32m   2453\u001b[0m     return graph_function._call_flat(\n\u001b[0;32m-> 2454\u001b[0;31m         filtered_flat_args, captured_inputs=graph_function.captured_inputs)  # pylint: disable=protected-access\n\u001b[0m\u001b[1;32m   2455\u001b[0m \u001b[0;34m\u001b[0m\u001b[0m\n\u001b[1;32m   2456\u001b[0m   \u001b[0;34m@\u001b[0m\u001b[0mproperty\u001b[0m\u001b[0;34m\u001b[0m\u001b[0;34m\u001b[0m\u001b[0m\n",
            "\u001b[0;32m/usr/local/lib/python3.7/dist-packages/tensorflow/python/eager/function.py\u001b[0m in \u001b[0;36m_call_flat\u001b[0;34m(self, args, captured_inputs, cancellation_manager)\u001b[0m\n\u001b[1;32m   1859\u001b[0m       \u001b[0;31m# No tape is watching; skip to running the function.\u001b[0m\u001b[0;34m\u001b[0m\u001b[0;34m\u001b[0m\u001b[0;34m\u001b[0m\u001b[0m\n\u001b[1;32m   1860\u001b[0m       return self._build_call_outputs(self._inference_function.call(\n\u001b[0;32m-> 1861\u001b[0;31m           ctx, args, cancellation_manager=cancellation_manager))\n\u001b[0m\u001b[1;32m   1862\u001b[0m     forward_backward = self._select_forward_and_backward_functions(\n\u001b[1;32m   1863\u001b[0m         \u001b[0margs\u001b[0m\u001b[0;34m,\u001b[0m\u001b[0;34m\u001b[0m\u001b[0;34m\u001b[0m\u001b[0m\n",
            "\u001b[0;32m/usr/local/lib/python3.7/dist-packages/tensorflow/python/eager/function.py\u001b[0m in \u001b[0;36mcall\u001b[0;34m(self, ctx, args, cancellation_manager)\u001b[0m\n\u001b[1;32m    500\u001b[0m               \u001b[0minputs\u001b[0m\u001b[0;34m=\u001b[0m\u001b[0margs\u001b[0m\u001b[0;34m,\u001b[0m\u001b[0;34m\u001b[0m\u001b[0;34m\u001b[0m\u001b[0m\n\u001b[1;32m    501\u001b[0m               \u001b[0mattrs\u001b[0m\u001b[0;34m=\u001b[0m\u001b[0mattrs\u001b[0m\u001b[0;34m,\u001b[0m\u001b[0;34m\u001b[0m\u001b[0;34m\u001b[0m\u001b[0m\n\u001b[0;32m--> 502\u001b[0;31m               ctx=ctx)\n\u001b[0m\u001b[1;32m    503\u001b[0m         \u001b[0;32melse\u001b[0m\u001b[0;34m:\u001b[0m\u001b[0;34m\u001b[0m\u001b[0;34m\u001b[0m\u001b[0m\n\u001b[1;32m    504\u001b[0m           outputs = execute.execute_with_cancellation(\n",
            "\u001b[0;32m/usr/local/lib/python3.7/dist-packages/tensorflow/python/eager/execute.py\u001b[0m in \u001b[0;36mquick_execute\u001b[0;34m(op_name, num_outputs, inputs, attrs, ctx, name)\u001b[0m\n\u001b[1;32m     53\u001b[0m     \u001b[0mctx\u001b[0m\u001b[0;34m.\u001b[0m\u001b[0mensure_initialized\u001b[0m\u001b[0;34m(\u001b[0m\u001b[0;34m)\u001b[0m\u001b[0;34m\u001b[0m\u001b[0;34m\u001b[0m\u001b[0m\n\u001b[1;32m     54\u001b[0m     tensors = pywrap_tfe.TFE_Py_Execute(ctx._handle, device_name, op_name,\n\u001b[0;32m---> 55\u001b[0;31m                                         inputs, attrs, num_outputs)\n\u001b[0m\u001b[1;32m     56\u001b[0m   \u001b[0;32mexcept\u001b[0m \u001b[0mcore\u001b[0m\u001b[0;34m.\u001b[0m\u001b[0m_NotOkStatusException\u001b[0m \u001b[0;32mas\u001b[0m \u001b[0me\u001b[0m\u001b[0;34m:\u001b[0m\u001b[0;34m\u001b[0m\u001b[0;34m\u001b[0m\u001b[0m\n\u001b[1;32m     57\u001b[0m     \u001b[0;32mif\u001b[0m \u001b[0mname\u001b[0m \u001b[0;32mis\u001b[0m \u001b[0;32mnot\u001b[0m \u001b[0;32mNone\u001b[0m\u001b[0;34m:\u001b[0m\u001b[0;34m\u001b[0m\u001b[0;34m\u001b[0m\u001b[0m\n",
            "\u001b[0;31mKeyboardInterrupt\u001b[0m: "
          ]
        },
        {
          "output_type": "stream",
          "name": "stdout",
          "text": [
            "time: 3.43 s (started: 2022-11-21 07:15:45 +00:00)\n"
          ]
        }
      ]
    },
    {
      "cell_type": "code",
      "source": [
        "show_rmse(train_rmses, test_rmses)"
      ],
      "metadata": {
        "id": "QAP6pgVsAlVH"
      },
      "execution_count": null,
      "outputs": []
    },
    {
      "cell_type": "markdown",
      "source": [
        "# 학습 결과 살펴보기"
      ],
      "metadata": {
        "id": "IqsmiI4xgHX_"
      }
    },
    {
      "cell_type": "markdown",
      "source": [
        "## AE의 입력으로 구한 score"
      ],
      "metadata": {
        "id": "IhyHmCTsgHX_"
      }
    },
    {
      "cell_type": "code",
      "source": [
        "ul, uf, cf, cl, s = build_input_output(train_scores)\n",
        "predicted_latents, predicted_scores = user_input_autoencoder.predict((ul, uf, cf, s), batch_size=BATCH_SIZE)        \n",
        "\n",
        "mse = mean_squared_error(s, predicted_scores)\n",
        "print(mse)"
      ],
      "metadata": {
        "id": "TiCUwHFAgHX_"
      },
      "execution_count": null,
      "outputs": []
    },
    {
      "cell_type": "markdown",
      "source": [
        "## encoder의 출력을 decoder 입력으로 구한 score"
      ],
      "metadata": {
        "id": "upu_hjLggHYA"
      }
    },
    {
      "cell_type": "code",
      "source": [
        "predicted_cl = user_input_autoencoder.encoder.predict((ul, uf, cf, s), batch_size=BATCH_SIZE)\n",
        "predicted_scores = user_input_autoencoder.decoder.predict((ul, uf, cf, predicted_cl), batch_size=BATCH_SIZE)\n",
        "\n",
        "mse = mean_squared_error(s, predicted_scores)\n",
        "print(mse)"
      ],
      "metadata": {
        "id": "KV5m_riEgHYA"
      },
      "execution_count": null,
      "outputs": []
    },
    {
      "cell_type": "markdown",
      "source": [
        "## train data로 직접 decoder로 구한 score"
      ],
      "metadata": {
        "id": "eUKHSFGzgHYA"
      }
    },
    {
      "cell_type": "code",
      "source": [
        "predicted_scores = user_input_autoencoder.decoder.predict((ul, uf, cf, cl), batch_size=BATCH_SIZE)\n",
        "\n",
        "mse = mean_squared_error(s, predicted_scores)\n",
        "print(mse)"
      ],
      "metadata": {
        "id": "-aSiKUYLgHYA"
      },
      "execution_count": null,
      "outputs": []
    },
    {
      "cell_type": "markdown",
      "source": [
        "## train data 담긴 한 유저의 latent"
      ],
      "metadata": {
        "id": "7EDL95cUgHYA"
      }
    },
    {
      "cell_type": "code",
      "source": [
        "scores_of_user_id_1 = user_id_2_scores[1]\n",
        "print(np.array([ score.user.latent for score in scores_of_user_id_1])[:5])"
      ],
      "metadata": {
        "id": "NSkhZh5jgHYA"
      },
      "execution_count": null,
      "outputs": []
    },
    {
      "cell_type": "markdown",
      "source": [
        "## encoder로 구한 한 유저의 latent"
      ],
      "metadata": {
        "id": "9yY_aoergHYA"
      }
    },
    {
      "cell_type": "code",
      "source": [
        "ul, uf, cf, cl, s = build_input_output(scores_of_user_id_1)\n",
        "predicted_user_latents = content_input_autoencoder.encoder.predict((cl, uf, cf, s), batch_size=BATCH_SIZE)\n",
        "\n",
        "print(predicted_user_latents[:5])"
      ],
      "metadata": {
        "id": "LkrAi8UNgHYA"
      },
      "execution_count": null,
      "outputs": []
    },
    {
      "cell_type": "code",
      "source": [
        "print(np.std(predicted_user_latents, axis=0))"
      ],
      "metadata": {
        "id": "3TQBQ6_jgHYA"
      },
      "execution_count": null,
      "outputs": []
    },
    {
      "cell_type": "code",
      "source": [
        "plt.subplot(1,2,1)\n",
        "plt.hist(predicted_user_latents[:,0])\n",
        "plt.subplot(1,2,2)\n",
        "plt.hist(predicted_user_latents[:,1])\n",
        "plt.show()\n",
        "print(\"latent variation width :\", np.max(predicted_user_latents, axis=0)-np.min(predicted_user_latents, axis=0))"
      ],
      "metadata": {
        "id": "7hgS1EIQgHYB"
      },
      "execution_count": null,
      "outputs": []
    },
    {
      "cell_type": "code",
      "source": [
        "ul, uf, cf, cl, s = build_input_output(train_scores)\n",
        "predicted_scores = user_input_autoencoder.decoder.predict((ul, uf, cf, cl))"
      ],
      "metadata": {
        "id": "54doamxxgHYB"
      },
      "execution_count": null,
      "outputs": []
    },
    {
      "cell_type": "code",
      "source": [
        "show_regression_result(\"Train\", s, predicted_scores)"
      ],
      "metadata": {
        "id": "6qlEteLZgHYB"
      },
      "execution_count": null,
      "outputs": []
    },
    {
      "cell_type": "code",
      "source": [
        "update_test_score_latents_with_train_scores(train_scores, test_scores)\n",
        "ul, uf, cf, cl, s = build_input_output(test_scores)\n",
        "predicted_scores = user_input_autoencoder.decoder.predict((ul, uf, cf, cl))\n"
      ],
      "metadata": {
        "id": "lRK5SnxvgHYB"
      },
      "execution_count": null,
      "outputs": []
    },
    {
      "cell_type": "code",
      "source": [
        "show_regression_result(\"Test\", s, predicted_scores)"
      ],
      "metadata": {
        "id": "HGtZ1WstgHYB"
      },
      "execution_count": null,
      "outputs": []
    },
    {
      "cell_type": "code",
      "source": [],
      "metadata": {
        "id": "tU619v1vgHYB"
      },
      "execution_count": null,
      "outputs": []
    },
    {
      "cell_type": "code",
      "source": [],
      "metadata": {
        "id": "Ts0ja0HAMiwf"
      },
      "execution_count": null,
      "outputs": []
    },
    {
      "cell_type": "code",
      "source": [],
      "metadata": {
        "id": "W0zdt_d9XZpE"
      },
      "execution_count": null,
      "outputs": []
    },
    {
      "cell_type": "code",
      "source": [],
      "metadata": {
        "id": "txbGQIiXL9Af"
      },
      "execution_count": null,
      "outputs": []
    },
    {
      "cell_type": "code",
      "source": [],
      "metadata": {
        "id": "3jHVd6CgL8-B"
      },
      "execution_count": null,
      "outputs": []
    },
    {
      "cell_type": "markdown",
      "source": [
        "# 좀 살펴보기"
      ],
      "metadata": {
        "id": "Su4kQEeUr0Qo"
      }
    },
    {
      "cell_type": "code",
      "source": [
        "target_index = -1\n",
        "for i in range(1000):\n",
        "    if s[i]==0.5:\n",
        "        target_index = i\n",
        "        break\n",
        "print(target_index)\n",
        "print(s[target_index])"
      ],
      "metadata": {
        "id": "b9cvQDIJRoLb"
      },
      "execution_count": null,
      "outputs": []
    },
    {
      "cell_type": "code",
      "source": [
        "user_latents, user_features, content_features, content_latents, scores = build_input_output(train_scores)\n",
        "\n",
        "target_index = -1\n",
        "for i in range(1000):\n",
        "    if scores[i][0]==0.5:\n",
        "        target_index = i\n",
        "        break\n",
        "print(f\"target_index={target_index}\")\n",
        "print(scores[target_index])\n",
        "\n",
        "\n",
        "ul = np.empty((100*100, LATENT_SIZE))\n",
        "uf = np.empty((100*100, USER_FEATURE_SIZE))\n",
        "cf = np.empty((100*100, CONTENT_FEATURE_SIZE))\n",
        "cl = np.empty((100*100, LATENT_SIZE))\n",
        "\n",
        "for i in range(100):\n",
        "    for j in range(100):\n",
        "        ul[i*100+j] = user_latents[target_index]\n",
        "        uf[i*100+j] = user_features[target_index]\n",
        "        cf[i*100+j] = content_features[target_index]\n",
        "        cl[i*100+j] = np.array([i*0.01,j*0.01])\n",
        "\n",
        "ps = user_input_autoencoder.decoder.predict((ul, uf, cf, cl), batch_size=BATCH_SIZE)\n",
        "print(\"predicted score\")\n",
        "plt.plot(ps)\n",
        "plt.show()\n",
        "print()\n",
        "\n",
        "ps = np.abs(ps - s[target_index])\n",
        "print(\"diff\")\n",
        "plt.plot(ps)\n",
        "plt.show()\n",
        "print()\n",
        "\n",
        "hm = ps.reshape((100,100))\n",
        "print(\"diff heatmap\")\n",
        "plt.pcolor(hm)\n",
        "plt.show()"
      ],
      "metadata": {
        "id": "86jTP_gqMA6d"
      },
      "execution_count": null,
      "outputs": []
    },
    {
      "cell_type": "code",
      "source": [
        "target_user_id = train_scores[target_index].user.id\n",
        "print(f\"target_user_id={target_user_id}\")\n",
        "\n",
        "scores_of_target_user_id = [score for score in train_scores if score.user.id==target_user_id]\n",
        "print(len(scores_of_target_user_id))\n",
        "\n",
        "uls = np.array([score.user.latent for score in scores_of_target_user_id])\n",
        "plt.scatter(uls[:,0], uls[:,1])\n",
        "plt.xlim(0,1)\n",
        "plt.ylim(0,1)\n",
        "plt.show()\n"
      ],
      "metadata": {
        "id": "lIBYMYr_39x3"
      },
      "execution_count": null,
      "outputs": []
    },
    {
      "cell_type": "markdown",
      "source": [
        "0.5 스코어를 보인 특정 user가 포함된 score들에 대한 decoder의 예측값 분포\n"
      ],
      "metadata": {
        "id": "dBotFvuJ9MDh"
      }
    },
    {
      "cell_type": "code",
      "source": [
        "target_user_id = train_scores[target_index].user.id\n",
        "print(f\"target_user_id={target_user_id}\")\n",
        "\n",
        "scores_of_target_user_id = [score for score in train_scores if score.user.id==target_user_id]\n",
        "print(len(scores_of_target_user_id))\n",
        "\n",
        "cls = np.array([score.content.latent for score in scores_of_target_user_id])\n",
        "\n",
        "plt.scatter(cls[:,0], cls[:,1])\n",
        "plt.xlim(0,1)\n",
        "plt.ylim(0,1)\n",
        "plt.show()\n",
        "\n",
        "ul = np.empty((len(scores_of_target_user_id), LATENT_SIZE))\n",
        "uf = np.empty((len(scores_of_target_user_id), USER_FEATURE_SIZE))\n",
        "cf = np.empty((len(scores_of_target_user_id), CONTENT_FEATURE_SIZE))\n",
        "cl = np.empty((len(scores_of_target_user_id), LATENT_SIZE))\n",
        "s = np.empty((len(scores_of_target_user_id), SCORE_SIZE))\n",
        "\n",
        "first_ul = scores_of_target_user_id[0].user.latent\n",
        "for i, score in enumerate(scores_of_target_user_id):\n",
        "    ul[i] = first_ul # 0.5 스코어가 나온 ul로 고정\n",
        "    uf[i] = score.user.features\n",
        "    cf[i] = score.content.features\n",
        "    cl[i] = score.content.latent\n",
        "    s[i] = score.values\n",
        "\n",
        "ps = decoder.predict((ul, uf, cf, cl))\n",
        "ts = np.full_like(ps, 0.5)\n",
        "mse = mean_squared_error((ts*SCORE_DIFF+SCORE_MIN), (ps*SCORE_DIFF+SCORE_MIN))\n",
        "rmse = round(mse**0.5, 4)  \n",
        "print(f\"rmse={rmse}\")\n",
        "plt.hist(ps, bins=100)\n",
        "plt.show()\n",
        "\n",
        "plt.hist(s, bins=100)\n",
        "plt.show()\n",
        "\n",
        "plt.scatter(s, ps-)\n",
        "plt.show()\n",
        "\n",
        "\n",
        "ps = np.abs(ps-0.5)\n",
        "\n",
        "print(np.mean(ps))\n",
        "\n",
        "hm = np.zeros((100,100))\n",
        "for i, score in enumerate(scores_of_target_user_id):\n",
        "    y, x = (score.content.latent*100).astype(int)\n",
        "    hm[x,y] = ps[i]\n",
        "\n",
        "plt.pcolor(hm)\n",
        "plt.colorbar()\n",
        "plt.show()"
      ],
      "metadata": {
        "id": "qktrarm9O7NQ"
      },
      "execution_count": null,
      "outputs": []
    },
    {
      "cell_type": "code",
      "source": [
        "s = [score.values[0] for score in scores_of_target_user_id]\n",
        "plt.hist(s, bins=100)\n",
        "plt.show()\n",
        "print(len(s))"
      ],
      "metadata": {
        "id": "ckFbzIABVMTt"
      },
      "execution_count": null,
      "outputs": []
    },
    {
      "cell_type": "markdown",
      "source": [
        "같은 user id의 user latent 분포"
      ],
      "metadata": {
        "id": "LAKmB2uD5q87"
      }
    },
    {
      "cell_type": "code",
      "source": [
        "plt.figure(figsize=(15,15))\n",
        "for target_user_id in range(1,1+100):\n",
        "    same_user_id_scores = [score for score in train_scores if score.user.id==target_user_id]\n",
        "    uls = np.array([score.user.latent for score in same_user_id_scores])\n",
        "    plt.subplot(10,10,target_user_id)\n",
        "    plt.scatter(uls[:,0], uls[:,1])\n",
        "    plt.xlim(0,1)\n",
        "    plt.ylim(0,1)\n",
        "    plt.axis('off')\n",
        "\n",
        "plt.show()"
      ],
      "metadata": {
        "id": "VJBK_Q8V4O63"
      },
      "execution_count": null,
      "outputs": []
    },
    {
      "cell_type": "markdown",
      "source": [
        "같은 content id의 content latent 분포"
      ],
      "metadata": {
        "id": "mIH6F0K85u4v"
      }
    },
    {
      "cell_type": "code",
      "source": [
        "plt.figure(figsize=(15,15))\n",
        "for target_content_id in range(1,1+100):\n",
        "    same_content_id_scores = [score for score in train_scores if score.content.id==target_content_id]\n",
        "    cls = np.array([score.content.latent for score in same_content_id_scores])\n",
        "    plt.subplot(10,10,target_content_id)\n",
        "    plt.scatter(cls[:,0], cls[:,1])\n",
        "    plt.xlim(0,1)\n",
        "    plt.ylim(0,1)\n",
        "    plt.axis('off')\n",
        "\n",
        "plt.show()"
      ],
      "metadata": {
        "id": "b9fFnLAM5glH"
      },
      "execution_count": null,
      "outputs": []
    },
    {
      "cell_type": "markdown",
      "source": [
        "특정 score의 user latent, content latent값들을 보자"
      ],
      "metadata": {
        "id": "GTvNpjvw6asL"
      }
    },
    {
      "cell_type": "code",
      "source": [
        "filtered_scores = np.array([score for score in train_scores if score.values==[0.5]])\n",
        "print(filtered_scores.shape)\n",
        "ul = np.array([score.user.latent for score in filtered_scores])\n",
        "cl = np.array([score.content.latent for score in filtered_scores])\n",
        "plt.scatter(ul[:,0], ul[:,1])\n",
        "plt.xlim(0,1)\n",
        "plt.ylim(0,1)\n",
        "plt.show()\n",
        "\n",
        "plt.scatter(cl[:,0], cl[:,1])\n",
        "plt.xlim(0,1)\n",
        "plt.ylim(0,1)\n",
        "plt.show()\n"
      ],
      "metadata": {
        "id": "Tsm43FM76gtW"
      },
      "execution_count": null,
      "outputs": []
    },
    {
      "cell_type": "code",
      "source": [
        "plt.figure(figsize=(15,6))\n",
        "for i in range(5):\n",
        "    filtered_scores = np.array([score for score in train_scores if score.values==[i/4]])\n",
        "    ul = np.array([score.user.latent for score in filtered_scores])\n",
        "    cl = np.array([score.content.latent for score in filtered_scores])\n",
        "    plt.subplot(2,5,i+1)\n",
        "    plt.scatter(ul[:,0], ul[:,1])\n",
        "    plt.xlim(0,1)\n",
        "    plt.ylim(0,1)\n",
        "\n",
        "    plt.subplot(2,5,5+i+1)\n",
        "    plt.scatter(cl[:,0], cl[:,1])\n",
        "    plt.xlim(0,1)\n",
        "    plt.ylim(0,1)\n",
        "plt.show()\n"
      ],
      "metadata": {
        "id": "MwIN36di7Kdk"
      },
      "execution_count": null,
      "outputs": []
    }
  ]
}