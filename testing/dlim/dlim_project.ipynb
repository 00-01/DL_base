{
 "nbformat": 4,
 "nbformat_minor": 0,
 "metadata": {
  "colab": {
   "provenance": []
  },
  "kernelspec": {
   "name": "python3",
   "display_name": "Python 3"
  },
  "language_info": {
   "name": "python"
  },
  "accelerator": "GPU",
  "gpuClass": "premium"
 },
 "cells": [
  {
   "cell_type": "code",
   "execution_count": 114,
   "metadata": {
    "id": "lpJ7HXJgLgVk",
    "colab": {
     "base_uri": "https://localhost:8080/"
    },
    "outputId": "ee44de87-471c-4a04-d202-36163ede7b7f"
   },
   "outputs": [],
   "source": [
    "# %load_ext autotime\n",
    "\n",
    "import numpy as np\n",
    "import pandas as pd\n",
    "import matplotlib.pyplot as plt\n",
    "from sklearn.metrics import mean_squared_error\n"
   ]
  },
  {
   "cell_type": "code",
   "source": [
    "np.random.seed(32)"
   ],
   "metadata": {
    "id": "EqADCyEyjohf",
    "colab": {
     "base_uri": "https://localhost:8080/"
    },
    "outputId": "2a2fe420-0e41-4c69-b0d5-fef9c70f73f8"
   },
   "execution_count": 115,
   "outputs": []
  },
  {
   "cell_type": "markdown",
   "source": [
    "## user"
   ],
   "metadata": {
    "id": "g8G-8EROiZV6"
   }
  },
  {
   "cell_type": "code",
   "source": [
    "user_column_names = ['user_id', 'age', 'sex', 'occupation', 'zip_code']\n",
    "user_df = pd.read_csv(\"ml-100k/u.user\", sep='|', names=user_column_names)"
   ],
   "metadata": {
    "id": "p8sV2-J-VX-l",
    "colab": {
     "base_uri": "https://localhost:8080/"
    },
    "outputId": "31e107d7-1f31-4e10-f163-7bfb86002d2e"
   },
   "execution_count": 116,
   "outputs": []
  },
  {
   "cell_type": "code",
   "execution_count": 117,
   "outputs": [
    {
     "data": {
      "text/plain": "   user_id  age sex  occupation zip_code\n0        1   24   M  technician    85711\n1        2   53   F       other    94043\n2        3   23   M      writer    32067\n3        4   24   M  technician    43537\n4        5   33   F       other    15213",
      "text/html": "<div>\n<style scoped>\n    .dataframe tbody tr th:only-of-type {\n        vertical-align: middle;\n    }\n\n    .dataframe tbody tr th {\n        vertical-align: top;\n    }\n\n    .dataframe thead th {\n        text-align: right;\n    }\n</style>\n<table border=\"1\" class=\"dataframe\">\n  <thead>\n    <tr style=\"text-align: right;\">\n      <th></th>\n      <th>user_id</th>\n      <th>age</th>\n      <th>sex</th>\n      <th>occupation</th>\n      <th>zip_code</th>\n    </tr>\n  </thead>\n  <tbody>\n    <tr>\n      <th>0</th>\n      <td>1</td>\n      <td>24</td>\n      <td>M</td>\n      <td>technician</td>\n      <td>85711</td>\n    </tr>\n    <tr>\n      <th>1</th>\n      <td>2</td>\n      <td>53</td>\n      <td>F</td>\n      <td>other</td>\n      <td>94043</td>\n    </tr>\n    <tr>\n      <th>2</th>\n      <td>3</td>\n      <td>23</td>\n      <td>M</td>\n      <td>writer</td>\n      <td>32067</td>\n    </tr>\n    <tr>\n      <th>3</th>\n      <td>4</td>\n      <td>24</td>\n      <td>M</td>\n      <td>technician</td>\n      <td>43537</td>\n    </tr>\n    <tr>\n      <th>4</th>\n      <td>5</td>\n      <td>33</td>\n      <td>F</td>\n      <td>other</td>\n      <td>15213</td>\n    </tr>\n  </tbody>\n</table>\n</div>"
     },
     "execution_count": 117,
     "metadata": {},
     "output_type": "execute_result"
    }
   ],
   "source": [
    "user_df.head()"
   ],
   "metadata": {
    "collapsed": false
   }
  },
  {
   "cell_type": "code",
   "execution_count": 118,
   "outputs": [
    {
     "name": "stdout",
     "output_type": "stream",
     "text": [
      "<class 'pandas.core.frame.DataFrame'>\n",
      "RangeIndex: 943 entries, 0 to 942\n",
      "Data columns (total 5 columns):\n",
      " #   Column      Non-Null Count  Dtype \n",
      "---  ------      --------------  ----- \n",
      " 0   user_id     943 non-null    int64 \n",
      " 1   age         943 non-null    int64 \n",
      " 2   sex         943 non-null    object\n",
      " 3   occupation  943 non-null    object\n",
      " 4   zip_code    943 non-null    object\n",
      "dtypes: int64(2), object(3)\n",
      "memory usage: 37.0+ KB\n"
     ]
    }
   ],
   "source": [
    "user_df.info()"
   ],
   "metadata": {
    "collapsed": false
   }
  },
  {
   "cell_type": "code",
   "source": [
    "user_df.drop(columns=\"zip_code\", inplace=True)"
   ],
   "metadata": {
    "id": "wbUl1zZFXxcg",
    "colab": {
     "base_uri": "https://localhost:8080/"
    },
    "outputId": "09de8c1a-a4d9-4f5c-e67d-f1ea32e0b9e0"
   },
   "execution_count": 119,
   "outputs": []
  },
  {
   "cell_type": "code",
   "source": [
    "user_df['age'] = pd.cut(user_df['age'], [0, 10, 20, 30, 40, 50, 100],\n",
    "                        labels=['1', '2', '3', '4', '5', '6'])"
   ],
   "metadata": {
    "id": "8sIQ04BoWI5h",
    "colab": {
     "base_uri": "https://localhost:8080/"
    },
    "outputId": "12d011c9-cf49-452f-d789-690d23ff3fe7"
   },
   "execution_count": 120,
   "outputs": []
  },
  {
   "cell_type": "code",
   "source": [
    "user_df = pd.get_dummies(user_df)"
   ],
   "metadata": {
    "id": "LO0tJf6wXcwA",
    "colab": {
     "base_uri": "https://localhost:8080/"
    },
    "outputId": "0a88517b-ee22-4f17-8c56-6a159d4681ac"
   },
   "execution_count": 121,
   "outputs": []
  },
  {
   "cell_type": "code",
   "source": [
    "user_df.head()"
   ],
   "metadata": {
    "colab": {
     "base_uri": "https://localhost:8080/",
     "height": 0
    },
    "id": "IqIpLrq8Xkxj",
    "outputId": "8dc9ac8a-3ef0-4145-cbaf-e17dcb9557e0"
   },
   "execution_count": 122,
   "outputs": [
    {
     "data": {
      "text/plain": "   user_id  age_1  age_2  age_3  age_4  age_5  age_6  sex_F  sex_M  \\\n0        1      0      0      1      0      0      0      0      1   \n1        2      0      0      0      0      0      1      1      0   \n2        3      0      0      1      0      0      0      0      1   \n3        4      0      0      1      0      0      0      0      1   \n4        5      0      0      0      1      0      0      1      0   \n\n   occupation_administrator  ...  occupation_marketing  occupation_none  \\\n0                         0  ...                     0                0   \n1                         0  ...                     0                0   \n2                         0  ...                     0                0   \n3                         0  ...                     0                0   \n4                         0  ...                     0                0   \n\n   occupation_other  occupation_programmer  occupation_retired  \\\n0                 0                      0                   0   \n1                 1                      0                   0   \n2                 0                      0                   0   \n3                 0                      0                   0   \n4                 1                      0                   0   \n\n   occupation_salesman  occupation_scientist  occupation_student  \\\n0                    0                     0                   0   \n1                    0                     0                   0   \n2                    0                     0                   0   \n3                    0                     0                   0   \n4                    0                     0                   0   \n\n   occupation_technician  occupation_writer  \n0                      1                  0  \n1                      0                  0  \n2                      0                  1  \n3                      1                  0  \n4                      0                  0  \n\n[5 rows x 30 columns]",
      "text/html": "<div>\n<style scoped>\n    .dataframe tbody tr th:only-of-type {\n        vertical-align: middle;\n    }\n\n    .dataframe tbody tr th {\n        vertical-align: top;\n    }\n\n    .dataframe thead th {\n        text-align: right;\n    }\n</style>\n<table border=\"1\" class=\"dataframe\">\n  <thead>\n    <tr style=\"text-align: right;\">\n      <th></th>\n      <th>user_id</th>\n      <th>age_1</th>\n      <th>age_2</th>\n      <th>age_3</th>\n      <th>age_4</th>\n      <th>age_5</th>\n      <th>age_6</th>\n      <th>sex_F</th>\n      <th>sex_M</th>\n      <th>occupation_administrator</th>\n      <th>...</th>\n      <th>occupation_marketing</th>\n      <th>occupation_none</th>\n      <th>occupation_other</th>\n      <th>occupation_programmer</th>\n      <th>occupation_retired</th>\n      <th>occupation_salesman</th>\n      <th>occupation_scientist</th>\n      <th>occupation_student</th>\n      <th>occupation_technician</th>\n      <th>occupation_writer</th>\n    </tr>\n  </thead>\n  <tbody>\n    <tr>\n      <th>0</th>\n      <td>1</td>\n      <td>0</td>\n      <td>0</td>\n      <td>1</td>\n      <td>0</td>\n      <td>0</td>\n      <td>0</td>\n      <td>0</td>\n      <td>1</td>\n      <td>0</td>\n      <td>...</td>\n      <td>0</td>\n      <td>0</td>\n      <td>0</td>\n      <td>0</td>\n      <td>0</td>\n      <td>0</td>\n      <td>0</td>\n      <td>0</td>\n      <td>1</td>\n      <td>0</td>\n    </tr>\n    <tr>\n      <th>1</th>\n      <td>2</td>\n      <td>0</td>\n      <td>0</td>\n      <td>0</td>\n      <td>0</td>\n      <td>0</td>\n      <td>1</td>\n      <td>1</td>\n      <td>0</td>\n      <td>0</td>\n      <td>...</td>\n      <td>0</td>\n      <td>0</td>\n      <td>1</td>\n      <td>0</td>\n      <td>0</td>\n      <td>0</td>\n      <td>0</td>\n      <td>0</td>\n      <td>0</td>\n      <td>0</td>\n    </tr>\n    <tr>\n      <th>2</th>\n      <td>3</td>\n      <td>0</td>\n      <td>0</td>\n      <td>1</td>\n      <td>0</td>\n      <td>0</td>\n      <td>0</td>\n      <td>0</td>\n      <td>1</td>\n      <td>0</td>\n      <td>...</td>\n      <td>0</td>\n      <td>0</td>\n      <td>0</td>\n      <td>0</td>\n      <td>0</td>\n      <td>0</td>\n      <td>0</td>\n      <td>0</td>\n      <td>0</td>\n      <td>1</td>\n    </tr>\n    <tr>\n      <th>3</th>\n      <td>4</td>\n      <td>0</td>\n      <td>0</td>\n      <td>1</td>\n      <td>0</td>\n      <td>0</td>\n      <td>0</td>\n      <td>0</td>\n      <td>1</td>\n      <td>0</td>\n      <td>...</td>\n      <td>0</td>\n      <td>0</td>\n      <td>0</td>\n      <td>0</td>\n      <td>0</td>\n      <td>0</td>\n      <td>0</td>\n      <td>0</td>\n      <td>1</td>\n      <td>0</td>\n    </tr>\n    <tr>\n      <th>4</th>\n      <td>5</td>\n      <td>0</td>\n      <td>0</td>\n      <td>0</td>\n      <td>1</td>\n      <td>0</td>\n      <td>0</td>\n      <td>1</td>\n      <td>0</td>\n      <td>0</td>\n      <td>...</td>\n      <td>0</td>\n      <td>0</td>\n      <td>1</td>\n      <td>0</td>\n      <td>0</td>\n      <td>0</td>\n      <td>0</td>\n      <td>0</td>\n      <td>0</td>\n      <td>0</td>\n    </tr>\n  </tbody>\n</table>\n<p>5 rows × 30 columns</p>\n</div>"
     },
     "execution_count": 122,
     "metadata": {},
     "output_type": "execute_result"
    }
   ]
  },
  {
   "cell_type": "code",
   "execution_count": 123,
   "outputs": [
    {
     "name": "stdout",
     "output_type": "stream",
     "text": [
      "<class 'pandas.core.frame.DataFrame'>\n",
      "RangeIndex: 943 entries, 0 to 942\n",
      "Data columns (total 30 columns):\n",
      " #   Column                    Non-Null Count  Dtype\n",
      "---  ------                    --------------  -----\n",
      " 0   user_id                   943 non-null    int64\n",
      " 1   age_1                     943 non-null    uint8\n",
      " 2   age_2                     943 non-null    uint8\n",
      " 3   age_3                     943 non-null    uint8\n",
      " 4   age_4                     943 non-null    uint8\n",
      " 5   age_5                     943 non-null    uint8\n",
      " 6   age_6                     943 non-null    uint8\n",
      " 7   sex_F                     943 non-null    uint8\n",
      " 8   sex_M                     943 non-null    uint8\n",
      " 9   occupation_administrator  943 non-null    uint8\n",
      " 10  occupation_artist         943 non-null    uint8\n",
      " 11  occupation_doctor         943 non-null    uint8\n",
      " 12  occupation_educator       943 non-null    uint8\n",
      " 13  occupation_engineer       943 non-null    uint8\n",
      " 14  occupation_entertainment  943 non-null    uint8\n",
      " 15  occupation_executive      943 non-null    uint8\n",
      " 16  occupation_healthcare     943 non-null    uint8\n",
      " 17  occupation_homemaker      943 non-null    uint8\n",
      " 18  occupation_lawyer         943 non-null    uint8\n",
      " 19  occupation_librarian      943 non-null    uint8\n",
      " 20  occupation_marketing      943 non-null    uint8\n",
      " 21  occupation_none           943 non-null    uint8\n",
      " 22  occupation_other          943 non-null    uint8\n",
      " 23  occupation_programmer     943 non-null    uint8\n",
      " 24  occupation_retired        943 non-null    uint8\n",
      " 25  occupation_salesman       943 non-null    uint8\n",
      " 26  occupation_scientist      943 non-null    uint8\n",
      " 27  occupation_student        943 non-null    uint8\n",
      " 28  occupation_technician     943 non-null    uint8\n",
      " 29  occupation_writer         943 non-null    uint8\n",
      "dtypes: int64(1), uint8(29)\n",
      "memory usage: 34.2 KB\n"
     ]
    }
   ],
   "source": [
    "user_df.info()"
   ],
   "metadata": {
    "collapsed": false
   }
  },
  {
   "cell_type": "markdown",
   "source": [
    "## item"
   ],
   "metadata": {
    "id": "JRf-8m-1idja"
   }
  },
  {
   "cell_type": "code",
   "source": [
    "item_column_names = ['movie id', 'movie title' ,'release date','video release date', 'IMDb URL', 'unknown', 'Action', 'Adventure', 'Animation', 'Children\\'s', 'Comedy', 'Crime', 'Documentary', 'Drama', 'Fantasy', 'Film-Noir', 'Horror', 'Musical', 'Mystery', 'Romance', 'Sci-Fi', 'Thriller', 'War', 'Western']\n",
    "\n",
    "item_df = pd.read_csv('ml-100k/u.item', sep='|', names=item_column_names, encoding='latin-1')\n"
   ],
   "metadata": {
    "id": "_Ijn_c8DWFs_",
    "colab": {
     "base_uri": "https://localhost:8080/"
    },
    "outputId": "f0822bf9-7e2b-4a5e-d347-5a1054b2a946"
   },
   "execution_count": 124,
   "outputs": []
  },
  {
   "cell_type": "code",
   "source": [
    "item_df.head()"
   ],
   "metadata": {
    "colab": {
     "base_uri": "https://localhost:8080/",
     "height": 0
    },
    "id": "9S_mtPeKWQbn",
    "outputId": "862bf90b-a0d5-425e-80e6-a38d4c134abe"
   },
   "execution_count": 125,
   "outputs": [
    {
     "data": {
      "text/plain": "   movie id        movie title release date  video release date  \\\n0         1   Toy Story (1995)  01-Jan-1995                 NaN   \n1         2   GoldenEye (1995)  01-Jan-1995                 NaN   \n2         3  Four Rooms (1995)  01-Jan-1995                 NaN   \n3         4  Get Shorty (1995)  01-Jan-1995                 NaN   \n4         5     Copycat (1995)  01-Jan-1995                 NaN   \n\n                                            IMDb URL  unknown  Action  \\\n0  http://us.imdb.com/M/title-exact?Toy%20Story%2...        0       0   \n1  http://us.imdb.com/M/title-exact?GoldenEye%20(...        0       1   \n2  http://us.imdb.com/M/title-exact?Four%20Rooms%...        0       0   \n3  http://us.imdb.com/M/title-exact?Get%20Shorty%...        0       1   \n4  http://us.imdb.com/M/title-exact?Copycat%20(1995)        0       0   \n\n   Adventure  Animation  Children's  ...  Fantasy  Film-Noir  Horror  Musical  \\\n0          0          1           1  ...        0          0       0        0   \n1          1          0           0  ...        0          0       0        0   \n2          0          0           0  ...        0          0       0        0   \n3          0          0           0  ...        0          0       0        0   \n4          0          0           0  ...        0          0       0        0   \n\n   Mystery  Romance  Sci-Fi  Thriller  War  Western  \n0        0        0       0         0    0        0  \n1        0        0       0         1    0        0  \n2        0        0       0         1    0        0  \n3        0        0       0         0    0        0  \n4        0        0       0         1    0        0  \n\n[5 rows x 24 columns]",
      "text/html": "<div>\n<style scoped>\n    .dataframe tbody tr th:only-of-type {\n        vertical-align: middle;\n    }\n\n    .dataframe tbody tr th {\n        vertical-align: top;\n    }\n\n    .dataframe thead th {\n        text-align: right;\n    }\n</style>\n<table border=\"1\" class=\"dataframe\">\n  <thead>\n    <tr style=\"text-align: right;\">\n      <th></th>\n      <th>movie id</th>\n      <th>movie title</th>\n      <th>release date</th>\n      <th>video release date</th>\n      <th>IMDb URL</th>\n      <th>unknown</th>\n      <th>Action</th>\n      <th>Adventure</th>\n      <th>Animation</th>\n      <th>Children's</th>\n      <th>...</th>\n      <th>Fantasy</th>\n      <th>Film-Noir</th>\n      <th>Horror</th>\n      <th>Musical</th>\n      <th>Mystery</th>\n      <th>Romance</th>\n      <th>Sci-Fi</th>\n      <th>Thriller</th>\n      <th>War</th>\n      <th>Western</th>\n    </tr>\n  </thead>\n  <tbody>\n    <tr>\n      <th>0</th>\n      <td>1</td>\n      <td>Toy Story (1995)</td>\n      <td>01-Jan-1995</td>\n      <td>NaN</td>\n      <td>http://us.imdb.com/M/title-exact?Toy%20Story%2...</td>\n      <td>0</td>\n      <td>0</td>\n      <td>0</td>\n      <td>1</td>\n      <td>1</td>\n      <td>...</td>\n      <td>0</td>\n      <td>0</td>\n      <td>0</td>\n      <td>0</td>\n      <td>0</td>\n      <td>0</td>\n      <td>0</td>\n      <td>0</td>\n      <td>0</td>\n      <td>0</td>\n    </tr>\n    <tr>\n      <th>1</th>\n      <td>2</td>\n      <td>GoldenEye (1995)</td>\n      <td>01-Jan-1995</td>\n      <td>NaN</td>\n      <td>http://us.imdb.com/M/title-exact?GoldenEye%20(...</td>\n      <td>0</td>\n      <td>1</td>\n      <td>1</td>\n      <td>0</td>\n      <td>0</td>\n      <td>...</td>\n      <td>0</td>\n      <td>0</td>\n      <td>0</td>\n      <td>0</td>\n      <td>0</td>\n      <td>0</td>\n      <td>0</td>\n      <td>1</td>\n      <td>0</td>\n      <td>0</td>\n    </tr>\n    <tr>\n      <th>2</th>\n      <td>3</td>\n      <td>Four Rooms (1995)</td>\n      <td>01-Jan-1995</td>\n      <td>NaN</td>\n      <td>http://us.imdb.com/M/title-exact?Four%20Rooms%...</td>\n      <td>0</td>\n      <td>0</td>\n      <td>0</td>\n      <td>0</td>\n      <td>0</td>\n      <td>...</td>\n      <td>0</td>\n      <td>0</td>\n      <td>0</td>\n      <td>0</td>\n      <td>0</td>\n      <td>0</td>\n      <td>0</td>\n      <td>1</td>\n      <td>0</td>\n      <td>0</td>\n    </tr>\n    <tr>\n      <th>3</th>\n      <td>4</td>\n      <td>Get Shorty (1995)</td>\n      <td>01-Jan-1995</td>\n      <td>NaN</td>\n      <td>http://us.imdb.com/M/title-exact?Get%20Shorty%...</td>\n      <td>0</td>\n      <td>1</td>\n      <td>0</td>\n      <td>0</td>\n      <td>0</td>\n      <td>...</td>\n      <td>0</td>\n      <td>0</td>\n      <td>0</td>\n      <td>0</td>\n      <td>0</td>\n      <td>0</td>\n      <td>0</td>\n      <td>0</td>\n      <td>0</td>\n      <td>0</td>\n    </tr>\n    <tr>\n      <th>4</th>\n      <td>5</td>\n      <td>Copycat (1995)</td>\n      <td>01-Jan-1995</td>\n      <td>NaN</td>\n      <td>http://us.imdb.com/M/title-exact?Copycat%20(1995)</td>\n      <td>0</td>\n      <td>0</td>\n      <td>0</td>\n      <td>0</td>\n      <td>0</td>\n      <td>...</td>\n      <td>0</td>\n      <td>0</td>\n      <td>0</td>\n      <td>0</td>\n      <td>0</td>\n      <td>0</td>\n      <td>0</td>\n      <td>1</td>\n      <td>0</td>\n      <td>0</td>\n    </tr>\n  </tbody>\n</table>\n<p>5 rows × 24 columns</p>\n</div>"
     },
     "execution_count": 125,
     "metadata": {},
     "output_type": "execute_result"
    }
   ]
  },
  {
   "cell_type": "code",
   "source": [
    "item_df.info()"
   ],
   "metadata": {
    "colab": {
     "base_uri": "https://localhost:8080/"
    },
    "id": "csvN1unuWTMs",
    "outputId": "de1eb0d1-386c-42e5-fbf3-b8bc6b4e9c75"
   },
   "execution_count": 126,
   "outputs": [
    {
     "name": "stdout",
     "output_type": "stream",
     "text": [
      "<class 'pandas.core.frame.DataFrame'>\n",
      "RangeIndex: 1682 entries, 0 to 1681\n",
      "Data columns (total 24 columns):\n",
      " #   Column              Non-Null Count  Dtype  \n",
      "---  ------              --------------  -----  \n",
      " 0   movie id            1682 non-null   int64  \n",
      " 1   movie title         1682 non-null   object \n",
      " 2   release date        1681 non-null   object \n",
      " 3   video release date  0 non-null      float64\n",
      " 4   IMDb URL            1679 non-null   object \n",
      " 5   unknown             1682 non-null   int64  \n",
      " 6   Action              1682 non-null   int64  \n",
      " 7   Adventure           1682 non-null   int64  \n",
      " 8   Animation           1682 non-null   int64  \n",
      " 9   Children's          1682 non-null   int64  \n",
      " 10  Comedy              1682 non-null   int64  \n",
      " 11  Crime               1682 non-null   int64  \n",
      " 12  Documentary         1682 non-null   int64  \n",
      " 13  Drama               1682 non-null   int64  \n",
      " 14  Fantasy             1682 non-null   int64  \n",
      " 15  Film-Noir           1682 non-null   int64  \n",
      " 16  Horror              1682 non-null   int64  \n",
      " 17  Musical             1682 non-null   int64  \n",
      " 18  Mystery             1682 non-null   int64  \n",
      " 19  Romance             1682 non-null   int64  \n",
      " 20  Sci-Fi              1682 non-null   int64  \n",
      " 21  Thriller            1682 non-null   int64  \n",
      " 22  War                 1682 non-null   int64  \n",
      " 23  Western             1682 non-null   int64  \n",
      "dtypes: float64(1), int64(20), object(3)\n",
      "memory usage: 315.5+ KB\n"
     ]
    }
   ]
  },
  {
   "cell_type": "code",
   "source": [
    "item_df['year'] = pd.DatetimeIndex(pd.to_datetime(item_df['release date'])).year"
   ],
   "metadata": {
    "id": "3f1JLOhc5NBm",
    "colab": {
     "base_uri": "https://localhost:8080/"
    },
    "outputId": "0fc0bcaa-0ec8-43c7-ec24-c2bebcff24bb"
   },
   "execution_count": 127,
   "outputs": []
  },
  {
   "cell_type": "code",
   "source": [
    "item_df[item_df['year'].isnull()]"
   ],
   "metadata": {
    "colab": {
     "base_uri": "https://localhost:8080/",
     "height": 0
    },
    "id": "adg1ZlGdP2SG",
    "outputId": "8ff05f55-5fb9-470e-fb91-80edfc47c553"
   },
   "execution_count": 128,
   "outputs": [
    {
     "data": {
      "text/plain": "     movie id movie title release date  video release date IMDb URL  unknown  \\\n266       267     unknown          NaN                 NaN      NaN        1   \n\n     Action  Adventure  Animation  Children's  ...  Film-Noir  Horror  \\\n266       0          0          0           0  ...          0       0   \n\n     Musical  Mystery  Romance  Sci-Fi  Thriller  War  Western  year  \n266        0        0        0       0         0    0        0   NaN  \n\n[1 rows x 25 columns]",
      "text/html": "<div>\n<style scoped>\n    .dataframe tbody tr th:only-of-type {\n        vertical-align: middle;\n    }\n\n    .dataframe tbody tr th {\n        vertical-align: top;\n    }\n\n    .dataframe thead th {\n        text-align: right;\n    }\n</style>\n<table border=\"1\" class=\"dataframe\">\n  <thead>\n    <tr style=\"text-align: right;\">\n      <th></th>\n      <th>movie id</th>\n      <th>movie title</th>\n      <th>release date</th>\n      <th>video release date</th>\n      <th>IMDb URL</th>\n      <th>unknown</th>\n      <th>Action</th>\n      <th>Adventure</th>\n      <th>Animation</th>\n      <th>Children's</th>\n      <th>...</th>\n      <th>Film-Noir</th>\n      <th>Horror</th>\n      <th>Musical</th>\n      <th>Mystery</th>\n      <th>Romance</th>\n      <th>Sci-Fi</th>\n      <th>Thriller</th>\n      <th>War</th>\n      <th>Western</th>\n      <th>year</th>\n    </tr>\n  </thead>\n  <tbody>\n    <tr>\n      <th>266</th>\n      <td>267</td>\n      <td>unknown</td>\n      <td>NaN</td>\n      <td>NaN</td>\n      <td>NaN</td>\n      <td>1</td>\n      <td>0</td>\n      <td>0</td>\n      <td>0</td>\n      <td>0</td>\n      <td>...</td>\n      <td>0</td>\n      <td>0</td>\n      <td>0</td>\n      <td>0</td>\n      <td>0</td>\n      <td>0</td>\n      <td>0</td>\n      <td>0</td>\n      <td>0</td>\n      <td>NaN</td>\n    </tr>\n  </tbody>\n</table>\n<p>1 rows × 25 columns</p>\n</div>"
     },
     "execution_count": 128,
     "metadata": {},
     "output_type": "execute_result"
    }
   ]
  },
  {
   "cell_type": "markdown",
   "source": [
    "rating_df에서 movie_id 267을 찾아보니 10개 정도 있다. 그냥 drop하면 안된다. \n",
    "최소 값으로 채워 넣자."
   ],
   "metadata": {
    "id": "HXjmyYIZQ48N"
   }
  },
  {
   "cell_type": "code",
   "source": [
    "item_df.loc[item_df['year'].isnull(), 'year'] = item_df['year'].min()"
   ],
   "metadata": {
    "id": "s-EzWOy7P2OT",
    "colab": {
     "base_uri": "https://localhost:8080/"
    },
    "outputId": "60b0bfb5-8a6d-4f10-8ea3-ab129dd05946"
   },
   "execution_count": 129,
   "outputs": []
  },
  {
   "cell_type": "code",
   "source": [
    "item_df.iloc[266]"
   ],
   "metadata": {
    "colab": {
     "base_uri": "https://localhost:8080/"
    },
    "id": "aBTneuvNP2LI",
    "outputId": "f7cb4cd9-cf82-4669-ca66-b8aab01d9e29"
   },
   "execution_count": 130,
   "outputs": [
    {
     "data": {
      "text/plain": "movie id                  267\nmovie title           unknown\nrelease date              NaN\nvideo release date        NaN\nIMDb URL                  NaN\nunknown                     1\nAction                      0\nAdventure                   0\nAnimation                   0\nChildren's                  0\nComedy                      0\nCrime                       0\nDocumentary                 0\nDrama                       0\nFantasy                     0\nFilm-Noir                   0\nHorror                      0\nMusical                     0\nMystery                     0\nRomance                     0\nSci-Fi                      0\nThriller                    0\nWar                         0\nWestern                     0\nyear                   1922.0\nName: 266, dtype: object"
     },
     "execution_count": 130,
     "metadata": {},
     "output_type": "execute_result"
    }
   ]
  },
  {
   "cell_type": "code",
   "source": [
    "plt.hist(item_df['year'], bins=96)\n",
    "plt.show()"
   ],
   "metadata": {
    "colab": {
     "base_uri": "https://localhost:8080/",
     "height": 282
    },
    "id": "2MhtAa6xgjXr",
    "outputId": "b3801862-0d5f-43aa-8993-7ff266ea2ad8"
   },
   "execution_count": 131,
   "outputs": [
    {
     "data": {
      "text/plain": "<Figure size 432x288 with 1 Axes>",
      "image/png": "[encoded data removed]"
     },
     "metadata": {},
     "output_type": "display_data"
    }
   ]
  },
  {
   "cell_type": "code",
   "source": [
    "MIN_YEAR = 1970\n",
    "item_df.loc[item_df['year']<MIN_YEAR, 'year'] = MIN_YEAR"
   ],
   "metadata": {
    "colab": {
     "base_uri": "https://localhost:8080/"
    },
    "id": "EGxrJyKig92h",
    "outputId": "ac2fd2b2-e32c-4cfc-cccd-317bb68384f5"
   },
   "execution_count": 132,
   "outputs": []
  },
  {
   "cell_type": "code",
   "source": [
    "item_df['year'].value_counts()"
   ],
   "metadata": {
    "colab": {
     "base_uri": "https://localhost:8080/"
    },
    "id": "zGQyyES6h26Q",
    "outputId": "be724ef5-0864-45d7-bd57-dbe40a807c16"
   },
   "execution_count": 133,
   "outputs": [
    {
     "data": {
      "text/plain": "1996.0    355\n1997.0    286\n1995.0    219\n1994.0    214\n1970.0    177\n1993.0    126\n1998.0     65\n1992.0     37\n1990.0     24\n1991.0     22\n1989.0     15\n1986.0     15\n1987.0     13\n1982.0     13\n1981.0     12\n1988.0     11\n1979.0      9\n1974.0      8\n1980.0      8\n1984.0      8\n1971.0      7\n1985.0      7\n1975.0      6\n1983.0      5\n1976.0      5\n1973.0      4\n1977.0      4\n1978.0      4\n1972.0      3\nName: year, dtype: int64"
     },
     "execution_count": 133,
     "metadata": {},
     "output_type": "execute_result"
    }
   ]
  },
  {
   "cell_type": "code",
   "source": [
    "plt.hist(item_df['year'], bins=24)\n",
    "plt.show()"
   ],
   "metadata": {
    "colab": {
     "base_uri": "https://localhost:8080/",
     "height": 282
    },
    "id": "nb4AG6i_hRIJ",
    "outputId": "0fd6e517-042f-4c5a-9f55-d1ef4eeb10b0"
   },
   "execution_count": 134,
   "outputs": [
    {
     "data": {
      "text/plain": "<Figure size 432x288 with 1 Axes>",
      "image/png": "[encoded data removed]"
     },
     "metadata": {},
     "output_type": "display_data"
    }
   ]
  },
  {
   "cell_type": "code",
   "source": [
    "item_df.drop(columns=['movie title', 'release date', 'video release date', 'IMDb URL'], inplace=True)\n",
    "# item_df.drop(columns=['movie title', 'video release date', 'IMDb URL'], inplace=True)\n",
    "item_df.head()"
   ],
   "metadata": {
    "colab": {
     "base_uri": "https://localhost:8080/",
     "height": 0
    },
    "id": "TshgkfdhYZ6e",
    "outputId": "aff6f761-2a38-41b2-c0ab-f27ac7ed9eb9"
   },
   "execution_count": 135,
   "outputs": [
    {
     "data": {
      "text/plain": "   movie id  unknown  Action  Adventure  Animation  Children's  Comedy  Crime  \\\n0         1        0       0          0          1           1       1      0   \n1         2        0       1          1          0           0       0      0   \n2         3        0       0          0          0           0       0      0   \n3         4        0       1          0          0           0       1      0   \n4         5        0       0          0          0           0       0      1   \n\n   Documentary  Drama  ...  Film-Noir  Horror  Musical  Mystery  Romance  \\\n0            0      0  ...          0       0        0        0        0   \n1            0      0  ...          0       0        0        0        0   \n2            0      0  ...          0       0        0        0        0   \n3            0      1  ...          0       0        0        0        0   \n4            0      1  ...          0       0        0        0        0   \n\n   Sci-Fi  Thriller  War  Western    year  \n0       0         0    0        0  1995.0  \n1       0         1    0        0  1995.0  \n2       0         1    0        0  1995.0  \n3       0         0    0        0  1995.0  \n4       0         1    0        0  1995.0  \n\n[5 rows x 21 columns]",
      "text/html": "<div>\n<style scoped>\n    .dataframe tbody tr th:only-of-type {\n        vertical-align: middle;\n    }\n\n    .dataframe tbody tr th {\n        vertical-align: top;\n    }\n\n    .dataframe thead th {\n        text-align: right;\n    }\n</style>\n<table border=\"1\" class=\"dataframe\">\n  <thead>\n    <tr style=\"text-align: right;\">\n      <th></th>\n      <th>movie id</th>\n      <th>unknown</th>\n      <th>Action</th>\n      <th>Adventure</th>\n      <th>Animation</th>\n      <th>Children's</th>\n      <th>Comedy</th>\n      <th>Crime</th>\n      <th>Documentary</th>\n      <th>Drama</th>\n      <th>...</th>\n      <th>Film-Noir</th>\n      <th>Horror</th>\n      <th>Musical</th>\n      <th>Mystery</th>\n      <th>Romance</th>\n      <th>Sci-Fi</th>\n      <th>Thriller</th>\n      <th>War</th>\n      <th>Western</th>\n      <th>year</th>\n    </tr>\n  </thead>\n  <tbody>\n    <tr>\n      <th>0</th>\n      <td>1</td>\n      <td>0</td>\n      <td>0</td>\n      <td>0</td>\n      <td>1</td>\n      <td>1</td>\n      <td>1</td>\n      <td>0</td>\n      <td>0</td>\n      <td>0</td>\n      <td>...</td>\n      <td>0</td>\n      <td>0</td>\n      <td>0</td>\n      <td>0</td>\n      <td>0</td>\n      <td>0</td>\n      <td>0</td>\n      <td>0</td>\n      <td>0</td>\n      <td>1995.0</td>\n    </tr>\n    <tr>\n      <th>1</th>\n      <td>2</td>\n      <td>0</td>\n      <td>1</td>\n      <td>1</td>\n      <td>0</td>\n      <td>0</td>\n      <td>0</td>\n      <td>0</td>\n      <td>0</td>\n      <td>0</td>\n      <td>...</td>\n      <td>0</td>\n      <td>0</td>\n      <td>0</td>\n      <td>0</td>\n      <td>0</td>\n      <td>0</td>\n      <td>1</td>\n      <td>0</td>\n      <td>0</td>\n      <td>1995.0</td>\n    </tr>\n    <tr>\n      <th>2</th>\n      <td>3</td>\n      <td>0</td>\n      <td>0</td>\n      <td>0</td>\n      <td>0</td>\n      <td>0</td>\n      <td>0</td>\n      <td>0</td>\n      <td>0</td>\n      <td>0</td>\n      <td>...</td>\n      <td>0</td>\n      <td>0</td>\n      <td>0</td>\n      <td>0</td>\n      <td>0</td>\n      <td>0</td>\n      <td>1</td>\n      <td>0</td>\n      <td>0</td>\n      <td>1995.0</td>\n    </tr>\n    <tr>\n      <th>3</th>\n      <td>4</td>\n      <td>0</td>\n      <td>1</td>\n      <td>0</td>\n      <td>0</td>\n      <td>0</td>\n      <td>1</td>\n      <td>0</td>\n      <td>0</td>\n      <td>1</td>\n      <td>...</td>\n      <td>0</td>\n      <td>0</td>\n      <td>0</td>\n      <td>0</td>\n      <td>0</td>\n      <td>0</td>\n      <td>0</td>\n      <td>0</td>\n      <td>0</td>\n      <td>1995.0</td>\n    </tr>\n    <tr>\n      <th>4</th>\n      <td>5</td>\n      <td>0</td>\n      <td>0</td>\n      <td>0</td>\n      <td>0</td>\n      <td>0</td>\n      <td>0</td>\n      <td>1</td>\n      <td>0</td>\n      <td>1</td>\n      <td>...</td>\n      <td>0</td>\n      <td>0</td>\n      <td>0</td>\n      <td>0</td>\n      <td>0</td>\n      <td>0</td>\n      <td>1</td>\n      <td>0</td>\n      <td>0</td>\n      <td>1995.0</td>\n    </tr>\n  </tbody>\n</table>\n<p>5 rows × 21 columns</p>\n</div>"
     },
     "execution_count": 135,
     "metadata": {},
     "output_type": "execute_result"
    }
   ]
  },
  {
   "cell_type": "code",
   "source": [
    "for column in [\"year\"]:\n",
    "    MIN = item_df[column].min()\n",
    "    MAX = item_df[column].max()\n",
    "    print(f\"MIN={MIN}, MAX={MAX}\")\n",
    "    item_df[column] = (item_df[column] - MIN) / (MAX - MIN)\n",
    "item_df.head()"
   ],
   "metadata": {
    "colab": {
     "base_uri": "https://localhost:8080/",
     "height": 0
    },
    "id": "q4FB87946tjf",
    "outputId": "82eaa29b-baab-4296-df7a-e09fb09c582b"
   },
   "execution_count": 136,
   "outputs": [
    {
     "name": "stdout",
     "output_type": "stream",
     "text": [
      "MIN=1970.0, MAX=1998.0\n"
     ]
    },
    {
     "data": {
      "text/plain": "   movie id  unknown  Action  Adventure  Animation  Children's  Comedy  Crime  \\\n0         1        0       0          0          1           1       1      0   \n1         2        0       1          1          0           0       0      0   \n2         3        0       0          0          0           0       0      0   \n3         4        0       1          0          0           0       1      0   \n4         5        0       0          0          0           0       0      1   \n\n   Documentary  Drama  ...  Film-Noir  Horror  Musical  Mystery  Romance  \\\n0            0      0  ...          0       0        0        0        0   \n1            0      0  ...          0       0        0        0        0   \n2            0      0  ...          0       0        0        0        0   \n3            0      1  ...          0       0        0        0        0   \n4            0      1  ...          0       0        0        0        0   \n\n   Sci-Fi  Thriller  War  Western      year  \n0       0         0    0        0  0.892857  \n1       0         1    0        0  0.892857  \n2       0         1    0        0  0.892857  \n3       0         0    0        0  0.892857  \n4       0         1    0        0  0.892857  \n\n[5 rows x 21 columns]",
      "text/html": "<div>\n<style scoped>\n    .dataframe tbody tr th:only-of-type {\n        vertical-align: middle;\n    }\n\n    .dataframe tbody tr th {\n        vertical-align: top;\n    }\n\n    .dataframe thead th {\n        text-align: right;\n    }\n</style>\n<table border=\"1\" class=\"dataframe\">\n  <thead>\n    <tr style=\"text-align: right;\">\n      <th></th>\n      <th>movie id</th>\n      <th>unknown</th>\n      <th>Action</th>\n      <th>Adventure</th>\n      <th>Animation</th>\n      <th>Children's</th>\n      <th>Comedy</th>\n      <th>Crime</th>\n      <th>Documentary</th>\n      <th>Drama</th>\n      <th>...</th>\n      <th>Film-Noir</th>\n      <th>Horror</th>\n      <th>Musical</th>\n      <th>Mystery</th>\n      <th>Romance</th>\n      <th>Sci-Fi</th>\n      <th>Thriller</th>\n      <th>War</th>\n      <th>Western</th>\n      <th>year</th>\n    </tr>\n  </thead>\n  <tbody>\n    <tr>\n      <th>0</th>\n      <td>1</td>\n      <td>0</td>\n      <td>0</td>\n      <td>0</td>\n      <td>1</td>\n      <td>1</td>\n      <td>1</td>\n      <td>0</td>\n      <td>0</td>\n      <td>0</td>\n      <td>...</td>\n      <td>0</td>\n      <td>0</td>\n      <td>0</td>\n      <td>0</td>\n      <td>0</td>\n      <td>0</td>\n      <td>0</td>\n      <td>0</td>\n      <td>0</td>\n      <td>0.892857</td>\n    </tr>\n    <tr>\n      <th>1</th>\n      <td>2</td>\n      <td>0</td>\n      <td>1</td>\n      <td>1</td>\n      <td>0</td>\n      <td>0</td>\n      <td>0</td>\n      <td>0</td>\n      <td>0</td>\n      <td>0</td>\n      <td>...</td>\n      <td>0</td>\n      <td>0</td>\n      <td>0</td>\n      <td>0</td>\n      <td>0</td>\n      <td>0</td>\n      <td>1</td>\n      <td>0</td>\n      <td>0</td>\n      <td>0.892857</td>\n    </tr>\n    <tr>\n      <th>2</th>\n      <td>3</td>\n      <td>0</td>\n      <td>0</td>\n      <td>0</td>\n      <td>0</td>\n      <td>0</td>\n      <td>0</td>\n      <td>0</td>\n      <td>0</td>\n      <td>0</td>\n      <td>...</td>\n      <td>0</td>\n      <td>0</td>\n      <td>0</td>\n      <td>0</td>\n      <td>0</td>\n      <td>0</td>\n      <td>1</td>\n      <td>0</td>\n      <td>0</td>\n      <td>0.892857</td>\n    </tr>\n    <tr>\n      <th>3</th>\n      <td>4</td>\n      <td>0</td>\n      <td>1</td>\n      <td>0</td>\n      <td>0</td>\n      <td>0</td>\n      <td>1</td>\n      <td>0</td>\n      <td>0</td>\n      <td>1</td>\n      <td>...</td>\n      <td>0</td>\n      <td>0</td>\n      <td>0</td>\n      <td>0</td>\n      <td>0</td>\n      <td>0</td>\n      <td>0</td>\n      <td>0</td>\n      <td>0</td>\n      <td>0.892857</td>\n    </tr>\n    <tr>\n      <th>4</th>\n      <td>5</td>\n      <td>0</td>\n      <td>0</td>\n      <td>0</td>\n      <td>0</td>\n      <td>0</td>\n      <td>0</td>\n      <td>1</td>\n      <td>0</td>\n      <td>1</td>\n      <td>...</td>\n      <td>0</td>\n      <td>0</td>\n      <td>0</td>\n      <td>0</td>\n      <td>0</td>\n      <td>0</td>\n      <td>1</td>\n      <td>0</td>\n      <td>0</td>\n      <td>0.892857</td>\n    </tr>\n  </tbody>\n</table>\n<p>5 rows × 21 columns</p>\n</div>"
     },
     "execution_count": 136,
     "metadata": {},
     "output_type": "execute_result"
    }
   ]
  },
  {
   "cell_type": "code",
   "source": [
    "item_df.info()"
   ],
   "metadata": {
    "colab": {
     "base_uri": "https://localhost:8080/"
    },
    "id": "iuQ_1jXsYxU_",
    "outputId": "22d1e3bd-e61d-4cb9-fb1f-ea2ffe09f1cb"
   },
   "execution_count": 137,
   "outputs": [
    {
     "name": "stdout",
     "output_type": "stream",
     "text": [
      "<class 'pandas.core.frame.DataFrame'>\n",
      "RangeIndex: 1682 entries, 0 to 1681\n",
      "Data columns (total 21 columns):\n",
      " #   Column       Non-Null Count  Dtype  \n",
      "---  ------       --------------  -----  \n",
      " 0   movie id     1682 non-null   int64  \n",
      " 1   unknown      1682 non-null   int64  \n",
      " 2   Action       1682 non-null   int64  \n",
      " 3   Adventure    1682 non-null   int64  \n",
      " 4   Animation    1682 non-null   int64  \n",
      " 5   Children's   1682 non-null   int64  \n",
      " 6   Comedy       1682 non-null   int64  \n",
      " 7   Crime        1682 non-null   int64  \n",
      " 8   Documentary  1682 non-null   int64  \n",
      " 9   Drama        1682 non-null   int64  \n",
      " 10  Fantasy      1682 non-null   int64  \n",
      " 11  Film-Noir    1682 non-null   int64  \n",
      " 12  Horror       1682 non-null   int64  \n",
      " 13  Musical      1682 non-null   int64  \n",
      " 14  Mystery      1682 non-null   int64  \n",
      " 15  Romance      1682 non-null   int64  \n",
      " 16  Sci-Fi       1682 non-null   int64  \n",
      " 17  Thriller     1682 non-null   int64  \n",
      " 18  War          1682 non-null   int64  \n",
      " 19  Western      1682 non-null   int64  \n",
      " 20  year         1682 non-null   float64\n",
      "dtypes: float64(1), int64(20)\n",
      "memory usage: 276.1 KB\n"
     ]
    }
   ]
  },
  {
   "cell_type": "code",
   "source": [],
   "metadata": {
    "id": "bY8nE1SlYxGk",
    "colab": {
     "base_uri": "https://localhost:8080/"
    },
    "outputId": "70580a48-ce9e-4445-8236-28292434c237"
   },
   "execution_count": 137,
   "outputs": []
  },
  {
   "cell_type": "markdown",
   "source": [
    "## rating"
   ],
   "metadata": {
    "id": "bhs2QelHigfA"
   }
  },
  {
   "cell_type": "code",
   "source": [
    "rating_column_names = ['user_id', 'movie_id', 'rating', 'unix_timestamp']\n",
    "\n",
    "rating_base_df = pd.read_csv('ml-100k/ua.base', sep='\\t', names=rating_column_names, encoding='latin-1')\n",
    "rating_test_df = pd.read_csv('ml-100k/ua.test', sep='\\t', names=rating_column_names, encoding='latin-1')\n"
   ],
   "metadata": {
    "id": "gHpQbEXPVX4d",
    "colab": {
     "base_uri": "https://localhost:8080/"
    },
    "outputId": "cd0b7ffd-9155-4d31-d105-ff380da74679"
   },
   "execution_count": 138,
   "outputs": []
  },
  {
   "cell_type": "code",
   "source": [
    "rating_base_df.head()"
   ],
   "metadata": {
    "colab": {
     "base_uri": "https://localhost:8080/",
     "height": 0
    },
    "id": "4OLM-kOjnXzk",
    "outputId": "431453bf-5448-4c73-9cc6-c6e338712409"
   },
   "execution_count": 139,
   "outputs": [
    {
     "data": {
      "text/plain": "   user_id  movie_id  rating  unix_timestamp\n0        1         1       5       874965758\n1        1         2       3       876893171\n2        1         3       4       878542960\n3        1         4       3       876893119\n4        1         5       3       889751712",
      "text/html": "<div>\n<style scoped>\n    .dataframe tbody tr th:only-of-type {\n        vertical-align: middle;\n    }\n\n    .dataframe tbody tr th {\n        vertical-align: top;\n    }\n\n    .dataframe thead th {\n        text-align: right;\n    }\n</style>\n<table border=\"1\" class=\"dataframe\">\n  <thead>\n    <tr style=\"text-align: right;\">\n      <th></th>\n      <th>user_id</th>\n      <th>movie_id</th>\n      <th>rating</th>\n      <th>unix_timestamp</th>\n    </tr>\n  </thead>\n  <tbody>\n    <tr>\n      <th>0</th>\n      <td>1</td>\n      <td>1</td>\n      <td>5</td>\n      <td>874965758</td>\n    </tr>\n    <tr>\n      <th>1</th>\n      <td>1</td>\n      <td>2</td>\n      <td>3</td>\n      <td>876893171</td>\n    </tr>\n    <tr>\n      <th>2</th>\n      <td>1</td>\n      <td>3</td>\n      <td>4</td>\n      <td>878542960</td>\n    </tr>\n    <tr>\n      <th>3</th>\n      <td>1</td>\n      <td>4</td>\n      <td>3</td>\n      <td>876893119</td>\n    </tr>\n    <tr>\n      <th>4</th>\n      <td>1</td>\n      <td>5</td>\n      <td>3</td>\n      <td>889751712</td>\n    </tr>\n  </tbody>\n</table>\n</div>"
     },
     "execution_count": 139,
     "metadata": {},
     "output_type": "execute_result"
    }
   ]
  },
  {
   "cell_type": "code",
   "source": [
    "rating_test_df.head()"
   ],
   "metadata": {
    "colab": {
     "base_uri": "https://localhost:8080/",
     "height": 0
    },
    "id": "qjFJo-LTnZUE",
    "outputId": "cadde58d-e827-4aab-81b2-f31cfbce37d9"
   },
   "execution_count": 140,
   "outputs": [
    {
     "data": {
      "text/plain": "   user_id  movie_id  rating  unix_timestamp\n0        1        20       4       887431883\n1        1        33       4       878542699\n2        1        61       4       878542420\n3        1       117       3       874965739\n4        1       155       2       878542201",
      "text/html": "<div>\n<style scoped>\n    .dataframe tbody tr th:only-of-type {\n        vertical-align: middle;\n    }\n\n    .dataframe tbody tr th {\n        vertical-align: top;\n    }\n\n    .dataframe thead th {\n        text-align: right;\n    }\n</style>\n<table border=\"1\" class=\"dataframe\">\n  <thead>\n    <tr style=\"text-align: right;\">\n      <th></th>\n      <th>user_id</th>\n      <th>movie_id</th>\n      <th>rating</th>\n      <th>unix_timestamp</th>\n    </tr>\n  </thead>\n  <tbody>\n    <tr>\n      <th>0</th>\n      <td>1</td>\n      <td>20</td>\n      <td>4</td>\n      <td>887431883</td>\n    </tr>\n    <tr>\n      <th>1</th>\n      <td>1</td>\n      <td>33</td>\n      <td>4</td>\n      <td>878542699</td>\n    </tr>\n    <tr>\n      <th>2</th>\n      <td>1</td>\n      <td>61</td>\n      <td>4</td>\n      <td>878542420</td>\n    </tr>\n    <tr>\n      <th>3</th>\n      <td>1</td>\n      <td>117</td>\n      <td>3</td>\n      <td>874965739</td>\n    </tr>\n    <tr>\n      <th>4</th>\n      <td>1</td>\n      <td>155</td>\n      <td>2</td>\n      <td>878542201</td>\n    </tr>\n  </tbody>\n</table>\n</div>"
     },
     "execution_count": 140,
     "metadata": {},
     "output_type": "execute_result"
    }
   ]
  },
  {
   "cell_type": "code",
   "source": [
    "rating_df = rating_base_df.append(rating_test_df)"
   ],
   "metadata": {
    "id": "d0CpJhupnN7q",
    "colab": {
     "base_uri": "https://localhost:8080/"
    },
    "outputId": "6a3e16c5-bcde-4f99-9972-c95c907ca045"
   },
   "execution_count": 141,
   "outputs": [
    {
     "name": "stderr",
     "output_type": "stream",
     "text": [
      "/tmp/ipykernel_1313404/4230367298.py:1: FutureWarning: The frame.append method is deprecated and will be removed from pandas in a future version. Use pandas.concat instead.\n",
      "  rating_df = rating_base_df.append(rating_test_df)\n"
     ]
    }
   ]
  },
  {
   "cell_type": "code",
   "source": [
    "rating_df.head()"
   ],
   "metadata": {
    "colab": {
     "base_uri": "https://localhost:8080/",
     "height": 0
    },
    "id": "5PRVLGdwVX0s",
    "outputId": "6d7cc3e3-1aed-49bb-8cb2-ff5a455f2a68"
   },
   "execution_count": 142,
   "outputs": [
    {
     "data": {
      "text/plain": "   user_id  movie_id  rating  unix_timestamp\n0        1         1       5       874965758\n1        1         2       3       876893171\n2        1         3       4       878542960\n3        1         4       3       876893119\n4        1         5       3       889751712",
      "text/html": "<div>\n<style scoped>\n    .dataframe tbody tr th:only-of-type {\n        vertical-align: middle;\n    }\n\n    .dataframe tbody tr th {\n        vertical-align: top;\n    }\n\n    .dataframe thead th {\n        text-align: right;\n    }\n</style>\n<table border=\"1\" class=\"dataframe\">\n  <thead>\n    <tr style=\"text-align: right;\">\n      <th></th>\n      <th>user_id</th>\n      <th>movie_id</th>\n      <th>rating</th>\n      <th>unix_timestamp</th>\n    </tr>\n  </thead>\n  <tbody>\n    <tr>\n      <th>0</th>\n      <td>1</td>\n      <td>1</td>\n      <td>5</td>\n      <td>874965758</td>\n    </tr>\n    <tr>\n      <th>1</th>\n      <td>1</td>\n      <td>2</td>\n      <td>3</td>\n      <td>876893171</td>\n    </tr>\n    <tr>\n      <th>2</th>\n      <td>1</td>\n      <td>3</td>\n      <td>4</td>\n      <td>878542960</td>\n    </tr>\n    <tr>\n      <th>3</th>\n      <td>1</td>\n      <td>4</td>\n      <td>3</td>\n      <td>876893119</td>\n    </tr>\n    <tr>\n      <th>4</th>\n      <td>1</td>\n      <td>5</td>\n      <td>3</td>\n      <td>889751712</td>\n    </tr>\n  </tbody>\n</table>\n</div>"
     },
     "execution_count": 142,
     "metadata": {},
     "output_type": "execute_result"
    }
   ]
  },
  {
   "cell_type": "code",
   "source": [
    "rating_df[rating_df['movie_id']==267]"
   ],
   "metadata": {
    "colab": {
     "base_uri": "https://localhost:8080/",
     "height": 0
    },
    "id": "9musKkWYQk8R",
    "outputId": "d1e38cc5-af09-40c1-f63b-e8fe08ede2f0"
   },
   "execution_count": 143,
   "outputs": [
    {
     "data": {
      "text/plain": "       user_id  movie_id  rating  unix_timestamp\n256          1       267       4       875692955\n445          5       267       4       875635064\n12227      130       267       5       875801239\n23647      268       267       3       875742077\n27988      297       267       3       875409139\n43231      422       267       4       875655986\n54139      532       267       3       875441348\n79838      833       267       1       875655669\n3180       319       267       4       875707690",
      "text/html": "<div>\n<style scoped>\n    .dataframe tbody tr th:only-of-type {\n        vertical-align: middle;\n    }\n\n    .dataframe tbody tr th {\n        vertical-align: top;\n    }\n\n    .dataframe thead th {\n        text-align: right;\n    }\n</style>\n<table border=\"1\" class=\"dataframe\">\n  <thead>\n    <tr style=\"text-align: right;\">\n      <th></th>\n      <th>user_id</th>\n      <th>movie_id</th>\n      <th>rating</th>\n      <th>unix_timestamp</th>\n    </tr>\n  </thead>\n  <tbody>\n    <tr>\n      <th>256</th>\n      <td>1</td>\n      <td>267</td>\n      <td>4</td>\n      <td>875692955</td>\n    </tr>\n    <tr>\n      <th>445</th>\n      <td>5</td>\n      <td>267</td>\n      <td>4</td>\n      <td>875635064</td>\n    </tr>\n    <tr>\n      <th>12227</th>\n      <td>130</td>\n      <td>267</td>\n      <td>5</td>\n      <td>875801239</td>\n    </tr>\n    <tr>\n      <th>23647</th>\n      <td>268</td>\n      <td>267</td>\n      <td>3</td>\n      <td>875742077</td>\n    </tr>\n    <tr>\n      <th>27988</th>\n      <td>297</td>\n      <td>267</td>\n      <td>3</td>\n      <td>875409139</td>\n    </tr>\n    <tr>\n      <th>43231</th>\n      <td>422</td>\n      <td>267</td>\n      <td>4</td>\n      <td>875655986</td>\n    </tr>\n    <tr>\n      <th>54139</th>\n      <td>532</td>\n      <td>267</td>\n      <td>3</td>\n      <td>875441348</td>\n    </tr>\n    <tr>\n      <th>79838</th>\n      <td>833</td>\n      <td>267</td>\n      <td>1</td>\n      <td>875655669</td>\n    </tr>\n    <tr>\n      <th>3180</th>\n      <td>319</td>\n      <td>267</td>\n      <td>4</td>\n      <td>875707690</td>\n    </tr>\n  </tbody>\n</table>\n</div>"
     },
     "execution_count": 143,
     "metadata": {},
     "output_type": "execute_result"
    }
   ]
  },
  {
   "cell_type": "code",
   "source": [
    "rating_df.info()"
   ],
   "metadata": {
    "colab": {
     "base_uri": "https://localhost:8080/"
    },
    "id": "Ho_lg2jLVXxk",
    "outputId": "473237fc-85d9-44e2-c7a3-abbf00ffe13a"
   },
   "execution_count": 144,
   "outputs": [
    {
     "name": "stdout",
     "output_type": "stream",
     "text": [
      "<class 'pandas.core.frame.DataFrame'>\n",
      "Int64Index: 100000 entries, 0 to 9429\n",
      "Data columns (total 4 columns):\n",
      " #   Column          Non-Null Count   Dtype\n",
      "---  ------          --------------   -----\n",
      " 0   user_id         100000 non-null  int64\n",
      " 1   movie_id        100000 non-null  int64\n",
      " 2   rating          100000 non-null  int64\n",
      " 3   unix_timestamp  100000 non-null  int64\n",
      "dtypes: int64(4)\n",
      "memory usage: 3.8 MB\n"
     ]
    }
   ]
  },
  {
   "cell_type": "code",
   "source": [
    "rating_df.head()"
   ],
   "metadata": {
    "colab": {
     "base_uri": "https://localhost:8080/",
     "height": 0
    },
    "id": "WPzz6waXVXs0",
    "outputId": "fee9d783-b54a-485e-c672-e6618d9ba78d"
   },
   "execution_count": 145,
   "outputs": [
    {
     "data": {
      "text/plain": "   user_id  movie_id  rating  unix_timestamp\n0        1         1       5       874965758\n1        1         2       3       876893171\n2        1         3       4       878542960\n3        1         4       3       876893119\n4        1         5       3       889751712",
      "text/html": "<div>\n<style scoped>\n    .dataframe tbody tr th:only-of-type {\n        vertical-align: middle;\n    }\n\n    .dataframe tbody tr th {\n        vertical-align: top;\n    }\n\n    .dataframe thead th {\n        text-align: right;\n    }\n</style>\n<table border=\"1\" class=\"dataframe\">\n  <thead>\n    <tr style=\"text-align: right;\">\n      <th></th>\n      <th>user_id</th>\n      <th>movie_id</th>\n      <th>rating</th>\n      <th>unix_timestamp</th>\n    </tr>\n  </thead>\n  <tbody>\n    <tr>\n      <th>0</th>\n      <td>1</td>\n      <td>1</td>\n      <td>5</td>\n      <td>874965758</td>\n    </tr>\n    <tr>\n      <th>1</th>\n      <td>1</td>\n      <td>2</td>\n      <td>3</td>\n      <td>876893171</td>\n    </tr>\n    <tr>\n      <th>2</th>\n      <td>1</td>\n      <td>3</td>\n      <td>4</td>\n      <td>878542960</td>\n    </tr>\n    <tr>\n      <th>3</th>\n      <td>1</td>\n      <td>4</td>\n      <td>3</td>\n      <td>876893119</td>\n    </tr>\n    <tr>\n      <th>4</th>\n      <td>1</td>\n      <td>5</td>\n      <td>3</td>\n      <td>889751712</td>\n    </tr>\n  </tbody>\n</table>\n</div>"
     },
     "execution_count": 145,
     "metadata": {},
     "output_type": "execute_result"
    }
   ]
  },
  {
   "cell_type": "code",
   "source": [
    "rating_df.drop(columns=\"unix_timestamp\", inplace=True)\n",
    "rating_df.head()"
   ],
   "metadata": {
    "colab": {
     "base_uri": "https://localhost:8080/",
     "height": 0
    },
    "id": "l4-IgG6LWqFE",
    "outputId": "77bbbab4-ac08-48db-deaa-d05823204841"
   },
   "execution_count": 146,
   "outputs": [
    {
     "data": {
      "text/plain": "   user_id  movie_id  rating\n0        1         1       5\n1        1         2       3\n2        1         3       4\n3        1         4       3\n4        1         5       3",
      "text/html": "<div>\n<style scoped>\n    .dataframe tbody tr th:only-of-type {\n        vertical-align: middle;\n    }\n\n    .dataframe tbody tr th {\n        vertical-align: top;\n    }\n\n    .dataframe thead th {\n        text-align: right;\n    }\n</style>\n<table border=\"1\" class=\"dataframe\">\n  <thead>\n    <tr style=\"text-align: right;\">\n      <th></th>\n      <th>user_id</th>\n      <th>movie_id</th>\n      <th>rating</th>\n    </tr>\n  </thead>\n  <tbody>\n    <tr>\n      <th>0</th>\n      <td>1</td>\n      <td>1</td>\n      <td>5</td>\n    </tr>\n    <tr>\n      <th>1</th>\n      <td>1</td>\n      <td>2</td>\n      <td>3</td>\n    </tr>\n    <tr>\n      <th>2</th>\n      <td>1</td>\n      <td>3</td>\n      <td>4</td>\n    </tr>\n    <tr>\n      <th>3</th>\n      <td>1</td>\n      <td>4</td>\n      <td>3</td>\n    </tr>\n    <tr>\n      <th>4</th>\n      <td>1</td>\n      <td>5</td>\n      <td>3</td>\n    </tr>\n  </tbody>\n</table>\n</div>"
     },
     "execution_count": 146,
     "metadata": {},
     "output_type": "execute_result"
    }
   ]
  },
  {
   "cell_type": "code",
   "source": [
    "for column in [\"rating\"]:\n",
    "    print(column)\n",
    "    rating_df[column].value_counts().sort_index().plot(kind='bar')\n",
    "    plt.show()"
   ],
   "metadata": {
    "colab": {
     "base_uri": "https://localhost:8080/",
     "height": 297
    },
    "id": "noraJShaWp9p",
    "outputId": "d51ca38a-5fd2-47eb-a90f-5486c41e30b3"
   },
   "execution_count": 147,
   "outputs": [
    {
     "name": "stdout",
     "output_type": "stream",
     "text": [
      "rating\n"
     ]
    },
    {
     "data": {
      "text/plain": "<Figure size 432x288 with 1 Axes>",
      "image/png": "[encoded data removed]"
     },
     "metadata": {},
     "output_type": "display_data"
    }
   ]
  },
  {
   "cell_type": "code",
   "source": [
    "SCORE_DIFF = rating_df[\"rating\"].max() - rating_df[\"rating\"].min()\n",
    "SCORE_MIN = rating_df[\"rating\"].min()"
   ],
   "metadata": {
    "id": "jH4_2yKUnBek",
    "colab": {
     "base_uri": "https://localhost:8080/"
    },
    "outputId": "9bc1087e-e482-49a4-db26-fab12663068e"
   },
   "execution_count": 148,
   "outputs": []
  },
  {
   "cell_type": "code",
   "source": [
    "print(f\"SCORE_DIFF = {SCORE_DIFF}\")\n",
    "print(f\"SCORE_MIN = {SCORE_MIN}\")"
   ],
   "metadata": {
    "colab": {
     "base_uri": "https://localhost:8080/"
    },
    "id": "DckPCgjrqq0k",
    "outputId": "8cb40ff8-1296-42d2-c57b-815645e45bf2"
   },
   "execution_count": 149,
   "outputs": [
    {
     "name": "stdout",
     "output_type": "stream",
     "text": [
      "SCORE_DIFF = 4\n",
      "SCORE_MIN = 1\n"
     ]
    }
   ]
  },
  {
   "cell_type": "code",
   "source": [
    "for column in [\"rating\"]:\n",
    "    MIN = rating_df[column].min()\n",
    "    MAX = rating_df[column].max()\n",
    "    rating_df[column] = (rating_df[column] - MIN) / (MAX - MIN)\n",
    "rating_df.head()"
   ],
   "metadata": {
    "colab": {
     "base_uri": "https://localhost:8080/",
     "height": 0
    },
    "id": "I_rnsnT-ZdHl",
    "outputId": "69f74d39-68ec-44fc-fdbb-1b120e7bbf24"
   },
   "execution_count": 150,
   "outputs": [
    {
     "data": {
      "text/plain": "   user_id  movie_id  rating\n0        1         1    1.00\n1        1         2    0.50\n2        1         3    0.75\n3        1         4    0.50\n4        1         5    0.50",
      "text/html": "<div>\n<style scoped>\n    .dataframe tbody tr th:only-of-type {\n        vertical-align: middle;\n    }\n\n    .dataframe tbody tr th {\n        vertical-align: top;\n    }\n\n    .dataframe thead th {\n        text-align: right;\n    }\n</style>\n<table border=\"1\" class=\"dataframe\">\n  <thead>\n    <tr style=\"text-align: right;\">\n      <th></th>\n      <th>user_id</th>\n      <th>movie_id</th>\n      <th>rating</th>\n    </tr>\n  </thead>\n  <tbody>\n    <tr>\n      <th>0</th>\n      <td>1</td>\n      <td>1</td>\n      <td>1.00</td>\n    </tr>\n    <tr>\n      <th>1</th>\n      <td>1</td>\n      <td>2</td>\n      <td>0.50</td>\n    </tr>\n    <tr>\n      <th>2</th>\n      <td>1</td>\n      <td>3</td>\n      <td>0.75</td>\n    </tr>\n    <tr>\n      <th>3</th>\n      <td>1</td>\n      <td>4</td>\n      <td>0.50</td>\n    </tr>\n    <tr>\n      <th>4</th>\n      <td>1</td>\n      <td>5</td>\n      <td>0.50</td>\n    </tr>\n  </tbody>\n</table>\n</div>"
     },
     "execution_count": 150,
     "metadata": {},
     "output_type": "execute_result"
    }
   ]
  },
  {
   "cell_type": "markdown",
   "source": [
    "# 기반 클래스 생성"
   ],
   "metadata": {
    "id": "nHfIqWOiZ6hJ"
   }
  },
  {
   "cell_type": "code",
   "source": [
    "user_np = user_df.to_numpy()\n",
    "print(user_np.shape)\n",
    "print(user_np[:2])"
   ],
   "metadata": {
    "colab": {
     "base_uri": "https://localhost:8080/"
    },
    "id": "R5kumH6NaVDH",
    "outputId": "3f58bebf-adbf-492f-fed4-312841d71a3f"
   },
   "execution_count": 151,
   "outputs": [
    {
     "name": "stdout",
     "output_type": "stream",
     "text": [
      "(943, 30)\n",
      "[[1 0 0 1 0 0 0 0 1 0 0 0 0 0 0 0 0 0 0 0 0 0 0 0 0 0 0 0 1 0]\n",
      " [2 0 0 0 0 0 1 1 0 0 0 0 0 0 0 0 0 0 0 0 0 0 1 0 0 0 0 0 0 0]]\n"
     ]
    }
   ]
  },
  {
   "cell_type": "code",
   "source": [
    "content_np = item_df.to_numpy()\n",
    "print(content_np.shape)\n",
    "print(content_np[:2])"
   ],
   "metadata": {
    "colab": {
     "base_uri": "https://localhost:8080/"
    },
    "id": "4RY0PQoabZMv",
    "outputId": "b32156d7-b891-4f58-b231-eee16c7139e6"
   },
   "execution_count": 152,
   "outputs": [
    {
     "name": "stdout",
     "output_type": "stream",
     "text": [
      "(1682, 21)\n",
      "[[1.         0.         0.         0.         1.         1.\n",
      "  1.         0.         0.         0.         0.         0.\n",
      "  0.         0.         0.         0.         0.         0.\n",
      "  0.         0.         0.89285714]\n",
      " [2.         0.         1.         1.         0.         0.\n",
      "  0.         0.         0.         0.         0.         0.\n",
      "  0.         0.         0.         0.         0.         1.\n",
      "  0.         0.         0.89285714]]\n"
     ]
    }
   ]
  },
  {
   "cell_type": "code",
   "source": [
    "rating_np = rating_df.to_numpy()\n",
    "print(rating_np.shape)\n",
    "print(rating_np[:5])"
   ],
   "metadata": {
    "colab": {
     "base_uri": "https://localhost:8080/"
    },
    "id": "sLrWf6gobfnA",
    "outputId": "2fa1523a-e65a-45e7-e162-5180cfe65750"
   },
   "execution_count": 153,
   "outputs": [
    {
     "name": "stdout",
     "output_type": "stream",
     "text": [
      "(100000, 3)\n",
      "[[1.   1.   1.  ]\n",
      " [1.   2.   0.5 ]\n",
      " [1.   3.   0.75]\n",
      " [1.   4.   0.5 ]\n",
      " [1.   5.   0.5 ]]\n"
     ]
    }
   ]
  },
  {
   "cell_type": "markdown",
   "source": [
    "# 상수 정의"
   ],
   "metadata": {
    "id": "X8XnrJYIlpSo"
   }
  },
  {
   "cell_type": "code",
   "source": [
    "LATENT_SIZE = 2"
   ],
   "metadata": {
    "id": "r2ktAZmhaQpr",
    "colab": {
     "base_uri": "https://localhost:8080/"
    },
    "outputId": "32a449b1-96d4-4739-cd37-a7ca84717908"
   },
   "execution_count": 154,
   "outputs": []
  },
  {
   "cell_type": "code",
   "source": [
    "BATCH_SIZE = 256"
   ],
   "metadata": {
    "id": "BXi_EW1gtF8C",
    "colab": {
     "base_uri": "https://localhost:8080/"
    },
    "outputId": "63cff8f8-336e-4500-f8c4-b4c079943916"
   },
   "execution_count": 155,
   "outputs": []
  },
  {
   "cell_type": "markdown",
   "source": [
    "# User, Content, Score 클래스 정의"
   ],
   "metadata": {
    "id": "MRTE7f4G1MLJ"
   }
  },
  {
   "cell_type": "code",
   "source": [
    "import copy"
   ],
   "metadata": {
    "id": "rCc7QNFz2XFk",
    "colab": {
     "base_uri": "https://localhost:8080/"
    },
    "outputId": "aa541f93-179b-42d3-86b4-9052384e3268"
   },
   "execution_count": 156,
   "outputs": []
  },
  {
   "cell_type": "code",
   "source": [
    "class User:\n",
    "    def __init__(self, id, features):\n",
    "        self.id = id\n",
    "        self.features = features\n",
    "        self.latent = np.random.random(LATENT_SIZE)\n",
    "\n",
    "    def __str__(self):\n",
    "        return f\"id:{self.id}, features:{self.features}\"\n",
    "\n",
    "    def copy(self):\n",
    "        return copy.deepcopy(self)  \n",
    "\n",
    "    def is_same(self, other):\n",
    "        return self.id == other.id"
   ],
   "metadata": {
    "id": "QHoKIpRG1L7K",
    "colab": {
     "base_uri": "https://localhost:8080/"
    },
    "outputId": "447442c2-145d-4018-d439-3b1f4dda779d"
   },
   "execution_count": 157,
   "outputs": []
  },
  {
   "cell_type": "code",
   "source": [
    "class Content:\n",
    "    def __init__(self, id, features):\n",
    "        self.id = id\n",
    "        self.features = features\n",
    "        self.latent = np.random.random(LATENT_SIZE)\n",
    "\n",
    "    def __str__(self):\n",
    "        return f\"id:{self.id}, features:{self.features}\"\n",
    "\n",
    "    def copy(self):\n",
    "        return copy.deepcopy(self)  \n",
    "\n",
    "    def is_same(self, other):\n",
    "        return self.id == other.id"
   ],
   "metadata": {
    "id": "6-p2Z3Nm1L1A",
    "colab": {
     "base_uri": "https://localhost:8080/"
    },
    "outputId": "dad8c43c-c581-4d73-d533-b0c4e3b61bae"
   },
   "execution_count": 158,
   "outputs": []
  },
  {
   "cell_type": "code",
   "source": [
    "class Score:\n",
    "    def __init__(self, user, content, values):\n",
    "        self.user = user\n",
    "        self.content = content\n",
    "        self.values = values\n",
    "\n",
    "    def __str__(self):\n",
    "        return f\"user:{self.user.id}, content:{self.content.id}, values:{self.values}\"\n",
    "\n",
    "    def value(self):\n",
    "        return self.values\n",
    "\n",
    "    def copy(self):\n",
    "        return copy.deepcopy(self)  "
   ],
   "metadata": {
    "id": "5jCeX9OO1Lqe",
    "colab": {
     "base_uri": "https://localhost:8080/"
    },
    "outputId": "0ab8b60c-2c0a-4b32-b9ff-1e7f48a4cb3a"
   },
   "execution_count": 159,
   "outputs": []
  },
  {
   "cell_type": "code",
   "source": [
    "id_2_user = {}\n",
    "for i in range(len(user_np)):\n",
    "    row = user_np[i]\n",
    "    id = int(row[0])\n",
    "    features = row[1:]\n",
    "    user = User(id, features)\n",
    "    id_2_user[id] = user"
   ],
   "metadata": {
    "id": "TPvwzrY242cQ",
    "colab": {
     "base_uri": "https://localhost:8080/"
    },
    "outputId": "3d5bc842-9caf-4e25-ee6f-5526c7df6e2d"
   },
   "execution_count": 160,
   "outputs": []
  },
  {
   "cell_type": "code",
   "source": [
    "id_2_content = {}\n",
    "for i in range(len(content_np)):\n",
    "    row = content_np[i]\n",
    "    id = int(row[0])\n",
    "    features = row[1:]\n",
    "    content = Content(id, features)\n",
    "    id_2_content[id] = content"
   ],
   "metadata": {
    "id": "7TpSMKW65ug2",
    "colab": {
     "base_uri": "https://localhost:8080/"
    },
    "outputId": "5eae3670-1f05-4bbd-f71a-fe56d47bf993"
   },
   "execution_count": 161,
   "outputs": []
  },
  {
   "cell_type": "code",
   "source": [
    "class Log:\n",
    "    def __init__(self, raw_values):\n",
    "        self.user_id = raw_values[0]\n",
    "        self.content_id = raw_values[1]\n",
    "        self.scores = raw_values[2:]\n",
    "\n",
    "    def __str__(self):\n",
    "        return f\"user_id:{self.user_id}, content_id:{self.content_id}, scores:{self.scores}\""
   ],
   "metadata": {
    "id": "VS2gV2od22Yi",
    "colab": {
     "base_uri": "https://localhost:8080/"
    },
    "outputId": "98e05ab9-5d1a-4273-e97e-39233a2027a2"
   },
   "execution_count": 162,
   "outputs": []
  },
  {
   "cell_type": "markdown",
   "source": [
    "# User, Content, Score 객체 만들기"
   ],
   "metadata": {
    "id": "2sefW15R7cwi"
   }
  },
  {
   "cell_type": "code",
   "source": [
    "scores = []\n",
    "for i in range(len(rating_np)):\n",
    "    log = Log(rating_np[i])\n",
    "    user = id_2_user[log.user_id]\n",
    "    content = id_2_content[log.content_id]\n",
    "    score = Score(user.copy(), content.copy(), log.scores.copy())\n",
    "    if(i<10): print(score)\n",
    "    scores.append(score)"
   ],
   "metadata": {
    "colab": {
     "base_uri": "https://localhost:8080/"
    },
    "id": "Unm3MXfN2Zub",
    "outputId": "e073581c-4db2-4a9f-a461-e89388cc5bda"
   },
   "execution_count": 163,
   "outputs": [
    {
     "name": "stdout",
     "output_type": "stream",
     "text": [
      "user:1, content:1, values:[1.]\n",
      "user:1, content:2, values:[0.5]\n",
      "user:1, content:3, values:[0.75]\n",
      "user:1, content:4, values:[0.5]\n",
      "user:1, content:5, values:[0.5]\n",
      "user:1, content:6, values:[1.]\n",
      "user:1, content:7, values:[0.75]\n",
      "user:1, content:8, values:[0.]\n",
      "user:1, content:9, values:[1.]\n",
      "user:1, content:10, values:[0.5]\n"
     ]
    }
   ]
  },
  {
   "cell_type": "code",
   "source": [
    "print(f\"user : {len(id_2_user)}\")\n",
    "print(f\"content : {len(id_2_content)}\")\n",
    "print(f\"scores : {len(scores)}\")"
   ],
   "metadata": {
    "colab": {
     "base_uri": "https://localhost:8080/"
    },
    "id": "-wMDSCBGoa3_",
    "outputId": "21cb16e9-7cfa-4a40-bba2-ccd003d43ff7"
   },
   "execution_count": 164,
   "outputs": [
    {
     "name": "stdout",
     "output_type": "stream",
     "text": [
      "user : 943\n",
      "content : 1682\n",
      "scores : 100000\n"
     ]
    }
   ]
  },
  {
   "cell_type": "markdown",
   "source": [
    "# feature size"
   ],
   "metadata": {
    "id": "mHO6mZedBc5Q"
   }
  },
  {
   "cell_type": "code",
   "source": [
    "SCORE_SIZE = len(scores[0].values)\n",
    "USER_FEATURE_SIZE = len(scores[0].user.features)\n",
    "CONTENT_FEATURE_SIZE = len(scores[0].content.features)\n",
    "print(f\"SCORE_SIZE : {SCORE_SIZE}\")\n",
    "print(f\"USER_FEATURE_SIZE : {USER_FEATURE_SIZE}\")\n",
    "print(f\"CONTENT_FEATURE_SIZE : {CONTENT_FEATURE_SIZE}\")\n"
   ],
   "metadata": {
    "id": "3027ciHP5RRy",
    "colab": {
     "base_uri": "https://localhost:8080/"
    },
    "outputId": "7fddd89e-d429-4dab-9206-a8e0bf39c2b8"
   },
   "execution_count": 165,
   "outputs": [
    {
     "name": "stdout",
     "output_type": "stream",
     "text": [
      "SCORE_SIZE : 1\n",
      "USER_FEATURE_SIZE : 29\n",
      "CONTENT_FEATURE_SIZE : 20\n"
     ]
    }
   ]
  },
  {
   "cell_type": "markdown",
   "source": [
    "# train, test 데이터 나누기"
   ],
   "metadata": {
    "id": "WDvc-AMu-1__"
   }
  },
  {
   "cell_type": "markdown",
   "source": [
    "우선 섞고"
   ],
   "metadata": {
    "id": "GLGJtdvzoo1G"
   }
  },
  {
   "cell_type": "code",
   "source": [
    "print(scores[:3])\n",
    "np.random.shuffle(scores)\n",
    "print(scores[:3])"
   ],
   "metadata": {
    "colab": {
     "base_uri": "https://localhost:8080/"
    },
    "id": "orkqGL0uoX_B",
    "outputId": "6296a7a1-9735-43f0-c6f3-8914017e5f87"
   },
   "execution_count": 166,
   "outputs": [
    {
     "name": "stdout",
     "output_type": "stream",
     "text": [
      "[<__main__.Score object at 0x7f3f7e0eebb0>, <__main__.Score object at 0x7f3f95740ac0>, <__main__.Score object at 0x7f3f957408e0>]\n",
      "[<__main__.Score object at 0x7f3e58296b50>, <__main__.Score object at 0x7f3e24bd46d0>, <__main__.Score object at 0x7f3e2644c370>]\n"
     ]
    }
   ]
  },
  {
   "cell_type": "code",
   "source": [
    "split_index = int(len(scores)*0.9)\n",
    "train_scores, test_scores = scores[:split_index], scores[split_index:]"
   ],
   "metadata": {
    "id": "XSOG1fKG-l6h",
    "colab": {
     "base_uri": "https://localhost:8080/"
    },
    "outputId": "9eaf970e-34fa-4ecd-9b62-90f7860cdb92"
   },
   "execution_count": 167,
   "outputs": []
  },
  {
   "cell_type": "markdown",
   "source": [
    "# 학습 데이터에 잡음 추가"
   ],
   "metadata": {
    "id": "hQhnt6_L-YXj"
   }
  },
  {
   "cell_type": "code",
   "source": [
    "NOISE_RATIO = 0.0\n",
    "for score in train_scores:\n",
    "    if NOISE_RATIO==0.0: continue\n",
    "    score.values += np.random.randn(SCORE_SIZE)*NOISE_RATIO\n",
    "    score.values = score.values.clip(0.0, 1.0)\n"
   ],
   "metadata": {
    "id": "sWBB6EPU-c_F",
    "colab": {
     "base_uri": "https://localhost:8080/"
    },
    "outputId": "e6560232-2290-4982-c63c-60a8fcfab49f"
   },
   "execution_count": 168,
   "outputs": []
  },
  {
   "cell_type": "markdown",
   "source": [
    "# 모델 정의"
   ],
   "metadata": {
    "id": "sstQHRMPXLHu"
   }
  },
  {
   "cell_type": "code",
   "source": [
    "from tensorflow.keras.layers import Input, Dense, concatenate, Dropout, GaussianNoise\n",
    "from tensorflow.keras.layers import Conv1D, Reshape, MaxPooling1D, Flatten\n",
    "from tensorflow.keras.models import Model\n",
    "import tensorflow\n",
    "\n",
    "f0, f1, f2, f3, f4, f5, f6, f7, f8 = 4, 8, 12, 16, 20, 24, 28, 32, 36\n",
    "def layer(x):\n",
    "  # x = Conv1D(f0, 3, activation='swish', input_shape=x.shape[1])(x)\n",
    "  # x = Conv1D(f1, 3, activation='swish')(x)\n",
    "  # x = Conv1D(f2, 3, activation='swish')(x)\n",
    "  # x = Conv1D(f3, 3, activation='swish')(x)\n",
    "  # x = Conv1D(f4, 3, activation='swish')(x)\n",
    "  # x = Conv1D(f5, 3, activation='swish')(x)\n",
    "  # x = Conv1D(f6, 3, activation='swish')(x)\n",
    "  # x = Conv1D(f7, 3, activation='swish')(x)\n",
    "  # x = Conv1D(f8, x.shaoe[0], activation='swish')(x)\n",
    "#   x = Dense(f8, activation=\"swish\")(x)\n",
    "#   x = Dense(f7, activation=\"swish\")(x)\n",
    "#   x = Dense(f6, activation=\"swish\")(x)\n",
    "#   x = Dense(f5, activation=\"swish\")(x)\n",
    "#   x = Dense(f4, activation=\"swish\")(x)\n",
    "  x = Dense(f3, activation=\"swish\")(x)\n",
    "  x = Dense(f2, activation=\"swish\")(x)\n",
    "  x = Dense(f1, activation=\"swish\")(x)\n",
    "  return x\n",
    "\n",
    "def build_encoder(name):\n",
    "  latent_input = Input((LATENT_SIZE,))\n",
    "  user_feature_input = Input((USER_FEATURE_SIZE,))\n",
    "  content_feature_input = Input((CONTENT_FEATURE_SIZE,))\n",
    "  score_input = Input((SCORE_SIZE,))\n",
    "#   score_input = GaussianNoise(0.3)(score_input)\n",
    "\n",
    "  latent_x = Dense(6, activation=\"swish\")(latent_input)\n",
    "  user_feature_x = Dense(int(USER_FEATURE_SIZE/2), activation=\"swish\")(user_feature_input)\n",
    "  content_feature_x = Dense(int(CONTENT_FEATURE_SIZE/2), activation=\"swish\")(content_feature_input)\n",
    "  score_x = Dense(6, activation=\"swish\")(score_input)\n",
    "\n",
    "  x = concatenate([latent_x, user_feature_x, content_feature_x, score_x])\n",
    "  print(x.shape)\n",
    "  x = layer(x)\n",
    "  latent = Dense(LATENT_SIZE, activation=\"sigmoid\")(x)\n",
    "  return Model((latent_input, user_feature_input, content_feature_input, score_input), latent, name=name)\n",
    "\n",
    "def build_decoder(name):\n",
    "  user_latent_input = Input((LATENT_SIZE,))\n",
    "  user_feature_input = Input((USER_FEATURE_SIZE,))\n",
    "  content_feature_input = Input((CONTENT_FEATURE_SIZE,))\n",
    "  content_latent_input = Input((LATENT_SIZE,))\n",
    "\n",
    "  user_latent_x = Dense(6, activation=\"swish\")(user_latent_input)\n",
    "  user_feature_x = Dense(int(USER_FEATURE_SIZE/2), activation=\"swish\")(user_feature_input)\n",
    "  content_feature_x = Dense(int(CONTENT_FEATURE_SIZE/2), activation=\"swish\")(content_feature_input)\n",
    "  content_lattent_x = Dense(6, activation=\"swish\")(content_latent_input)\n",
    "\n",
    "  x = concatenate([user_latent_x, user_feature_x, content_feature_x, content_lattent_x])\n",
    "  x = layer(x)\n",
    "  score_output = Dense(SCORE_SIZE, activation=\"sigmoid\")(x)\n",
    "\n",
    "  return Model((user_latent_input, user_feature_input, content_feature_input, content_latent_input), score_output, name=name)\n",
    "\n",
    "decoder = build_decoder(\"D\")\n",
    "\n",
    "def build_user_input_autoencoder(name=\"UIAE\"):\n",
    "  encoder = build_encoder(f\"{name}.E\")\n",
    "\n",
    "  user_latent = Input((LATENT_SIZE,))\n",
    "  user_feature_input = Input((USER_FEATURE_SIZE,))\n",
    "  content_feature_input = Input((CONTENT_FEATURE_SIZE,))\n",
    "  score_input = Input((SCORE_SIZE,))\n",
    "\n",
    "  content_latent = encoder((user_latent, user_feature_input, content_feature_input, score_input))\n",
    "  score_output = decoder((user_latent, user_feature_input, content_feature_input, content_latent))\n",
    "  autoencoder = Model((user_latent, user_feature_input, content_feature_input, score_input), (content_latent, score_output), name=name)\n",
    "  autoencoder.encoder = encoder\n",
    "  autoencoder.decoder = decoder\n",
    "  return autoencoder\n",
    "\n",
    "\n",
    "def build_content_input_autoencoder(name=\"CIAE\"):\n",
    "  encoder = build_encoder(f\"{name}.E\")\n",
    "\n",
    "  content_latent = Input((LATENT_SIZE,))\n",
    "  user_feature_input = Input((USER_FEATURE_SIZE,))\n",
    "  content_feature_input = Input((CONTENT_FEATURE_SIZE,))\n",
    "  score_input = Input((SCORE_SIZE,))\n",
    "\n",
    "  user_latent = encoder((content_latent, user_feature_input, content_feature_input, score_input))\n",
    "  score_output = decoder((user_latent, user_feature_input, content_feature_input, content_latent))\n",
    "\n",
    "  autoencoder = Model((content_latent, user_feature_input, content_feature_input, score_input), (user_latent, score_output), name=name)\n",
    "  autoencoder.encoder = encoder\n",
    "  autoencoder.decoder = decoder\n",
    "\n",
    "  return autoencoder\n",
    "\n",
    "user_input_autoencoder = build_user_input_autoencoder(\"UIAE\")"
   ],
   "metadata": {
    "id": "Y4uD4_ZkB8GJ",
    "colab": {
     "base_uri": "https://localhost:8080/",
     "height": 399
    },
    "outputId": "3000d05c-6c9c-4fad-dc33-7c27a63be7b9"
   },
   "execution_count": 170,
   "outputs": [
    {
     "name": "stdout",
     "output_type": "stream",
     "text": [
      "(None, 36)\n"
     ]
    }
   ]
  },
  {
   "cell_type": "code",
   "source": [
    "from keras.optimizers.schedules.learning_rate_schedule import ExponentialDecay\n",
    "from tensorflow.keras.optimizers import Adam, RMSprop\n",
    "\n",
    "user_input_autoencoder = build_user_input_autoencoder(\"UIAE\")\n",
    "content_input_autoencoder = build_content_input_autoencoder(\"CIAE\")\n",
    "\n",
    "lr_schedule = ExponentialDecay(initial_learning_rate=0.0001,\n",
    "                                                            decay_steps=100000,\n",
    "                                                            decay_rate=0.96,\n",
    "                                                            staircase=True)\n",
    "\n",
    "autoencoder_optimizer = RMSprop(learning_rate=lr_schedule)\n",
    "encoder_optimizer = RMSprop(learning_rate=lr_schedule)\n",
    "decoder_optimizer = RMSprop(learning_rate=lr_schedule)\n",
    "\n",
    "\n",
    "user_input_autoencoder.compile(loss=\"mse\", optimizer=autoencoder_optimizer)\n",
    "user_input_autoencoder.encoder.compile(loss=\"mse\", optimizer=encoder_optimizer)\n",
    "user_input_autoencoder.decoder.compile(loss=\"mse\", optimizer=decoder_optimizer)\n",
    "\n",
    "content_input_autoencoder.compile(loss=\"mse\", optimizer=autoencoder_optimizer)\n",
    "content_input_autoencoder.encoder.compile(loss=\"mse\", optimizer=encoder_optimizer)\n",
    "content_input_autoencoder.decoder.compile(loss=\"mse\", optimizer=decoder_optimizer)\n"
   ],
   "metadata": {
    "id": "PVEKQN2u_d-p",
    "colab": {
     "base_uri": "https://localhost:8080/"
    },
    "outputId": "e07f832d-e488-4b86-df6b-b4899d087a2d"
   },
   "execution_count": 179,
   "outputs": [
    {
     "name": "stdout",
     "output_type": "stream",
     "text": [
      "(None, 36)\n",
      "(None, 36)\n"
     ]
    }
   ]
  },
  {
   "cell_type": "code",
   "source": [
    "user_input_autoencoder.summary()\n",
    "user_input_autoencoder.encoder.summary()\n",
    "user_input_autoencoder.decoder.summary()"
   ],
   "metadata": {
    "colab": {
     "base_uri": "https://localhost:8080/"
    },
    "id": "tW4vo0yn4zTp",
    "outputId": "dd83bf96-1f00-4a97-bc0b-11772ac5e332"
   },
   "execution_count": 180,
   "outputs": [
    {
     "name": "stdout",
     "output_type": "stream",
     "text": [
      "Model: \"UIAE\"\n",
      "__________________________________________________________________________________________________\n",
      " Layer (type)                   Output Shape         Param #     Connected to                     \n",
      "==================================================================================================\n",
      " input_137 (InputLayer)         [(None, 2)]          0           []                               \n",
      "                                                                                                  \n",
      " input_138 (InputLayer)         [(None, 29)]         0           []                               \n",
      "                                                                                                  \n",
      " input_139 (InputLayer)         [(None, 20)]         0           []                               \n",
      "                                                                                                  \n",
      " input_140 (InputLayer)         [(None, 1)]          0           []                               \n",
      "                                                                                                  \n",
      " UIAE.E (Functional)            (None, 2)            1578        ['input_137[0][0]',              \n",
      "                                                                  'input_138[0][0]',              \n",
      "                                                                  'input_139[0][0]',              \n",
      "                                                                  'input_140[0][0]']              \n",
      "                                                                                                  \n",
      " D (Functional)                 (None, 1)            1575        ['input_137[0][0]',              \n",
      "                                                                  'input_138[0][0]',              \n",
      "                                                                  'input_139[0][0]',              \n",
      "                                                                  'UIAE.E[0][0]']                 \n",
      "                                                                                                  \n",
      "==================================================================================================\n",
      "Total params: 3,153\n",
      "Trainable params: 3,153\n",
      "Non-trainable params: 0\n",
      "__________________________________________________________________________________________________\n",
      "Model: \"UIAE.E\"\n",
      "__________________________________________________________________________________________________\n",
      " Layer (type)                   Output Shape         Param #     Connected to                     \n",
      "==================================================================================================\n",
      " input_133 (InputLayer)         [(None, 2)]          0           []                               \n",
      "                                                                                                  \n",
      " input_134 (InputLayer)         [(None, 29)]         0           []                               \n",
      "                                                                                                  \n",
      " input_135 (InputLayer)         [(None, 20)]         0           []                               \n",
      "                                                                                                  \n",
      " input_136 (InputLayer)         [(None, 1)]          0           []                               \n",
      "                                                                                                  \n",
      " dense_136 (Dense)              (None, 6)            18          ['input_133[0][0]']              \n",
      "                                                                                                  \n",
      " dense_137 (Dense)              (None, 14)           420         ['input_134[0][0]']              \n",
      "                                                                                                  \n",
      " dense_138 (Dense)              (None, 10)           210         ['input_135[0][0]']              \n",
      "                                                                                                  \n",
      " dense_139 (Dense)              (None, 6)            12          ['input_136[0][0]']              \n",
      "                                                                                                  \n",
      " concatenate_18 (Concatenate)   (None, 36)           0           ['dense_136[0][0]',              \n",
      "                                                                  'dense_137[0][0]',              \n",
      "                                                                  'dense_138[0][0]',              \n",
      "                                                                  'dense_139[0][0]']              \n",
      "                                                                                                  \n",
      " dense_140 (Dense)              (None, 16)           592         ['concatenate_18[0][0]']         \n",
      "                                                                                                  \n",
      " dense_141 (Dense)              (None, 12)           204         ['dense_140[0][0]']              \n",
      "                                                                                                  \n",
      " dense_142 (Dense)              (None, 8)            104         ['dense_141[0][0]']              \n",
      "                                                                                                  \n",
      " dense_143 (Dense)              (None, 2)            18          ['dense_142[0][0]']              \n",
      "                                                                                                  \n",
      "==================================================================================================\n",
      "Total params: 1,578\n",
      "Trainable params: 1,578\n",
      "Non-trainable params: 0\n",
      "__________________________________________________________________________________________________\n",
      "Model: \"D\"\n",
      "__________________________________________________________________________________________________\n",
      " Layer (type)                   Output Shape         Param #     Connected to                     \n",
      "==================================================================================================\n",
      " input_9 (InputLayer)           [(None, 2)]          0           []                               \n",
      "                                                                                                  \n",
      " input_10 (InputLayer)          [(None, 29)]         0           []                               \n",
      "                                                                                                  \n",
      " input_11 (InputLayer)          [(None, 20)]         0           []                               \n",
      "                                                                                                  \n",
      " input_12 (InputLayer)          [(None, 2)]          0           []                               \n",
      "                                                                                                  \n",
      " dense_8 (Dense)                (None, 6)            18          ['input_9[0][0]']                \n",
      "                                                                                                  \n",
      " dense_9 (Dense)                (None, 14)           420         ['input_10[0][0]']               \n",
      "                                                                                                  \n",
      " dense_10 (Dense)               (None, 10)           210         ['input_11[0][0]']               \n",
      "                                                                                                  \n",
      " dense_11 (Dense)               (None, 6)            18          ['input_12[0][0]']               \n",
      "                                                                                                  \n",
      " concatenate_2 (Concatenate)    (None, 36)           0           ['dense_8[0][0]',                \n",
      "                                                                  'dense_9[0][0]',                \n",
      "                                                                  'dense_10[0][0]',               \n",
      "                                                                  'dense_11[0][0]']               \n",
      "                                                                                                  \n",
      " dense_12 (Dense)               (None, 16)           592         ['concatenate_2[0][0]']          \n",
      "                                                                                                  \n",
      " dense_13 (Dense)               (None, 12)           204         ['dense_12[0][0]']               \n",
      "                                                                                                  \n",
      " dense_14 (Dense)               (None, 8)            104         ['dense_13[0][0]']               \n",
      "                                                                                                  \n",
      " dense_15 (Dense)               (None, 1)            9           ['dense_14[0][0]']               \n",
      "                                                                                                  \n",
      "==================================================================================================\n",
      "Total params: 1,575\n",
      "Trainable params: 1,575\n",
      "Non-trainable params: 0\n",
      "__________________________________________________________________________________________________\n"
     ]
    }
   ]
  },
  {
   "cell_type": "code",
   "execution_count": 264,
   "outputs": [
    {
     "data": {
      "text/plain": "<IPython.core.display.Javascript object>",
      "application/javascript": "/* Put everything inside the global mpl namespace */\n/* global mpl */\nwindow.mpl = {};\n\nmpl.get_websocket_type = function () {\n    if (typeof WebSocket !== 'undefined') {\n        return WebSocket;\n    } else if (typeof MozWebSocket !== 'undefined') {\n        return MozWebSocket;\n    } else {\n        alert(\n            'Your browser does not have WebSocket support. ' +\n                'Please try Chrome, Safari or Firefox ≥ 6. ' +\n                'Firefox 4 and 5 are also supported but you ' +\n                'have to enable WebSockets in about:config.'\n        );\n    }\n};\n\nmpl.figure = function (figure_id, websocket, ondownload, parent_element) {\n    this.id = figure_id;\n\n    this.ws = websocket;\n\n    this.supports_binary = this.ws.binaryType !== undefined;\n\n    if (!this.supports_binary) {\n        var warnings = document.getElementById('mpl-warnings');\n        if (warnings) {\n            warnings.style.display = 'block';\n            warnings.textContent =\n                'This browser does not support binary websocket messages. ' +\n                'Performance may be slow.';\n        }\n    }\n\n    this.imageObj = new Image();\n\n    this.context = undefined;\n    this.message = undefined;\n    this.canvas = undefined;\n    this.rubberband_canvas = undefined;\n    this.rubberband_context = undefined;\n    this.format_dropdown = undefined;\n\n    this.image_mode = 'full';\n\n    this.root = document.createElement('div');\n    this.root.setAttribute('style', 'display: inline-block');\n    this._root_extra_style(this.root);\n\n    parent_element.appendChild(this.root);\n\n    this._init_header(this);\n    this._init_canvas(this);\n    this._init_toolbar(this);\n\n    var fig = this;\n\n    this.waiting = false;\n\n    this.ws.onopen = function () {\n        fig.send_message('supports_binary', { value: fig.supports_binary });\n        fig.send_message('send_image_mode', {});\n        if (fig.ratio !== 1) {\n            fig.send_message('set_dpi_ratio', { dpi_ratio: fig.ratio });\n        }\n        fig.send_message('refresh', {});\n    };\n\n    this.imageObj.onload = function () {\n        if (fig.image_mode === 'full') {\n            // Full images could contain transparency (where diff images\n            // almost always do), so we need to clear the canvas so that\n            // there is no ghosting.\n            fig.context.clearRect(0, 0, fig.canvas.width, fig.canvas.height);\n        }\n        fig.context.drawImage(fig.imageObj, 0, 0);\n    };\n\n    this.imageObj.onunload = function () {\n        fig.ws.close();\n    };\n\n    this.ws.onmessage = this._make_on_message_function(this);\n\n    this.ondownload = ondownload;\n};\n\nmpl.figure.prototype._init_header = function () {\n    var titlebar = document.createElement('div');\n    titlebar.classList =\n        'ui-dialog-titlebar ui-widget-header ui-corner-all ui-helper-clearfix';\n    var titletext = document.createElement('div');\n    titletext.classList = 'ui-dialog-title';\n    titletext.setAttribute(\n        'style',\n        'width: 100%; text-align: center; padding: 3px;'\n    );\n    titlebar.appendChild(titletext);\n    this.root.appendChild(titlebar);\n    this.header = titletext;\n};\n\nmpl.figure.prototype._canvas_extra_style = function (_canvas_div) {};\n\nmpl.figure.prototype._root_extra_style = function (_canvas_div) {};\n\nmpl.figure.prototype._init_canvas = function () {\n    var fig = this;\n\n    var canvas_div = (this.canvas_div = document.createElement('div'));\n    canvas_div.setAttribute(\n        'style',\n        'border: 1px solid #ddd;' +\n            'box-sizing: content-box;' +\n            'clear: both;' +\n            'min-height: 1px;' +\n            'min-width: 1px;' +\n            'outline: 0;' +\n            'overflow: hidden;' +\n            'position: relative;' +\n            'resize: both;'\n    );\n\n    function on_keyboard_event_closure(name) {\n        return function (event) {\n            return fig.key_event(event, name);\n        };\n    }\n\n    canvas_div.addEventListener(\n        'keydown',\n        on_keyboard_event_closure('key_press')\n    );\n    canvas_div.addEventListener(\n        'keyup',\n        on_keyboard_event_closure('key_release')\n    );\n\n    this._canvas_extra_style(canvas_div);\n    this.root.appendChild(canvas_div);\n\n    var canvas = (this.canvas = document.createElement('canvas'));\n    canvas.classList.add('mpl-canvas');\n    canvas.setAttribute('style', 'box-sizing: content-box;');\n\n    this.context = canvas.getContext('2d');\n\n    var backingStore =\n        this.context.backingStorePixelRatio ||\n        this.context.webkitBackingStorePixelRatio ||\n        this.context.mozBackingStorePixelRatio ||\n        this.context.msBackingStorePixelRatio ||\n        this.context.oBackingStorePixelRatio ||\n        this.context.backingStorePixelRatio ||\n        1;\n\n    this.ratio = (window.devicePixelRatio || 1) / backingStore;\n\n    var rubberband_canvas = (this.rubberband_canvas = document.createElement(\n        'canvas'\n    ));\n    rubberband_canvas.setAttribute(\n        'style',\n        'box-sizing: content-box; position: absolute; left: 0; top: 0; z-index: 1;'\n    );\n\n    // Apply a ponyfill if ResizeObserver is not implemented by browser.\n    if (this.ResizeObserver === undefined) {\n        if (window.ResizeObserver !== undefined) {\n            this.ResizeObserver = window.ResizeObserver;\n        } else {\n            var obs = _JSXTOOLS_RESIZE_OBSERVER({});\n            this.ResizeObserver = obs.ResizeObserver;\n        }\n    }\n\n    this.resizeObserverInstance = new this.ResizeObserver(function (entries) {\n        var nentries = entries.length;\n        for (var i = 0; i < nentries; i++) {\n            var entry = entries[i];\n            var width, height;\n            if (entry.contentBoxSize) {\n                if (entry.contentBoxSize instanceof Array) {\n                    // Chrome 84 implements new version of spec.\n                    width = entry.contentBoxSize[0].inlineSize;\n                    height = entry.contentBoxSize[0].blockSize;\n                } else {\n                    // Firefox implements old version of spec.\n                    width = entry.contentBoxSize.inlineSize;\n                    height = entry.contentBoxSize.blockSize;\n                }\n            } else {\n                // Chrome <84 implements even older version of spec.\n                width = entry.contentRect.width;\n                height = entry.contentRect.height;\n            }\n\n            // Keep the size of the canvas and rubber band canvas in sync with\n            // the canvas container.\n            if (entry.devicePixelContentBoxSize) {\n                // Chrome 84 implements new version of spec.\n                canvas.setAttribute(\n                    'width',\n                    entry.devicePixelContentBoxSize[0].inlineSize\n                );\n                canvas.setAttribute(\n                    'height',\n                    entry.devicePixelContentBoxSize[0].blockSize\n                );\n            } else {\n                canvas.setAttribute('width', width * fig.ratio);\n                canvas.setAttribute('height', height * fig.ratio);\n            }\n            canvas.setAttribute(\n                'style',\n                'width: ' + width + 'px; height: ' + height + 'px;'\n            );\n\n            rubberband_canvas.setAttribute('width', width);\n            rubberband_canvas.setAttribute('height', height);\n\n            // And update the size in Python. We ignore the initial 0/0 size\n            // that occurs as the element is placed into the DOM, which should\n            // otherwise not happen due to the minimum size styling.\n            if (fig.ws.readyState == 1 && width != 0 && height != 0) {\n                fig.request_resize(width, height);\n            }\n        }\n    });\n    this.resizeObserverInstance.observe(canvas_div);\n\n    function on_mouse_event_closure(name) {\n        return function (event) {\n            return fig.mouse_event(event, name);\n        };\n    }\n\n    rubberband_canvas.addEventListener(\n        'mousedown',\n        on_mouse_event_closure('button_press')\n    );\n    rubberband_canvas.addEventListener(\n        'mouseup',\n        on_mouse_event_closure('button_release')\n    );\n    rubberband_canvas.addEventListener(\n        'dblclick',\n        on_mouse_event_closure('dblclick')\n    );\n    // Throttle sequential mouse events to 1 every 20ms.\n    rubberband_canvas.addEventListener(\n        'mousemove',\n        on_mouse_event_closure('motion_notify')\n    );\n\n    rubberband_canvas.addEventListener(\n        'mouseenter',\n        on_mouse_event_closure('figure_enter')\n    );\n    rubberband_canvas.addEventListener(\n        'mouseleave',\n        on_mouse_event_closure('figure_leave')\n    );\n\n    canvas_div.addEventListener('wheel', function (event) {\n        if (event.deltaY < 0) {\n            event.step = 1;\n        } else {\n            event.step = -1;\n        }\n        on_mouse_event_closure('scroll')(event);\n    });\n\n    canvas_div.appendChild(canvas);\n    canvas_div.appendChild(rubberband_canvas);\n\n    this.rubberband_context = rubberband_canvas.getContext('2d');\n    this.rubberband_context.strokeStyle = '#000000';\n\n    this._resize_canvas = function (width, height, forward) {\n        if (forward) {\n            canvas_div.style.width = width + 'px';\n            canvas_div.style.height = height + 'px';\n        }\n    };\n\n    // Disable right mouse context menu.\n    this.rubberband_canvas.addEventListener('contextmenu', function (_e) {\n        event.preventDefault();\n        return false;\n    });\n\n    function set_focus() {\n        canvas.focus();\n        canvas_div.focus();\n    }\n\n    window.setTimeout(set_focus, 100);\n};\n\nmpl.figure.prototype._init_toolbar = function () {\n    var fig = this;\n\n    var toolbar = document.createElement('div');\n    toolbar.classList = 'mpl-toolbar';\n    this.root.appendChild(toolbar);\n\n    function on_click_closure(name) {\n        return function (_event) {\n            return fig.toolbar_button_onclick(name);\n        };\n    }\n\n    function on_mouseover_closure(tooltip) {\n        return function (event) {\n            if (!event.currentTarget.disabled) {\n                return fig.toolbar_button_onmouseover(tooltip);\n            }\n        };\n    }\n\n    fig.buttons = {};\n    var buttonGroup = document.createElement('div');\n    buttonGroup.classList = 'mpl-button-group';\n    for (var toolbar_ind in mpl.toolbar_items) {\n        var name = mpl.toolbar_items[toolbar_ind][0];\n        var tooltip = mpl.toolbar_items[toolbar_ind][1];\n        var image = mpl.toolbar_items[toolbar_ind][2];\n        var method_name = mpl.toolbar_items[toolbar_ind][3];\n\n        if (!name) {\n            /* Instead of a spacer, we start a new button group. */\n            if (buttonGroup.hasChildNodes()) {\n                toolbar.appendChild(buttonGroup);\n            }\n            buttonGroup = document.createElement('div');\n            buttonGroup.classList = 'mpl-button-group';\n            continue;\n        }\n\n        var button = (fig.buttons[name] = document.createElement('button'));\n        button.classList = 'mpl-widget';\n        button.setAttribute('role', 'button');\n        button.setAttribute('aria-disabled', 'false');\n        button.addEventListener('click', on_click_closure(method_name));\n        button.addEventListener('mouseover', on_mouseover_closure(tooltip));\n\n        var icon_img = document.createElement('img');\n        icon_img.src = '_images/' + image + '.png';\n        icon_img.srcset = '_images/' + image + '_large.png 2x';\n        icon_img.alt = tooltip;\n        button.appendChild(icon_img);\n\n        buttonGroup.appendChild(button);\n    }\n\n    if (buttonGroup.hasChildNodes()) {\n        toolbar.appendChild(buttonGroup);\n    }\n\n    var fmt_picker = document.createElement('select');\n    fmt_picker.classList = 'mpl-widget';\n    toolbar.appendChild(fmt_picker);\n    this.format_dropdown = fmt_picker;\n\n    for (var ind in mpl.extensions) {\n        var fmt = mpl.extensions[ind];\n        var option = document.createElement('option');\n        option.selected = fmt === mpl.default_extension;\n        option.innerHTML = fmt;\n        fmt_picker.appendChild(option);\n    }\n\n    var status_bar = document.createElement('span');\n    status_bar.classList = 'mpl-message';\n    toolbar.appendChild(status_bar);\n    this.message = status_bar;\n};\n\nmpl.figure.prototype.request_resize = function (x_pixels, y_pixels) {\n    // Request matplotlib to resize the figure. Matplotlib will then trigger a resize in the client,\n    // which will in turn request a refresh of the image.\n    this.send_message('resize', { width: x_pixels, height: y_pixels });\n};\n\nmpl.figure.prototype.send_message = function (type, properties) {\n    properties['type'] = type;\n    properties['figure_id'] = this.id;\n    this.ws.send(JSON.stringify(properties));\n};\n\nmpl.figure.prototype.send_draw_message = function () {\n    if (!this.waiting) {\n        this.waiting = true;\n        this.ws.send(JSON.stringify({ type: 'draw', figure_id: this.id }));\n    }\n};\n\nmpl.figure.prototype.handle_save = function (fig, _msg) {\n    var format_dropdown = fig.format_dropdown;\n    var format = format_dropdown.options[format_dropdown.selectedIndex].value;\n    fig.ondownload(fig, format);\n};\n\nmpl.figure.prototype.handle_resize = function (fig, msg) {\n    var size = msg['size'];\n    if (size[0] !== fig.canvas.width || size[1] !== fig.canvas.height) {\n        fig._resize_canvas(size[0], size[1], msg['forward']);\n        fig.send_message('refresh', {});\n    }\n};\n\nmpl.figure.prototype.handle_rubberband = function (fig, msg) {\n    var x0 = msg['x0'] / fig.ratio;\n    var y0 = (fig.canvas.height - msg['y0']) / fig.ratio;\n    var x1 = msg['x1'] / fig.ratio;\n    var y1 = (fig.canvas.height - msg['y1']) / fig.ratio;\n    x0 = Math.floor(x0) + 0.5;\n    y0 = Math.floor(y0) + 0.5;\n    x1 = Math.floor(x1) + 0.5;\n    y1 = Math.floor(y1) + 0.5;\n    var min_x = Math.min(x0, x1);\n    var min_y = Math.min(y0, y1);\n    var width = Math.abs(x1 - x0);\n    var height = Math.abs(y1 - y0);\n\n    fig.rubberband_context.clearRect(\n        0,\n        0,\n        fig.canvas.width / fig.ratio,\n        fig.canvas.height / fig.ratio\n    );\n\n    fig.rubberband_context.strokeRect(min_x, min_y, width, height);\n};\n\nmpl.figure.prototype.handle_figure_label = function (fig, msg) {\n    // Updates the figure title.\n    fig.header.textContent = msg['label'];\n};\n\nmpl.figure.prototype.handle_cursor = function (fig, msg) {\n    var cursor = msg['cursor'];\n    switch (cursor) {\n        case 0:\n            cursor = 'pointer';\n            break;\n        case 1:\n            cursor = 'default';\n            break;\n        case 2:\n            cursor = 'crosshair';\n            break;\n        case 3:\n            cursor = 'move';\n            break;\n    }\n    fig.rubberband_canvas.style.cursor = cursor;\n};\n\nmpl.figure.prototype.handle_message = function (fig, msg) {\n    fig.message.textContent = msg['message'];\n};\n\nmpl.figure.prototype.handle_draw = function (fig, _msg) {\n    // Request the server to send over a new figure.\n    fig.send_draw_message();\n};\n\nmpl.figure.prototype.handle_image_mode = function (fig, msg) {\n    fig.image_mode = msg['mode'];\n};\n\nmpl.figure.prototype.handle_history_buttons = function (fig, msg) {\n    for (var key in msg) {\n        if (!(key in fig.buttons)) {\n            continue;\n        }\n        fig.buttons[key].disabled = !msg[key];\n        fig.buttons[key].setAttribute('aria-disabled', !msg[key]);\n    }\n};\n\nmpl.figure.prototype.handle_navigate_mode = function (fig, msg) {\n    if (msg['mode'] === 'PAN') {\n        fig.buttons['Pan'].classList.add('active');\n        fig.buttons['Zoom'].classList.remove('active');\n    } else if (msg['mode'] === 'ZOOM') {\n        fig.buttons['Pan'].classList.remove('active');\n        fig.buttons['Zoom'].classList.add('active');\n    } else {\n        fig.buttons['Pan'].classList.remove('active');\n        fig.buttons['Zoom'].classList.remove('active');\n    }\n};\n\nmpl.figure.prototype.updated_canvas_event = function () {\n    // Called whenever the canvas gets updated.\n    this.send_message('ack', {});\n};\n\n// A function to construct a web socket function for onmessage handling.\n// Called in the figure constructor.\nmpl.figure.prototype._make_on_message_function = function (fig) {\n    return function socket_on_message(evt) {\n        if (evt.data instanceof Blob) {\n            var img = evt.data;\n            if (img.type !== 'image/png') {\n                /* FIXME: We get \"Resource interpreted as Image but\n                 * transferred with MIME type text/plain:\" errors on\n                 * Chrome.  But how to set the MIME type?  It doesn't seem\n                 * to be part of the websocket stream */\n                img.type = 'image/png';\n            }\n\n            /* Free the memory for the previous frames */\n            if (fig.imageObj.src) {\n                (window.URL || window.webkitURL).revokeObjectURL(\n                    fig.imageObj.src\n                );\n            }\n\n            fig.imageObj.src = (window.URL || window.webkitURL).createObjectURL(\n                img\n            );\n            fig.updated_canvas_event();\n            fig.waiting = false;\n            return;\n        } else if (\n            typeof evt.data === 'string' &&\n            evt.data.slice(0, 21) === 'data:image/png;base64'\n        ) {\n            fig.imageObj.src = evt.data;\n            fig.updated_canvas_event();\n            fig.waiting = false;\n            return;\n        }\n\n        var msg = JSON.parse(evt.data);\n        var msg_type = msg['type'];\n\n        // Call the  \"handle_{type}\" callback, which takes\n        // the figure and JSON message as its only arguments.\n        try {\n            var callback = fig['handle_' + msg_type];\n        } catch (e) {\n            console.log(\n                \"No handler for the '\" + msg_type + \"' message type: \",\n                msg\n            );\n            return;\n        }\n\n        if (callback) {\n            try {\n                // console.log(\"Handling '\" + msg_type + \"' message: \", msg);\n                callback(fig, msg);\n            } catch (e) {\n                console.log(\n                    \"Exception inside the 'handler_\" + msg_type + \"' callback:\",\n                    e,\n                    e.stack,\n                    msg\n                );\n            }\n        }\n    };\n};\n\n// from http://stackoverflow.com/questions/1114465/getting-mouse-location-in-canvas\nmpl.findpos = function (e) {\n    //this section is from http://www.quirksmode.org/js/events_properties.html\n    var targ;\n    if (!e) {\n        e = window.event;\n    }\n    if (e.target) {\n        targ = e.target;\n    } else if (e.srcElement) {\n        targ = e.srcElement;\n    }\n    if (targ.nodeType === 3) {\n        // defeat Safari bug\n        targ = targ.parentNode;\n    }\n\n    // pageX,Y are the mouse positions relative to the document\n    var boundingRect = targ.getBoundingClientRect();\n    var x = e.pageX - (boundingRect.left + document.body.scrollLeft);\n    var y = e.pageY - (boundingRect.top + document.body.scrollTop);\n\n    return { x: x, y: y };\n};\n\n/*\n * return a copy of an object with only non-object keys\n * we need this to avoid circular references\n * http://stackoverflow.com/a/24161582/3208463\n */\nfunction simpleKeys(original) {\n    return Object.keys(original).reduce(function (obj, key) {\n        if (typeof original[key] !== 'object') {\n            obj[key] = original[key];\n        }\n        return obj;\n    }, {});\n}\n\nmpl.figure.prototype.mouse_event = function (event, name) {\n    var canvas_pos = mpl.findpos(event);\n\n    if (name === 'button_press') {\n        this.canvas.focus();\n        this.canvas_div.focus();\n    }\n\n    var x = canvas_pos.x * this.ratio;\n    var y = canvas_pos.y * this.ratio;\n\n    this.send_message(name, {\n        x: x,\n        y: y,\n        button: event.button,\n        step: event.step,\n        guiEvent: simpleKeys(event),\n    });\n\n    /* This prevents the web browser from automatically changing to\n     * the text insertion cursor when the button is pressed.  We want\n     * to control all of the cursor setting manually through the\n     * 'cursor' event from matplotlib */\n    event.preventDefault();\n    return false;\n};\n\nmpl.figure.prototype._key_event_extra = function (_event, _name) {\n    // Handle any extra behaviour associated with a key event\n};\n\nmpl.figure.prototype.key_event = function (event, name) {\n    // Prevent repeat events\n    if (name === 'key_press') {\n        if (event.key === this._key) {\n            return;\n        } else {\n            this._key = event.key;\n        }\n    }\n    if (name === 'key_release') {\n        this._key = null;\n    }\n\n    var value = '';\n    if (event.ctrlKey && event.key !== 'Control') {\n        value += 'ctrl+';\n    }\n    else if (event.altKey && event.key !== 'Alt') {\n        value += 'alt+';\n    }\n    else if (event.shiftKey && event.key !== 'Shift') {\n        value += 'shift+';\n    }\n\n    value += 'k' + event.key;\n\n    this._key_event_extra(event, name);\n\n    this.send_message(name, { key: value, guiEvent: simpleKeys(event) });\n    return false;\n};\n\nmpl.figure.prototype.toolbar_button_onclick = function (name) {\n    if (name === 'download') {\n        this.handle_save(this, null);\n    } else {\n        this.send_message('toolbar_button', { name: name });\n    }\n};\n\nmpl.figure.prototype.toolbar_button_onmouseover = function (tooltip) {\n    this.message.textContent = tooltip;\n};\n\n///////////////// REMAINING CONTENT GENERATED BY embed_js.py /////////////////\n// prettier-ignore\nvar _JSXTOOLS_RESIZE_OBSERVER=function(A){var t,i=new WeakMap,n=new WeakMap,a=new WeakMap,r=new WeakMap,o=new Set;function s(e){if(!(this instanceof s))throw new TypeError(\"Constructor requires 'new' operator\");i.set(this,e)}function h(){throw new TypeError(\"Function is not a constructor\")}function c(e,t,i,n){e=0 in arguments?Number(arguments[0]):0,t=1 in arguments?Number(arguments[1]):0,i=2 in arguments?Number(arguments[2]):0,n=3 in arguments?Number(arguments[3]):0,this.right=(this.x=this.left=e)+(this.width=i),this.bottom=(this.y=this.top=t)+(this.height=n),Object.freeze(this)}function d(){t=requestAnimationFrame(d);var s=new WeakMap,p=new Set;o.forEach((function(t){r.get(t).forEach((function(i){var r=t instanceof window.SVGElement,o=a.get(t),d=r?0:parseFloat(o.paddingTop),f=r?0:parseFloat(o.paddingRight),l=r?0:parseFloat(o.paddingBottom),u=r?0:parseFloat(o.paddingLeft),g=r?0:parseFloat(o.borderTopWidth),m=r?0:parseFloat(o.borderRightWidth),w=r?0:parseFloat(o.borderBottomWidth),b=u+f,F=d+l,v=(r?0:parseFloat(o.borderLeftWidth))+m,W=g+w,y=r?0:t.offsetHeight-W-t.clientHeight,E=r?0:t.offsetWidth-v-t.clientWidth,R=b+v,z=F+W,M=r?t.width:parseFloat(o.width)-R-E,O=r?t.height:parseFloat(o.height)-z-y;if(n.has(t)){var k=n.get(t);if(k[0]===M&&k[1]===O)return}n.set(t,[M,O]);var S=Object.create(h.prototype);S.target=t,S.contentRect=new c(u,d,M,O),s.has(i)||(s.set(i,[]),p.add(i)),s.get(i).push(S)}))})),p.forEach((function(e){i.get(e).call(e,s.get(e),e)}))}return s.prototype.observe=function(i){if(i instanceof window.Element){r.has(i)||(r.set(i,new Set),o.add(i),a.set(i,window.getComputedStyle(i)));var n=r.get(i);n.has(this)||n.add(this),cancelAnimationFrame(t),t=requestAnimationFrame(d)}},s.prototype.unobserve=function(i){if(i instanceof window.Element&&r.has(i)){var n=r.get(i);n.has(this)&&(n.delete(this),n.size||(r.delete(i),o.delete(i))),n.size||r.delete(i),o.size||cancelAnimationFrame(t)}},A.DOMRectReadOnly=c,A.ResizeObserver=s,A.ResizeObserverEntry=h,A}; // eslint-disable-line\nmpl.toolbar_items = [[\"Home\", \"Reset original view\", \"fa fa-home icon-home\", \"home\"], [\"Back\", \"Back to previous view\", \"fa fa-arrow-left icon-arrow-left\", \"back\"], [\"Forward\", \"Forward to next view\", \"fa fa-arrow-right icon-arrow-right\", \"forward\"], [\"\", \"\", \"\", \"\"], [\"Pan\", \"Left button pans, Right button zooms\\nx/y fixes axis, CTRL fixes aspect\", \"fa fa-arrows icon-move\", \"pan\"], [\"Zoom\", \"Zoom to rectangle\\nx/y fixes axis, CTRL fixes aspect\", \"fa fa-square-o icon-check-empty\", \"zoom\"], [\"\", \"\", \"\", \"\"], [\"Download\", \"Download plot\", \"fa fa-floppy-o icon-save\", \"download\"]];\n\nmpl.extensions = [\"eps\", \"jpeg\", \"pgf\", \"pdf\", \"png\", \"ps\", \"raw\", \"svg\", \"tif\"];\n\nmpl.default_extension = \"png\";/* global mpl */\n\nvar comm_websocket_adapter = function (comm) {\n    // Create a \"websocket\"-like object which calls the given IPython comm\n    // object with the appropriate methods. Currently this is a non binary\n    // socket, so there is still some room for performance tuning.\n    var ws = {};\n\n    ws.binaryType = comm.kernel.ws.binaryType;\n    ws.readyState = comm.kernel.ws.readyState;\n    function updateReadyState(_event) {\n        if (comm.kernel.ws) {\n            ws.readyState = comm.kernel.ws.readyState;\n        } else {\n            ws.readyState = 3; // Closed state.\n        }\n    }\n    comm.kernel.ws.addEventListener('open', updateReadyState);\n    comm.kernel.ws.addEventListener('close', updateReadyState);\n    comm.kernel.ws.addEventListener('error', updateReadyState);\n\n    ws.close = function () {\n        comm.close();\n    };\n    ws.send = function (m) {\n        //console.log('sending', m);\n        comm.send(m);\n    };\n    // Register the callback with on_msg.\n    comm.on_msg(function (msg) {\n        //console.log('receiving', msg['content']['data'], msg);\n        var data = msg['content']['data'];\n        if (data['blob'] !== undefined) {\n            data = {\n                data: new Blob(msg['buffers'], { type: data['blob'] }),\n            };\n        }\n        // Pass the mpl event to the overridden (by mpl) onmessage function.\n        ws.onmessage(data);\n    });\n    return ws;\n};\n\nmpl.mpl_figure_comm = function (comm, msg) {\n    // This is the function which gets called when the mpl process\n    // starts-up an IPython Comm through the \"matplotlib\" channel.\n\n    var id = msg.content.data.id;\n    // Get hold of the div created by the display call when the Comm\n    // socket was opened in Python.\n    var element = document.getElementById(id);\n    var ws_proxy = comm_websocket_adapter(comm);\n\n    function ondownload(figure, _format) {\n        window.open(figure.canvas.toDataURL());\n    }\n\n    var fig = new mpl.figure(id, ws_proxy, ondownload, element);\n\n    // Call onopen now - mpl needs it, as it is assuming we've passed it a real\n    // web socket which is closed, not our websocket->open comm proxy.\n    ws_proxy.onopen();\n\n    fig.parent_element = element;\n    fig.cell_info = mpl.find_output_cell(\"<div id='\" + id + \"'></div>\");\n    if (!fig.cell_info) {\n        console.error('Failed to find cell for figure', id, fig);\n        return;\n    }\n    fig.cell_info[0].output_area.element.on(\n        'cleared',\n        { fig: fig },\n        fig._remove_fig_handler\n    );\n};\n\nmpl.figure.prototype.handle_close = function (fig, msg) {\n    var width = fig.canvas.width / fig.ratio;\n    fig.cell_info[0].output_area.element.off(\n        'cleared',\n        fig._remove_fig_handler\n    );\n    fig.resizeObserverInstance.unobserve(fig.canvas_div);\n\n    // Update the output cell to use the data from the current canvas.\n    fig.push_to_output();\n    var dataURL = fig.canvas.toDataURL();\n    // Re-enable the keyboard manager in IPython - without this line, in FF,\n    // the notebook keyboard shortcuts fail.\n    IPython.keyboard_manager.enable();\n    fig.parent_element.innerHTML =\n        '<img src=\"' + dataURL + '\" width=\"' + width + '\">';\n    fig.close_ws(fig, msg);\n};\n\nmpl.figure.prototype.close_ws = function (fig, msg) {\n    fig.send_message('closing', msg);\n    // fig.ws.close()\n};\n\nmpl.figure.prototype.push_to_output = function (_remove_interactive) {\n    // Turn the data on the canvas into data in the output cell.\n    var width = this.canvas.width / this.ratio;\n    var dataURL = this.canvas.toDataURL();\n    this.cell_info[1]['text/html'] =\n        '<img src=\"' + dataURL + '\" width=\"' + width + '\">';\n};\n\nmpl.figure.prototype.updated_canvas_event = function () {\n    // Tell IPython that the notebook contents must change.\n    IPython.notebook.set_dirty(true);\n    this.send_message('ack', {});\n    var fig = this;\n    // Wait a second, then push the new image to the DOM so\n    // that it is saved nicely (might be nice to debounce this).\n    setTimeout(function () {\n        fig.push_to_output();\n    }, 1000);\n};\n\nmpl.figure.prototype._init_toolbar = function () {\n    var fig = this;\n\n    var toolbar = document.createElement('div');\n    toolbar.classList = 'btn-toolbar';\n    this.root.appendChild(toolbar);\n\n    function on_click_closure(name) {\n        return function (_event) {\n            return fig.toolbar_button_onclick(name);\n        };\n    }\n\n    function on_mouseover_closure(tooltip) {\n        return function (event) {\n            if (!event.currentTarget.disabled) {\n                return fig.toolbar_button_onmouseover(tooltip);\n            }\n        };\n    }\n\n    fig.buttons = {};\n    var buttonGroup = document.createElement('div');\n    buttonGroup.classList = 'btn-group';\n    var button;\n    for (var toolbar_ind in mpl.toolbar_items) {\n        var name = mpl.toolbar_items[toolbar_ind][0];\n        var tooltip = mpl.toolbar_items[toolbar_ind][1];\n        var image = mpl.toolbar_items[toolbar_ind][2];\n        var method_name = mpl.toolbar_items[toolbar_ind][3];\n\n        if (!name) {\n            /* Instead of a spacer, we start a new button group. */\n            if (buttonGroup.hasChildNodes()) {\n                toolbar.appendChild(buttonGroup);\n            }\n            buttonGroup = document.createElement('div');\n            buttonGroup.classList = 'btn-group';\n            continue;\n        }\n\n        button = fig.buttons[name] = document.createElement('button');\n        button.classList = 'btn btn-default';\n        button.href = '#';\n        button.title = name;\n        button.innerHTML = '<i class=\"fa ' + image + ' fa-lg\"></i>';\n        button.addEventListener('click', on_click_closure(method_name));\n        button.addEventListener('mouseover', on_mouseover_closure(tooltip));\n        buttonGroup.appendChild(button);\n    }\n\n    if (buttonGroup.hasChildNodes()) {\n        toolbar.appendChild(buttonGroup);\n    }\n\n    // Add the status bar.\n    var status_bar = document.createElement('span');\n    status_bar.classList = 'mpl-message pull-right';\n    toolbar.appendChild(status_bar);\n    this.message = status_bar;\n\n    // Add the close button to the window.\n    var buttongrp = document.createElement('div');\n    buttongrp.classList = 'btn-group inline pull-right';\n    button = document.createElement('button');\n    button.classList = 'btn btn-mini btn-primary';\n    button.href = '#';\n    button.title = 'Stop Interaction';\n    button.innerHTML = '<i class=\"fa fa-power-off icon-remove icon-large\"></i>';\n    button.addEventListener('click', function (_evt) {\n        fig.handle_close(fig, {});\n    });\n    button.addEventListener(\n        'mouseover',\n        on_mouseover_closure('Stop Interaction')\n    );\n    buttongrp.appendChild(button);\n    var titlebar = this.root.querySelector('.ui-dialog-titlebar');\n    titlebar.insertBefore(buttongrp, titlebar.firstChild);\n};\n\nmpl.figure.prototype._remove_fig_handler = function (event) {\n    var fig = event.data.fig;\n    if (event.target !== this) {\n        // Ignore bubbled events from children.\n        return;\n    }\n    fig.close_ws(fig, {});\n};\n\nmpl.figure.prototype._root_extra_style = function (el) {\n    el.style.boxSizing = 'content-box'; // override notebook setting of border-box.\n};\n\nmpl.figure.prototype._canvas_extra_style = function (el) {\n    // this is important to make the div 'focusable\n    el.setAttribute('tabindex', 0);\n    // reach out to IPython and tell the keyboard manager to turn it's self\n    // off when our div gets focus\n\n    // location in version 3\n    if (IPython.notebook.keyboard_manager) {\n        IPython.notebook.keyboard_manager.register_events(el);\n    } else {\n        // location in version 2\n        IPython.keyboard_manager.register_events(el);\n    }\n};\n\nmpl.figure.prototype._key_event_extra = function (event, _name) {\n    var manager = IPython.notebook.keyboard_manager;\n    if (!manager) {\n        manager = IPython.keyboard_manager;\n    }\n\n    // Check for shift+enter\n    if (event.shiftKey && event.which === 13) {\n        this.canvas_div.blur();\n        // select the cell after this one\n        var index = IPython.notebook.find_cell_index(this.cell_info[0]);\n        IPython.notebook.select(index + 1);\n    }\n};\n\nmpl.figure.prototype.handle_save = function (fig, _msg) {\n    fig.ondownload(fig, null);\n};\n\nmpl.find_output_cell = function (html_output) {\n    // Return the cell and output element which can be found *uniquely* in the notebook.\n    // Note - this is a bit hacky, but it is done because the \"notebook_saving.Notebook\"\n    // IPython event is triggered only after the cells have been serialised, which for\n    // our purposes (turning an active figure into a static one), is too late.\n    var cells = IPython.notebook.get_cells();\n    var ncells = cells.length;\n    for (var i = 0; i < ncells; i++) {\n        var cell = cells[i];\n        if (cell.cell_type === 'code') {\n            for (var j = 0; j < cell.output_area.outputs.length; j++) {\n                var data = cell.output_area.outputs[j];\n                if (data.data) {\n                    // IPython >= 3 moved mimebundle to data attribute of output\n                    data = data.data;\n                }\n                if (data['text/html'] === html_output) {\n                    return [cell, data, j];\n                }\n            }\n        }\n    }\n};\n\n// Register the function which deals with the matplotlib target/channel.\n// The kernel may be null if the page has been refreshed.\nif (IPython.notebook.kernel !== null) {\n    IPython.notebook.kernel.comm_manager.register_target(\n        'matplotlib',\n        mpl.mpl_figure_comm\n    );\n}\n"
     },
     "metadata": {},
     "output_type": "display_data"
    },
    {
     "data": {
      "text/plain": "<IPython.core.display.HTML object>",
      "text/html": "<div id='d33e6495-ac85-4f73-bc62-6bf206412f9d'></div>"
     },
     "metadata": {},
     "output_type": "display_data"
    }
   ],
   "source": [
    "from neuralplot import ModelPlot\n",
    "\n",
    "model = content_input_autoencoder.encoder\n",
    "%matplotlib notebook\n",
    "modelplot = ModelPlot(model, grid=True, connection=True, linewidth=0.1)\n",
    "modelplot.show()"
   ],
   "metadata": {
    "collapsed": false
   }
  },
  {
   "cell_type": "markdown",
   "source": [
    "# 학습을 위한 데이터 생성 함수들 정의"
   ],
   "metadata": {
    "id": "Vh90BnBlXOpt"
   }
  },
  {
   "cell_type": "code",
   "source": [
    "def build_user_input_autoencoder_data(scores):\n",
    "    input_latents = np.array([score.user.latent for score in scores])\n",
    "    user_features = np.array([score.user.features for score in scores])\n",
    "    content_features = np.array([score.content.features for score in scores])\n",
    "    input_scores = np.array([score.value() for score in scores])\n",
    "    return input_latents, user_features, content_features, input_scores\n",
    "\n",
    "def build_content_input_autoencoder_data(scores):\n",
    "    input_latents = np.array([score.content.latent for score in scores])\n",
    "    user_features = np.array([score.user.features for score in scores])\n",
    "    content_features = np.array([score.content.features for score in scores])\n",
    "    input_scores = np.array([score.value() for score in scores])\n",
    "    return input_latents, user_features, content_features, input_scores\n"
   ],
   "metadata": {
    "id": "LCFb6lj9SJ9R",
    "colab": {
     "base_uri": "https://localhost:8080/"
    },
    "outputId": "4e8bd758-faa8-4683-ec00-bf227ce526ff"
   },
   "execution_count": 181,
   "outputs": []
  },
  {
   "cell_type": "markdown",
   "source": [
    "# train 데이터에는 없는 test 데이터 삭제"
   ],
   "metadata": {
    "id": "5of9xmHI5oFs"
   }
  },
  {
   "cell_type": "code",
   "source": [
    "content_id_2_scores = {}\n",
    "user_id_2_scores = {}\n",
    "\n",
    "for score in train_scores:\n",
    "    content_id_2_scores[score.content.id] = []\n",
    "    user_id_2_scores[score.user.id] = []\n",
    "\n",
    "for score in train_scores:\n",
    "    content_id_2_scores[score.content.id].append(score)\n",
    "    user_id_2_scores[score.user.id].append(score)\n",
    "\n",
    "content_ids = content_id_2_scores.keys()\n",
    "user_ids = user_id_2_scores.keys()\n",
    "\n",
    "to_be_removed_scores = set()\n",
    "for score in test_scores:\n",
    "    if score.content.id not in content_id_2_scores.keys():\n",
    "        to_be_removed_scores.add(score)\n",
    "    if score.user.id not in user_id_2_scores.keys():\n",
    "        to_be_removed_scores.add(score)\n",
    "\n",
    "print(f\"{len(to_be_removed_scores)} scores removed in test_scores.\")\n",
    "for score in to_be_removed_scores:\n",
    "    test_scores.remove(score)"
   ],
   "metadata": {
    "colab": {
     "base_uri": "https://localhost:8080/"
    },
    "id": "qyoJtbpZ6FQR",
    "outputId": "b0a34a4b-c8cf-4a1c-9c8b-b780e5947529"
   },
   "execution_count": 182,
   "outputs": [
    {
     "name": "stdout",
     "output_type": "stream",
     "text": [
      "12 scores removed in test_scores.\n"
     ]
    }
   ]
  },
  {
   "cell_type": "code",
   "source": [],
   "metadata": {
    "id": "nKLlozbAy8Sz",
    "colab": {
     "base_uri": "https://localhost:8080/"
    },
    "outputId": "ed8b9daf-3994-4a3b-cb86-34a8474fcb08"
   },
   "execution_count": 182,
   "outputs": []
  },
  {
   "cell_type": "markdown",
   "source": [
    "# 사용자의 rating 수 파악"
   ],
   "metadata": {
    "id": "7256_WUx0SBO"
   }
  },
  {
   "cell_type": "code",
   "source": [
    "user_id_2_scores = {}\n",
    "for score in train_scores:\n",
    "    user_id_2_scores[score.user.id] = []\n",
    "\n",
    "for score in train_scores:\n",
    "    user_id_2_scores[score.user.id].append(score)\n",
    "\n",
    "l = [len(l) for l in user_id_2_scores.values()]\n",
    "print(l)"
   ],
   "metadata": {
    "colab": {
     "base_uri": "https://localhost:8080/"
    },
    "id": "cyA1dwOxy8P9",
    "outputId": "b81f8d44-119c-4e3b-b0e3-2cbc6b65eec0"
   },
   "execution_count": 183,
   "outputs": [
    {
     "name": "stdout",
     "output_type": "stream",
     "text": [
      "[228, 262, 188, 134, 262, 87, 63, 189, 116, 329, 33, 39, 265, 353, 434, 244, 335, 367, 153, 314, 445, 289, 235, 210, 336, 119, 219, 287, 206, 652, 127, 25, 81, 165, 153, 97, 210, 280, 118, 186, 96, 96, 153, 48, 108, 27, 65, 85, 443, 143, 315, 25, 18, 73, 166, 253, 118, 395, 348, 175, 240, 216, 108, 370, 196, 270, 157, 107, 97, 324, 81, 198, 29, 25, 125, 20, 233, 32, 51, 135, 167, 129, 206, 85, 596, 206, 47, 123, 191, 236, 116, 189, 130, 29, 49, 65, 355, 107, 213, 156, 48, 205, 179, 100, 82, 50, 130, 115, 219, 51, 211, 464, 125, 274, 143, 278, 56, 27, 55, 47, 204, 156, 166, 204, 23, 244, 20, 43, 162, 105, 132, 31, 55, 249, 123, 279, 50, 163, 58, 299, 131, 90, 74, 112, 150, 252, 143, 36, 44, 20, 291, 83, 99, 132, 67, 23, 18, 185, 343, 83, 247, 164, 92, 50, 170, 74, 57, 173, 44, 131, 360, 226, 70, 237, 45, 31, 349, 286, 98, 215, 131, 136, 105, 114, 29, 258, 25, 242, 140, 41, 41, 301, 77, 145, 290, 58, 136, 151, 435, 259, 97, 23, 258, 33, 132, 198, 162, 118, 406, 103, 204, 50, 118, 27, 104, 33, 32, 60, 158, 175, 144, 275, 62, 54, 120, 176, 142, 41, 248, 203, 83, 53, 38, 115, 132, 99, 170, 489, 52, 148, 184, 18, 19, 112, 29, 134, 243, 147, 366, 202, 205, 95, 22, 98, 88, 25, 191, 55, 41, 184, 21, 255, 73, 124, 44, 24, 210, 18, 304, 206, 64, 297, 163, 116, 152, 271, 54, 19, 147, 135, 158, 85, 73, 19, 92, 22, 57, 43, 133, 254, 250, 38, 17, 41, 62, 97, 22, 141, 23, 20, 123, 115, 104, 24, 130, 67, 200, 40, 23, 182, 53, 53, 51, 117, 79, 120, 31, 118, 354, 160, 45, 125, 208, 87, 195, 20, 246, 65, 212, 214, 19, 50, 176, 19, 108, 47, 578, 51, 27, 39, 174, 55, 173, 51, 96, 108, 154, 188, 177, 104, 95, 98, 183, 44, 36, 140, 194, 70, 139, 213, 36, 96, 29, 172, 55, 28, 151, 220, 193, 151, 233, 272, 211, 48, 213, 69, 210, 297, 57, 87, 112, 24, 23, 62, 101, 206, 48, 147, 201, 22, 284, 233, 20, 20, 248, 118, 123, 57, 169, 199, 28, 127, 349, 86, 33, 45, 66, 97, 21, 98, 19, 73, 114, 314, 101, 71, 19, 57, 93, 66, 164, 19, 69, 84, 22, 17, 97, 46, 58, 81, 60, 131, 93, 37, 317, 18, 183, 126, 200, 28, 50, 160, 106, 113, 248, 23, 18, 58, 129, 290, 43, 63, 23, 165, 44, 197, 91, 102, 27, 269, 45, 20, 129, 50, 130, 38, 71, 178, 86, 65, 24, 322, 242, 82, 70, 94, 180, 53, 104, 106, 242, 32, 35, 118, 55, 67, 127, 112, 19, 102, 179, 56, 151, 58, 88, 39, 144, 36, 49, 31, 93, 183, 65, 246, 17, 147, 33, 47, 291, 118, 98, 150, 176, 43, 71, 156, 20, 69, 22, 169, 395, 91, 73, 109, 22, 46, 49, 73, 119, 165, 139, 23, 52, 126, 22, 95, 45, 128, 123, 46, 73, 37, 33, 20, 77, 32, 44, 57, 21, 26, 42, 117, 136, 134, 28, 314, 29, 19, 25, 237, 50, 38, 27, 167, 49, 74, 141, 33, 24, 92, 56, 69, 38, 48, 25, 53, 19, 31, 75, 19, 21, 28, 21, 80, 129, 90, 96, 371, 59, 116, 21, 76, 53, 103, 35, 66, 37, 53, 128, 19, 136, 24, 38, 23, 42, 114, 63, 17, 24, 57, 47, 29, 21, 73, 70, 16, 21, 157, 89, 46, 34, 78, 30, 34, 65, 144, 40, 26, 63, 23, 61, 98, 87, 36, 24, 46, 30, 108, 71, 44, 152, 58, 39, 46, 38, 56, 113, 122, 33, 90, 52, 31, 59, 28, 34, 37, 57, 30, 23, 84, 20, 19, 60, 23, 147, 69, 210, 24, 41, 165, 29, 42, 24, 22, 108, 18, 26, 160, 52, 26, 22, 25, 19, 93, 48, 50, 15, 19, 22, 63, 70, 41, 22, 26, 63, 25, 78, 35, 18, 65, 63, 56, 56, 20, 25, 36, 83, 29, 27, 22, 27, 57, 45, 20, 24, 57, 20, 24, 22, 23, 27, 52, 30, 35, 29, 26, 118, 27, 44, 74, 69, 47, 140, 59, 56, 40, 242, 23, 124, 21, 182, 22, 40, 21, 24, 29, 33, 41, 53, 93, 19, 18, 19, 22, 42, 19, 103, 82, 30, 81, 21, 74, 76, 119, 38, 50, 20, 19, 44, 39, 46, 31, 29, 66, 34, 49, 32, 25, 27, 59, 34, 112, 41, 54, 20, 36, 64, 63, 18, 94, 38, 19, 23, 58, 36, 44, 96, 20, 26, 45, 21, 17, 19, 44, 35, 69, 53, 49, 45, 56, 19, 34, 20, 29, 34, 66, 20, 43, 28, 22, 62, 35, 59, 37, 33, 17, 30, 23, 39, 21, 28, 50, 25, 30, 64, 35, 40, 20, 39, 24, 26, 31, 38, 17, 36, 77, 21, 38, 18, 22, 22, 23, 23, 42, 50, 18, 37, 27, 22, 27, 31, 35, 37, 47, 20, 22, 37, 36, 53, 19, 21, 32, 67, 28, 23, 19, 25, 37, 19, 18, 32, 41, 22, 43, 25, 24, 23, 44, 18, 23, 38, 20, 24, 26, 26, 21, 49, 26, 33, 35, 24, 16, 29, 22, 21, 20, 20, 22, 29, 28, 17, 19, 22, 22, 30, 48, 38, 25, 34, 25, 28, 34, 27, 20, 18, 19, 20, 18, 16, 31, 30, 18, 21, 21, 19, 20, 20, 20, 31, 20, 21, 19, 26]\n"
     ]
    }
   ]
  },
  {
   "cell_type": "code",
   "source": [
    "print(np.mean(l))"
   ],
   "metadata": {
    "colab": {
     "base_uri": "https://localhost:8080/"
    },
    "id": "OwS0GIUb0aIm",
    "outputId": "fc79d966-36d8-43b7-e9e8-895e29938af7"
   },
   "execution_count": 184,
   "outputs": [
    {
     "name": "stdout",
     "output_type": "stream",
     "text": [
      "95.44008483563097\n"
     ]
    }
   ]
  },
  {
   "cell_type": "code",
   "source": [
    "plt.plot(l)\n",
    "plt.show()"
   ],
   "metadata": {
    "colab": {
     "base_uri": "https://localhost:8080/",
     "height": 282
    },
    "id": "hQZ6x3agz9kc",
    "outputId": "35f834a5-24a4-4f12-e475-bd4ee8ecfec5"
   },
   "execution_count": 185,
   "outputs": [
    {
     "data": {
      "text/plain": "<Figure size 432x288 with 1 Axes>",
      "image/png": "[encoded data removed]"
     },
     "metadata": {},
     "output_type": "display_data"
    }
   ]
  },
  {
   "cell_type": "code",
   "source": [
    "plt.hist(l, bins=100)\n",
    "plt.show()"
   ],
   "metadata": {
    "colab": {
     "base_uri": "https://localhost:8080/",
     "height": 282
    },
    "id": "0ABcIJGNy8NR",
    "outputId": "7ed5ac7f-d6d9-403f-9e05-b2ee2b41d5bb"
   },
   "execution_count": 186,
   "outputs": [
    {
     "data": {
      "text/plain": "<Figure size 432x288 with 1 Axes>",
      "image/png": "[encoded data removed]"
     },
     "metadata": {},
     "output_type": "display_data"
    }
   ]
  },
  {
   "cell_type": "code",
   "source": [],
   "metadata": {
    "id": "Rp5xaz5by8Jh",
    "colab": {
     "base_uri": "https://localhost:8080/"
    },
    "outputId": "79300ea3-de53-416b-b9de-e8ca7fd8161e"
   },
   "execution_count": 186,
   "outputs": []
  },
  {
   "cell_type": "markdown",
   "source": [
    "# 학습 위한 함수"
   ],
   "metadata": {
    "id": "Mltz4VK5Dtq-"
   }
  },
  {
   "cell_type": "code",
   "source": [
    "def build_input_output(train_scores):\n",
    "    size = len(train_scores)\n",
    "    ul = np.empty((size, LATENT_SIZE))\n",
    "    uf = np.empty((size, USER_FEATURE_SIZE))\n",
    "    cf = np.empty((size, CONTENT_FEATURE_SIZE))\n",
    "    cl = np.empty((size, LATENT_SIZE))\n",
    "    s = np.empty((size, SCORE_SIZE))\n",
    "    for i, score in enumerate(train_scores):\n",
    "        ul[i] = score.user.latent\n",
    "        uf[i] = score.user.features\n",
    "        cf[i] = score.content.features\n",
    "        cl[i] = score.content.latent\n",
    "        s[i] = score.values\n",
    "    return ul, uf, cf, cl, s"
   ],
   "metadata": {
    "id": "i16KBv9TACRC",
    "colab": {
     "base_uri": "https://localhost:8080/"
    },
    "outputId": "97a18b69-6174-4882-cae5-4de4c9b19751"
   },
   "execution_count": 187,
   "outputs": []
  },
  {
   "cell_type": "code",
   "source": [
    "LAMDA = 1.0\n",
    "\n",
    "def build_content_id_2_latent(train_scores, content_latents):\n",
    "    id_2_latents = {}\n",
    "    for score in train_scores:\n",
    "        id_2_latents[score.content.id] = []\n",
    "    for score, content_latent in zip(train_scores, content_latents):\n",
    "        id_2_latents[score.content.id].append(content_latent)\n",
    "    id_2_latent = {}\n",
    "    for id, latents in id_2_latents.items():\n",
    "        id_2_latent[id] = np.mean(np.array(latents), axis=0)\n",
    "    return id_2_latent\n",
    "\n",
    "def build_user_id_2_latent(train_scores, user_latents):\n",
    "    id_2_latents = {}\n",
    "    for score in train_scores:\n",
    "        id_2_latents[score.user.id] = []\n",
    "    for score, user_latent in zip(train_scores, user_latents):\n",
    "        id_2_latents[score.user.id].append(user_latent)\n",
    "    id_2_latent = {}\n",
    "    for id, latents in id_2_latents.items():\n",
    "        id_2_latent[id] = np.mean(np.array(latents), axis=0)\n",
    "    return id_2_latent\n",
    "\n",
    "def update_content_latents_by_encoder(encoder, train_scores):\n",
    "    user_latents, user_features, content_features, _, scores = build_input_output(train_scores)\n",
    "    content_latents = encoder.predict((user_latents, user_features, content_features, scores), batch_size=BATCH_SIZE)\n",
    "    id_2_latent = build_content_id_2_latent(train_scores, content_latents)\n",
    "    for score in train_scores:\n",
    "        score.content.latent = (1-LAMDA)*score.content.latent + LAMDA*id_2_latent[score.content.id]\n",
    "\n",
    "def update_user_latents_by_encoder(encoder, train_scores):\n",
    "    _, user_features, content_features, content_latents, scores = build_input_output(train_scores)\n",
    "    user_latents = encoder.predict((content_latents, user_features, content_features, scores), batch_size=BATCH_SIZE)\n",
    "    id_2_latent = build_user_id_2_latent(train_scores, user_latents)\n",
    "    for score in train_scores:\n",
    "        score.user.latent = (1-LAMDA)*score.user.latent + LAMDA*id_2_latent[score.user.id]\n"
   ],
   "metadata": {
    "id": "wBqT4ofy_kBR",
    "colab": {
     "base_uri": "https://localhost:8080/"
    },
    "outputId": "7766ddd3-7ed4-45b6-bd21-87f6ff4c486f"
   },
   "execution_count": 188,
   "outputs": []
  },
  {
   "cell_type": "code",
   "source": [
    "from scipy.stats import gaussian_kde\n",
    "import seaborn as sns\n",
    "\n",
    "\n",
    "def update_test_score_latents_with_train_scores(train_scores, test_scores):\n",
    "\n",
    "    user_id_2_latents = {}\n",
    "    content_id_2_latents = {}\n",
    "    for score in train_scores:\n",
    "        user_id_2_latents[score.user.id] = []\n",
    "        content_id_2_latents[score.content.id] = []\n",
    "\n",
    "    for score in train_scores:\n",
    "        user_id_2_latents[score.user.id].append(score.user.latent)\n",
    "        content_id_2_latents[score.content.id].append(score.content.latent)\n",
    "\n",
    "    user_id_2_latent = {}\n",
    "    content_id_2_latent = {}\n",
    "\n",
    "    def get_mean_latent(latents):\n",
    "        return np.mean(np.array(latents), axis=0)\n",
    "\n",
    "    for id in user_id_2_latents.keys():\n",
    "        user_id_2_latent[id] = get_mean_latent(user_id_2_latents[id])\n",
    "    for id in content_id_2_latents.keys():\n",
    "        content_id_2_latent[id] = get_mean_latent(content_id_2_latents[id])\n",
    "\n",
    "    for score in test_scores:\n",
    "        score.user.latent = user_id_2_latent[score.user.id]\n",
    "        score.content.latent = content_id_2_latent[score.content.id]"
   ],
   "metadata": {
    "id": "x1saCSChHugv",
    "colab": {
     "base_uri": "https://localhost:8080/"
    },
    "outputId": "6504bcf2-1c79-4554-f65f-1313e05ce14c"
   },
   "execution_count": 189,
   "outputs": []
  },
  {
   "cell_type": "code",
   "source": [
    "\n",
    "def evaluate(train_scores, test_scores):\n",
    "\n",
    "    ul, uf, cf, cl, true_scores = build_input_output(train_scores)\n",
    "    predicted_scores = user_input_autoencoder.decoder.predict((ul, uf, cf, cl), batch_size=BATCH_SIZE)\n",
    "    mse = mean_squared_error((true_scores*SCORE_DIFF+SCORE_MIN), (predicted_scores*SCORE_DIFF+SCORE_MIN))\n",
    "    train_rmse = round(mse**0.5, 4)\n",
    "\n",
    "\n",
    "    update_test_score_latents_with_train_scores(train_scores, test_scores)\n",
    "\n",
    "    ul, uf, cf, cl, true_scores = build_input_output(test_scores)\n",
    "    predicted_scores = user_input_autoencoder.decoder.predict((ul, uf, cf, cl), batch_size=BATCH_SIZE)\n",
    "    mse = mean_squared_error((true_scores*SCORE_DIFF+SCORE_MIN), (predicted_scores*SCORE_DIFF+SCORE_MIN))\n",
    "    test_rmse = round(mse**0.5, 4)  \n",
    "\n",
    "    return train_rmse, test_rmse"
   ],
   "metadata": {
    "id": "ijrANY0hG0wL",
    "colab": {
     "base_uri": "https://localhost:8080/"
    },
    "outputId": "a0c33068-8a0d-4877-b261-c2a5a21b52f5"
   },
   "execution_count": 190,
   "outputs": []
  },
  {
   "cell_type": "code",
   "source": [
    "class Logger():\n",
    "    def __init__(self):\n",
    "        self.key_2_list = {}\n",
    "\n",
    "    def _prepare_list(self, key):\n",
    "        if key not in self.key_2_list.keys():\n",
    "            self.key_2_list[key] = []\n",
    "\n",
    "    def append(self, keras_history):\n",
    "        for key in keras_history.history.keys():\n",
    "            self._prepare_list(key)\n",
    "            self.key_2_list[key].append(keras_history.history[key][-1])\n",
    "\n",
    "    def __getitem__(self, key):\n",
    "        return self.key_2_list[key]\n"
   ],
   "metadata": {
    "id": "bKc-Ysdbs-0z",
    "colab": {
     "base_uri": "https://localhost:8080/"
    },
    "outputId": "eb735653-0723-4104-f948-63db0767f7aa"
   },
   "execution_count": 191,
   "outputs": []
  },
  {
   "cell_type": "code",
   "source": [
    "def update_score_latent_with_encoders(uie, cie, iter_count, train_scores):\n",
    "    for i in range(iter_count):\n",
    "        ul, uf, cf, cl, s = build_input_output(train_scores)\n",
    "        predicted_cl = uie.predict((ul, uf, cf, s), batch_size=BATCH_SIZE)\n",
    "        predicted_ul = cie.predict((cl, uf, cf, s), batch_size=BATCH_SIZE)\n",
    "\n",
    "        for score, ul, cl in zip(train_scores, predicted_ul, predicted_cl):\n",
    "            score.user.latent = ul\n",
    "            score.content.latent = cl\n"
   ],
   "metadata": {
    "colab": {
     "base_uri": "https://localhost:8080/"
    },
    "id": "mLxudmUln5BF",
    "outputId": "5e40be3c-7876-4a9d-c688-d5c4c87cb368"
   },
   "execution_count": 192,
   "outputs": []
  },
  {
   "cell_type": "code",
   "source": [
    "sample_user_id = 1\n",
    "scores_of_sample_user = [score for score in train_scores if score.user.id==sample_user_id]\n",
    "\n",
    "def draw_user_latent_distribution(scores):\n",
    "    sample_user_latents = np.array([score.user.latent for score in scores])\n",
    "    plt.scatter(sample_user_latents[:,0], sample_user_latents[:,1])\n",
    "    plt.xlim(0,1)\n",
    "    plt.ylim(0,1)\n",
    "    plt.show()\n",
    "draw_user_latent_distribution(scores_of_sample_user)    "
   ],
   "metadata": {
    "colab": {
     "base_uri": "https://localhost:8080/",
     "height": 286
    },
    "id": "7vdp16EXBVut",
    "outputId": "a284623d-1108-459f-beab-f8ceb496b0b1"
   },
   "execution_count": 193,
   "outputs": [
    {
     "data": {
      "text/plain": "<Figure size 432x288 with 1 Axes>",
      "image/png": "[encoded data removed]"
     },
     "metadata": {},
     "output_type": "display_data"
    }
   ]
  },
  {
   "cell_type": "markdown",
   "source": [
    "# 학습 실행"
   ],
   "metadata": {
    "id": "z4zh-pFQXR9T"
   }
  },
  {
   "cell_type": "code",
   "source": [
    "EPOCH = 24\n",
    "\n",
    "user_input_autoencoder.encoder.trainable = True\n",
    "user_input_autoencoder.decoder.trainable = True\n",
    "content_input_autoencoder.encoder.trainable = True\n",
    "content_input_autoencoder.decoder.trainable = True\n",
    "\n",
    "train_rmses = []\n",
    "test_rmses = []\n",
    "logger1 = Logger()\n",
    "logger2 = Logger()\n",
    "\n",
    "draw_user_latent_distribution(scores_of_sample_user)\n",
    "for epoch in range(EPOCH):\n",
    "    print(f\"{epoch}/{EPOCH}\")\n",
    "    np.random.shuffle(train_scores)\n",
    "\n",
    "    ul, uf, cf, cl, s = build_input_output(train_scores)\n",
    "    autoencoder1_hist = user_input_autoencoder.fit((ul, uf, cf, s), (cl, s),\n",
    "                                                   epochs=1,\n",
    "                                                   batch_size=BATCH_SIZE,\n",
    "                                                   validation_split=0.1)\n",
    "    update_content_latents_by_encoder(user_input_autoencoder.encoder, train_scores)\n",
    "\n",
    "    ul, uf, cf, cl, s = build_input_output(train_scores)\n",
    "    autoencoder2_hist = content_input_autoencoder.fit((cl, uf, cf, s), (ul, s),\n",
    "                                                      epochs=1,\n",
    "                                                      batch_size=BATCH_SIZE,\n",
    "                                                      validation_split=0.1)\n",
    "    update_user_latents_by_encoder(content_input_autoencoder.encoder, train_scores)\n",
    "\n",
    "    train_rmse, test_rmse = evaluate(train_scores, test_scores)\n",
    "    print(f\"train_rmse={train_rmse}, test_rmse={test_rmse}, diff={round(test_rmse-train_rmse, 5)}\")\n",
    "    draw_user_latent_distribution(scores_of_sample_user)\n",
    "\n",
    "    logger1.append(autoencoder1_hist)\n",
    "    logger2.append(autoencoder2_hist)\n",
    "\n",
    "    train_rmses.append(train_rmse)\n",
    "    test_rmses.append(test_rmse)\n"
   ],
   "metadata": {
    "colab": {
     "base_uri": "https://localhost:8080/",
     "height": 0
    },
    "id": "unw7HhIj6FLx",
    "outputId": "54ab91df-2add-487d-ad62-56ee7e3f5cb9"
   },
   "execution_count": 194,
   "outputs": [
    {
     "data": {
      "text/plain": "<Figure size 432x288 with 1 Axes>",
      "image/png": "[encoded data removed]"
     },
     "metadata": {},
     "output_type": "display_data"
    },
    {
     "name": "stdout",
     "output_type": "stream",
     "text": [
      "0/24\n",
      " 24/317 [=>............................] - ETA: 1s - loss: 0.1770 - UIAE.E_loss: 0.0789 - D_loss: 0.0981"
     ]
    },
    {
     "name": "stderr",
     "output_type": "stream",
     "text": [
      "2022-11-22 17:01:05.403009: I tensorflow/stream_executor/cuda/cuda_blas.cc:1614] TensorFloat-32 will be used for the matrix multiplication. This will only be logged once.\n"
     ]
    },
    {
     "name": "stdout",
     "output_type": "stream",
     "text": [
      "317/317 [==============================] - 4s 6ms/step - loss: 0.1688 - UIAE.E_loss: 0.0797 - D_loss: 0.0891 - val_loss: 0.1613 - val_UIAE.E_loss: 0.0789 - val_D_loss: 0.0824\n",
      "352/352 [==============================] - 0s 1ms/step\n",
      "317/317 [==============================] - 3s 5ms/step - loss: 0.1637 - CIAE.E_loss: 0.0838 - D_loss: 0.0798 - val_loss: 0.1626 - val_CIAE.E_loss: 0.0833 - val_D_loss: 0.0793\n",
      "352/352 [==============================] - 0s 956us/step\n",
      "352/352 [==============================] - 0s 1ms/step\n",
      "40/40 [==============================] - 0s 919us/step\n",
      "train_rmse=1.1246, test_rmse=1.1246, diff=0.0\n"
     ]
    },
    {
     "data": {
      "text/plain": "<Figure size 432x288 with 1 Axes>",
      "image/png": "[encoded data removed]"
     },
     "metadata": {},
     "output_type": "display_data"
    },
    {
     "name": "stdout",
     "output_type": "stream",
     "text": [
      "1/24\n",
      "317/317 [==============================] - 2s 5ms/step - loss: 0.0787 - UIAE.E_loss: 1.2974e-05 - D_loss: 0.0787 - val_loss: 0.0772 - val_UIAE.E_loss: 2.6232e-05 - val_D_loss: 0.0772\n",
      "352/352 [==============================] - 0s 1ms/step\n",
      "317/317 [==============================] - 2s 5ms/step - loss: 0.0780 - CIAE.E_loss: 3.7296e-05 - D_loss: 0.0779 - val_loss: 0.0764 - val_CIAE.E_loss: 4.6815e-05 - val_D_loss: 0.0764\n",
      "352/352 [==============================] - 0s 924us/step\n",
      "352/352 [==============================] - 0s 997us/step\n",
      "40/40 [==============================] - 0s 941us/step\n",
      "train_rmse=1.1132, test_rmse=1.1122, diff=-0.001\n"
     ]
    },
    {
     "data": {
      "text/plain": "<Figure size 432x288 with 1 Axes>",
      "image/png": "[encoded data removed]"
     },
     "metadata": {},
     "output_type": "display_data"
    },
    {
     "name": "stdout",
     "output_type": "stream",
     "text": [
      "2/24\n",
      "317/317 [==============================] - 1s 5ms/step - loss: 0.0769 - UIAE.E_loss: 7.8028e-05 - D_loss: 0.0768 - val_loss: 0.0757 - val_UIAE.E_loss: 1.8352e-04 - val_D_loss: 0.0755\n",
      "352/352 [==============================] - 0s 887us/step\n",
      "317/317 [==============================] - 2s 5ms/step - loss: 0.0758 - CIAE.E_loss: 1.2987e-04 - D_loss: 0.0757 - val_loss: 0.0744 - val_CIAE.E_loss: 2.7671e-04 - val_D_loss: 0.0741\n",
      "352/352 [==============================] - 0s 923us/step\n",
      "352/352 [==============================] - 0s 912us/step\n",
      "40/40 [==============================] - 0s 1ms/step\n",
      "train_rmse=1.0988, test_rmse=1.0961, diff=-0.0027\n"
     ]
    },
    {
     "data": {
      "text/plain": "<Figure size 432x288 with 1 Axes>",
      "image/png": "[encoded data removed]"
     },
     "metadata": {},
     "output_type": "display_data"
    },
    {
     "name": "stdout",
     "output_type": "stream",
     "text": [
      "3/24\n",
      "317/317 [==============================] - 1s 4ms/step - loss: 0.0741 - UIAE.E_loss: 5.0562e-04 - D_loss: 0.0736 - val_loss: 0.0731 - val_UIAE.E_loss: 0.0011 - val_D_loss: 0.0720\n",
      "352/352 [==============================] - 0s 907us/step\n",
      "317/317 [==============================] - 1s 5ms/step - loss: 0.0724 - CIAE.E_loss: 7.7388e-04 - D_loss: 0.0716 - val_loss: 0.0709 - val_CIAE.E_loss: 0.0016 - val_D_loss: 0.0693\n",
      "352/352 [==============================] - 0s 918us/step\n",
      "352/352 [==============================] - 0s 1ms/step\n",
      "40/40 [==============================] - 0s 920us/step\n",
      "train_rmse=1.0801, test_rmse=1.0765, diff=-0.0036\n"
     ]
    },
    {
     "data": {
      "text/plain": "<Figure size 432x288 with 1 Axes>",
      "image/png": "[encoded data removed]"
     },
     "metadata": {},
     "output_type": "display_data"
    },
    {
     "name": "stdout",
     "output_type": "stream",
     "text": [
      "4/24\n",
      "317/317 [==============================] - 2s 5ms/step - loss: 0.0673 - UIAE.E_loss: 0.0028 - D_loss: 0.0645 - val_loss: 0.0620 - val_UIAE.E_loss: 0.0056 - val_D_loss: 0.0563\n",
      "352/352 [==============================] - 0s 1ms/step\n",
      "317/317 [==============================] - 2s 5ms/step - loss: 0.0614 - CIAE.E_loss: 0.0040 - D_loss: 0.0574 - val_loss: 0.0544 - val_CIAE.E_loss: 0.0075 - val_D_loss: 0.0469\n",
      "352/352 [==============================] - 0s 1ms/step\n",
      "352/352 [==============================] - 0s 959us/step\n",
      "40/40 [==============================] - 0s 1ms/step\n",
      "train_rmse=1.0354, test_rmse=1.0355, diff=0.0001\n"
     ]
    },
    {
     "data": {
      "text/plain": "<Figure size 432x288 with 1 Axes>",
      "image/png": "[encoded data removed]"
     },
     "metadata": {},
     "output_type": "display_data"
    },
    {
     "name": "stdout",
     "output_type": "stream",
     "text": [
      "5/24\n",
      "317/317 [==============================] - 1s 4ms/step - loss: 0.0427 - UIAE.E_loss: 0.0098 - D_loss: 0.0329 - val_loss: 0.0332 - val_UIAE.E_loss: 0.0123 - val_D_loss: 0.0210\n",
      "352/352 [==============================] - 0s 952us/step\n",
      "317/317 [==============================] - 1s 4ms/step - loss: 0.0365 - CIAE.E_loss: 0.0102 - D_loss: 0.0262 - val_loss: 0.0290 - val_CIAE.E_loss: 0.0112 - val_D_loss: 0.0178\n",
      "352/352 [==============================] - 0s 968us/step\n",
      "352/352 [==============================] - 0s 943us/step\n",
      "40/40 [==============================] - 0s 936us/step\n",
      "train_rmse=0.9682, test_rmse=0.9786, diff=0.0104\n"
     ]
    },
    {
     "data": {
      "text/plain": "<Figure size 432x288 with 1 Axes>",
      "image/png": "[encoded data removed]"
     },
     "metadata": {},
     "output_type": "display_data"
    },
    {
     "name": "stdout",
     "output_type": "stream",
     "text": [
      "6/24\n",
      "317/317 [==============================] - 1s 4ms/step - loss: 0.0226 - UIAE.E_loss: 0.0097 - D_loss: 0.0129 - val_loss: 0.0174 - val_UIAE.E_loss: 0.0080 - val_D_loss: 0.0095\n",
      "352/352 [==============================] - 0s 957us/step\n",
      "317/317 [==============================] - 1s 5ms/step - loss: 0.0223 - CIAE.E_loss: 0.0094 - D_loss: 0.0129 - val_loss: 0.0181 - val_CIAE.E_loss: 0.0080 - val_D_loss: 0.0100\n",
      "352/352 [==============================] - 0s 934us/step\n",
      "352/352 [==============================] - 0s 956us/step\n",
      "40/40 [==============================] - 0s 955us/step\n",
      "train_rmse=0.9392, test_rmse=0.9541, diff=0.0149\n"
     ]
    },
    {
     "data": {
      "text/plain": "<Figure size 432x288 with 1 Axes>",
      "image/png": "[encoded data removed]"
     },
     "metadata": {},
     "output_type": "display_data"
    },
    {
     "name": "stdout",
     "output_type": "stream",
     "text": [
      "7/24\n",
      "317/317 [==============================] - 1s 4ms/step - loss: 0.0147 - UIAE.E_loss: 0.0066 - D_loss: 0.0082 - val_loss: 0.0123 - val_UIAE.E_loss: 0.0054 - val_D_loss: 0.0069\n",
      "352/352 [==============================] - 0s 944us/step\n",
      "317/317 [==============================] - 1s 4ms/step - loss: 0.0163 - CIAE.E_loss: 0.0070 - D_loss: 0.0094 - val_loss: 0.0142 - val_CIAE.E_loss: 0.0059 - val_D_loss: 0.0083\n",
      "352/352 [==============================] - 0s 949us/step\n",
      "352/352 [==============================] - 0s 971us/step\n",
      "40/40 [==============================] - 0s 945us/step\n",
      "train_rmse=0.9287, test_rmse=0.9452, diff=0.0165\n"
     ]
    },
    {
     "data": {
      "text/plain": "<Figure size 432x288 with 1 Axes>",
      "image/png": "[encoded data removed]"
     },
     "metadata": {},
     "output_type": "display_data"
    },
    {
     "name": "stdout",
     "output_type": "stream",
     "text": [
      "8/24\n",
      "317/317 [==============================] - 1s 4ms/step - loss: 0.0115 - UIAE.E_loss: 0.0049 - D_loss: 0.0066 - val_loss: 0.0104 - val_UIAE.E_loss: 0.0044 - val_D_loss: 0.0060\n",
      "352/352 [==============================] - 0s 976us/step\n",
      "317/317 [==============================] - 1s 4ms/step - loss: 0.0138 - CIAE.E_loss: 0.0055 - D_loss: 0.0082 - val_loss: 0.0128 - val_CIAE.E_loss: 0.0052 - val_D_loss: 0.0076\n",
      "352/352 [==============================] - 0s 958us/step\n",
      "352/352 [==============================] - 0s 973us/step\n",
      "40/40 [==============================] - 0s 958us/step\n",
      "train_rmse=0.925, test_rmse=0.9419, diff=0.0169\n"
     ]
    },
    {
     "data": {
      "text/plain": "<Figure size 432x288 with 1 Axes>",
      "image/png": "[encoded data removed]"
     },
     "metadata": {},
     "output_type": "display_data"
    },
    {
     "name": "stdout",
     "output_type": "stream",
     "text": [
      "9/24\n",
      "317/317 [==============================] - 1s 4ms/step - loss: 0.0101 - UIAE.E_loss: 0.0041 - D_loss: 0.0060 - val_loss: 0.0091 - val_UIAE.E_loss: 0.0037 - val_D_loss: 0.0054\n",
      "352/352 [==============================] - 0s 945us/step\n",
      "317/317 [==============================] - 1s 4ms/step - loss: 0.0124 - CIAE.E_loss: 0.0048 - D_loss: 0.0076 - val_loss: 0.0117 - val_CIAE.E_loss: 0.0044 - val_D_loss: 0.0072\n",
      "352/352 [==============================] - 0s 957us/step\n",
      "352/352 [==============================] - 0s 966us/step\n",
      "40/40 [==============================] - 0s 895us/step\n",
      "train_rmse=0.924, test_rmse=0.9416, diff=0.0176\n"
     ]
    },
    {
     "data": {
      "text/plain": "<Figure size 432x288 with 1 Axes>",
      "image/png": "[encoded data removed]"
     },
     "metadata": {},
     "output_type": "display_data"
    },
    {
     "name": "stdout",
     "output_type": "stream",
     "text": [
      "10/24\n",
      "317/317 [==============================] - 1s 4ms/step - loss: 0.0092 - UIAE.E_loss: 0.0037 - D_loss: 0.0055 - val_loss: 0.0084 - val_UIAE.E_loss: 0.0035 - val_D_loss: 0.0049\n",
      "352/352 [==============================] - 0s 985us/step\n",
      "317/317 [==============================] - 1s 4ms/step - loss: 0.0113 - CIAE.E_loss: 0.0043 - D_loss: 0.0070 - val_loss: 0.0104 - val_CIAE.E_loss: 0.0041 - val_D_loss: 0.0063\n",
      "352/352 [==============================] - 0s 957us/step\n",
      "352/352 [==============================] - 0s 1ms/step\n",
      "40/40 [==============================] - 0s 866us/step\n",
      "train_rmse=0.9239, test_rmse=0.9409, diff=0.017\n"
     ]
    },
    {
     "data": {
      "text/plain": "<Figure size 432x288 with 1 Axes>",
      "image/png": "[encoded data removed]"
     },
     "metadata": {},
     "output_type": "display_data"
    },
    {
     "name": "stdout",
     "output_type": "stream",
     "text": [
      "11/24\n",
      "317/317 [==============================] - 1s 4ms/step - loss: 0.0085 - UIAE.E_loss: 0.0034 - D_loss: 0.0051 - val_loss: 0.0080 - val_UIAE.E_loss: 0.0032 - val_D_loss: 0.0048\n",
      "352/352 [==============================] - 0s 936us/step\n",
      "317/317 [==============================] - 1s 4ms/step - loss: 0.0105 - CIAE.E_loss: 0.0040 - D_loss: 0.0065 - val_loss: 0.0095 - val_CIAE.E_loss: 0.0037 - val_D_loss: 0.0058\n",
      "352/352 [==============================] - 0s 963us/step\n",
      "352/352 [==============================] - 0s 958us/step\n",
      "40/40 [==============================] - 0s 944us/step\n",
      "train_rmse=0.9228, test_rmse=0.9402, diff=0.0174\n"
     ]
    },
    {
     "data": {
      "text/plain": "<Figure size 432x288 with 1 Axes>",
      "image/png": "[encoded data removed]"
     },
     "metadata": {},
     "output_type": "display_data"
    },
    {
     "name": "stdout",
     "output_type": "stream",
     "text": [
      "12/24\n",
      "317/317 [==============================] - 1s 4ms/step - loss: 0.0080 - UIAE.E_loss: 0.0033 - D_loss: 0.0047 - val_loss: 0.0071 - val_UIAE.E_loss: 0.0030 - val_D_loss: 0.0041\n",
      "352/352 [==============================] - 0s 940us/step\n",
      "317/317 [==============================] - 1s 4ms/step - loss: 0.0098 - CIAE.E_loss: 0.0037 - D_loss: 0.0061 - val_loss: 0.0088 - val_CIAE.E_loss: 0.0035 - val_D_loss: 0.0054\n",
      "352/352 [==============================] - 0s 940us/step\n",
      "352/352 [==============================] - 0s 958us/step\n",
      "40/40 [==============================] - 0s 964us/step\n",
      "train_rmse=0.9235, test_rmse=0.9412, diff=0.0177\n"
     ]
    },
    {
     "data": {
      "text/plain": "<Figure size 432x288 with 1 Axes>",
      "image/png": "[encoded data removed]"
     },
     "metadata": {},
     "output_type": "display_data"
    },
    {
     "name": "stdout",
     "output_type": "stream",
     "text": [
      "13/24\n",
      "317/317 [==============================] - 1s 4ms/step - loss: 0.0075 - UIAE.E_loss: 0.0031 - D_loss: 0.0044 - val_loss: 0.0068 - val_UIAE.E_loss: 0.0029 - val_D_loss: 0.0039\n",
      "352/352 [==============================] - 0s 946us/step\n",
      "317/317 [==============================] - 1s 4ms/step - loss: 0.0091 - CIAE.E_loss: 0.0034 - D_loss: 0.0056 - val_loss: 0.0083 - val_CIAE.E_loss: 0.0032 - val_D_loss: 0.0050\n",
      "352/352 [==============================] - 0s 980us/step\n",
      "352/352 [==============================] - 0s 1ms/step\n",
      "40/40 [==============================] - 0s 907us/step\n",
      "train_rmse=0.9192, test_rmse=0.9379, diff=0.0187\n"
     ]
    },
    {
     "data": {
      "text/plain": "<Figure size 432x288 with 1 Axes>",
      "image/png": "[encoded data removed]"
     },
     "metadata": {},
     "output_type": "display_data"
    },
    {
     "name": "stdout",
     "output_type": "stream",
     "text": [
      "14/24\n",
      "317/317 [==============================] - 1s 4ms/step - loss: 0.0071 - UIAE.E_loss: 0.0029 - D_loss: 0.0041 - val_loss: 0.0064 - val_UIAE.E_loss: 0.0028 - val_D_loss: 0.0036\n",
      "352/352 [==============================] - 0s 939us/step\n",
      "317/317 [==============================] - 1s 4ms/step - loss: 0.0084 - CIAE.E_loss: 0.0032 - D_loss: 0.0052 - val_loss: 0.0078 - val_CIAE.E_loss: 0.0030 - val_D_loss: 0.0048\n",
      "352/352 [==============================] - 0s 985us/step\n",
      "352/352 [==============================] - 0s 946us/step\n",
      "40/40 [==============================] - 0s 943us/step\n",
      "train_rmse=0.9192, test_rmse=0.9382, diff=0.019\n"
     ]
    },
    {
     "data": {
      "text/plain": "<Figure size 432x288 with 1 Axes>",
      "image/png": "[encoded data removed]"
     },
     "metadata": {},
     "output_type": "display_data"
    },
    {
     "name": "stdout",
     "output_type": "stream",
     "text": [
      "15/24\n",
      "317/317 [==============================] - 1s 4ms/step - loss: 0.0066 - UIAE.E_loss: 0.0028 - D_loss: 0.0038 - val_loss: 0.0061 - val_UIAE.E_loss: 0.0026 - val_D_loss: 0.0034\n",
      "352/352 [==============================] - 0s 959us/step\n",
      "317/317 [==============================] - 1s 4ms/step - loss: 0.0078 - CIAE.E_loss: 0.0030 - D_loss: 0.0049 - val_loss: 0.0075 - val_CIAE.E_loss: 0.0029 - val_D_loss: 0.0046\n",
      "352/352 [==============================] - 0s 952us/step\n",
      "352/352 [==============================] - 0s 956us/step\n",
      "40/40 [==============================] - 0s 979us/step\n",
      "train_rmse=0.9277, test_rmse=0.946, diff=0.0183\n"
     ]
    },
    {
     "data": {
      "text/plain": "<Figure size 432x288 with 1 Axes>",
      "image/png": "[encoded data removed]"
     },
     "metadata": {},
     "output_type": "display_data"
    },
    {
     "name": "stdout",
     "output_type": "stream",
     "text": [
      "16/24\n",
      "317/317 [==============================] - 1s 4ms/step - loss: 0.0062 - UIAE.E_loss: 0.0027 - D_loss: 0.0036 - val_loss: 0.0055 - val_UIAE.E_loss: 0.0025 - val_D_loss: 0.0031\n",
      "352/352 [==============================] - 0s 961us/step\n",
      "317/317 [==============================] - 1s 5ms/step - loss: 0.0073 - CIAE.E_loss: 0.0028 - D_loss: 0.0046 - val_loss: 0.0065 - val_CIAE.E_loss: 0.0025 - val_D_loss: 0.0040\n",
      "352/352 [==============================] - 0s 953us/step\n",
      "352/352 [==============================] - 0s 965us/step\n",
      "40/40 [==============================] - 0s 845us/step\n",
      "train_rmse=0.9202, test_rmse=0.9398, diff=0.0196\n"
     ]
    },
    {
     "data": {
      "text/plain": "<Figure size 432x288 with 1 Axes>",
      "image/png": "[encoded data removed]"
     },
     "metadata": {},
     "output_type": "display_data"
    },
    {
     "name": "stdout",
     "output_type": "stream",
     "text": [
      "17/24\n",
      "317/317 [==============================] - 1s 4ms/step - loss: 0.0059 - UIAE.E_loss: 0.0025 - D_loss: 0.0034 - val_loss: 0.0056 - val_UIAE.E_loss: 0.0024 - val_D_loss: 0.0031\n",
      "352/352 [==============================] - 0s 943us/step\n",
      "317/317 [==============================] - 1s 4ms/step - loss: 0.0068 - CIAE.E_loss: 0.0025 - D_loss: 0.0042 - val_loss: 0.0063 - val_CIAE.E_loss: 0.0025 - val_D_loss: 0.0038\n",
      "352/352 [==============================] - 0s 958us/step\n",
      "352/352 [==============================] - 0s 957us/step\n",
      "40/40 [==============================] - 0s 918us/step\n",
      "train_rmse=0.9165, test_rmse=0.9371, diff=0.0206\n"
     ]
    },
    {
     "data": {
      "text/plain": "<Figure size 432x288 with 1 Axes>",
      "image/png": "[encoded data removed]"
     },
     "metadata": {},
     "output_type": "display_data"
    },
    {
     "name": "stdout",
     "output_type": "stream",
     "text": [
      "18/24\n",
      "317/317 [==============================] - 1s 4ms/step - loss: 0.0056 - UIAE.E_loss: 0.0024 - D_loss: 0.0032 - val_loss: 0.0053 - val_UIAE.E_loss: 0.0023 - val_D_loss: 0.0030\n",
      "352/352 [==============================] - 0s 935us/step\n",
      "317/317 [==============================] - 1s 4ms/step - loss: 0.0063 - CIAE.E_loss: 0.0023 - D_loss: 0.0039 - val_loss: 0.0062 - val_CIAE.E_loss: 0.0023 - val_D_loss: 0.0039\n",
      "352/352 [==============================] - 0s 951us/step\n",
      "352/352 [==============================] - 0s 992us/step\n",
      "40/40 [==============================] - 0s 931us/step\n",
      "train_rmse=0.9281, test_rmse=0.9473, diff=0.0192\n"
     ]
    },
    {
     "data": {
      "text/plain": "<Figure size 432x288 with 1 Axes>",
      "image/png": "[encoded data removed]"
     },
     "metadata": {},
     "output_type": "display_data"
    },
    {
     "name": "stdout",
     "output_type": "stream",
     "text": [
      "19/24\n",
      "317/317 [==============================] - 1s 5ms/step - loss: 0.0053 - UIAE.E_loss: 0.0023 - D_loss: 0.0030 - val_loss: 0.0051 - val_UIAE.E_loss: 0.0022 - val_D_loss: 0.0029\n",
      "352/352 [==============================] - 0s 977us/step\n",
      "317/317 [==============================] - 1s 4ms/step - loss: 0.0058 - CIAE.E_loss: 0.0022 - D_loss: 0.0036 - val_loss: 0.0055 - val_CIAE.E_loss: 0.0021 - val_D_loss: 0.0034\n",
      "352/352 [==============================] - 0s 969us/step\n",
      "352/352 [==============================] - 0s 962us/step\n",
      "40/40 [==============================] - 0s 914us/step\n",
      "train_rmse=0.9205, test_rmse=0.9407, diff=0.0202\n"
     ]
    },
    {
     "data": {
      "text/plain": "<Figure size 432x288 with 1 Axes>",
      "image/png": "[encoded data removed]"
     },
     "metadata": {},
     "output_type": "display_data"
    },
    {
     "name": "stdout",
     "output_type": "stream",
     "text": [
      "20/24\n",
      "317/317 [==============================] - 1s 4ms/step - loss: 0.0051 - UIAE.E_loss: 0.0022 - D_loss: 0.0029 - val_loss: 0.0048 - val_UIAE.E_loss: 0.0021 - val_D_loss: 0.0027\n",
      "352/352 [==============================] - 0s 1ms/step\n",
      "317/317 [==============================] - 2s 5ms/step - loss: 0.0054 - CIAE.E_loss: 0.0020 - D_loss: 0.0034 - val_loss: 0.0051 - val_CIAE.E_loss: 0.0019 - val_D_loss: 0.0031\n",
      "352/352 [==============================] - 0s 1ms/step\n",
      "352/352 [==============================] - 0s 992us/step\n",
      "40/40 [==============================] - 0s 937us/step\n",
      "train_rmse=0.9201, test_rmse=0.9407, diff=0.0206\n"
     ]
    },
    {
     "data": {
      "text/plain": "<Figure size 432x288 with 1 Axes>",
      "image/png": "[encoded data removed]"
     },
     "metadata": {},
     "output_type": "display_data"
    },
    {
     "name": "stdout",
     "output_type": "stream",
     "text": [
      "21/24\n",
      "317/317 [==============================] - 2s 5ms/step - loss: 0.0049 - UIAE.E_loss: 0.0021 - D_loss: 0.0028 - val_loss: 0.0046 - val_UIAE.E_loss: 0.0020 - val_D_loss: 0.0026\n",
      "352/352 [==============================] - 0s 977us/step\n",
      "317/317 [==============================] - 2s 5ms/step - loss: 0.0051 - CIAE.E_loss: 0.0018 - D_loss: 0.0033 - val_loss: 0.0048 - val_CIAE.E_loss: 0.0018 - val_D_loss: 0.0031\n",
      "352/352 [==============================] - 0s 997us/step\n",
      "352/352 [==============================] - 0s 980us/step\n",
      "40/40 [==============================] - 0s 925us/step\n",
      "train_rmse=0.9201, test_rmse=0.941, diff=0.0209\n"
     ]
    },
    {
     "data": {
      "text/plain": "<Figure size 432x288 with 1 Axes>",
      "image/png": "[encoded data removed]"
     },
     "metadata": {},
     "output_type": "display_data"
    },
    {
     "name": "stdout",
     "output_type": "stream",
     "text": [
      "22/24\n",
      "317/317 [==============================] - 2s 5ms/step - loss: 0.0047 - UIAE.E_loss: 0.0020 - D_loss: 0.0027 - val_loss: 0.0050 - val_UIAE.E_loss: 0.0019 - val_D_loss: 0.0031\n",
      "352/352 [==============================] - 1s 1ms/step\n",
      "317/317 [==============================] - 2s 6ms/step - loss: 0.0048 - CIAE.E_loss: 0.0017 - D_loss: 0.0031 - val_loss: 0.0045 - val_CIAE.E_loss: 0.0017 - val_D_loss: 0.0028\n",
      "352/352 [==============================] - 1s 1ms/step\n",
      "352/352 [==============================] - 1s 2ms/step\n",
      "40/40 [==============================] - 0s 1ms/step\n",
      "train_rmse=0.9179, test_rmse=0.9393, diff=0.0214\n"
     ]
    },
    {
     "data": {
      "text/plain": "<Figure size 432x288 with 1 Axes>",
      "image/png": "[encoded data removed]"
     },
     "metadata": {},
     "output_type": "display_data"
    },
    {
     "name": "stdout",
     "output_type": "stream",
     "text": [
      "23/24\n",
      "317/317 [==============================] - 2s 5ms/step - loss: 0.0045 - UIAE.E_loss: 0.0019 - D_loss: 0.0026 - val_loss: 0.0043 - val_UIAE.E_loss: 0.0018 - val_D_loss: 0.0025\n",
      "352/352 [==============================] - 0s 1ms/step\n",
      "317/317 [==============================] - 2s 5ms/step - loss: 0.0046 - CIAE.E_loss: 0.0016 - D_loss: 0.0030 - val_loss: 0.0047 - val_CIAE.E_loss: 0.0016 - val_D_loss: 0.0032\n",
      "352/352 [==============================] - 0s 1ms/step\n",
      "352/352 [==============================] - 1s 1ms/step\n",
      "40/40 [==============================] - 0s 1ms/step\n",
      "train_rmse=0.915, test_rmse=0.9375, diff=0.0225\n"
     ]
    },
    {
     "data": {
      "text/plain": "<Figure size 432x288 with 1 Axes>",
      "image/png": "[encoded data removed]"
     },
     "metadata": {},
     "output_type": "display_data"
    }
   ]
  },
  {
   "cell_type": "code",
   "source": [
    "def show_total_loss(logger1, logger2):\n",
    "    print(\"total loss\")\n",
    "\n",
    "    plt.figure(figsize=(10, 4))\n",
    "    plt.subplot(1, 2, 1)\n",
    "    plt.plot(logger1['loss'])\n",
    "\n",
    "    plt.subplot(1, 2, 2)\n",
    "    plt.plot(logger2['loss'])\n",
    "\n",
    "    plt.show()\n",
    "\n",
    "    print(round(logger1['loss'][-1], 5), round(logger2['loss'][-1], 5))\n",
    "    print()\n",
    "\n",
    "\n",
    "def show_latent_loss(logger1, logger2):\n",
    "    print(\"latent loss\")\n",
    "\n",
    "    plt.figure(figsize=(10, 4))\n",
    "    plt.subplot(1, 2, 1)\n",
    "    plt.plot(logger1['UIAE.E_loss'])\n",
    "\n",
    "    plt.subplot(1, 2, 2)\n",
    "    plt.plot(logger2['CIAE.E_loss'])\n",
    "\n",
    "    plt.show()\n",
    "\n",
    "    print(round(logger1['UIAE.E_loss'][-1], 5), round(logger2['CIAE.E_loss'][-1], 5))\n",
    "    print()\n",
    "\n",
    "\n",
    "def show_score_loss(logger1, logger2):\n",
    "    print(\"score loss\")\n",
    "\n",
    "    plt.figure(figsize=(10, 4))\n",
    "    plt.subplot(1, 2, 1)\n",
    "    plt.plot(logger1['D_loss'])\n",
    "\n",
    "    plt.subplot(1, 2, 2)\n",
    "    plt.plot(logger2['D_loss'])\n",
    "\n",
    "    plt.show()\n",
    "\n",
    "    print(round(logger1['D_loss'][-1], 5), round(logger2['D_loss'][-1], 5))\n",
    "    print()\n",
    "\n",
    "\n",
    "def show_rmse(train_rmses, test_rmses):\n",
    "    print(\"RMSE\")\n",
    "    plt.plot(train_rmses, label=\"train rmse\")\n",
    "    plt.plot(test_rmses, label=\"test rmse\")\n",
    "    plt.legend()\n",
    "    plt.show()\n",
    "\n",
    "    print(f\"train_rmse={round(train_rmses[-1], 5)}, test_rmse={round(test_rmses[-1], 5)}\")\n",
    "    print()\n",
    "\n",
    "\n",
    "def show_loss(logger1, logger2, train_rmses, test_rmses):\n",
    "    show_total_loss(logger1, logger2)\n",
    "    show_latent_loss(logger1, logger2)\n",
    "    show_score_loss(logger1, logger2)\n",
    "    show_rmse(train_rmses, test_rmses)"
   ],
   "metadata": {
    "id": "ZZngYJ_dRR9M"
   },
   "execution_count": 195,
   "outputs": []
  },
  {
   "cell_type": "code",
   "source": [
    "show_loss(logger1, logger2, train_rmses, test_rmses)"
   ],
   "metadata": {
    "id": "QEIt5xKzR6xw"
   },
   "execution_count": 196,
   "outputs": [
    {
     "name": "stdout",
     "output_type": "stream",
     "text": [
      "total loss\n"
     ]
    },
    {
     "data": {
      "text/plain": "<Figure size 720x288 with 2 Axes>",
      "image/png": "[encoded data removed]"
     },
     "metadata": {},
     "output_type": "display_data"
    },
    {
     "name": "stdout",
     "output_type": "stream",
     "text": [
      "0.0045 0.00459\n",
      "\n",
      "latent loss\n"
     ]
    },
    {
     "data": {
      "text/plain": "<Figure size 720x288 with 2 Axes>",
      "image/png": "[encoded data removed]"
     },
     "metadata": {},
     "output_type": "display_data"
    },
    {
     "name": "stdout",
     "output_type": "stream",
     "text": [
      "0.00188 0.00161\n",
      "\n",
      "score loss\n"
     ]
    },
    {
     "data": {
      "text/plain": "<Figure size 720x288 with 2 Axes>",
      "image/png": "[encoded data removed]"
     },
     "metadata": {},
     "output_type": "display_data"
    },
    {
     "name": "stdout",
     "output_type": "stream",
     "text": [
      "0.00262 0.00298\n",
      "\n",
      "RMSE\n"
     ]
    },
    {
     "data": {
      "text/plain": "<Figure size 432x288 with 1 Axes>",
      "image/png": "[encoded data removed]"
     },
     "metadata": {},
     "output_type": "display_data"
    },
    {
     "name": "stdout",
     "output_type": "stream",
     "text": [
      "train_rmse=0.915, test_rmse=0.9375\n",
      "\n"
     ]
    }
   ]
  },
  {
   "cell_type": "markdown",
   "source": [
    "# 학습 결과 살펴보기"
   ],
   "metadata": {
    "id": "MIUJWwTSsHG7"
   }
  },
  {
   "cell_type": "markdown",
   "source": [
    "## AE의 입력으로 구한 score"
   ],
   "metadata": {
    "id": "hK2QEBJAj9eI"
   }
  },
  {
   "cell_type": "code",
   "source": [
    "ul, uf, cf, cl, s = build_input_output(train_scores)\n",
    "predicted_latents, predicted_scores = user_input_autoencoder.predict((ul, uf, cf, s),\n",
    "                                                                     batch_size=BATCH_SIZE)\n",
    "\n",
    "mse = mean_squared_error(s, predicted_scores)\n",
    "print(mse)"
   ],
   "metadata": {
    "colab": {
     "base_uri": "https://localhost:8080/"
    },
    "id": "qB7K30YaoBs-",
    "outputId": "728ae2dd-bb34-444d-a0cc-b32ec49ce006"
   },
   "execution_count": 197,
   "outputs": [
    {
     "name": "stdout",
     "output_type": "stream",
     "text": [
      "352/352 [==============================] - 1s 2ms/step\n",
      "0.0027731115396725918\n"
     ]
    }
   ]
  },
  {
   "cell_type": "markdown",
   "source": [
    "## encoder의 출력을 decoder 입력으로 구한 score"
   ],
   "metadata": {
    "id": "HMGffsMzkAuB"
   }
  },
  {
   "cell_type": "code",
   "source": [
    "predicted_cl = user_input_autoencoder.encoder.predict((ul, uf, cf, s), batch_size=BATCH_SIZE)\n",
    "predicted_scores = user_input_autoencoder.decoder.predict((ul, uf, cf, predicted_cl), batch_size=BATCH_SIZE)\n",
    "\n",
    "mse = mean_squared_error(s, predicted_scores)\n",
    "print(mse)"
   ],
   "metadata": {
    "colab": {
     "base_uri": "https://localhost:8080/"
    },
    "id": "KVBQYnofoBgr",
    "outputId": "9bf041ee-9a67-4405-8416-176e5e96c8b9"
   },
   "execution_count": 198,
   "outputs": [
    {
     "name": "stdout",
     "output_type": "stream",
     "text": [
      "352/352 [==============================] - 0s 954us/step\n",
      "352/352 [==============================] - 0s 1ms/step\n",
      "0.0027731115396725918\n"
     ]
    }
   ]
  },
  {
   "cell_type": "markdown",
   "source": [
    "## train data로 직접 decoder로 구한 score"
   ],
   "metadata": {
    "id": "CEABtOSikJOM"
   }
  },
  {
   "cell_type": "code",
   "source": [
    "predicted_scores = user_input_autoencoder.decoder.predict((ul, uf, cf, cl), batch_size=BATCH_SIZE)\n",
    "\n",
    "mse = mean_squared_error(s, predicted_scores)\n",
    "print(mse)"
   ],
   "metadata": {
    "colab": {
     "base_uri": "https://localhost:8080/"
    },
    "id": "kSITV2oRpsmS",
    "outputId": "7c046454-bea7-4bab-df96-ee309ebb036b"
   },
   "execution_count": 199,
   "outputs": [
    {
     "name": "stdout",
     "output_type": "stream",
     "text": [
      "352/352 [==============================] - 0s 1ms/step\n",
      "0.0523294292406824\n"
     ]
    }
   ]
  },
  {
   "cell_type": "markdown",
   "source": [
    "## train data 담긴 한 유저의 latent"
   ],
   "metadata": {
    "id": "HPtlsLERkQMi"
   }
  },
  {
   "cell_type": "code",
   "source": [
    "scores_of_user_id_1 = user_id_2_scores[1]\n",
    "print(np.array([ score.user.latent for score in scores_of_user_id_1])[:5])"
   ],
   "metadata": {
    "colab": {
     "base_uri": "https://localhost:8080/"
    },
    "id": "dmkIn6Tov6y2",
    "outputId": "76101053-b09a-4003-d341-296c5a1d2091"
   },
   "execution_count": 200,
   "outputs": [
    {
     "name": "stdout",
     "output_type": "stream",
     "text": [
      "[[0.52532279 0.49490523]\n",
      " [0.52532279 0.49490523]\n",
      " [0.52532279 0.49490523]\n",
      " [0.52532279 0.49490523]\n",
      " [0.52532279 0.49490523]]\n"
     ]
    }
   ]
  },
  {
   "cell_type": "markdown",
   "source": [
    "## encoder로 구한 한 유저의 latent"
   ],
   "metadata": {
    "id": "CKhe1ONHkUcC"
   }
  },
  {
   "cell_type": "code",
   "source": [
    "ul, uf, cf, cl, s = build_input_output(scores_of_user_id_1)\n",
    "predicted_user_latents = content_input_autoencoder.encoder.predict((cl, uf, cf, s), batch_size=BATCH_SIZE)\n",
    "\n",
    "print(predicted_user_latents[:5])"
   ],
   "metadata": {
    "colab": {
     "base_uri": "https://localhost:8080/"
    },
    "id": "6EiyhDdVu0ap",
    "outputId": "1562ddc8-307f-46db-a1ba-6826a7ff5900"
   },
   "execution_count": 201,
   "outputs": [
    {
     "name": "stdout",
     "output_type": "stream",
     "text": [
      "1/1 [==============================] - 0s 24ms/step\n",
      "[[0.5773112  0.4537861 ]\n",
      " [0.48011294 0.53311455]\n",
      " [0.4978805  0.5189843 ]\n",
      " [0.47335666 0.5335798 ]\n",
      " [0.4891065  0.52312696]]\n"
     ]
    }
   ]
  },
  {
   "cell_type": "code",
   "source": [
    "print(np.std(predicted_user_latents, axis=0))"
   ],
   "metadata": {
    "colab": {
     "base_uri": "https://localhost:8080/"
    },
    "id": "vtsjF5UGwIQB",
    "outputId": "1b60dbd5-adfa-4969-ba48-c5685b231df4"
   },
   "execution_count": 202,
   "outputs": [
    {
     "name": "stdout",
     "output_type": "stream",
     "text": [
      "[0.04718011 0.03754668]\n"
     ]
    }
   ]
  },
  {
   "cell_type": "code",
   "source": [
    "plt.subplot(1,2,1)\n",
    "plt.hist(predicted_user_latents[:,0])\n",
    "plt.subplot(1,2,2)\n",
    "plt.hist(predicted_user_latents[:,1])\n",
    "plt.show()\n",
    "print(\"latent variation width :\", np.max(predicted_user_latents, axis=0)-np.min(predicted_user_latents, axis=0))"
   ],
   "metadata": {
    "colab": {
     "base_uri": "https://localhost:8080/",
     "height": 300
    },
    "id": "RR2i99MnwRQG",
    "outputId": "b71c3cf0-42cb-418e-e443-e320f116054b"
   },
   "execution_count": 203,
   "outputs": [
    {
     "data": {
      "text/plain": "<Figure size 432x288 with 2 Axes>",
      "image/png": "[encoded data removed]"
     },
     "metadata": {},
     "output_type": "display_data"
    },
    {
     "name": "stdout",
     "output_type": "stream",
     "text": [
      "latent variation width : [0.23985642 0.18612403]\n"
     ]
    }
   ]
  },
  {
   "cell_type": "code",
   "source": [],
   "metadata": {
    "id": "cMBG3sFn6FFu",
    "colab": {
     "base_uri": "https://localhost:8080/"
    },
    "outputId": "be71967f-49d9-4341-c3ba-d237acf1d6fb"
   },
   "execution_count": 203,
   "outputs": []
  },
  {
   "cell_type": "code",
   "source": [
    "from sklearn.metrics import mean_squared_error\n",
    "\n",
    "SCORE_NAMES = [\"rating\", \"dummy1\", \"dummy2\", \"dummy3\", \"dummy4\"]\n",
    "def show_regression_result(train_or_test, true_scores, predicted_scores):\n",
    "\n",
    "    print(f\"{train_or_test} Data\")\n",
    "    print(\"true_score : predicted_score\")\n",
    "    plt.figure(figsize=(SCORE_SIZE*4, 3))\n",
    "    for i in range(SCORE_SIZE):\n",
    "        plt.subplot(1,SCORE_SIZE,i+1)\n",
    "        plt.scatter(true_scores[:,i], predicted_scores[:,i], marker='.')\n",
    "        plt.xlim((0.0, 1.0))\n",
    "        plt.ylim((0.0, 1.0))\n",
    "        plt.title(f'{SCORE_NAMES[i]}')\n",
    "        plt.xlabel('truth')\n",
    "        plt.ylabel('predicted')\n",
    "    plt.show()\n",
    "\n",
    "    # mse = mean_squared_error(true_scores, predicted_scores)\n",
    "    # print(\"mse :\",mse)\n",
    "    # rmse = mse**0.5\n",
    "    # print(\"rmse :\",rmse)\n",
    "\n",
    "    mse = mean_squared_error((true_scores*SCORE_DIFF+SCORE_MIN), (predicted_scores*SCORE_DIFF+SCORE_MIN))\n",
    "    # print(\"mse :\",mse)\n",
    "    rmse = mse**0.5\n",
    "    print(\"rmse :\",rmse)\n"
   ],
   "metadata": {
    "id": "lrumFZMYQGY8",
    "colab": {
     "base_uri": "https://localhost:8080/"
    },
    "outputId": "b28dba21-8a19-4625-d33a-5bd28805354f"
   },
   "execution_count": 204,
   "outputs": []
  },
  {
   "cell_type": "code",
   "source": [
    "ul, uf, cf, cl, s = build_input_output(train_scores)\n",
    "predicted_scores = user_input_autoencoder.decoder.predict((ul, uf, cf, cl), batch_size=BATCH_SIZE)"
   ],
   "metadata": {
    "colab": {
     "base_uri": "https://localhost:8080/"
    },
    "id": "HDvFRbWK6FDg",
    "outputId": "090b58c3-e060-455b-9451-93ad04740ba6"
   },
   "execution_count": 205,
   "outputs": [
    {
     "name": "stdout",
     "output_type": "stream",
     "text": [
      "352/352 [==============================] - 0s 1ms/step\n"
     ]
    }
   ]
  },
  {
   "cell_type": "code",
   "source": [
    "show_regression_result(\"Train\", s, predicted_scores)"
   ],
   "metadata": {
    "colab": {
     "base_uri": "https://localhost:8080/",
     "height": 310
    },
    "id": "OGcHZHX26E_q",
    "outputId": "bd7d890c-324b-44bb-f3cb-78cfa44ac0ee"
   },
   "execution_count": 206,
   "outputs": [
    {
     "name": "stdout",
     "output_type": "stream",
     "text": [
      "Train Data\n",
      "true_score : predicted_score\n"
     ]
    },
    {
     "data": {
      "text/plain": "<Figure size 288x216 with 1 Axes>",
      "image/png": "[encoded data removed]"
     },
     "metadata": {},
     "output_type": "display_data"
    },
    {
     "name": "stdout",
     "output_type": "stream",
     "text": [
      "rmse : 0.9150250644685107\n"
     ]
    }
   ]
  },
  {
   "cell_type": "code",
   "source": [],
   "metadata": {
    "id": "qYoBFTOeP7nJ",
    "colab": {
     "base_uri": "https://localhost:8080/"
    },
    "outputId": "3f18cf67-3d38-43fa-8378-8a08810e33ae"
   },
   "execution_count": 206,
   "outputs": []
  },
  {
   "cell_type": "code",
   "source": [
    "update_test_score_latents_with_train_scores(train_scores, test_scores)\n",
    "ul, uf, cf, cl, s = build_input_output(test_scores)\n",
    "predicted_scores = user_input_autoencoder.decoder.predict((ul, uf, cf, cl), batch_size=BATCH_SIZE)\n"
   ],
   "metadata": {
    "colab": {
     "base_uri": "https://localhost:8080/"
    },
    "id": "EfnhNUvp6E7Q",
    "outputId": "e904bbd6-d1d7-4bf2-daf2-7fc4f4ff9136"
   },
   "execution_count": 207,
   "outputs": [
    {
     "name": "stdout",
     "output_type": "stream",
     "text": [
      "40/40 [==============================] - 0s 1ms/step\n"
     ]
    }
   ]
  },
  {
   "cell_type": "code",
   "source": [
    "show_regression_result(\"Test\", s, predicted_scores)"
   ],
   "metadata": {
    "colab": {
     "base_uri": "https://localhost:8080/",
     "height": 310
    },
    "id": "J3ErK8Dp6E3b",
    "outputId": "9bba4312-ddaa-47ac-a485-c14507007494"
   },
   "execution_count": 208,
   "outputs": [
    {
     "name": "stdout",
     "output_type": "stream",
     "text": [
      "Test Data\n",
      "true_score : predicted_score\n"
     ]
    },
    {
     "data": {
      "text/plain": "<Figure size 288x216 with 1 Axes>",
      "image/png": "[encoded data removed]"
     },
     "metadata": {},
     "output_type": "display_data"
    },
    {
     "name": "stdout",
     "output_type": "stream",
     "text": [
      "rmse : 0.9375400221516013\n"
     ]
    }
   ]
  },
  {
   "cell_type": "markdown",
   "source": [
    "# Decoder 추가 학습"
   ],
   "metadata": {
    "id": "uMP1E_r6AIdA"
   }
  },
  {
   "cell_type": "markdown",
   "source": [
    "# 학습 실행"
   ],
   "metadata": {
    "id": "tScOYwJYZch4"
   }
  },
  {
   "cell_type": "code",
   "source": [
    "EPOCH = 10\n",
    "\n",
    "from tensorflow.keras.optimizers import Adam, RMSprop\n",
    "decoder_optimizer = RMSprop(learning_rate=0.001*0.1)\n",
    "user_input_autoencoder.decoder.compile(loss=\"mse\", optimizer=decoder_optimizer)\n",
    "\n",
    "\n",
    "train_rmses = []\n",
    "test_rmses = []\n",
    "logger1 = Logger()\n",
    "logger2 = Logger()\n",
    "\n",
    "ul, uf, cf, cl, s = build_input_output(train_scores)\n",
    "\n",
    "for epoch in range(EPOCH):\n",
    "    print(f\"{epoch}/{EPOCH}\")\n",
    "\n",
    "    autoencoder1_hist = user_input_autoencoder.decoder.fit((ul, uf, cf, cl), s,\n",
    "        epochs=1, batch_size=BATCH_SIZE, validation_split=0.1)        \n",
    "\n",
    "    train_rmse, test_rmse = evaluate(train_scores, test_scores)\n",
    "    print(f\"train_rmse={train_rmse}, test_rmse={test_rmse}, diff={round(test_rmse-train_rmse,5)}\")\n",
    "\n",
    "    train_rmses.append(train_rmse)\n",
    "    test_rmses.append(test_rmse)\n"
   ],
   "metadata": {
    "colab": {
     "base_uri": "https://localhost:8080/"
    },
    "id": "CWaiLLjxgHL-",
    "outputId": "312564a4-d06e-4a02-c50e-fc862900b50d"
   },
   "execution_count": 209,
   "outputs": [
    {
     "name": "stdout",
     "output_type": "stream",
     "text": [
      "0/10\n",
      "317/317 [==============================] - 2s 4ms/step - loss: 0.0524 - val_loss: 0.0524\n",
      "352/352 [==============================] - 0s 993us/step\n",
      "40/40 [==============================] - 0s 1ms/step\n",
      "train_rmse=0.9146, test_rmse=0.9371, diff=0.0225\n",
      "1/10\n",
      "317/317 [==============================] - 1s 3ms/step - loss: 0.0524 - val_loss: 0.0528\n",
      "352/352 [==============================] - 0s 1ms/step\n",
      "40/40 [==============================] - 0s 1ms/step\n",
      "train_rmse=0.9182, test_rmse=0.9411, diff=0.0229\n",
      "2/10\n",
      "317/317 [==============================] - 1s 3ms/step - loss: 0.0523 - val_loss: 0.0530\n",
      "352/352 [==============================] - 0s 922us/step\n",
      "40/40 [==============================] - 0s 1ms/step\n",
      "train_rmse=0.9191, test_rmse=0.9401, diff=0.021\n",
      "3/10\n",
      "317/317 [==============================] - 1s 3ms/step - loss: 0.0523 - val_loss: 0.0525\n",
      "352/352 [==============================] - 0s 1ms/step\n",
      "40/40 [==============================] - 0s 1ms/step\n",
      "train_rmse=0.9153, test_rmse=0.9381, diff=0.0228\n",
      "4/10\n",
      "317/317 [==============================] - 1s 3ms/step - loss: 0.0523 - val_loss: 0.0524\n",
      "352/352 [==============================] - 0s 1ms/step\n",
      "40/40 [==============================] - 0s 1ms/step\n",
      "train_rmse=0.9141, test_rmse=0.9362, diff=0.0221\n",
      "5/10\n",
      "317/317 [==============================] - 1s 3ms/step - loss: 0.0523 - val_loss: 0.0524\n",
      "352/352 [==============================] - 0s 1ms/step\n",
      "40/40 [==============================] - 0s 1ms/step\n",
      "train_rmse=0.9139, test_rmse=0.9355, diff=0.0216\n",
      "6/10\n",
      "317/317 [==============================] - 1s 3ms/step - loss: 0.0523 - val_loss: 0.0523\n",
      "352/352 [==============================] - 0s 1ms/step\n",
      "40/40 [==============================] - 0s 2ms/step\n",
      "train_rmse=0.9134, test_rmse=0.9354, diff=0.022\n",
      "7/10\n",
      "317/317 [==============================] - 1s 3ms/step - loss: 0.0523 - val_loss: 0.0524\n",
      "352/352 [==============================] - 0s 975us/step\n",
      "40/40 [==============================] - 0s 1ms/step\n",
      "train_rmse=0.9141, test_rmse=0.9357, diff=0.0216\n",
      "8/10\n",
      "317/317 [==============================] - 1s 3ms/step - loss: 0.0523 - val_loss: 0.0527\n",
      "352/352 [==============================] - 0s 996us/step\n",
      "40/40 [==============================] - 0s 939us/step\n",
      "train_rmse=0.9163, test_rmse=0.9376, diff=0.0213\n",
      "9/10\n",
      "317/317 [==============================] - 1s 3ms/step - loss: 0.0523 - val_loss: 0.0525\n",
      "352/352 [==============================] - 0s 946us/step\n",
      "40/40 [==============================] - 0s 996us/step\n",
      "train_rmse=0.9152, test_rmse=0.9364, diff=0.0212\n"
     ]
    }
   ]
  },
  {
   "cell_type": "code",
   "source": [
    "show_rmse(train_rmses, test_rmses)"
   ],
   "metadata": {
    "id": "QAP6pgVsAlVH",
    "colab": {
     "base_uri": "https://localhost:8080/",
     "height": 334
    },
    "outputId": "4451ea57-1af5-466e-a211-e222479f5d84"
   },
   "execution_count": 210,
   "outputs": [
    {
     "name": "stdout",
     "output_type": "stream",
     "text": [
      "RMSE\n"
     ]
    },
    {
     "data": {
      "text/plain": "<Figure size 432x288 with 1 Axes>",
      "image/png": "[encoded data removed]"
     },
     "metadata": {},
     "output_type": "display_data"
    },
    {
     "name": "stdout",
     "output_type": "stream",
     "text": [
      "train_rmse=0.9152, test_rmse=0.9364\n",
      "\n"
     ]
    }
   ]
  },
  {
   "cell_type": "markdown",
   "source": [
    "# 학습 결과 살펴보기"
   ],
   "metadata": {
    "id": "IqsmiI4xgHX_"
   }
  },
  {
   "cell_type": "markdown",
   "source": [
    "## AE의 입력으로 구한 score"
   ],
   "metadata": {
    "id": "IhyHmCTsgHX_"
   }
  },
  {
   "cell_type": "code",
   "source": [
    "ul, uf, cf, cl, s = build_input_output(train_scores)\n",
    "predicted_latents, predicted_scores = user_input_autoencoder.predict((ul, uf, cf, s), batch_size=BATCH_SIZE)        \n",
    "\n",
    "mse = mean_squared_error(s, predicted_scores)\n",
    "print(mse)"
   ],
   "metadata": {
    "id": "TiCUwHFAgHX_",
    "colab": {
     "base_uri": "https://localhost:8080/"
    },
    "outputId": "a663a89c-44a6-461a-99ef-e9bd116ae2d4"
   },
   "execution_count": 211,
   "outputs": [
    {
     "name": "stdout",
     "output_type": "stream",
     "text": [
      "352/352 [==============================] - 0s 1ms/step\n",
      "0.0027170749916914532\n"
     ]
    }
   ]
  },
  {
   "cell_type": "markdown",
   "source": [
    "## encoder의 출력을 decoder 입력으로 구한 score"
   ],
   "metadata": {
    "id": "upu_hjLggHYA"
   }
  },
  {
   "cell_type": "code",
   "source": [
    "predicted_cl = user_input_autoencoder.encoder.predict((ul, uf, cf, s), batch_size=BATCH_SIZE)\n",
    "predicted_scores = user_input_autoencoder.decoder.predict((ul, uf, cf, predicted_cl), batch_size=BATCH_SIZE)\n",
    "\n",
    "mse = mean_squared_error(s, predicted_scores)\n",
    "print(mse)"
   ],
   "metadata": {
    "id": "KV5m_riEgHYA",
    "colab": {
     "base_uri": "https://localhost:8080/"
    },
    "outputId": "ac3366f7-bbbd-44a0-9556-9cc327c6a798"
   },
   "execution_count": 212,
   "outputs": [
    {
     "name": "stdout",
     "output_type": "stream",
     "text": [
      "352/352 [==============================] - 0s 960us/step\n",
      "352/352 [==============================] - 0s 909us/step\n",
      "0.0027170749916914532\n"
     ]
    }
   ]
  },
  {
   "cell_type": "markdown",
   "source": [
    "## train data로 직접 decoder로 구한 score"
   ],
   "metadata": {
    "id": "eUKHSFGzgHYA"
   }
  },
  {
   "cell_type": "code",
   "source": [
    "predicted_scores = user_input_autoencoder.decoder.predict((ul, uf, cf, cl), batch_size=BATCH_SIZE)\n",
    "\n",
    "mse = mean_squared_error(s, predicted_scores)\n",
    "print(mse)"
   ],
   "metadata": {
    "id": "-aSiKUYLgHYA",
    "colab": {
     "base_uri": "https://localhost:8080/"
    },
    "outputId": "c6be07bc-e8c8-4463-f0c0-6b500ce31985"
   },
   "execution_count": 213,
   "outputs": [
    {
     "name": "stdout",
     "output_type": "stream",
     "text": [
      "352/352 [==============================] - 0s 1ms/step\n",
      "0.05234481303038248\n"
     ]
    }
   ]
  },
  {
   "cell_type": "markdown",
   "source": [
    "## train data 담긴 한 유저의 latent"
   ],
   "metadata": {
    "id": "7EDL95cUgHYA"
   }
  },
  {
   "cell_type": "code",
   "source": [
    "scores_of_user_id_1 = user_id_2_scores[1]\n",
    "print(np.array([ score.user.latent for score in scores_of_user_id_1])[:5])"
   ],
   "metadata": {
    "id": "NSkhZh5jgHYA",
    "colab": {
     "base_uri": "https://localhost:8080/"
    },
    "outputId": "e3533393-1151-4481-dd95-ded5d87b23f1"
   },
   "execution_count": 214,
   "outputs": [
    {
     "name": "stdout",
     "output_type": "stream",
     "text": [
      "[[0.52532279 0.49490523]\n",
      " [0.52532279 0.49490523]\n",
      " [0.52532279 0.49490523]\n",
      " [0.52532279 0.49490523]\n",
      " [0.52532279 0.49490523]]\n"
     ]
    }
   ]
  },
  {
   "cell_type": "markdown",
   "source": [
    "## encoder로 구한 한 유저의 latent"
   ],
   "metadata": {
    "id": "9yY_aoergHYA"
   }
  },
  {
   "cell_type": "code",
   "source": [
    "ul, uf, cf, cl, s = build_input_output(scores_of_user_id_1)\n",
    "predicted_user_latents = content_input_autoencoder.encoder.predict((cl, uf, cf, s), batch_size=BATCH_SIZE)\n",
    "\n",
    "print(predicted_user_latents[:5])"
   ],
   "metadata": {
    "id": "LkrAi8UNgHYA",
    "colab": {
     "base_uri": "https://localhost:8080/"
    },
    "outputId": "21312a72-20cd-4f37-a52b-398415fb8605"
   },
   "execution_count": 215,
   "outputs": [
    {
     "name": "stdout",
     "output_type": "stream",
     "text": [
      "1/1 [==============================] - 0s 15ms/step\n",
      "[[0.5773112  0.4537861 ]\n",
      " [0.48011294 0.53311455]\n",
      " [0.4978805  0.5189843 ]\n",
      " [0.47335666 0.5335798 ]\n",
      " [0.4891065  0.52312696]]\n"
     ]
    }
   ]
  },
  {
   "cell_type": "code",
   "source": [
    "print(np.std(predicted_user_latents, axis=0))"
   ],
   "metadata": {
    "id": "3TQBQ6_jgHYA",
    "colab": {
     "base_uri": "https://localhost:8080/"
    },
    "outputId": "f2d50cc1-dd11-41ca-9a66-cc9e7ba1002d"
   },
   "execution_count": 216,
   "outputs": [
    {
     "name": "stdout",
     "output_type": "stream",
     "text": [
      "[0.04718011 0.03754668]\n"
     ]
    }
   ]
  },
  {
   "cell_type": "code",
   "source": [
    "plt.subplot(1,2,1)\n",
    "plt.hist(predicted_user_latents[:,0])\n",
    "plt.subplot(1,2,2)\n",
    "plt.hist(predicted_user_latents[:,1])\n",
    "plt.show()\n",
    "print(\"latent variation width :\", np.max(predicted_user_latents, axis=0)-np.min(predicted_user_latents, axis=0))"
   ],
   "metadata": {
    "id": "7hgS1EIQgHYB",
    "colab": {
     "base_uri": "https://localhost:8080/",
     "height": 300
    },
    "outputId": "789c473d-87df-4e37-a2e9-631113902b6e"
   },
   "execution_count": 217,
   "outputs": [
    {
     "data": {
      "text/plain": "<Figure size 432x288 with 2 Axes>",
      "image/png": "[encoded data removed]"
     },
     "metadata": {},
     "output_type": "display_data"
    },
    {
     "name": "stdout",
     "output_type": "stream",
     "text": [
      "latent variation width : [0.23985642 0.18612403]\n"
     ]
    }
   ]
  },
  {
   "cell_type": "code",
   "source": [
    "ul, uf, cf, cl, s = build_input_output(train_scores)\n",
    "predicted_scores = user_input_autoencoder.decoder.predict((ul, uf, cf, cl))"
   ],
   "metadata": {
    "id": "54doamxxgHYB",
    "colab": {
     "base_uri": "https://localhost:8080/"
    },
    "outputId": "3da160a6-e1a9-450d-caa6-b631644f8030"
   },
   "execution_count": 218,
   "outputs": [
    {
     "name": "stdout",
     "output_type": "stream",
     "text": [
      "2813/2813 [==============================] - 3s 920us/step\n"
     ]
    }
   ]
  },
  {
   "cell_type": "code",
   "source": [
    "show_regression_result(\"Train\", s, predicted_scores)"
   ],
   "metadata": {
    "id": "6qlEteLZgHYB",
    "colab": {
     "base_uri": "https://localhost:8080/",
     "height": 310
    },
    "outputId": "30bf2e09-472d-4efd-81aa-ca13113070f2"
   },
   "execution_count": 219,
   "outputs": [
    {
     "name": "stdout",
     "output_type": "stream",
     "text": [
      "Train Data\n",
      "true_score : predicted_score\n"
     ]
    },
    {
     "data": {
      "text/plain": "<Figure size 288x216 with 1 Axes>",
      "image/png": "[encoded data removed]"
     },
     "metadata": {},
     "output_type": "display_data"
    },
    {
     "name": "stdout",
     "output_type": "stream",
     "text": [
      "rmse : 0.9151595534116371\n"
     ]
    }
   ]
  },
  {
   "cell_type": "code",
   "source": [
    "update_test_score_latents_with_train_scores(train_scores, test_scores)\n",
    "ul, uf, cf, cl, s = build_input_output(test_scores)\n",
    "predicted_scores = user_input_autoencoder.decoder.predict((ul, uf, cf, cl))\n"
   ],
   "metadata": {
    "id": "lRK5SnxvgHYB",
    "colab": {
     "base_uri": "https://localhost:8080/"
    },
    "outputId": "a9e32c81-b818-4181-d9a9-e8936598f5b4"
   },
   "execution_count": 220,
   "outputs": [
    {
     "name": "stdout",
     "output_type": "stream",
     "text": [
      "313/313 [==============================] - 0s 928us/step\n"
     ]
    }
   ]
  },
  {
   "cell_type": "code",
   "source": [
    "show_regression_result(\"Test\", s, predicted_scores)"
   ],
   "metadata": {
    "id": "HGtZ1WstgHYB",
    "colab": {
     "base_uri": "https://localhost:8080/",
     "height": 310
    },
    "outputId": "03328a64-07ea-48b6-eecc-5c90255ac28f"
   },
   "execution_count": 221,
   "outputs": [
    {
     "name": "stdout",
     "output_type": "stream",
     "text": [
      "Test Data\n",
      "true_score : predicted_score\n"
     ]
    },
    {
     "data": {
      "text/plain": "<Figure size 288x216 with 1 Axes>",
      "image/png": "[encoded data removed]"
     },
     "metadata": {},
     "output_type": "display_data"
    },
    {
     "name": "stdout",
     "output_type": "stream",
     "text": [
      "rmse : 0.9363686864373281\n"
     ]
    }
   ]
  },
  {
   "cell_type": "markdown",
   "source": [
    "# 좀 살펴보기"
   ],
   "metadata": {
    "id": "Su4kQEeUr0Qo"
   }
  },
  {
   "cell_type": "code",
   "source": [
    "target_index = -1\n",
    "for i in range(1000):\n",
    "    if s[i]==0.5:\n",
    "        target_index = i\n",
    "        break\n",
    "print(target_index)\n",
    "print(s[target_index])"
   ],
   "metadata": {
    "id": "b9cvQDIJRoLb",
    "colab": {
     "base_uri": "https://localhost:8080/"
    },
    "outputId": "fcd59372-3d73-414b-96be-04b28d40f77f"
   },
   "execution_count": 222,
   "outputs": [
    {
     "name": "stdout",
     "output_type": "stream",
     "text": [
      "2\n",
      "[0.5]\n"
     ]
    }
   ]
  },
  {
   "cell_type": "code",
   "source": [
    "user_latents, user_features, content_features, content_latents, scores = build_input_output(train_scores)\n",
    "\n",
    "target_index = -1\n",
    "for i in range(1000):\n",
    "    if scores[i][0]==0.5:\n",
    "        target_index = i\n",
    "        break\n",
    "print(f\"target_index={target_index}\")\n",
    "print(scores[target_index])\n",
    "\n",
    "\n",
    "ul = np.empty((100*100, LATENT_SIZE))\n",
    "uf = np.empty((100*100, USER_FEATURE_SIZE))\n",
    "cf = np.empty((100*100, CONTENT_FEATURE_SIZE))\n",
    "cl = np.empty((100*100, LATENT_SIZE))\n",
    "\n",
    "for i in range(100):\n",
    "    for j in range(100):\n",
    "        ul[i*100+j] = user_latents[target_index]\n",
    "        uf[i*100+j] = user_features[target_index]\n",
    "        cf[i*100+j] = content_features[target_index]\n",
    "        cl[i*100+j] = np.array([i*0.01,j*0.01])\n",
    "\n",
    "ps = user_input_autoencoder.decoder.predict((ul, uf, cf, cl), batch_size=BATCH_SIZE)\n",
    "print(\"predicted score\")\n",
    "plt.plot(ps)\n",
    "plt.show()\n",
    "print()\n",
    "\n",
    "ps = np.abs(ps - s[target_index])\n",
    "print(\"diff\")\n",
    "plt.plot(ps)\n",
    "plt.show()\n",
    "print()\n",
    "\n",
    "hm = ps.reshape((100,100))\n",
    "print(\"diff heatmap\")\n",
    "plt.pcolor(hm)\n",
    "plt.show()"
   ],
   "metadata": {
    "id": "86jTP_gqMA6d",
    "colab": {
     "base_uri": "https://localhost:8080/",
     "height": 921
    },
    "outputId": "b69af228-7903-4d34-c749-0c960d534887"
   },
   "execution_count": 223,
   "outputs": [
    {
     "name": "stdout",
     "output_type": "stream",
     "text": [
      "target_index=1\n",
      "[0.5]\n",
      "40/40 [==============================] - 0s 937us/step\n",
      "predicted score\n"
     ]
    },
    {
     "data": {
      "text/plain": "<Figure size 432x288 with 1 Axes>",
      "image/png": "[encoded data removed]"
     },
     "metadata": {},
     "output_type": "display_data"
    },
    {
     "name": "stdout",
     "output_type": "stream",
     "text": [
      "\n",
      "diff\n"
     ]
    },
    {
     "data": {
      "text/plain": "<Figure size 432x288 with 1 Axes>",
      "image/png": "[encoded data removed]"
     },
     "metadata": {},
     "output_type": "display_data"
    },
    {
     "name": "stdout",
     "output_type": "stream",
     "text": [
      "\n",
      "diff heatmap\n"
     ]
    },
    {
     "data": {
      "text/plain": "<Figure size 432x288 with 1 Axes>",
      "image/png": "[encoded data removed]"
     },
     "metadata": {},
     "output_type": "display_data"
    }
   ]
  },
  {
   "cell_type": "code",
   "source": [
    "target_user_id = train_scores[target_index].user.id\n",
    "print(f\"target_user_id={target_user_id}\")\n",
    "\n",
    "scores_of_target_user_id = [score for score in train_scores if score.user.id==target_user_id]\n",
    "print(len(scores_of_target_user_id))\n",
    "\n",
    "uls = np.array([score.user.latent for score in scores_of_target_user_id])\n",
    "plt.scatter(uls[:,0], uls[:,1])\n",
    "plt.xlim(0,1)\n",
    "plt.ylim(0,1)\n",
    "plt.show()\n"
   ],
   "metadata": {
    "id": "lIBYMYr_39x3",
    "colab": {
     "base_uri": "https://localhost:8080/",
     "height": 321
    },
    "outputId": "db02b0d2-8e89-4700-f5e6-1be2c33dae7c"
   },
   "execution_count": 224,
   "outputs": [
    {
     "name": "stdout",
     "output_type": "stream",
     "text": [
      "target_user_id=276\n",
      "464\n"
     ]
    },
    {
     "data": {
      "text/plain": "<Figure size 432x288 with 1 Axes>",
      "image/png": "[encoded data removed]"
     },
     "metadata": {},
     "output_type": "display_data"
    }
   ]
  },
  {
   "cell_type": "markdown",
   "source": [
    "0.5 스코어를 보인 특정 user가 포함된 score들에 대한 decoder의 예측값 분포\n"
   ],
   "metadata": {
    "id": "dBotFvuJ9MDh"
   }
  },
  {
   "cell_type": "code",
   "source": [
    "target_user_id = train_scores[target_index].user.id\n",
    "print(f\"target_user_id={target_user_id}\")\n",
    "\n",
    "scores_of_target_user_id = [score for score in train_scores if score.user.id==target_user_id]\n",
    "print(len(scores_of_target_user_id))\n",
    "\n",
    "cls = np.array([score.content.latent for score in scores_of_target_user_id])\n",
    "\n",
    "plt.scatter(cls[:,0], cls[:,1])\n",
    "plt.xlim(0,1)\n",
    "plt.ylim(0,1)\n",
    "plt.show()\n",
    "\n",
    "ul = np.empty((len(scores_of_target_user_id), LATENT_SIZE))\n",
    "uf = np.empty((len(scores_of_target_user_id), USER_FEATURE_SIZE))\n",
    "cf = np.empty((len(scores_of_target_user_id), CONTENT_FEATURE_SIZE))\n",
    "cl = np.empty((len(scores_of_target_user_id), LATENT_SIZE))\n",
    "s = np.empty((len(scores_of_target_user_id), SCORE_SIZE))\n",
    "\n",
    "first_ul = scores_of_target_user_id[0].user.latent\n",
    "for i, score in enumerate(scores_of_target_user_id):\n",
    "    ul[i] = first_ul # 0.5 스코어가 나온 ul로 고정\n",
    "    uf[i] = score.user.features\n",
    "    cf[i] = score.content.features\n",
    "    cl[i] = score.content.latent\n",
    "    s[i] = score.values\n",
    "\n",
    "ps = decoder.predict((ul, uf, cf, cl))\n",
    "ts = np.full_like(ps, 0.5)\n",
    "mse = mean_squared_error((ts*SCORE_DIFF+SCORE_MIN), (ps*SCORE_DIFF+SCORE_MIN))\n",
    "rmse = round(mse**0.5, 4)  \n",
    "print(f\"rmse={rmse}\")\n",
    "plt.hist(ps, bins=100)\n",
    "plt.show()\n",
    "\n",
    "plt.hist(s, bins=100)\n",
    "plt.show()\n",
    "\n",
    "plt.scatter(s, ps)\n",
    "plt.show()\n",
    "\n",
    "\n",
    "ps = np.abs(ps-0.5)\n",
    "\n",
    "print(np.mean(ps))\n",
    "\n",
    "hm = np.zeros((100,100))\n",
    "for i, score in enumerate(scores_of_target_user_id):\n",
    "    y, x = (score.content.latent*100).astype(int)\n",
    "    hm[x,y] = ps[i]\n",
    "\n",
    "plt.pcolor(hm)\n",
    "plt.colorbar()\n",
    "plt.show()"
   ],
   "metadata": {
    "id": "qktrarm9O7NQ",
    "colab": {
     "base_uri": "https://localhost:8080/",
     "height": 149
    },
    "outputId": "ed0cba30-5b85-4947-9682-98dd0557d69c"
   },
   "execution_count": 226,
   "outputs": [
    {
     "name": "stdout",
     "output_type": "stream",
     "text": [
      "target_user_id=276\n",
      "464\n"
     ]
    },
    {
     "data": {
      "text/plain": "<Figure size 432x288 with 1 Axes>",
      "image/png": "[encoded data removed]"
     },
     "metadata": {},
     "output_type": "display_data"
    },
    {
     "name": "stdout",
     "output_type": "stream",
     "text": [
      "15/15 [==============================] - 0s 2ms/step\n",
      "rmse=0.7422\n"
     ]
    },
    {
     "data": {
      "text/plain": "<Figure size 432x288 with 1 Axes>",
      "image/png": "[encoded data removed]"
     },
     "metadata": {},
     "output_type": "display_data"
    },
    {
     "data": {
      "text/plain": "<Figure size 432x288 with 1 Axes>",
      "image/png": "[encoded data removed]"
     },
     "metadata": {},
     "output_type": "display_data"
    },
    {
     "data": {
      "text/plain": "<Figure size 432x288 with 1 Axes>",
      "image/png": "[encoded data removed]"
     },
     "metadata": {},
     "output_type": "display_data"
    },
    {
     "name": "stdout",
     "output_type": "stream",
     "text": [
      "0.1586096\n"
     ]
    },
    {
     "data": {
      "text/plain": "<Figure size 432x288 with 2 Axes>",
      "image/png": "[encoded data removed]"
     },
     "metadata": {},
     "output_type": "display_data"
    }
   ]
  },
  {
   "cell_type": "code",
   "source": [
    "s = [score.values[0] for score in scores_of_target_user_id]\n",
    "plt.hist(s, bins=100)\n",
    "plt.show()\n",
    "print(len(s))"
   ],
   "metadata": {
    "id": "ckFbzIABVMTt"
   },
   "execution_count": 227,
   "outputs": [
    {
     "data": {
      "text/plain": "<Figure size 432x288 with 1 Axes>",
      "image/png": "[encoded data removed]"
     },
     "metadata": {},
     "output_type": "display_data"
    },
    {
     "name": "stdout",
     "output_type": "stream",
     "text": [
      "464\n"
     ]
    }
   ]
  },
  {
   "cell_type": "markdown",
   "source": [
    "같은 user id의 user latent 분포"
   ],
   "metadata": {
    "id": "LAKmB2uD5q87"
   }
  },
  {
   "cell_type": "code",
   "source": [
    "plt.figure(figsize=(15,15))\n",
    "for target_user_id in range(1,1+100):\n",
    "    same_user_id_scores = [score for score in train_scores if score.user.id==target_user_id]\n",
    "    uls = np.array([score.user.latent for score in same_user_id_scores])\n",
    "    plt.subplot(10,10,target_user_id)\n",
    "    plt.scatter(uls[:,0], uls[:,1])\n",
    "    plt.xlim(0,1)\n",
    "    plt.ylim(0,1)\n",
    "    plt.axis('off')\n",
    "\n",
    "plt.show()"
   ],
   "metadata": {
    "id": "VJBK_Q8V4O63"
   },
   "execution_count": 228,
   "outputs": [
    {
     "data": {
      "text/plain": "<Figure size 1080x1080 with 100 Axes>",
      "image/png": "[encoded data removed]"
     },
     "metadata": {},
     "output_type": "display_data"
    }
   ]
  },
  {
   "cell_type": "markdown",
   "source": [
    "같은 content id의 content latent 분포"
   ],
   "metadata": {
    "id": "mIH6F0K85u4v"
   }
  },
  {
   "cell_type": "code",
   "source": [
    "plt.figure(figsize=(15,15))\n",
    "for target_content_id in range(1,1+100):\n",
    "    same_content_id_scores = [score for score in train_scores if score.content.id==target_content_id]\n",
    "    cls = np.array([score.content.latent for score in same_content_id_scores])\n",
    "    plt.subplot(10,10,target_content_id)\n",
    "    plt.scatter(cls[:,0], cls[:,1])\n",
    "    plt.xlim(0,1)\n",
    "    plt.ylim(0,1)\n",
    "    plt.axis('off')\n",
    "\n",
    "plt.show()"
   ],
   "metadata": {
    "id": "b9fFnLAM5glH"
   },
   "execution_count": 229,
   "outputs": [
    {
     "data": {
      "text/plain": "<Figure size 1080x1080 with 100 Axes>",
      "image/png": "[encoded data removed]"
     },
     "metadata": {},
     "output_type": "display_data"
    }
   ]
  },
  {
   "cell_type": "markdown",
   "source": [
    "특정 score의 user latent, content latent값들을 보자"
   ],
   "metadata": {
    "id": "GTvNpjvw6asL"
   }
  },
  {
   "cell_type": "code",
   "source": [
    "filtered_scores = np.array([score for score in train_scores if score.values==[0.5]])\n",
    "print(filtered_scores.shape)\n",
    "ul = np.array([score.user.latent for score in filtered_scores])\n",
    "cl = np.array([score.content.latent for score in filtered_scores])\n",
    "plt.scatter(ul[:,0], ul[:,1])\n",
    "plt.xlim(0,1)\n",
    "plt.ylim(0,1)\n",
    "plt.show()\n",
    "\n",
    "plt.scatter(cl[:,0], cl[:,1])\n",
    "plt.xlim(0,1)\n",
    "plt.ylim(0,1)\n",
    "plt.show()\n"
   ],
   "metadata": {
    "id": "Tsm43FM76gtW"
   },
   "execution_count": 230,
   "outputs": [
    {
     "name": "stdout",
     "output_type": "stream",
     "text": [
      "(24401,)\n"
     ]
    },
    {
     "data": {
      "text/plain": "<Figure size 432x288 with 1 Axes>",
      "image/png": "[encoded data removed]"
     },
     "metadata": {},
     "output_type": "display_data"
    },
    {
     "data": {
      "text/plain": "<Figure size 432x288 with 1 Axes>",
      "image/png": "[encoded data removed]"
     },
     "metadata": {},
     "output_type": "display_data"
    }
   ]
  },
  {
   "cell_type": "code",
   "source": [
    "plt.figure(figsize=(15,6))\n",
    "for i in range(5):\n",
    "    filtered_scores = np.array([score for score in train_scores if score.values==[i/4]])\n",
    "    ul = np.array([score.user.latent for score in filtered_scores])\n",
    "    cl = np.array([score.content.latent for score in filtered_scores])\n",
    "    plt.subplot(2,5,i+1)\n",
    "    plt.scatter(ul[:,0], ul[:,1])\n",
    "    plt.xlim(0,1)\n",
    "    plt.ylim(0,1)\n",
    "\n",
    "    plt.subplot(2,5,5+i+1)\n",
    "    plt.scatter(cl[:,0], cl[:,1])\n",
    "    plt.xlim(0,1)\n",
    "    plt.ylim(0,1)\n",
    "plt.show()\n"
   ],
   "metadata": {
    "id": "MwIN36di7Kdk"
   },
   "execution_count": 231,
   "outputs": [
    {
     "data": {
      "text/plain": "<Figure size 1080x432 with 10 Axes>",
      "image/png": "[encoded data removed]"
     },
     "metadata": {},
     "output_type": "display_data"
    }
   ]
  },
  {
   "cell_type": "code",
   "execution_count": 243,
   "outputs": [],
   "source": [
    "from keras.utils import model_to_dot, plot_model\n",
    "\n",
    "model = content_input_autoencoder.encoder\n",
    "SAVE_MODEL_PLOT = 1\n",
    "if SAVE_MODEL_PLOT == 1:\n",
    "    plot_model(model,\n",
    "               to_file=f\"test_2.png\",\n",
    "               show_shapes=True,\n",
    "               show_dtype=False,\n",
    "               show_layer_names=False,\n",
    "               rankdir=\"TB\",\n",
    "               expand_nested=False,\n",
    "               dpi=96,\n",
    "               layer_range=None,\n",
    "               show_layer_activations=True,\n",
    "               )\n",
    "    model_to_dot(model,\n",
    "                 show_shapes=True,\n",
    "                 show_dtype=False,\n",
    "                 show_layer_names=True,\n",
    "                 rankdir=\"TB\",\n",
    "                 expand_nested=False,\n",
    "                 dpi=96,\n",
    "                 subgraph=False,\n",
    "                 layer_range=None,\n",
    "                 show_layer_activations=True,\n",
    "                 )"
   ],
   "metadata": {
    "collapsed": false
   }
  },
  {
   "cell_type": "code",
   "execution_count": 259,
   "outputs": [],
   "source": [],
   "metadata": {
    "collapsed": false
   }
  }
 ]
}
